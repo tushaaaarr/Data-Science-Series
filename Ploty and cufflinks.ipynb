{
 "cells": [
  {
   "cell_type": "code",
   "execution_count": 20,
   "metadata": {},
   "outputs": [],
   "source": [
    "import numpy as np\n",
    "import pandas as pd\n",
    "import matplotlib.pyplot as plt"
   ]
  },
  {
   "cell_type": "code",
   "execution_count": 21,
   "metadata": {},
   "outputs": [],
   "source": [
    "%matplotlib inline"
   ]
  },
  {
   "cell_type": "code",
   "execution_count": 22,
   "metadata": {},
   "outputs": [],
   "source": [
    "from plotly import __version__\n",
    "from plotly.offline import download_plotlyjs, init_notebook_mode, plot, iplot"
   ]
  },
  {
   "cell_type": "code",
   "execution_count": 23,
   "metadata": {},
   "outputs": [],
   "source": [
    "import cufflinks as cf"
   ]
  },
  {
   "cell_type": "code",
   "execution_count": 24,
   "metadata": {},
   "outputs": [
    {
     "data": {
      "text/html": [
       "        <script type=\"text/javascript\">\n",
       "        window.PlotlyConfig = {MathJaxConfig: 'local'};\n",
       "        if (window.MathJax) {MathJax.Hub.Config({SVG: {font: \"STIX-Web\"}});}\n",
       "        if (typeof require !== 'undefined') {\n",
       "        require.undef(\"plotly\");\n",
       "        requirejs.config({\n",
       "            paths: {\n",
       "                'plotly': ['https://cdn.plot.ly/plotly-latest.min']\n",
       "            }\n",
       "        });\n",
       "        require(['plotly'], function(Plotly) {\n",
       "            window._Plotly = Plotly;\n",
       "        });\n",
       "        }\n",
       "        </script>\n",
       "        "
      ]
     },
     "metadata": {},
     "output_type": "display_data"
    },
    {
     "data": {
      "text/html": [
       "        <script type=\"text/javascript\">\n",
       "        window.PlotlyConfig = {MathJaxConfig: 'local'};\n",
       "        if (window.MathJax) {MathJax.Hub.Config({SVG: {font: \"STIX-Web\"}});}\n",
       "        if (typeof require !== 'undefined') {\n",
       "        require.undef(\"plotly\");\n",
       "        requirejs.config({\n",
       "            paths: {\n",
       "                'plotly': ['https://cdn.plot.ly/plotly-latest.min']\n",
       "            }\n",
       "        });\n",
       "        require(['plotly'], function(Plotly) {\n",
       "            window._Plotly = Plotly;\n",
       "        });\n",
       "        }\n",
       "        </script>\n",
       "        "
      ]
     },
     "metadata": {},
     "output_type": "display_data"
    }
   ],
   "source": [
    "# For Notebooks\n",
    "init_notebook_mode(connected=True)# For Notebooks\n",
    "init_notebook_mode(connected=True)"
   ]
  },
  {
   "cell_type": "code",
   "execution_count": 25,
   "metadata": {},
   "outputs": [
    {
     "data": {
      "text/html": [
       "        <script type=\"text/javascript\">\n",
       "        window.PlotlyConfig = {MathJaxConfig: 'local'};\n",
       "        if (window.MathJax) {MathJax.Hub.Config({SVG: {font: \"STIX-Web\"}});}\n",
       "        if (typeof require !== 'undefined') {\n",
       "        require.undef(\"plotly\");\n",
       "        requirejs.config({\n",
       "            paths: {\n",
       "                'plotly': ['https://cdn.plot.ly/plotly-latest.min']\n",
       "            }\n",
       "        });\n",
       "        require(['plotly'], function(Plotly) {\n",
       "            window._Plotly = Plotly;\n",
       "        });\n",
       "        }\n",
       "        </script>\n",
       "        "
      ]
     },
     "metadata": {},
     "output_type": "display_data"
    }
   ],
   "source": [
    "# For offline use\n",
    "cf.go_offline()"
   ]
  },
  {
   "cell_type": "code",
   "execution_count": 26,
   "metadata": {},
   "outputs": [],
   "source": [
    "df = pd.DataFrame(np.random.randn(100,4),columns='A B C D'.split())"
   ]
  },
  {
   "cell_type": "code",
   "execution_count": 27,
   "metadata": {},
   "outputs": [
    {
     "data": {
      "text/html": [
       "<div>\n",
       "<style scoped>\n",
       "    .dataframe tbody tr th:only-of-type {\n",
       "        vertical-align: middle;\n",
       "    }\n",
       "\n",
       "    .dataframe tbody tr th {\n",
       "        vertical-align: top;\n",
       "    }\n",
       "\n",
       "    .dataframe thead th {\n",
       "        text-align: right;\n",
       "    }\n",
       "</style>\n",
       "<table border=\"1\" class=\"dataframe\">\n",
       "  <thead>\n",
       "    <tr style=\"text-align: right;\">\n",
       "      <th></th>\n",
       "      <th>A</th>\n",
       "      <th>B</th>\n",
       "      <th>C</th>\n",
       "      <th>D</th>\n",
       "    </tr>\n",
       "  </thead>\n",
       "  <tbody>\n",
       "    <tr>\n",
       "      <th>0</th>\n",
       "      <td>-0.334018</td>\n",
       "      <td>0.787692</td>\n",
       "      <td>0.108909</td>\n",
       "      <td>-0.872552</td>\n",
       "    </tr>\n",
       "    <tr>\n",
       "      <th>1</th>\n",
       "      <td>-0.856750</td>\n",
       "      <td>-0.492741</td>\n",
       "      <td>-0.671363</td>\n",
       "      <td>2.210004</td>\n",
       "    </tr>\n",
       "    <tr>\n",
       "      <th>2</th>\n",
       "      <td>-0.104731</td>\n",
       "      <td>1.097494</td>\n",
       "      <td>-0.828325</td>\n",
       "      <td>-0.184475</td>\n",
       "    </tr>\n",
       "    <tr>\n",
       "      <th>3</th>\n",
       "      <td>-0.955275</td>\n",
       "      <td>-0.443921</td>\n",
       "      <td>-0.392824</td>\n",
       "      <td>-1.028071</td>\n",
       "    </tr>\n",
       "    <tr>\n",
       "      <th>4</th>\n",
       "      <td>-1.615570</td>\n",
       "      <td>0.288753</td>\n",
       "      <td>0.697762</td>\n",
       "      <td>-0.038617</td>\n",
       "    </tr>\n",
       "  </tbody>\n",
       "</table>\n",
       "</div>"
      ],
      "text/plain": [
       "          A         B         C         D\n",
       "0 -0.334018  0.787692  0.108909 -0.872552\n",
       "1 -0.856750 -0.492741 -0.671363  2.210004\n",
       "2 -0.104731  1.097494 -0.828325 -0.184475\n",
       "3 -0.955275 -0.443921 -0.392824 -1.028071\n",
       "4 -1.615570  0.288753  0.697762 -0.038617"
      ]
     },
     "execution_count": 27,
     "metadata": {},
     "output_type": "execute_result"
    }
   ],
   "source": [
    "df.head()"
   ]
  },
  {
   "cell_type": "code",
   "execution_count": 28,
   "metadata": {},
   "outputs": [],
   "source": [
    "df2=pd.DataFrame({\n",
    "    'Categary':['A','B','B'],\n",
    "    'Values':[32,43,50]\n",
    "})\n",
    "                "
   ]
  },
  {
   "cell_type": "code",
   "execution_count": 29,
   "metadata": {},
   "outputs": [
    {
     "data": {
      "text/html": [
       "<div>\n",
       "<style scoped>\n",
       "    .dataframe tbody tr th:only-of-type {\n",
       "        vertical-align: middle;\n",
       "    }\n",
       "\n",
       "    .dataframe tbody tr th {\n",
       "        vertical-align: top;\n",
       "    }\n",
       "\n",
       "    .dataframe thead th {\n",
       "        text-align: right;\n",
       "    }\n",
       "</style>\n",
       "<table border=\"1\" class=\"dataframe\">\n",
       "  <thead>\n",
       "    <tr style=\"text-align: right;\">\n",
       "      <th></th>\n",
       "      <th>Categary</th>\n",
       "      <th>Values</th>\n",
       "    </tr>\n",
       "  </thead>\n",
       "  <tbody>\n",
       "    <tr>\n",
       "      <th>0</th>\n",
       "      <td>A</td>\n",
       "      <td>32</td>\n",
       "    </tr>\n",
       "    <tr>\n",
       "      <th>1</th>\n",
       "      <td>B</td>\n",
       "      <td>43</td>\n",
       "    </tr>\n",
       "    <tr>\n",
       "      <th>2</th>\n",
       "      <td>B</td>\n",
       "      <td>50</td>\n",
       "    </tr>\n",
       "  </tbody>\n",
       "</table>\n",
       "</div>"
      ],
      "text/plain": [
       "  Categary  Values\n",
       "0        A      32\n",
       "1        B      43\n",
       "2        B      50"
      ]
     },
     "execution_count": 29,
     "metadata": {},
     "output_type": "execute_result"
    }
   ],
   "source": [
    "df2"
   ]
  },
  {
   "cell_type": "code",
   "execution_count": 30,
   "metadata": {},
   "outputs": [
    {
     "data": {
      "text/plain": [
       "[<matplotlib.lines.Line2D at 0x218c7e99988>]"
      ]
     },
     "execution_count": 30,
     "metadata": {},
     "output_type": "execute_result"
    },
    {
     "data": {
      "image/png": "[encoded data removed]",
      "text/plain": [
       "<Figure size 432x288 with 1 Axes>"
      ]
     },
     "metadata": {
      "needs_background": "light"
     },
     "output_type": "display_data"
    }
   ],
   "source": [
    "import matplotlib.pyplot as plt\n",
    "plt.plot(df2.Categary,df2.Values)\n"
   ]
  },
  {
   "cell_type": "code",
   "execution_count": null,
   "metadata": {},
   "outputs": [],
   "source": []
  },
  {
   "cell_type": "markdown",
   "metadata": {},
   "source": [
    "Scatter"
   ]
  },
  {
   "cell_type": "code",
   "execution_count": 33,
   "metadata": {},
   "outputs": [
    {
     "data": {
      "application/vnd.plotly.v1+json": {
       "config": {
        "linkText": "Export to plot.ly",
        "plotlyServerURL": "https://plot.ly",
        "showLink": true
       },
       "data": [
        {
         "line": {
          "color": "rgba(255, 153, 51, 1.0)",
          "dash": "solid",
          "shape": "linear",
          "width": 1.3
         },
         "marker": {
          "size": 10,
          "symbol": "circle"
         },
         "mode": "markers",
         "name": "B",
         "text": "",
         "type": "scatter",
         "x": [
          -0.33401795564492287,
          -0.8567502346979979,
          -0.10473055917119059,
          -0.9552750460806879,
          -1.615569955059547,
          0.45208443032962725,
          1.1521251322277608,
          0.745651691971453,
          -0.4096921983005491,
          -1.8286545981090672,
          1.1162488615338755,
          -0.23917946135104004,
          -0.41795746820050994,
          -0.6158286873263658,
          -0.16522357255275513,
          -1.1466897394803683,
          0.1899506944113523,
          -0.30428371295067236,
          -0.8377454443042902,
          1.0749209762017375,
          -0.5036507942437648,
          0.7477607300033207,
          -0.4581271281732457,
          0.5879507188974076,
          0.4030595873888752,
          0.27583707736362106,
          -1.1843996197262006,
          0.02289383390635474,
          -0.3403937018414992,
          -1.7166785587717857,
          0.4822370620456638,
          0.5200151191009494,
          -0.7064456411263597,
          0.2777649973811855,
          -0.38139840158046373,
          0.0012714620076879613,
          -0.8984831424792492,
          0.5163859344827737,
          0.028933774684512,
          0.8413131356335115,
          1.400019231180424,
          -0.2413195821291121,
          -0.6792104376259505,
          -0.09656771735802587,
          -0.6475198989307501,
          0.548223693326196,
          -1.3819837976275722,
          -1.6262595692515833,
          -2.316340334702603,
          0.0746851580412261,
          1.6607660314582249,
          0.6059296659896694,
          -0.32675390364252194,
          0.7473568118899233,
          1.2637003740836217,
          -1.4016416000087277,
          0.0028637618612219018,
          0.2625532363277476,
          -2.111665921077397,
          0.9344936629906027,
          -0.1633075239448629,
          0.5334083791568638,
          -0.11211496887969293,
          1.148058947229644,
          -0.6640245778390096,
          0.3429848358350742,
          -0.22979124826761954,
          -0.36396205591449277,
          0.8924054416145863,
          -0.0061315933942883444,
          0.8003321749012936,
          0.35447366860929735,
          -0.33541016878165686,
          1.2336292297481033,
          -0.7955181010405288,
          0.011086448208904488,
          0.27737192354778073,
          1.682760295203774,
          1.5706126536750737,
          -0.5022370702420386,
          -1.4829078545161825,
          -1.5550319602966496,
          -0.1113288955932639,
          -0.6683103896896104,
          -0.42907556378926476,
          0.9020594465600063,
          -1.0131553498783252,
          -0.02711901899847754,
          -0.30832841072807776,
          -0.42582943667482037,
          0.44336034515772516,
          1.1159664902530844,
          0.056746386041653184,
          -1.6172012143199634,
          -1.5755596256094238,
          0.1091926218659547,
          -0.5849546851871757,
          -1.4307737601208024,
          -0.33501558412825977,
          -0.1886428376261212
         ],
         "y": [
          0.7876917141458819,
          -0.4927411666792617,
          1.0974937036873178,
          -0.4439206985018027,
          0.2887527016408452,
          1.6742941592395084,
          0.09769658941939971,
          -0.5725516723706708,
          -0.5492592727640042,
          -1.5202236019398916,
          0.38823943145541134,
          1.6282609740421874,
          0.7326277731686339,
          0.06730103330838098,
          0.3402060045322037,
          0.09507628974658346,
          -0.02434056897616973,
          -0.3543784939901299,
          -1.223788539698824,
          -0.6343497374288385,
          0.26653812477656896,
          1.438206680395697,
          0.2415253255836718,
          -0.5987723898434579,
          -0.9171915030653498,
          0.11207252291134627,
          0.05451867791386243,
          0.4112131470328786,
          0.44492768680055544,
          0.2518950357633279,
          1.2463146582630462,
          -0.2112880449759986,
          1.3866651715692133,
          -0.6856964980957535,
          -0.4222120528187373,
          1.1922204650983412,
          0.15401391008934873,
          -2.1054080496754954,
          0.022291737503580638,
          0.7897529100041379,
          -1.2690774934764053,
          -0.7350699839334449,
          -1.0471268941827443,
          -1.0153320689971657,
          0.78785482367279,
          0.7361749374278779,
          -1.1345914803012231,
          -0.5683363178024483,
          -0.49464389117558116,
          0.23422581647806803,
          -2.1553512566379696,
          -1.2433197111777519,
          -0.8198086705514108,
          -0.46962743588801903,
          -0.2882913723683333,
          0.8983233686389277,
          0.9084568051309245,
          -0.44221663833346375,
          1.0293957279524568,
          2.0421754421017866,
          0.03945373112628942,
          -0.2750148513970318,
          -1.2201128479118042,
          -0.1738405812640102,
          0.2875423811571659,
          -0.8738739689146106,
          0.7014107545116337,
          -2.3002964933232692,
          -0.6253456459787136,
          -1.8275246768702471,
          -0.15907550729462694,
          0.5844077990293167,
          -0.2301648650344321,
          0.33009928176921377,
          0.5445848145905013,
          0.5057947642888931,
          0.41536259213452914,
          -0.3776968113879913,
          -0.7157916944803,
          0.12712187178968135,
          0.3765080960387935,
          0.10454994680141004,
          -0.2067836441219874,
          -1.2982007775309201,
          0.8728751802177441,
          -0.4558648151654358,
          1.4143397838621108,
          -0.2283862758991108,
          -0.7885106007484821,
          -0.6237266472566988,
          0.03162986437150248,
          -0.212029724448196,
          -0.20608606868251564,
          -0.6031391322763106,
          0.2657646502926192,
          1.2832959415010545,
          0.47691329850658754,
          0.11495505177277747,
          1.8470207470600093,
          0.8959979991642596
         ]
        }
       ],
       "layout": {
        "legend": {
         "bgcolor": "#F5F6F9",
         "font": {
          "color": "#4D5663"
         }
        },
        "paper_bgcolor": "#F5F6F9",
        "plot_bgcolor": "#F5F6F9",
        "template": {
         "data": {
          "bar": [
           {
            "error_x": {
             "color": "#2a3f5f"
            },
            "error_y": {
             "color": "#2a3f5f"
            },
            "marker": {
             "line": {
              "color": "#E5ECF6",
              "width": 0.5
             }
            },
            "type": "bar"
           }
          ],
          "barpolar": [
           {
            "marker": {
             "line": {
              "color": "#E5ECF6",
              "width": 0.5
             }
            },
            "type": "barpolar"
           }
          ],
          "carpet": [
           {
            "aaxis": {
             "endlinecolor": "#2a3f5f",
             "gridcolor": "white",
             "linecolor": "white",
             "minorgridcolor": "white",
             "startlinecolor": "#2a3f5f"
            },
            "baxis": {
             "endlinecolor": "#2a3f5f",
             "gridcolor": "white",
             "linecolor": "white",
             "minorgridcolor": "white",
             "startlinecolor": "#2a3f5f"
            },
            "type": "carpet"
           }
          ],
          "choropleth": [
           {
            "colorbar": {
             "outlinewidth": 0,
             "ticks": ""
            },
            "type": "choropleth"
           }
          ],
          "contour": [
           {
            "colorbar": {
             "outlinewidth": 0,
             "ticks": ""
            },
            "colorscale": [
             [
              0,
              "#0d0887"
             ],
             [
              0.1111111111111111,
              "#46039f"
             ],
             [
              0.2222222222222222,
              "#7201a8"
             ],
             [
              0.3333333333333333,
              "#9c179e"
             ],
             [
              0.4444444444444444,
              "#bd3786"
             ],
             [
              0.5555555555555556,
              "#d8576b"
             ],
             [
              0.6666666666666666,
              "#ed7953"
             ],
             [
              0.7777777777777778,
              "#fb9f3a"
             ],
             [
              0.8888888888888888,
              "#fdca26"
             ],
             [
              1,
              "#f0f921"
             ]
            ],
            "type": "contour"
           }
          ],
          "contourcarpet": [
           {
            "colorbar": {
             "outlinewidth": 0,
             "ticks": ""
            },
            "type": "contourcarpet"
           }
          ],
          "heatmap": [
           {
            "colorbar": {
             "outlinewidth": 0,
             "ticks": ""
            },
            "colorscale": [
             [
              0,
              "#0d0887"
             ],
             [
              0.1111111111111111,
              "#46039f"
             ],
             [
              0.2222222222222222,
              "#7201a8"
             ],
             [
              0.3333333333333333,
              "#9c179e"
             ],
             [
              0.4444444444444444,
              "#bd3786"
             ],
             [
              0.5555555555555556,
              "#d8576b"
             ],
             [
              0.6666666666666666,
              "#ed7953"
             ],
             [
              0.7777777777777778,
              "#fb9f3a"
             ],
             [
              0.8888888888888888,
              "#fdca26"
             ],
             [
              1,
              "#f0f921"
             ]
            ],
            "type": "heatmap"
           }
          ],
          "heatmapgl": [
           {
            "colorbar": {
             "outlinewidth": 0,
             "ticks": ""
            },
            "colorscale": [
             [
              0,
              "#0d0887"
             ],
             [
              0.1111111111111111,
              "#46039f"
             ],
             [
              0.2222222222222222,
              "#7201a8"
             ],
             [
              0.3333333333333333,
              "#9c179e"
             ],
             [
              0.4444444444444444,
              "#bd3786"
             ],
             [
              0.5555555555555556,
              "#d8576b"
             ],
             [
              0.6666666666666666,
              "#ed7953"
             ],
             [
              0.7777777777777778,
              "#fb9f3a"
             ],
             [
              0.8888888888888888,
              "#fdca26"
             ],
             [
              1,
              "#f0f921"
             ]
            ],
            "type": "heatmapgl"
           }
          ],
          "histogram": [
           {
            "marker": {
             "colorbar": {
              "outlinewidth": 0,
              "ticks": ""
             }
            },
            "type": "histogram"
           }
          ],
          "histogram2d": [
           {
            "colorbar": {
             "outlinewidth": 0,
             "ticks": ""
            },
            "colorscale": [
             [
              0,
              "#0d0887"
             ],
             [
              0.1111111111111111,
              "#46039f"
             ],
             [
              0.2222222222222222,
              "#7201a8"
             ],
             [
              0.3333333333333333,
              "#9c179e"
             ],
             [
              0.4444444444444444,
              "#bd3786"
             ],
             [
              0.5555555555555556,
              "#d8576b"
             ],
             [
              0.6666666666666666,
              "#ed7953"
             ],
             [
              0.7777777777777778,
              "#fb9f3a"
             ],
             [
              0.8888888888888888,
              "#fdca26"
             ],
             [
              1,
              "#f0f921"
             ]
            ],
            "type": "histogram2d"
           }
          ],
          "histogram2dcontour": [
           {
            "colorbar": {
             "outlinewidth": 0,
             "ticks": ""
            },
            "colorscale": [
             [
              0,
              "#0d0887"
             ],
             [
              0.1111111111111111,
              "#46039f"
             ],
             [
              0.2222222222222222,
              "#7201a8"
             ],
             [
              0.3333333333333333,
              "#9c179e"
             ],
             [
              0.4444444444444444,
              "#bd3786"
             ],
             [
              0.5555555555555556,
              "#d8576b"
             ],
             [
              0.6666666666666666,
              "#ed7953"
             ],
             [
              0.7777777777777778,
              "#fb9f3a"
             ],
             [
              0.8888888888888888,
              "#fdca26"
             ],
             [
              1,
              "#f0f921"
             ]
            ],
            "type": "histogram2dcontour"
           }
          ],
          "mesh3d": [
           {
            "colorbar": {
             "outlinewidth": 0,
             "ticks": ""
            },
            "type": "mesh3d"
           }
          ],
          "parcoords": [
           {
            "line": {
             "colorbar": {
              "outlinewidth": 0,
              "ticks": ""
             }
            },
            "type": "parcoords"
           }
          ],
          "pie": [
           {
            "automargin": true,
            "type": "pie"
           }
          ],
          "scatter": [
           {
            "marker": {
             "colorbar": {
              "outlinewidth": 0,
              "ticks": ""
             }
            },
            "type": "scatter"
           }
          ],
          "scatter3d": [
           {
            "line": {
             "colorbar": {
              "outlinewidth": 0,
              "ticks": ""
             }
            },
            "marker": {
             "colorbar": {
              "outlinewidth": 0,
              "ticks": ""
             }
            },
            "type": "scatter3d"
           }
          ],
          "scattercarpet": [
           {
            "marker": {
             "colorbar": {
              "outlinewidth": 0,
              "ticks": ""
             }
            },
            "type": "scattercarpet"
           }
          ],
          "scattergeo": [
           {
            "marker": {
             "colorbar": {
              "outlinewidth": 0,
              "ticks": ""
             }
            },
            "type": "scattergeo"
           }
          ],
          "scattergl": [
           {
            "marker": {
             "colorbar": {
              "outlinewidth": 0,
              "ticks": ""
             }
            },
            "type": "scattergl"
           }
          ],
          "scattermapbox": [
           {
            "marker": {
             "colorbar": {
              "outlinewidth": 0,
              "ticks": ""
             }
            },
            "type": "scattermapbox"
           }
          ],
          "scatterpolar": [
           {
            "marker": {
             "colorbar": {
              "outlinewidth": 0,
              "ticks": ""
             }
            },
            "type": "scatterpolar"
           }
          ],
          "scatterpolargl": [
           {
            "marker": {
             "colorbar": {
              "outlinewidth": 0,
              "ticks": ""
             }
            },
            "type": "scatterpolargl"
           }
          ],
          "scatterternary": [
           {
            "marker": {
             "colorbar": {
              "outlinewidth": 0,
              "ticks": ""
             }
            },
            "type": "scatterternary"
           }
          ],
          "surface": [
           {
            "colorbar": {
             "outlinewidth": 0,
             "ticks": ""
            },
            "colorscale": [
             [
              0,
              "#0d0887"
             ],
             [
              0.1111111111111111,
              "#46039f"
             ],
             [
              0.2222222222222222,
              "#7201a8"
             ],
             [
              0.3333333333333333,
              "#9c179e"
             ],
             [
              0.4444444444444444,
              "#bd3786"
             ],
             [
              0.5555555555555556,
              "#d8576b"
             ],
             [
              0.6666666666666666,
              "#ed7953"
             ],
             [
              0.7777777777777778,
              "#fb9f3a"
             ],
             [
              0.8888888888888888,
              "#fdca26"
             ],
             [
              1,
              "#f0f921"
             ]
            ],
            "type": "surface"
           }
          ],
          "table": [
           {
            "cells": {
             "fill": {
              "color": "#EBF0F8"
             },
             "line": {
              "color": "white"
             }
            },
            "header": {
             "fill": {
              "color": "#C8D4E3"
             },
             "line": {
              "color": "white"
             }
            },
            "type": "table"
           }
          ]
         },
         "layout": {
          "annotationdefaults": {
           "arrowcolor": "#2a3f5f",
           "arrowhead": 0,
           "arrowwidth": 1
          },
          "coloraxis": {
           "colorbar": {
            "outlinewidth": 0,
            "ticks": ""
           }
          },
          "colorscale": {
           "diverging": [
            [
             0,
             "#8e0152"
            ],
            [
             0.1,
             "#c51b7d"
            ],
            [
             0.2,
             "#de77ae"
            ],
            [
             0.3,
             "#f1b6da"
            ],
            [
             0.4,
             "#fde0ef"
            ],
            [
             0.5,
             "#f7f7f7"
            ],
            [
             0.6,
             "#e6f5d0"
            ],
            [
             0.7,
             "#b8e186"
            ],
            [
             0.8,
             "#7fbc41"
            ],
            [
             0.9,
             "#4d9221"
            ],
            [
             1,
             "#276419"
            ]
           ],
           "sequential": [
            [
             0,
             "#0d0887"
            ],
            [
             0.1111111111111111,
             "#46039f"
            ],
            [
             0.2222222222222222,
             "#7201a8"
            ],
            [
             0.3333333333333333,
             "#9c179e"
            ],
            [
             0.4444444444444444,
             "#bd3786"
            ],
            [
             0.5555555555555556,
             "#d8576b"
            ],
            [
             0.6666666666666666,
             "#ed7953"
            ],
            [
             0.7777777777777778,
             "#fb9f3a"
            ],
            [
             0.8888888888888888,
             "#fdca26"
            ],
            [
             1,
             "#f0f921"
            ]
           ],
           "sequentialminus": [
            [
             0,
             "#0d0887"
            ],
            [
             0.1111111111111111,
             "#46039f"
            ],
            [
             0.2222222222222222,
             "#7201a8"
            ],
            [
             0.3333333333333333,
             "#9c179e"
            ],
            [
             0.4444444444444444,
             "#bd3786"
            ],
            [
             0.5555555555555556,
             "#d8576b"
            ],
            [
             0.6666666666666666,
             "#ed7953"
            ],
            [
             0.7777777777777778,
             "#fb9f3a"
            ],
            [
             0.8888888888888888,
             "#fdca26"
            ],
            [
             1,
             "#f0f921"
            ]
           ]
          },
          "colorway": [
           "#636efa",
           "#EF553B",
           "#00cc96",
           "#ab63fa",
           "#FFA15A",
           "#19d3f3",
           "#FF6692",
           "#B6E880",
           "#FF97FF",
           "#FECB52"
          ],
          "font": {
           "color": "#2a3f5f"
          },
          "geo": {
           "bgcolor": "white",
           "lakecolor": "white",
           "landcolor": "#E5ECF6",
           "showlakes": true,
           "showland": true,
           "subunitcolor": "white"
          },
          "hoverlabel": {
           "align": "left"
          },
          "hovermode": "closest",
          "mapbox": {
           "style": "light"
          },
          "paper_bgcolor": "white",
          "plot_bgcolor": "#E5ECF6",
          "polar": {
           "angularaxis": {
            "gridcolor": "white",
            "linecolor": "white",
            "ticks": ""
           },
           "bgcolor": "#E5ECF6",
           "radialaxis": {
            "gridcolor": "white",
            "linecolor": "white",
            "ticks": ""
           }
          },
          "scene": {
           "xaxis": {
            "backgroundcolor": "#E5ECF6",
            "gridcolor": "white",
            "gridwidth": 2,
            "linecolor": "white",
            "showbackground": true,
            "ticks": "",
            "zerolinecolor": "white"
           },
           "yaxis": {
            "backgroundcolor": "#E5ECF6",
            "gridcolor": "white",
            "gridwidth": 2,
            "linecolor": "white",
            "showbackground": true,
            "ticks": "",
            "zerolinecolor": "white"
           },
           "zaxis": {
            "backgroundcolor": "#E5ECF6",
            "gridcolor": "white",
            "gridwidth": 2,
            "linecolor": "white",
            "showbackground": true,
            "ticks": "",
            "zerolinecolor": "white"
           }
          },
          "shapedefaults": {
           "line": {
            "color": "#2a3f5f"
           }
          },
          "ternary": {
           "aaxis": {
            "gridcolor": "white",
            "linecolor": "white",
            "ticks": ""
           },
           "baxis": {
            "gridcolor": "white",
            "linecolor": "white",
            "ticks": ""
           },
           "bgcolor": "#E5ECF6",
           "caxis": {
            "gridcolor": "white",
            "linecolor": "white",
            "ticks": ""
           }
          },
          "title": {
           "x": 0.05
          },
          "xaxis": {
           "automargin": true,
           "gridcolor": "white",
           "linecolor": "white",
           "ticks": "",
           "title": {
            "standoff": 15
           },
           "zerolinecolor": "white",
           "zerolinewidth": 2
          },
          "yaxis": {
           "automargin": true,
           "gridcolor": "white",
           "linecolor": "white",
           "ticks": "",
           "title": {
            "standoff": 15
           },
           "zerolinecolor": "white",
           "zerolinewidth": 2
          }
         }
        },
        "title": {
         "font": {
          "color": "#4D5663"
         }
        },
        "xaxis": {
         "gridcolor": "#E1E5ED",
         "showgrid": true,
         "tickfont": {
          "color": "#4D5663"
         },
         "title": {
          "font": {
           "color": "#4D5663"
          },
          "text": "A"
         },
         "zerolinecolor": "#E1E5ED"
        },
        "yaxis": {
         "gridcolor": "#E1E5ED",
         "showgrid": true,
         "tickfont": {
          "color": "#4D5663"
         },
         "title": {
          "font": {
           "color": "#4D5663"
          },
          "text": "B"
         },
         "zerolinecolor": "#E1E5ED"
        }
       }
      },
      "text/html": [
       "<div>                            <div id=\"4cbf3e65-6662-4534-8c28-2d4704d6fceb\" class=\"plotly-graph-div\" style=\"height:525px; width:100%;\"></div>            <script type=\"text/javascript\">                require([\"plotly\"], function(Plotly) {                    window.PLOTLYENV=window.PLOTLYENV || {};\n",
       "                    window.PLOTLYENV.BASE_URL='https://plot.ly';                                    if (document.getElementById(\"4cbf3e65-6662-4534-8c28-2d4704d6fceb\")) {                    Plotly.newPlot(                        \"4cbf3e65-6662-4534-8c28-2d4704d6fceb\",                        [{\"line\": {\"color\": \"rgba(255, 153, 51, 1.0)\", \"dash\": \"solid\", \"shape\": \"linear\", \"width\": 1.3}, \"marker\": {\"size\": 10, \"symbol\": \"circle\"}, \"mode\": \"markers\", \"name\": \"B\", \"text\": \"\", \"type\": \"scatter\", \"x\": [-0.33401795564492287, -0.8567502346979979, -0.10473055917119059, -0.9552750460806879, -1.615569955059547, 0.45208443032962725, 1.1521251322277608, 0.745651691971453, -0.4096921983005491, -1.8286545981090672, 1.1162488615338755, -0.23917946135104004, -0.41795746820050994, -0.6158286873263658, -0.16522357255275513, -1.1466897394803683, 0.1899506944113523, -0.30428371295067236, -0.8377454443042902, 1.0749209762017375, -0.5036507942437648, 0.7477607300033207, -0.4581271281732457, 0.5879507188974076, 0.4030595873888752, 0.27583707736362106, -1.1843996197262006, 0.02289383390635474, -0.3403937018414992, -1.7166785587717857, 0.4822370620456638, 0.5200151191009494, -0.7064456411263597, 0.2777649973811855, -0.38139840158046373, 0.0012714620076879613, -0.8984831424792492, 0.5163859344827737, 0.028933774684512, 0.8413131356335115, 1.400019231180424, -0.2413195821291121, -0.6792104376259505, -0.09656771735802587, -0.6475198989307501, 0.548223693326196, -1.3819837976275722, -1.6262595692515833, -2.316340334702603, 0.0746851580412261, 1.6607660314582249, 0.6059296659896694, -0.32675390364252194, 0.7473568118899233, 1.2637003740836217, -1.4016416000087277, 0.0028637618612219018, 0.2625532363277476, -2.111665921077397, 0.9344936629906027, -0.1633075239448629, 0.5334083791568638, -0.11211496887969293, 1.148058947229644, -0.6640245778390096, 0.3429848358350742, -0.22979124826761954, -0.36396205591449277, 0.8924054416145863, -0.0061315933942883444, 0.8003321749012936, 0.35447366860929735, -0.33541016878165686, 1.2336292297481033, -0.7955181010405288, 0.011086448208904488, 0.27737192354778073, 1.682760295203774, 1.5706126536750737, -0.5022370702420386, -1.4829078545161825, -1.5550319602966496, -0.1113288955932639, -0.6683103896896104, -0.42907556378926476, 0.9020594465600063, -1.0131553498783252, -0.02711901899847754, -0.30832841072807776, -0.42582943667482037, 0.44336034515772516, 1.1159664902530844, 0.056746386041653184, -1.6172012143199634, -1.5755596256094238, 0.1091926218659547, -0.5849546851871757, -1.4307737601208024, -0.33501558412825977, -0.1886428376261212], \"y\": [0.7876917141458819, -0.4927411666792617, 1.0974937036873178, -0.4439206985018027, 0.2887527016408452, 1.6742941592395084, 0.09769658941939971, -0.5725516723706708, -0.5492592727640042, -1.5202236019398916, 0.38823943145541134, 1.6282609740421874, 0.7326277731686339, 0.06730103330838098, 0.3402060045322037, 0.09507628974658346, -0.02434056897616973, -0.3543784939901299, -1.223788539698824, -0.6343497374288385, 0.26653812477656896, 1.438206680395697, 0.2415253255836718, -0.5987723898434579, -0.9171915030653498, 0.11207252291134627, 0.05451867791386243, 0.4112131470328786, 0.44492768680055544, 0.2518950357633279, 1.2463146582630462, -0.2112880449759986, 1.3866651715692133, -0.6856964980957535, -0.4222120528187373, 1.1922204650983412, 0.15401391008934873, -2.1054080496754954, 0.022291737503580638, 0.7897529100041379, -1.2690774934764053, -0.7350699839334449, -1.0471268941827443, -1.0153320689971657, 0.78785482367279, 0.7361749374278779, -1.1345914803012231, -0.5683363178024483, -0.49464389117558116, 0.23422581647806803, -2.1553512566379696, -1.2433197111777519, -0.8198086705514108, -0.46962743588801903, -0.2882913723683333, 0.8983233686389277, 0.9084568051309245, -0.44221663833346375, 1.0293957279524568, 2.0421754421017866, 0.03945373112628942, -0.2750148513970318, -1.2201128479118042, -0.1738405812640102, 0.2875423811571659, -0.8738739689146106, 0.7014107545116337, -2.3002964933232692, -0.6253456459787136, -1.8275246768702471, -0.15907550729462694, 0.5844077990293167, -0.2301648650344321, 0.33009928176921377, 0.5445848145905013, 0.5057947642888931, 0.41536259213452914, -0.3776968113879913, -0.7157916944803, 0.12712187178968135, 0.3765080960387935, 0.10454994680141004, -0.2067836441219874, -1.2982007775309201, 0.8728751802177441, -0.4558648151654358, 1.4143397838621108, -0.2283862758991108, -0.7885106007484821, -0.6237266472566988, 0.03162986437150248, -0.212029724448196, -0.20608606868251564, -0.6031391322763106, 0.2657646502926192, 1.2832959415010545, 0.47691329850658754, 0.11495505177277747, 1.8470207470600093, 0.8959979991642596]}],                        {\"legend\": {\"bgcolor\": \"#F5F6F9\", \"font\": {\"color\": \"#4D5663\"}}, \"paper_bgcolor\": \"#F5F6F9\", \"plot_bgcolor\": \"#F5F6F9\", \"template\": {\"data\": {\"bar\": [{\"error_x\": {\"color\": \"#2a3f5f\"}, \"error_y\": {\"color\": \"#2a3f5f\"}, \"marker\": {\"line\": {\"color\": \"#E5ECF6\", \"width\": 0.5}}, \"type\": \"bar\"}], \"barpolar\": [{\"marker\": {\"line\": {\"color\": \"#E5ECF6\", \"width\": 0.5}}, \"type\": \"barpolar\"}], \"carpet\": [{\"aaxis\": {\"endlinecolor\": \"#2a3f5f\", \"gridcolor\": \"white\", \"linecolor\": \"white\", \"minorgridcolor\": \"white\", \"startlinecolor\": \"#2a3f5f\"}, \"baxis\": {\"endlinecolor\": \"#2a3f5f\", \"gridcolor\": \"white\", \"linecolor\": \"white\", \"minorgridcolor\": \"white\", \"startlinecolor\": \"#2a3f5f\"}, \"type\": \"carpet\"}], \"choropleth\": [{\"colorbar\": {\"outlinewidth\": 0, \"ticks\": \"\"}, \"type\": \"choropleth\"}], \"contour\": [{\"colorbar\": {\"outlinewidth\": 0, \"ticks\": \"\"}, \"colorscale\": [[0.0, \"#0d0887\"], [0.1111111111111111, \"#46039f\"], [0.2222222222222222, \"#7201a8\"], [0.3333333333333333, \"#9c179e\"], [0.4444444444444444, \"#bd3786\"], [0.5555555555555556, \"#d8576b\"], [0.6666666666666666, \"#ed7953\"], [0.7777777777777778, \"#fb9f3a\"], [0.8888888888888888, \"#fdca26\"], [1.0, \"#f0f921\"]], \"type\": \"contour\"}], \"contourcarpet\": [{\"colorbar\": {\"outlinewidth\": 0, \"ticks\": \"\"}, \"type\": \"contourcarpet\"}], \"heatmap\": [{\"colorbar\": {\"outlinewidth\": 0, \"ticks\": \"\"}, \"colorscale\": [[0.0, \"#0d0887\"], [0.1111111111111111, \"#46039f\"], [0.2222222222222222, \"#7201a8\"], [0.3333333333333333, \"#9c179e\"], [0.4444444444444444, \"#bd3786\"], [0.5555555555555556, \"#d8576b\"], [0.6666666666666666, \"#ed7953\"], [0.7777777777777778, \"#fb9f3a\"], [0.8888888888888888, \"#fdca26\"], [1.0, \"#f0f921\"]], \"type\": \"heatmap\"}], \"heatmapgl\": [{\"colorbar\": {\"outlinewidth\": 0, \"ticks\": \"\"}, \"colorscale\": [[0.0, \"#0d0887\"], [0.1111111111111111, \"#46039f\"], [0.2222222222222222, \"#7201a8\"], [0.3333333333333333, \"#9c179e\"], [0.4444444444444444, \"#bd3786\"], [0.5555555555555556, \"#d8576b\"], [0.6666666666666666, \"#ed7953\"], [0.7777777777777778, \"#fb9f3a\"], [0.8888888888888888, \"#fdca26\"], [1.0, \"#f0f921\"]], \"type\": \"heatmapgl\"}], \"histogram\": [{\"marker\": {\"colorbar\": {\"outlinewidth\": 0, \"ticks\": \"\"}}, \"type\": \"histogram\"}], \"histogram2d\": [{\"colorbar\": {\"outlinewidth\": 0, \"ticks\": \"\"}, \"colorscale\": [[0.0, \"#0d0887\"], [0.1111111111111111, \"#46039f\"], [0.2222222222222222, \"#7201a8\"], [0.3333333333333333, \"#9c179e\"], [0.4444444444444444, \"#bd3786\"], [0.5555555555555556, \"#d8576b\"], [0.6666666666666666, \"#ed7953\"], [0.7777777777777778, \"#fb9f3a\"], [0.8888888888888888, \"#fdca26\"], [1.0, \"#f0f921\"]], \"type\": \"histogram2d\"}], \"histogram2dcontour\": [{\"colorbar\": {\"outlinewidth\": 0, \"ticks\": \"\"}, \"colorscale\": [[0.0, \"#0d0887\"], [0.1111111111111111, \"#46039f\"], [0.2222222222222222, \"#7201a8\"], [0.3333333333333333, \"#9c179e\"], [0.4444444444444444, \"#bd3786\"], [0.5555555555555556, \"#d8576b\"], [0.6666666666666666, \"#ed7953\"], [0.7777777777777778, \"#fb9f3a\"], [0.8888888888888888, \"#fdca26\"], [1.0, \"#f0f921\"]], \"type\": \"histogram2dcontour\"}], \"mesh3d\": [{\"colorbar\": {\"outlinewidth\": 0, \"ticks\": \"\"}, \"type\": \"mesh3d\"}], \"parcoords\": [{\"line\": {\"colorbar\": {\"outlinewidth\": 0, \"ticks\": \"\"}}, \"type\": \"parcoords\"}], \"pie\": [{\"automargin\": true, \"type\": \"pie\"}], \"scatter\": [{\"marker\": {\"colorbar\": {\"outlinewidth\": 0, \"ticks\": \"\"}}, \"type\": \"scatter\"}], \"scatter3d\": [{\"line\": {\"colorbar\": {\"outlinewidth\": 0, \"ticks\": \"\"}}, \"marker\": {\"colorbar\": {\"outlinewidth\": 0, \"ticks\": \"\"}}, \"type\": \"scatter3d\"}], \"scattercarpet\": [{\"marker\": {\"colorbar\": {\"outlinewidth\": 0, \"ticks\": \"\"}}, \"type\": \"scattercarpet\"}], \"scattergeo\": [{\"marker\": {\"colorbar\": {\"outlinewidth\": 0, \"ticks\": \"\"}}, \"type\": \"scattergeo\"}], \"scattergl\": [{\"marker\": {\"colorbar\": {\"outlinewidth\": 0, \"ticks\": \"\"}}, \"type\": \"scattergl\"}], \"scattermapbox\": [{\"marker\": {\"colorbar\": {\"outlinewidth\": 0, \"ticks\": \"\"}}, \"type\": \"scattermapbox\"}], \"scatterpolar\": [{\"marker\": {\"colorbar\": {\"outlinewidth\": 0, \"ticks\": \"\"}}, \"type\": \"scatterpolar\"}], \"scatterpolargl\": [{\"marker\": {\"colorbar\": {\"outlinewidth\": 0, \"ticks\": \"\"}}, \"type\": \"scatterpolargl\"}], \"scatterternary\": [{\"marker\": {\"colorbar\": {\"outlinewidth\": 0, \"ticks\": \"\"}}, \"type\": \"scatterternary\"}], \"surface\": [{\"colorbar\": {\"outlinewidth\": 0, \"ticks\": \"\"}, \"colorscale\": [[0.0, \"#0d0887\"], [0.1111111111111111, \"#46039f\"], [0.2222222222222222, \"#7201a8\"], [0.3333333333333333, \"#9c179e\"], [0.4444444444444444, \"#bd3786\"], [0.5555555555555556, \"#d8576b\"], [0.6666666666666666, \"#ed7953\"], [0.7777777777777778, \"#fb9f3a\"], [0.8888888888888888, \"#fdca26\"], [1.0, \"#f0f921\"]], \"type\": \"surface\"}], \"table\": [{\"cells\": {\"fill\": {\"color\": \"#EBF0F8\"}, \"line\": {\"color\": \"white\"}}, \"header\": {\"fill\": {\"color\": \"#C8D4E3\"}, \"line\": {\"color\": \"white\"}}, \"type\": \"table\"}]}, \"layout\": {\"annotationdefaults\": {\"arrowcolor\": \"#2a3f5f\", \"arrowhead\": 0, \"arrowwidth\": 1}, \"coloraxis\": {\"colorbar\": {\"outlinewidth\": 0, \"ticks\": \"\"}}, \"colorscale\": {\"diverging\": [[0, \"#8e0152\"], [0.1, \"#c51b7d\"], [0.2, \"#de77ae\"], [0.3, \"#f1b6da\"], [0.4, \"#fde0ef\"], [0.5, \"#f7f7f7\"], [0.6, \"#e6f5d0\"], [0.7, \"#b8e186\"], [0.8, \"#7fbc41\"], [0.9, \"#4d9221\"], [1, \"#276419\"]], \"sequential\": [[0.0, \"#0d0887\"], [0.1111111111111111, \"#46039f\"], [0.2222222222222222, \"#7201a8\"], [0.3333333333333333, \"#9c179e\"], [0.4444444444444444, \"#bd3786\"], [0.5555555555555556, \"#d8576b\"], [0.6666666666666666, \"#ed7953\"], [0.7777777777777778, \"#fb9f3a\"], [0.8888888888888888, \"#fdca26\"], [1.0, \"#f0f921\"]], \"sequentialminus\": [[0.0, \"#0d0887\"], [0.1111111111111111, \"#46039f\"], [0.2222222222222222, \"#7201a8\"], [0.3333333333333333, \"#9c179e\"], [0.4444444444444444, \"#bd3786\"], [0.5555555555555556, \"#d8576b\"], [0.6666666666666666, \"#ed7953\"], [0.7777777777777778, \"#fb9f3a\"], [0.8888888888888888, \"#fdca26\"], [1.0, \"#f0f921\"]]}, \"colorway\": [\"#636efa\", \"#EF553B\", \"#00cc96\", \"#ab63fa\", \"#FFA15A\", \"#19d3f3\", \"#FF6692\", \"#B6E880\", \"#FF97FF\", \"#FECB52\"], \"font\": {\"color\": \"#2a3f5f\"}, \"geo\": {\"bgcolor\": \"white\", \"lakecolor\": \"white\", \"landcolor\": \"#E5ECF6\", \"showlakes\": true, \"showland\": true, \"subunitcolor\": \"white\"}, \"hoverlabel\": {\"align\": \"left\"}, \"hovermode\": \"closest\", \"mapbox\": {\"style\": \"light\"}, \"paper_bgcolor\": \"white\", \"plot_bgcolor\": \"#E5ECF6\", \"polar\": {\"angularaxis\": {\"gridcolor\": \"white\", \"linecolor\": \"white\", \"ticks\": \"\"}, \"bgcolor\": \"#E5ECF6\", \"radialaxis\": {\"gridcolor\": \"white\", \"linecolor\": \"white\", \"ticks\": \"\"}}, \"scene\": {\"xaxis\": {\"backgroundcolor\": \"#E5ECF6\", \"gridcolor\": \"white\", \"gridwidth\": 2, \"linecolor\": \"white\", \"showbackground\": true, \"ticks\": \"\", \"zerolinecolor\": \"white\"}, \"yaxis\": {\"backgroundcolor\": \"#E5ECF6\", \"gridcolor\": \"white\", \"gridwidth\": 2, \"linecolor\": \"white\", \"showbackground\": true, \"ticks\": \"\", \"zerolinecolor\": \"white\"}, \"zaxis\": {\"backgroundcolor\": \"#E5ECF6\", \"gridcolor\": \"white\", \"gridwidth\": 2, \"linecolor\": \"white\", \"showbackground\": true, \"ticks\": \"\", \"zerolinecolor\": \"white\"}}, \"shapedefaults\": {\"line\": {\"color\": \"#2a3f5f\"}}, \"ternary\": {\"aaxis\": {\"gridcolor\": \"white\", \"linecolor\": \"white\", \"ticks\": \"\"}, \"baxis\": {\"gridcolor\": \"white\", \"linecolor\": \"white\", \"ticks\": \"\"}, \"bgcolor\": \"#E5ECF6\", \"caxis\": {\"gridcolor\": \"white\", \"linecolor\": \"white\", \"ticks\": \"\"}}, \"title\": {\"x\": 0.05}, \"xaxis\": {\"automargin\": true, \"gridcolor\": \"white\", \"linecolor\": \"white\", \"ticks\": \"\", \"title\": {\"standoff\": 15}, \"zerolinecolor\": \"white\", \"zerolinewidth\": 2}, \"yaxis\": {\"automargin\": true, \"gridcolor\": \"white\", \"linecolor\": \"white\", \"ticks\": \"\", \"title\": {\"standoff\": 15}, \"zerolinecolor\": \"white\", \"zerolinewidth\": 2}}}, \"title\": {\"font\": {\"color\": \"#4D5663\"}}, \"xaxis\": {\"gridcolor\": \"#E1E5ED\", \"showgrid\": true, \"tickfont\": {\"color\": \"#4D5663\"}, \"title\": {\"font\": {\"color\": \"#4D5663\"}, \"text\": \"A\"}, \"zerolinecolor\": \"#E1E5ED\"}, \"yaxis\": {\"gridcolor\": \"#E1E5ED\", \"showgrid\": true, \"tickfont\": {\"color\": \"#4D5663\"}, \"title\": {\"font\": {\"color\": \"#4D5663\"}, \"text\": \"B\"}, \"zerolinecolor\": \"#E1E5ED\"}},                        {\"showLink\": true, \"linkText\": \"Export to plot.ly\", \"plotlyServerURL\": \"https://plot.ly\", \"responsive\": true}                    ).then(function(){\n",
       "                            \n",
       "var gd = document.getElementById('4cbf3e65-6662-4534-8c28-2d4704d6fceb');\n",
       "var x = new MutationObserver(function (mutations, observer) {{\n",
       "        var display = window.getComputedStyle(gd).display;\n",
       "        if (!display || display === 'none') {{\n",
       "            console.log([gd, 'removed!']);\n",
       "            Plotly.purge(gd);\n",
       "            observer.disconnect();\n",
       "        }}\n",
       "}});\n",
       "\n",
       "// Listen for the removal of the full notebook cells\n",
       "var notebookContainer = gd.closest('#notebook-container');\n",
       "if (notebookContainer) {{\n",
       "    x.observe(notebookContainer, {childList: true});\n",
       "}}\n",
       "\n",
       "// Listen for the clearing of the current output cell\n",
       "var outputEl = gd.closest('.output');\n",
       "if (outputEl) {{\n",
       "    x.observe(outputEl, {childList: true});\n",
       "}}\n",
       "\n",
       "                        })                };                });            </script>        </div>"
      ]
     },
     "metadata": {},
     "output_type": "display_data"
    }
   ],
   "source": [
    "df.iplot(kind='scatter',x='A',y='B',mode='markers',size=10,xTitle='A',yTitle='B')"
   ]
  },
  {
   "cell_type": "code",
   "execution_count": null,
   "metadata": {},
   "outputs": [],
   "source": [
    "\n"
   ]
  },
  {
   "cell_type": "markdown",
   "metadata": {},
   "source": [
    "Bar Plot"
   ]
  },
  {
   "cell_type": "code",
   "execution_count": 37,
   "metadata": {},
   "outputs": [
    {
     "data": {
      "application/vnd.plotly.v1+json": {
       "config": {
        "linkText": "Export to plot.ly",
        "plotlyServerURL": "https://plot.ly",
        "showLink": true
       },
       "data": [
        {
         "marker": {
          "color": "rgba(255, 153, 51, 0.6)",
          "line": {
           "color": "rgba(255, 153, 51, 1.0)",
           "width": 1
          }
         },
         "name": "Values",
         "orientation": "v",
         "text": "",
         "type": "bar",
         "x": [
          "A",
          "B",
          "B"
         ],
         "y": [
          32,
          43,
          50
         ]
        }
       ],
       "layout": {
        "legend": {
         "bgcolor": "#F5F6F9",
         "font": {
          "color": "#4D5663"
         }
        },
        "paper_bgcolor": "#F5F6F9",
        "plot_bgcolor": "#F5F6F9",
        "template": {
         "data": {
          "bar": [
           {
            "error_x": {
             "color": "#2a3f5f"
            },
            "error_y": {
             "color": "#2a3f5f"
            },
            "marker": {
             "line": {
              "color": "#E5ECF6",
              "width": 0.5
             }
            },
            "type": "bar"
           }
          ],
          "barpolar": [
           {
            "marker": {
             "line": {
              "color": "#E5ECF6",
              "width": 0.5
             }
            },
            "type": "barpolar"
           }
          ],
          "carpet": [
           {
            "aaxis": {
             "endlinecolor": "#2a3f5f",
             "gridcolor": "white",
             "linecolor": "white",
             "minorgridcolor": "white",
             "startlinecolor": "#2a3f5f"
            },
            "baxis": {
             "endlinecolor": "#2a3f5f",
             "gridcolor": "white",
             "linecolor": "white",
             "minorgridcolor": "white",
             "startlinecolor": "#2a3f5f"
            },
            "type": "carpet"
           }
          ],
          "choropleth": [
           {
            "colorbar": {
             "outlinewidth": 0,
             "ticks": ""
            },
            "type": "choropleth"
           }
          ],
          "contour": [
           {
            "colorbar": {
             "outlinewidth": 0,
             "ticks": ""
            },
            "colorscale": [
             [
              0,
              "#0d0887"
             ],
             [
              0.1111111111111111,
              "#46039f"
             ],
             [
              0.2222222222222222,
              "#7201a8"
             ],
             [
              0.3333333333333333,
              "#9c179e"
             ],
             [
              0.4444444444444444,
              "#bd3786"
             ],
             [
              0.5555555555555556,
              "#d8576b"
             ],
             [
              0.6666666666666666,
              "#ed7953"
             ],
             [
              0.7777777777777778,
              "#fb9f3a"
             ],
             [
              0.8888888888888888,
              "#fdca26"
             ],
             [
              1,
              "#f0f921"
             ]
            ],
            "type": "contour"
           }
          ],
          "contourcarpet": [
           {
            "colorbar": {
             "outlinewidth": 0,
             "ticks": ""
            },
            "type": "contourcarpet"
           }
          ],
          "heatmap": [
           {
            "colorbar": {
             "outlinewidth": 0,
             "ticks": ""
            },
            "colorscale": [
             [
              0,
              "#0d0887"
             ],
             [
              0.1111111111111111,
              "#46039f"
             ],
             [
              0.2222222222222222,
              "#7201a8"
             ],
             [
              0.3333333333333333,
              "#9c179e"
             ],
             [
              0.4444444444444444,
              "#bd3786"
             ],
             [
              0.5555555555555556,
              "#d8576b"
             ],
             [
              0.6666666666666666,
              "#ed7953"
             ],
             [
              0.7777777777777778,
              "#fb9f3a"
             ],
             [
              0.8888888888888888,
              "#fdca26"
             ],
             [
              1,
              "#f0f921"
             ]
            ],
            "type": "heatmap"
           }
          ],
          "heatmapgl": [
           {
            "colorbar": {
             "outlinewidth": 0,
             "ticks": ""
            },
            "colorscale": [
             [
              0,
              "#0d0887"
             ],
             [
              0.1111111111111111,
              "#46039f"
             ],
             [
              0.2222222222222222,
              "#7201a8"
             ],
             [
              0.3333333333333333,
              "#9c179e"
             ],
             [
              0.4444444444444444,
              "#bd3786"
             ],
             [
              0.5555555555555556,
              "#d8576b"
             ],
             [
              0.6666666666666666,
              "#ed7953"
             ],
             [
              0.7777777777777778,
              "#fb9f3a"
             ],
             [
              0.8888888888888888,
              "#fdca26"
             ],
             [
              1,
              "#f0f921"
             ]
            ],
            "type": "heatmapgl"
           }
          ],
          "histogram": [
           {
            "marker": {
             "colorbar": {
              "outlinewidth": 0,
              "ticks": ""
             }
            },
            "type": "histogram"
           }
          ],
          "histogram2d": [
           {
            "colorbar": {
             "outlinewidth": 0,
             "ticks": ""
            },
            "colorscale": [
             [
              0,
              "#0d0887"
             ],
             [
              0.1111111111111111,
              "#46039f"
             ],
             [
              0.2222222222222222,
              "#7201a8"
             ],
             [
              0.3333333333333333,
              "#9c179e"
             ],
             [
              0.4444444444444444,
              "#bd3786"
             ],
             [
              0.5555555555555556,
              "#d8576b"
             ],
             [
              0.6666666666666666,
              "#ed7953"
             ],
             [
              0.7777777777777778,
              "#fb9f3a"
             ],
             [
              0.8888888888888888,
              "#fdca26"
             ],
             [
              1,
              "#f0f921"
             ]
            ],
            "type": "histogram2d"
           }
          ],
          "histogram2dcontour": [
           {
            "colorbar": {
             "outlinewidth": 0,
             "ticks": ""
            },
            "colorscale": [
             [
              0,
              "#0d0887"
             ],
             [
              0.1111111111111111,
              "#46039f"
             ],
             [
              0.2222222222222222,
              "#7201a8"
             ],
             [
              0.3333333333333333,
              "#9c179e"
             ],
             [
              0.4444444444444444,
              "#bd3786"
             ],
             [
              0.5555555555555556,
              "#d8576b"
             ],
             [
              0.6666666666666666,
              "#ed7953"
             ],
             [
              0.7777777777777778,
              "#fb9f3a"
             ],
             [
              0.8888888888888888,
              "#fdca26"
             ],
             [
              1,
              "#f0f921"
             ]
            ],
            "type": "histogram2dcontour"
           }
          ],
          "mesh3d": [
           {
            "colorbar": {
             "outlinewidth": 0,
             "ticks": ""
            },
            "type": "mesh3d"
           }
          ],
          "parcoords": [
           {
            "line": {
             "colorbar": {
              "outlinewidth": 0,
              "ticks": ""
             }
            },
            "type": "parcoords"
           }
          ],
          "pie": [
           {
            "automargin": true,
            "type": "pie"
           }
          ],
          "scatter": [
           {
            "marker": {
             "colorbar": {
              "outlinewidth": 0,
              "ticks": ""
             }
            },
            "type": "scatter"
           }
          ],
          "scatter3d": [
           {
            "line": {
             "colorbar": {
              "outlinewidth": 0,
              "ticks": ""
             }
            },
            "marker": {
             "colorbar": {
              "outlinewidth": 0,
              "ticks": ""
             }
            },
            "type": "scatter3d"
           }
          ],
          "scattercarpet": [
           {
            "marker": {
             "colorbar": {
              "outlinewidth": 0,
              "ticks": ""
             }
            },
            "type": "scattercarpet"
           }
          ],
          "scattergeo": [
           {
            "marker": {
             "colorbar": {
              "outlinewidth": 0,
              "ticks": ""
             }
            },
            "type": "scattergeo"
           }
          ],
          "scattergl": [
           {
            "marker": {
             "colorbar": {
              "outlinewidth": 0,
              "ticks": ""
             }
            },
            "type": "scattergl"
           }
          ],
          "scattermapbox": [
           {
            "marker": {
             "colorbar": {
              "outlinewidth": 0,
              "ticks": ""
             }
            },
            "type": "scattermapbox"
           }
          ],
          "scatterpolar": [
           {
            "marker": {
             "colorbar": {
              "outlinewidth": 0,
              "ticks": ""
             }
            },
            "type": "scatterpolar"
           }
          ],
          "scatterpolargl": [
           {
            "marker": {
             "colorbar": {
              "outlinewidth": 0,
              "ticks": ""
             }
            },
            "type": "scatterpolargl"
           }
          ],
          "scatterternary": [
           {
            "marker": {
             "colorbar": {
              "outlinewidth": 0,
              "ticks": ""
             }
            },
            "type": "scatterternary"
           }
          ],
          "surface": [
           {
            "colorbar": {
             "outlinewidth": 0,
             "ticks": ""
            },
            "colorscale": [
             [
              0,
              "#0d0887"
             ],
             [
              0.1111111111111111,
              "#46039f"
             ],
             [
              0.2222222222222222,
              "#7201a8"
             ],
             [
              0.3333333333333333,
              "#9c179e"
             ],
             [
              0.4444444444444444,
              "#bd3786"
             ],
             [
              0.5555555555555556,
              "#d8576b"
             ],
             [
              0.6666666666666666,
              "#ed7953"
             ],
             [
              0.7777777777777778,
              "#fb9f3a"
             ],
             [
              0.8888888888888888,
              "#fdca26"
             ],
             [
              1,
              "#f0f921"
             ]
            ],
            "type": "surface"
           }
          ],
          "table": [
           {
            "cells": {
             "fill": {
              "color": "#EBF0F8"
             },
             "line": {
              "color": "white"
             }
            },
            "header": {
             "fill": {
              "color": "#C8D4E3"
             },
             "line": {
              "color": "white"
             }
            },
            "type": "table"
           }
          ]
         },
         "layout": {
          "annotationdefaults": {
           "arrowcolor": "#2a3f5f",
           "arrowhead": 0,
           "arrowwidth": 1
          },
          "coloraxis": {
           "colorbar": {
            "outlinewidth": 0,
            "ticks": ""
           }
          },
          "colorscale": {
           "diverging": [
            [
             0,
             "#8e0152"
            ],
            [
             0.1,
             "#c51b7d"
            ],
            [
             0.2,
             "#de77ae"
            ],
            [
             0.3,
             "#f1b6da"
            ],
            [
             0.4,
             "#fde0ef"
            ],
            [
             0.5,
             "#f7f7f7"
            ],
            [
             0.6,
             "#e6f5d0"
            ],
            [
             0.7,
             "#b8e186"
            ],
            [
             0.8,
             "#7fbc41"
            ],
            [
             0.9,
             "#4d9221"
            ],
            [
             1,
             "#276419"
            ]
           ],
           "sequential": [
            [
             0,
             "#0d0887"
            ],
            [
             0.1111111111111111,
             "#46039f"
            ],
            [
             0.2222222222222222,
             "#7201a8"
            ],
            [
             0.3333333333333333,
             "#9c179e"
            ],
            [
             0.4444444444444444,
             "#bd3786"
            ],
            [
             0.5555555555555556,
             "#d8576b"
            ],
            [
             0.6666666666666666,
             "#ed7953"
            ],
            [
             0.7777777777777778,
             "#fb9f3a"
            ],
            [
             0.8888888888888888,
             "#fdca26"
            ],
            [
             1,
             "#f0f921"
            ]
           ],
           "sequentialminus": [
            [
             0,
             "#0d0887"
            ],
            [
             0.1111111111111111,
             "#46039f"
            ],
            [
             0.2222222222222222,
             "#7201a8"
            ],
            [
             0.3333333333333333,
             "#9c179e"
            ],
            [
             0.4444444444444444,
             "#bd3786"
            ],
            [
             0.5555555555555556,
             "#d8576b"
            ],
            [
             0.6666666666666666,
             "#ed7953"
            ],
            [
             0.7777777777777778,
             "#fb9f3a"
            ],
            [
             0.8888888888888888,
             "#fdca26"
            ],
            [
             1,
             "#f0f921"
            ]
           ]
          },
          "colorway": [
           "#636efa",
           "#EF553B",
           "#00cc96",
           "#ab63fa",
           "#FFA15A",
           "#19d3f3",
           "#FF6692",
           "#B6E880",
           "#FF97FF",
           "#FECB52"
          ],
          "font": {
           "color": "#2a3f5f"
          },
          "geo": {
           "bgcolor": "white",
           "lakecolor": "white",
           "landcolor": "#E5ECF6",
           "showlakes": true,
           "showland": true,
           "subunitcolor": "white"
          },
          "hoverlabel": {
           "align": "left"
          },
          "hovermode": "closest",
          "mapbox": {
           "style": "light"
          },
          "paper_bgcolor": "white",
          "plot_bgcolor": "#E5ECF6",
          "polar": {
           "angularaxis": {
            "gridcolor": "white",
            "linecolor": "white",
            "ticks": ""
           },
           "bgcolor": "#E5ECF6",
           "radialaxis": {
            "gridcolor": "white",
            "linecolor": "white",
            "ticks": ""
           }
          },
          "scene": {
           "xaxis": {
            "backgroundcolor": "#E5ECF6",
            "gridcolor": "white",
            "gridwidth": 2,
            "linecolor": "white",
            "showbackground": true,
            "ticks": "",
            "zerolinecolor": "white"
           },
           "yaxis": {
            "backgroundcolor": "#E5ECF6",
            "gridcolor": "white",
            "gridwidth": 2,
            "linecolor": "white",
            "showbackground": true,
            "ticks": "",
            "zerolinecolor": "white"
           },
           "zaxis": {
            "backgroundcolor": "#E5ECF6",
            "gridcolor": "white",
            "gridwidth": 2,
            "linecolor": "white",
            "showbackground": true,
            "ticks": "",
            "zerolinecolor": "white"
           }
          },
          "shapedefaults": {
           "line": {
            "color": "#2a3f5f"
           }
          },
          "ternary": {
           "aaxis": {
            "gridcolor": "white",
            "linecolor": "white",
            "ticks": ""
           },
           "baxis": {
            "gridcolor": "white",
            "linecolor": "white",
            "ticks": ""
           },
           "bgcolor": "#E5ECF6",
           "caxis": {
            "gridcolor": "white",
            "linecolor": "white",
            "ticks": ""
           }
          },
          "title": {
           "x": 0.05
          },
          "xaxis": {
           "automargin": true,
           "gridcolor": "white",
           "linecolor": "white",
           "ticks": "",
           "title": {
            "standoff": 15
           },
           "zerolinecolor": "white",
           "zerolinewidth": 2
          },
          "yaxis": {
           "automargin": true,
           "gridcolor": "white",
           "linecolor": "white",
           "ticks": "",
           "title": {
            "standoff": 15
           },
           "zerolinecolor": "white",
           "zerolinewidth": 2
          }
         }
        },
        "title": {
         "font": {
          "color": "#4D5663"
         }
        },
        "xaxis": {
         "gridcolor": "#E1E5ED",
         "showgrid": true,
         "tickfont": {
          "color": "#4D5663"
         },
         "title": {
          "font": {
           "color": "#4D5663"
          },
          "text": ""
         },
         "zerolinecolor": "#E1E5ED"
        },
        "yaxis": {
         "gridcolor": "#E1E5ED",
         "showgrid": true,
         "tickfont": {
          "color": "#4D5663"
         },
         "title": {
          "font": {
           "color": "#4D5663"
          },
          "text": ""
         },
         "zerolinecolor": "#E1E5ED"
        }
       }
      },
      "text/html": [
       "<div>                            <div id=\"9540d4d6-896d-419f-bfc9-d76703e039a8\" class=\"plotly-graph-div\" style=\"height:525px; width:100%;\"></div>            <script type=\"text/javascript\">                require([\"plotly\"], function(Plotly) {                    window.PLOTLYENV=window.PLOTLYENV || {};\n",
       "                    window.PLOTLYENV.BASE_URL='https://plot.ly';                                    if (document.getElementById(\"9540d4d6-896d-419f-bfc9-d76703e039a8\")) {                    Plotly.newPlot(                        \"9540d4d6-896d-419f-bfc9-d76703e039a8\",                        [{\"marker\": {\"color\": \"rgba(255, 153, 51, 0.6)\", \"line\": {\"color\": \"rgba(255, 153, 51, 1.0)\", \"width\": 1}}, \"name\": \"Values\", \"orientation\": \"v\", \"text\": \"\", \"type\": \"bar\", \"x\": [\"A\", \"B\", \"B\"], \"y\": [32, 43, 50]}],                        {\"legend\": {\"bgcolor\": \"#F5F6F9\", \"font\": {\"color\": \"#4D5663\"}}, \"paper_bgcolor\": \"#F5F6F9\", \"plot_bgcolor\": \"#F5F6F9\", \"template\": {\"data\": {\"bar\": [{\"error_x\": {\"color\": \"#2a3f5f\"}, \"error_y\": {\"color\": \"#2a3f5f\"}, \"marker\": {\"line\": {\"color\": \"#E5ECF6\", \"width\": 0.5}}, \"type\": \"bar\"}], \"barpolar\": [{\"marker\": {\"line\": {\"color\": \"#E5ECF6\", \"width\": 0.5}}, \"type\": \"barpolar\"}], \"carpet\": [{\"aaxis\": {\"endlinecolor\": \"#2a3f5f\", \"gridcolor\": \"white\", \"linecolor\": \"white\", \"minorgridcolor\": \"white\", \"startlinecolor\": \"#2a3f5f\"}, \"baxis\": {\"endlinecolor\": \"#2a3f5f\", \"gridcolor\": \"white\", \"linecolor\": \"white\", \"minorgridcolor\": \"white\", \"startlinecolor\": \"#2a3f5f\"}, \"type\": \"carpet\"}], \"choropleth\": [{\"colorbar\": {\"outlinewidth\": 0, \"ticks\": \"\"}, \"type\": \"choropleth\"}], \"contour\": [{\"colorbar\": {\"outlinewidth\": 0, \"ticks\": \"\"}, \"colorscale\": [[0.0, \"#0d0887\"], [0.1111111111111111, \"#46039f\"], [0.2222222222222222, \"#7201a8\"], [0.3333333333333333, \"#9c179e\"], [0.4444444444444444, \"#bd3786\"], [0.5555555555555556, \"#d8576b\"], [0.6666666666666666, \"#ed7953\"], [0.7777777777777778, \"#fb9f3a\"], [0.8888888888888888, \"#fdca26\"], [1.0, \"#f0f921\"]], \"type\": \"contour\"}], \"contourcarpet\": [{\"colorbar\": {\"outlinewidth\": 0, \"ticks\": \"\"}, \"type\": \"contourcarpet\"}], \"heatmap\": [{\"colorbar\": {\"outlinewidth\": 0, \"ticks\": \"\"}, \"colorscale\": [[0.0, \"#0d0887\"], [0.1111111111111111, \"#46039f\"], [0.2222222222222222, \"#7201a8\"], [0.3333333333333333, \"#9c179e\"], [0.4444444444444444, \"#bd3786\"], [0.5555555555555556, \"#d8576b\"], [0.6666666666666666, \"#ed7953\"], [0.7777777777777778, \"#fb9f3a\"], [0.8888888888888888, \"#fdca26\"], [1.0, \"#f0f921\"]], \"type\": \"heatmap\"}], \"heatmapgl\": [{\"colorbar\": {\"outlinewidth\": 0, \"ticks\": \"\"}, \"colorscale\": [[0.0, \"#0d0887\"], [0.1111111111111111, \"#46039f\"], [0.2222222222222222, \"#7201a8\"], [0.3333333333333333, \"#9c179e\"], [0.4444444444444444, \"#bd3786\"], [0.5555555555555556, \"#d8576b\"], [0.6666666666666666, \"#ed7953\"], [0.7777777777777778, \"#fb9f3a\"], [0.8888888888888888, \"#fdca26\"], [1.0, \"#f0f921\"]], \"type\": \"heatmapgl\"}], \"histogram\": [{\"marker\": {\"colorbar\": {\"outlinewidth\": 0, \"ticks\": \"\"}}, \"type\": \"histogram\"}], \"histogram2d\": [{\"colorbar\": {\"outlinewidth\": 0, \"ticks\": \"\"}, \"colorscale\": [[0.0, \"#0d0887\"], [0.1111111111111111, \"#46039f\"], [0.2222222222222222, \"#7201a8\"], [0.3333333333333333, \"#9c179e\"], [0.4444444444444444, \"#bd3786\"], [0.5555555555555556, \"#d8576b\"], [0.6666666666666666, \"#ed7953\"], [0.7777777777777778, \"#fb9f3a\"], [0.8888888888888888, \"#fdca26\"], [1.0, \"#f0f921\"]], \"type\": \"histogram2d\"}], \"histogram2dcontour\": [{\"colorbar\": {\"outlinewidth\": 0, \"ticks\": \"\"}, \"colorscale\": [[0.0, \"#0d0887\"], [0.1111111111111111, \"#46039f\"], [0.2222222222222222, \"#7201a8\"], [0.3333333333333333, \"#9c179e\"], [0.4444444444444444, \"#bd3786\"], [0.5555555555555556, \"#d8576b\"], [0.6666666666666666, \"#ed7953\"], [0.7777777777777778, \"#fb9f3a\"], [0.8888888888888888, \"#fdca26\"], [1.0, \"#f0f921\"]], \"type\": \"histogram2dcontour\"}], \"mesh3d\": [{\"colorbar\": {\"outlinewidth\": 0, \"ticks\": \"\"}, \"type\": \"mesh3d\"}], \"parcoords\": [{\"line\": {\"colorbar\": {\"outlinewidth\": 0, \"ticks\": \"\"}}, \"type\": \"parcoords\"}], \"pie\": [{\"automargin\": true, \"type\": \"pie\"}], \"scatter\": [{\"marker\": {\"colorbar\": {\"outlinewidth\": 0, \"ticks\": \"\"}}, \"type\": \"scatter\"}], \"scatter3d\": [{\"line\": {\"colorbar\": {\"outlinewidth\": 0, \"ticks\": \"\"}}, \"marker\": {\"colorbar\": {\"outlinewidth\": 0, \"ticks\": \"\"}}, \"type\": \"scatter3d\"}], \"scattercarpet\": [{\"marker\": {\"colorbar\": {\"outlinewidth\": 0, \"ticks\": \"\"}}, \"type\": \"scattercarpet\"}], \"scattergeo\": [{\"marker\": {\"colorbar\": {\"outlinewidth\": 0, \"ticks\": \"\"}}, \"type\": \"scattergeo\"}], \"scattergl\": [{\"marker\": {\"colorbar\": {\"outlinewidth\": 0, \"ticks\": \"\"}}, \"type\": \"scattergl\"}], \"scattermapbox\": [{\"marker\": {\"colorbar\": {\"outlinewidth\": 0, \"ticks\": \"\"}}, \"type\": \"scattermapbox\"}], \"scatterpolar\": [{\"marker\": {\"colorbar\": {\"outlinewidth\": 0, \"ticks\": \"\"}}, \"type\": \"scatterpolar\"}], \"scatterpolargl\": [{\"marker\": {\"colorbar\": {\"outlinewidth\": 0, \"ticks\": \"\"}}, \"type\": \"scatterpolargl\"}], \"scatterternary\": [{\"marker\": {\"colorbar\": {\"outlinewidth\": 0, \"ticks\": \"\"}}, \"type\": \"scatterternary\"}], \"surface\": [{\"colorbar\": {\"outlinewidth\": 0, \"ticks\": \"\"}, \"colorscale\": [[0.0, \"#0d0887\"], [0.1111111111111111, \"#46039f\"], [0.2222222222222222, \"#7201a8\"], [0.3333333333333333, \"#9c179e\"], [0.4444444444444444, \"#bd3786\"], [0.5555555555555556, \"#d8576b\"], [0.6666666666666666, \"#ed7953\"], [0.7777777777777778, \"#fb9f3a\"], [0.8888888888888888, \"#fdca26\"], [1.0, \"#f0f921\"]], \"type\": \"surface\"}], \"table\": [{\"cells\": {\"fill\": {\"color\": \"#EBF0F8\"}, \"line\": {\"color\": \"white\"}}, \"header\": {\"fill\": {\"color\": \"#C8D4E3\"}, \"line\": {\"color\": \"white\"}}, \"type\": \"table\"}]}, \"layout\": {\"annotationdefaults\": {\"arrowcolor\": \"#2a3f5f\", \"arrowhead\": 0, \"arrowwidth\": 1}, \"coloraxis\": {\"colorbar\": {\"outlinewidth\": 0, \"ticks\": \"\"}}, \"colorscale\": {\"diverging\": [[0, \"#8e0152\"], [0.1, \"#c51b7d\"], [0.2, \"#de77ae\"], [0.3, \"#f1b6da\"], [0.4, \"#fde0ef\"], [0.5, \"#f7f7f7\"], [0.6, \"#e6f5d0\"], [0.7, \"#b8e186\"], [0.8, \"#7fbc41\"], [0.9, \"#4d9221\"], [1, \"#276419\"]], \"sequential\": [[0.0, \"#0d0887\"], [0.1111111111111111, \"#46039f\"], [0.2222222222222222, \"#7201a8\"], [0.3333333333333333, \"#9c179e\"], [0.4444444444444444, \"#bd3786\"], [0.5555555555555556, \"#d8576b\"], [0.6666666666666666, \"#ed7953\"], [0.7777777777777778, \"#fb9f3a\"], [0.8888888888888888, \"#fdca26\"], [1.0, \"#f0f921\"]], \"sequentialminus\": [[0.0, \"#0d0887\"], [0.1111111111111111, \"#46039f\"], [0.2222222222222222, \"#7201a8\"], [0.3333333333333333, \"#9c179e\"], [0.4444444444444444, \"#bd3786\"], [0.5555555555555556, \"#d8576b\"], [0.6666666666666666, \"#ed7953\"], [0.7777777777777778, \"#fb9f3a\"], [0.8888888888888888, \"#fdca26\"], [1.0, \"#f0f921\"]]}, \"colorway\": [\"#636efa\", \"#EF553B\", \"#00cc96\", \"#ab63fa\", \"#FFA15A\", \"#19d3f3\", \"#FF6692\", \"#B6E880\", \"#FF97FF\", \"#FECB52\"], \"font\": {\"color\": \"#2a3f5f\"}, \"geo\": {\"bgcolor\": \"white\", \"lakecolor\": \"white\", \"landcolor\": \"#E5ECF6\", \"showlakes\": true, \"showland\": true, \"subunitcolor\": \"white\"}, \"hoverlabel\": {\"align\": \"left\"}, \"hovermode\": \"closest\", \"mapbox\": {\"style\": \"light\"}, \"paper_bgcolor\": \"white\", \"plot_bgcolor\": \"#E5ECF6\", \"polar\": {\"angularaxis\": {\"gridcolor\": \"white\", \"linecolor\": \"white\", \"ticks\": \"\"}, \"bgcolor\": \"#E5ECF6\", \"radialaxis\": {\"gridcolor\": \"white\", \"linecolor\": \"white\", \"ticks\": \"\"}}, \"scene\": {\"xaxis\": {\"backgroundcolor\": \"#E5ECF6\", \"gridcolor\": \"white\", \"gridwidth\": 2, \"linecolor\": \"white\", \"showbackground\": true, \"ticks\": \"\", \"zerolinecolor\": \"white\"}, \"yaxis\": {\"backgroundcolor\": \"#E5ECF6\", \"gridcolor\": \"white\", \"gridwidth\": 2, \"linecolor\": \"white\", \"showbackground\": true, \"ticks\": \"\", \"zerolinecolor\": \"white\"}, \"zaxis\": {\"backgroundcolor\": \"#E5ECF6\", \"gridcolor\": \"white\", \"gridwidth\": 2, \"linecolor\": \"white\", \"showbackground\": true, \"ticks\": \"\", \"zerolinecolor\": \"white\"}}, \"shapedefaults\": {\"line\": {\"color\": \"#2a3f5f\"}}, \"ternary\": {\"aaxis\": {\"gridcolor\": \"white\", \"linecolor\": \"white\", \"ticks\": \"\"}, \"baxis\": {\"gridcolor\": \"white\", \"linecolor\": \"white\", \"ticks\": \"\"}, \"bgcolor\": \"#E5ECF6\", \"caxis\": {\"gridcolor\": \"white\", \"linecolor\": \"white\", \"ticks\": \"\"}}, \"title\": {\"x\": 0.05}, \"xaxis\": {\"automargin\": true, \"gridcolor\": \"white\", \"linecolor\": \"white\", \"ticks\": \"\", \"title\": {\"standoff\": 15}, \"zerolinecolor\": \"white\", \"zerolinewidth\": 2}, \"yaxis\": {\"automargin\": true, \"gridcolor\": \"white\", \"linecolor\": \"white\", \"ticks\": \"\", \"title\": {\"standoff\": 15}, \"zerolinecolor\": \"white\", \"zerolinewidth\": 2}}}, \"title\": {\"font\": {\"color\": \"#4D5663\"}}, \"xaxis\": {\"gridcolor\": \"#E1E5ED\", \"showgrid\": true, \"tickfont\": {\"color\": \"#4D5663\"}, \"title\": {\"font\": {\"color\": \"#4D5663\"}, \"text\": \"\"}, \"zerolinecolor\": \"#E1E5ED\"}, \"yaxis\": {\"gridcolor\": \"#E1E5ED\", \"showgrid\": true, \"tickfont\": {\"color\": \"#4D5663\"}, \"title\": {\"font\": {\"color\": \"#4D5663\"}, \"text\": \"\"}, \"zerolinecolor\": \"#E1E5ED\"}},                        {\"showLink\": true, \"linkText\": \"Export to plot.ly\", \"plotlyServerURL\": \"https://plot.ly\", \"responsive\": true}                    ).then(function(){\n",
       "                            \n",
       "var gd = document.getElementById('9540d4d6-896d-419f-bfc9-d76703e039a8');\n",
       "var x = new MutationObserver(function (mutations, observer) {{\n",
       "        var display = window.getComputedStyle(gd).display;\n",
       "        if (!display || display === 'none') {{\n",
       "            console.log([gd, 'removed!']);\n",
       "            Plotly.purge(gd);\n",
       "            observer.disconnect();\n",
       "        }}\n",
       "}});\n",
       "\n",
       "// Listen for the removal of the full notebook cells\n",
       "var notebookContainer = gd.closest('#notebook-container');\n",
       "if (notebookContainer) {{\n",
       "    x.observe(notebookContainer, {childList: true});\n",
       "}}\n",
       "\n",
       "// Listen for the clearing of the current output cell\n",
       "var outputEl = gd.closest('.output');\n",
       "if (outputEl) {{\n",
       "    x.observe(outputEl, {childList: true});\n",
       "}}\n",
       "\n",
       "                        })                };                });            </script>        </div>"
      ]
     },
     "metadata": {},
     "output_type": "display_data"
    }
   ],
   "source": [
    "df2.iplot(kind='bar',x='Categary',y='Values')"
   ]
  },
  {
   "cell_type": "code",
   "execution_count": 46,
   "metadata": {},
   "outputs": [
    {
     "data": {
      "text/plain": [
       "A    100\n",
       "B    100\n",
       "C    100\n",
       "D    100\n",
       "dtype: int64"
      ]
     },
     "execution_count": 46,
     "metadata": {},
     "output_type": "execute_result"
    }
   ],
   "source": [
    "df.count()"
   ]
  },
  {
   "cell_type": "code",
   "execution_count": 45,
   "metadata": {},
   "outputs": [
    {
     "data": {
      "application/vnd.plotly.v1+json": {
       "config": {
        "linkText": "Export to plot.ly",
        "plotlyServerURL": "https://plot.ly",
        "showLink": true
       },
       "data": [
        {
         "marker": {
          "color": "rgba(255, 153, 51, 0.6)",
          "line": {
           "color": "rgba(255, 153, 51, 1.0)",
           "width": 1
          }
         },
         "name": "None",
         "orientation": "v",
         "text": "",
         "type": "bar",
         "x": [
          "A",
          "B",
          "C",
          "D"
         ],
         "y": [
          100,
          100,
          100,
          100
         ]
        }
       ],
       "layout": {
        "legend": {
         "bgcolor": "#F5F6F9",
         "font": {
          "color": "#4D5663"
         }
        },
        "paper_bgcolor": "#F5F6F9",
        "plot_bgcolor": "#F5F6F9",
        "template": {
         "data": {
          "bar": [
           {
            "error_x": {
             "color": "#2a3f5f"
            },
            "error_y": {
             "color": "#2a3f5f"
            },
            "marker": {
             "line": {
              "color": "#E5ECF6",
              "width": 0.5
             }
            },
            "type": "bar"
           }
          ],
          "barpolar": [
           {
            "marker": {
             "line": {
              "color": "#E5ECF6",
              "width": 0.5
             }
            },
            "type": "barpolar"
           }
          ],
          "carpet": [
           {
            "aaxis": {
             "endlinecolor": "#2a3f5f",
             "gridcolor": "white",
             "linecolor": "white",
             "minorgridcolor": "white",
             "startlinecolor": "#2a3f5f"
            },
            "baxis": {
             "endlinecolor": "#2a3f5f",
             "gridcolor": "white",
             "linecolor": "white",
             "minorgridcolor": "white",
             "startlinecolor": "#2a3f5f"
            },
            "type": "carpet"
           }
          ],
          "choropleth": [
           {
            "colorbar": {
             "outlinewidth": 0,
             "ticks": ""
            },
            "type": "choropleth"
           }
          ],
          "contour": [
           {
            "colorbar": {
             "outlinewidth": 0,
             "ticks": ""
            },
            "colorscale": [
             [
              0,
              "#0d0887"
             ],
             [
              0.1111111111111111,
              "#46039f"
             ],
             [
              0.2222222222222222,
              "#7201a8"
             ],
             [
              0.3333333333333333,
              "#9c179e"
             ],
             [
              0.4444444444444444,
              "#bd3786"
             ],
             [
              0.5555555555555556,
              "#d8576b"
             ],
             [
              0.6666666666666666,
              "#ed7953"
             ],
             [
              0.7777777777777778,
              "#fb9f3a"
             ],
             [
              0.8888888888888888,
              "#fdca26"
             ],
             [
              1,
              "#f0f921"
             ]
            ],
            "type": "contour"
           }
          ],
          "contourcarpet": [
           {
            "colorbar": {
             "outlinewidth": 0,
             "ticks": ""
            },
            "type": "contourcarpet"
           }
          ],
          "heatmap": [
           {
            "colorbar": {
             "outlinewidth": 0,
             "ticks": ""
            },
            "colorscale": [
             [
              0,
              "#0d0887"
             ],
             [
              0.1111111111111111,
              "#46039f"
             ],
             [
              0.2222222222222222,
              "#7201a8"
             ],
             [
              0.3333333333333333,
              "#9c179e"
             ],
             [
              0.4444444444444444,
              "#bd3786"
             ],
             [
              0.5555555555555556,
              "#d8576b"
             ],
             [
              0.6666666666666666,
              "#ed7953"
             ],
             [
              0.7777777777777778,
              "#fb9f3a"
             ],
             [
              0.8888888888888888,
              "#fdca26"
             ],
             [
              1,
              "#f0f921"
             ]
            ],
            "type": "heatmap"
           }
          ],
          "heatmapgl": [
           {
            "colorbar": {
             "outlinewidth": 0,
             "ticks": ""
            },
            "colorscale": [
             [
              0,
              "#0d0887"
             ],
             [
              0.1111111111111111,
              "#46039f"
             ],
             [
              0.2222222222222222,
              "#7201a8"
             ],
             [
              0.3333333333333333,
              "#9c179e"
             ],
             [
              0.4444444444444444,
              "#bd3786"
             ],
             [
              0.5555555555555556,
              "#d8576b"
             ],
             [
              0.6666666666666666,
              "#ed7953"
             ],
             [
              0.7777777777777778,
              "#fb9f3a"
             ],
             [
              0.8888888888888888,
              "#fdca26"
             ],
             [
              1,
              "#f0f921"
             ]
            ],
            "type": "heatmapgl"
           }
          ],
          "histogram": [
           {
            "marker": {
             "colorbar": {
              "outlinewidth": 0,
              "ticks": ""
             }
            },
            "type": "histogram"
           }
          ],
          "histogram2d": [
           {
            "colorbar": {
             "outlinewidth": 0,
             "ticks": ""
            },
            "colorscale": [
             [
              0,
              "#0d0887"
             ],
             [
              0.1111111111111111,
              "#46039f"
             ],
             [
              0.2222222222222222,
              "#7201a8"
             ],
             [
              0.3333333333333333,
              "#9c179e"
             ],
             [
              0.4444444444444444,
              "#bd3786"
             ],
             [
              0.5555555555555556,
              "#d8576b"
             ],
             [
              0.6666666666666666,
              "#ed7953"
             ],
             [
              0.7777777777777778,
              "#fb9f3a"
             ],
             [
              0.8888888888888888,
              "#fdca26"
             ],
             [
              1,
              "#f0f921"
             ]
            ],
            "type": "histogram2d"
           }
          ],
          "histogram2dcontour": [
           {
            "colorbar": {
             "outlinewidth": 0,
             "ticks": ""
            },
            "colorscale": [
             [
              0,
              "#0d0887"
             ],
             [
              0.1111111111111111,
              "#46039f"
             ],
             [
              0.2222222222222222,
              "#7201a8"
             ],
             [
              0.3333333333333333,
              "#9c179e"
             ],
             [
              0.4444444444444444,
              "#bd3786"
             ],
             [
              0.5555555555555556,
              "#d8576b"
             ],
             [
              0.6666666666666666,
              "#ed7953"
             ],
             [
              0.7777777777777778,
              "#fb9f3a"
             ],
             [
              0.8888888888888888,
              "#fdca26"
             ],
             [
              1,
              "#f0f921"
             ]
            ],
            "type": "histogram2dcontour"
           }
          ],
          "mesh3d": [
           {
            "colorbar": {
             "outlinewidth": 0,
             "ticks": ""
            },
            "type": "mesh3d"
           }
          ],
          "parcoords": [
           {
            "line": {
             "colorbar": {
              "outlinewidth": 0,
              "ticks": ""
             }
            },
            "type": "parcoords"
           }
          ],
          "pie": [
           {
            "automargin": true,
            "type": "pie"
           }
          ],
          "scatter": [
           {
            "marker": {
             "colorbar": {
              "outlinewidth": 0,
              "ticks": ""
             }
            },
            "type": "scatter"
           }
          ],
          "scatter3d": [
           {
            "line": {
             "colorbar": {
              "outlinewidth": 0,
              "ticks": ""
             }
            },
            "marker": {
             "colorbar": {
              "outlinewidth": 0,
              "ticks": ""
             }
            },
            "type": "scatter3d"
           }
          ],
          "scattercarpet": [
           {
            "marker": {
             "colorbar": {
              "outlinewidth": 0,
              "ticks": ""
             }
            },
            "type": "scattercarpet"
           }
          ],
          "scattergeo": [
           {
            "marker": {
             "colorbar": {
              "outlinewidth": 0,
              "ticks": ""
             }
            },
            "type": "scattergeo"
           }
          ],
          "scattergl": [
           {
            "marker": {
             "colorbar": {
              "outlinewidth": 0,
              "ticks": ""
             }
            },
            "type": "scattergl"
           }
          ],
          "scattermapbox": [
           {
            "marker": {
             "colorbar": {
              "outlinewidth": 0,
              "ticks": ""
             }
            },
            "type": "scattermapbox"
           }
          ],
          "scatterpolar": [
           {
            "marker": {
             "colorbar": {
              "outlinewidth": 0,
              "ticks": ""
             }
            },
            "type": "scatterpolar"
           }
          ],
          "scatterpolargl": [
           {
            "marker": {
             "colorbar": {
              "outlinewidth": 0,
              "ticks": ""
             }
            },
            "type": "scatterpolargl"
           }
          ],
          "scatterternary": [
           {
            "marker": {
             "colorbar": {
              "outlinewidth": 0,
              "ticks": ""
             }
            },
            "type": "scatterternary"
           }
          ],
          "surface": [
           {
            "colorbar": {
             "outlinewidth": 0,
             "ticks": ""
            },
            "colorscale": [
             [
              0,
              "#0d0887"
             ],
             [
              0.1111111111111111,
              "#46039f"
             ],
             [
              0.2222222222222222,
              "#7201a8"
             ],
             [
              0.3333333333333333,
              "#9c179e"
             ],
             [
              0.4444444444444444,
              "#bd3786"
             ],
             [
              0.5555555555555556,
              "#d8576b"
             ],
             [
              0.6666666666666666,
              "#ed7953"
             ],
             [
              0.7777777777777778,
              "#fb9f3a"
             ],
             [
              0.8888888888888888,
              "#fdca26"
             ],
             [
              1,
              "#f0f921"
             ]
            ],
            "type": "surface"
           }
          ],
          "table": [
           {
            "cells": {
             "fill": {
              "color": "#EBF0F8"
             },
             "line": {
              "color": "white"
             }
            },
            "header": {
             "fill": {
              "color": "#C8D4E3"
             },
             "line": {
              "color": "white"
             }
            },
            "type": "table"
           }
          ]
         },
         "layout": {
          "annotationdefaults": {
           "arrowcolor": "#2a3f5f",
           "arrowhead": 0,
           "arrowwidth": 1
          },
          "coloraxis": {
           "colorbar": {
            "outlinewidth": 0,
            "ticks": ""
           }
          },
          "colorscale": {
           "diverging": [
            [
             0,
             "#8e0152"
            ],
            [
             0.1,
             "#c51b7d"
            ],
            [
             0.2,
             "#de77ae"
            ],
            [
             0.3,
             "#f1b6da"
            ],
            [
             0.4,
             "#fde0ef"
            ],
            [
             0.5,
             "#f7f7f7"
            ],
            [
             0.6,
             "#e6f5d0"
            ],
            [
             0.7,
             "#b8e186"
            ],
            [
             0.8,
             "#7fbc41"
            ],
            [
             0.9,
             "#4d9221"
            ],
            [
             1,
             "#276419"
            ]
           ],
           "sequential": [
            [
             0,
             "#0d0887"
            ],
            [
             0.1111111111111111,
             "#46039f"
            ],
            [
             0.2222222222222222,
             "#7201a8"
            ],
            [
             0.3333333333333333,
             "#9c179e"
            ],
            [
             0.4444444444444444,
             "#bd3786"
            ],
            [
             0.5555555555555556,
             "#d8576b"
            ],
            [
             0.6666666666666666,
             "#ed7953"
            ],
            [
             0.7777777777777778,
             "#fb9f3a"
            ],
            [
             0.8888888888888888,
             "#fdca26"
            ],
            [
             1,
             "#f0f921"
            ]
           ],
           "sequentialminus": [
            [
             0,
             "#0d0887"
            ],
            [
             0.1111111111111111,
             "#46039f"
            ],
            [
             0.2222222222222222,
             "#7201a8"
            ],
            [
             0.3333333333333333,
             "#9c179e"
            ],
            [
             0.4444444444444444,
             "#bd3786"
            ],
            [
             0.5555555555555556,
             "#d8576b"
            ],
            [
             0.6666666666666666,
             "#ed7953"
            ],
            [
             0.7777777777777778,
             "#fb9f3a"
            ],
            [
             0.8888888888888888,
             "#fdca26"
            ],
            [
             1,
             "#f0f921"
            ]
           ]
          },
          "colorway": [
           "#636efa",
           "#EF553B",
           "#00cc96",
           "#ab63fa",
           "#FFA15A",
           "#19d3f3",
           "#FF6692",
           "#B6E880",
           "#FF97FF",
           "#FECB52"
          ],
          "font": {
           "color": "#2a3f5f"
          },
          "geo": {
           "bgcolor": "white",
           "lakecolor": "white",
           "landcolor": "#E5ECF6",
           "showlakes": true,
           "showland": true,
           "subunitcolor": "white"
          },
          "hoverlabel": {
           "align": "left"
          },
          "hovermode": "closest",
          "mapbox": {
           "style": "light"
          },
          "paper_bgcolor": "white",
          "plot_bgcolor": "#E5ECF6",
          "polar": {
           "angularaxis": {
            "gridcolor": "white",
            "linecolor": "white",
            "ticks": ""
           },
           "bgcolor": "#E5ECF6",
           "radialaxis": {
            "gridcolor": "white",
            "linecolor": "white",
            "ticks": ""
           }
          },
          "scene": {
           "xaxis": {
            "backgroundcolor": "#E5ECF6",
            "gridcolor": "white",
            "gridwidth": 2,
            "linecolor": "white",
            "showbackground": true,
            "ticks": "",
            "zerolinecolor": "white"
           },
           "yaxis": {
            "backgroundcolor": "#E5ECF6",
            "gridcolor": "white",
            "gridwidth": 2,
            "linecolor": "white",
            "showbackground": true,
            "ticks": "",
            "zerolinecolor": "white"
           },
           "zaxis": {
            "backgroundcolor": "#E5ECF6",
            "gridcolor": "white",
            "gridwidth": 2,
            "linecolor": "white",
            "showbackground": true,
            "ticks": "",
            "zerolinecolor": "white"
           }
          },
          "shapedefaults": {
           "line": {
            "color": "#2a3f5f"
           }
          },
          "ternary": {
           "aaxis": {
            "gridcolor": "white",
            "linecolor": "white",
            "ticks": ""
           },
           "baxis": {
            "gridcolor": "white",
            "linecolor": "white",
            "ticks": ""
           },
           "bgcolor": "#E5ECF6",
           "caxis": {
            "gridcolor": "white",
            "linecolor": "white",
            "ticks": ""
           }
          },
          "title": {
           "x": 0.05
          },
          "xaxis": {
           "automargin": true,
           "gridcolor": "white",
           "linecolor": "white",
           "ticks": "",
           "title": {
            "standoff": 15
           },
           "zerolinecolor": "white",
           "zerolinewidth": 2
          },
          "yaxis": {
           "automargin": true,
           "gridcolor": "white",
           "linecolor": "white",
           "ticks": "",
           "title": {
            "standoff": 15
           },
           "zerolinecolor": "white",
           "zerolinewidth": 2
          }
         }
        },
        "title": {
         "font": {
          "color": "#4D5663"
         }
        },
        "xaxis": {
         "gridcolor": "#E1E5ED",
         "showgrid": true,
         "tickfont": {
          "color": "#4D5663"
         },
         "title": {
          "font": {
           "color": "#4D5663"
          },
          "text": ""
         },
         "zerolinecolor": "#E1E5ED"
        },
        "yaxis": {
         "gridcolor": "#E1E5ED",
         "showgrid": true,
         "tickfont": {
          "color": "#4D5663"
         },
         "title": {
          "font": {
           "color": "#4D5663"
          },
          "text": ""
         },
         "zerolinecolor": "#E1E5ED"
        }
       }
      },
      "text/html": [
       "<div>                            <div id=\"ff85d6d5-171a-4c5d-97e5-d0a558c09f75\" class=\"plotly-graph-div\" style=\"height:525px; width:100%;\"></div>            <script type=\"text/javascript\">                require([\"plotly\"], function(Plotly) {                    window.PLOTLYENV=window.PLOTLYENV || {};\n",
       "                    window.PLOTLYENV.BASE_URL='https://plot.ly';                                    if (document.getElementById(\"ff85d6d5-171a-4c5d-97e5-d0a558c09f75\")) {                    Plotly.newPlot(                        \"ff85d6d5-171a-4c5d-97e5-d0a558c09f75\",                        [{\"marker\": {\"color\": \"rgba(255, 153, 51, 0.6)\", \"line\": {\"color\": \"rgba(255, 153, 51, 1.0)\", \"width\": 1}}, \"name\": \"None\", \"orientation\": \"v\", \"text\": \"\", \"type\": \"bar\", \"x\": [\"A\", \"B\", \"C\", \"D\"], \"y\": [100, 100, 100, 100]}],                        {\"legend\": {\"bgcolor\": \"#F5F6F9\", \"font\": {\"color\": \"#4D5663\"}}, \"paper_bgcolor\": \"#F5F6F9\", \"plot_bgcolor\": \"#F5F6F9\", \"template\": {\"data\": {\"bar\": [{\"error_x\": {\"color\": \"#2a3f5f\"}, \"error_y\": {\"color\": \"#2a3f5f\"}, \"marker\": {\"line\": {\"color\": \"#E5ECF6\", \"width\": 0.5}}, \"type\": \"bar\"}], \"barpolar\": [{\"marker\": {\"line\": {\"color\": \"#E5ECF6\", \"width\": 0.5}}, \"type\": \"barpolar\"}], \"carpet\": [{\"aaxis\": {\"endlinecolor\": \"#2a3f5f\", \"gridcolor\": \"white\", \"linecolor\": \"white\", \"minorgridcolor\": \"white\", \"startlinecolor\": \"#2a3f5f\"}, \"baxis\": {\"endlinecolor\": \"#2a3f5f\", \"gridcolor\": \"white\", \"linecolor\": \"white\", \"minorgridcolor\": \"white\", \"startlinecolor\": \"#2a3f5f\"}, \"type\": \"carpet\"}], \"choropleth\": [{\"colorbar\": {\"outlinewidth\": 0, \"ticks\": \"\"}, \"type\": \"choropleth\"}], \"contour\": [{\"colorbar\": {\"outlinewidth\": 0, \"ticks\": \"\"}, \"colorscale\": [[0.0, \"#0d0887\"], [0.1111111111111111, \"#46039f\"], [0.2222222222222222, \"#7201a8\"], [0.3333333333333333, \"#9c179e\"], [0.4444444444444444, \"#bd3786\"], [0.5555555555555556, \"#d8576b\"], [0.6666666666666666, \"#ed7953\"], [0.7777777777777778, \"#fb9f3a\"], [0.8888888888888888, \"#fdca26\"], [1.0, \"#f0f921\"]], \"type\": \"contour\"}], \"contourcarpet\": [{\"colorbar\": {\"outlinewidth\": 0, \"ticks\": \"\"}, \"type\": \"contourcarpet\"}], \"heatmap\": [{\"colorbar\": {\"outlinewidth\": 0, \"ticks\": \"\"}, \"colorscale\": [[0.0, \"#0d0887\"], [0.1111111111111111, \"#46039f\"], [0.2222222222222222, \"#7201a8\"], [0.3333333333333333, \"#9c179e\"], [0.4444444444444444, \"#bd3786\"], [0.5555555555555556, \"#d8576b\"], [0.6666666666666666, \"#ed7953\"], [0.7777777777777778, \"#fb9f3a\"], [0.8888888888888888, \"#fdca26\"], [1.0, \"#f0f921\"]], \"type\": \"heatmap\"}], \"heatmapgl\": [{\"colorbar\": {\"outlinewidth\": 0, \"ticks\": \"\"}, \"colorscale\": [[0.0, \"#0d0887\"], [0.1111111111111111, \"#46039f\"], [0.2222222222222222, \"#7201a8\"], [0.3333333333333333, \"#9c179e\"], [0.4444444444444444, \"#bd3786\"], [0.5555555555555556, \"#d8576b\"], [0.6666666666666666, \"#ed7953\"], [0.7777777777777778, \"#fb9f3a\"], [0.8888888888888888, \"#fdca26\"], [1.0, \"#f0f921\"]], \"type\": \"heatmapgl\"}], \"histogram\": [{\"marker\": {\"colorbar\": {\"outlinewidth\": 0, \"ticks\": \"\"}}, \"type\": \"histogram\"}], \"histogram2d\": [{\"colorbar\": {\"outlinewidth\": 0, \"ticks\": \"\"}, \"colorscale\": [[0.0, \"#0d0887\"], [0.1111111111111111, \"#46039f\"], [0.2222222222222222, \"#7201a8\"], [0.3333333333333333, \"#9c179e\"], [0.4444444444444444, \"#bd3786\"], [0.5555555555555556, \"#d8576b\"], [0.6666666666666666, \"#ed7953\"], [0.7777777777777778, \"#fb9f3a\"], [0.8888888888888888, \"#fdca26\"], [1.0, \"#f0f921\"]], \"type\": \"histogram2d\"}], \"histogram2dcontour\": [{\"colorbar\": {\"outlinewidth\": 0, \"ticks\": \"\"}, \"colorscale\": [[0.0, \"#0d0887\"], [0.1111111111111111, \"#46039f\"], [0.2222222222222222, \"#7201a8\"], [0.3333333333333333, \"#9c179e\"], [0.4444444444444444, \"#bd3786\"], [0.5555555555555556, \"#d8576b\"], [0.6666666666666666, \"#ed7953\"], [0.7777777777777778, \"#fb9f3a\"], [0.8888888888888888, \"#fdca26\"], [1.0, \"#f0f921\"]], \"type\": \"histogram2dcontour\"}], \"mesh3d\": [{\"colorbar\": {\"outlinewidth\": 0, \"ticks\": \"\"}, \"type\": \"mesh3d\"}], \"parcoords\": [{\"line\": {\"colorbar\": {\"outlinewidth\": 0, \"ticks\": \"\"}}, \"type\": \"parcoords\"}], \"pie\": [{\"automargin\": true, \"type\": \"pie\"}], \"scatter\": [{\"marker\": {\"colorbar\": {\"outlinewidth\": 0, \"ticks\": \"\"}}, \"type\": \"scatter\"}], \"scatter3d\": [{\"line\": {\"colorbar\": {\"outlinewidth\": 0, \"ticks\": \"\"}}, \"marker\": {\"colorbar\": {\"outlinewidth\": 0, \"ticks\": \"\"}}, \"type\": \"scatter3d\"}], \"scattercarpet\": [{\"marker\": {\"colorbar\": {\"outlinewidth\": 0, \"ticks\": \"\"}}, \"type\": \"scattercarpet\"}], \"scattergeo\": [{\"marker\": {\"colorbar\": {\"outlinewidth\": 0, \"ticks\": \"\"}}, \"type\": \"scattergeo\"}], \"scattergl\": [{\"marker\": {\"colorbar\": {\"outlinewidth\": 0, \"ticks\": \"\"}}, \"type\": \"scattergl\"}], \"scattermapbox\": [{\"marker\": {\"colorbar\": {\"outlinewidth\": 0, \"ticks\": \"\"}}, \"type\": \"scattermapbox\"}], \"scatterpolar\": [{\"marker\": {\"colorbar\": {\"outlinewidth\": 0, \"ticks\": \"\"}}, \"type\": \"scatterpolar\"}], \"scatterpolargl\": [{\"marker\": {\"colorbar\": {\"outlinewidth\": 0, \"ticks\": \"\"}}, \"type\": \"scatterpolargl\"}], \"scatterternary\": [{\"marker\": {\"colorbar\": {\"outlinewidth\": 0, \"ticks\": \"\"}}, \"type\": \"scatterternary\"}], \"surface\": [{\"colorbar\": {\"outlinewidth\": 0, \"ticks\": \"\"}, \"colorscale\": [[0.0, \"#0d0887\"], [0.1111111111111111, \"#46039f\"], [0.2222222222222222, \"#7201a8\"], [0.3333333333333333, \"#9c179e\"], [0.4444444444444444, \"#bd3786\"], [0.5555555555555556, \"#d8576b\"], [0.6666666666666666, \"#ed7953\"], [0.7777777777777778, \"#fb9f3a\"], [0.8888888888888888, \"#fdca26\"], [1.0, \"#f0f921\"]], \"type\": \"surface\"}], \"table\": [{\"cells\": {\"fill\": {\"color\": \"#EBF0F8\"}, \"line\": {\"color\": \"white\"}}, \"header\": {\"fill\": {\"color\": \"#C8D4E3\"}, \"line\": {\"color\": \"white\"}}, \"type\": \"table\"}]}, \"layout\": {\"annotationdefaults\": {\"arrowcolor\": \"#2a3f5f\", \"arrowhead\": 0, \"arrowwidth\": 1}, \"coloraxis\": {\"colorbar\": {\"outlinewidth\": 0, \"ticks\": \"\"}}, \"colorscale\": {\"diverging\": [[0, \"#8e0152\"], [0.1, \"#c51b7d\"], [0.2, \"#de77ae\"], [0.3, \"#f1b6da\"], [0.4, \"#fde0ef\"], [0.5, \"#f7f7f7\"], [0.6, \"#e6f5d0\"], [0.7, \"#b8e186\"], [0.8, \"#7fbc41\"], [0.9, \"#4d9221\"], [1, \"#276419\"]], \"sequential\": [[0.0, \"#0d0887\"], [0.1111111111111111, \"#46039f\"], [0.2222222222222222, \"#7201a8\"], [0.3333333333333333, \"#9c179e\"], [0.4444444444444444, \"#bd3786\"], [0.5555555555555556, \"#d8576b\"], [0.6666666666666666, \"#ed7953\"], [0.7777777777777778, \"#fb9f3a\"], [0.8888888888888888, \"#fdca26\"], [1.0, \"#f0f921\"]], \"sequentialminus\": [[0.0, \"#0d0887\"], [0.1111111111111111, \"#46039f\"], [0.2222222222222222, \"#7201a8\"], [0.3333333333333333, \"#9c179e\"], [0.4444444444444444, \"#bd3786\"], [0.5555555555555556, \"#d8576b\"], [0.6666666666666666, \"#ed7953\"], [0.7777777777777778, \"#fb9f3a\"], [0.8888888888888888, \"#fdca26\"], [1.0, \"#f0f921\"]]}, \"colorway\": [\"#636efa\", \"#EF553B\", \"#00cc96\", \"#ab63fa\", \"#FFA15A\", \"#19d3f3\", \"#FF6692\", \"#B6E880\", \"#FF97FF\", \"#FECB52\"], \"font\": {\"color\": \"#2a3f5f\"}, \"geo\": {\"bgcolor\": \"white\", \"lakecolor\": \"white\", \"landcolor\": \"#E5ECF6\", \"showlakes\": true, \"showland\": true, \"subunitcolor\": \"white\"}, \"hoverlabel\": {\"align\": \"left\"}, \"hovermode\": \"closest\", \"mapbox\": {\"style\": \"light\"}, \"paper_bgcolor\": \"white\", \"plot_bgcolor\": \"#E5ECF6\", \"polar\": {\"angularaxis\": {\"gridcolor\": \"white\", \"linecolor\": \"white\", \"ticks\": \"\"}, \"bgcolor\": \"#E5ECF6\", \"radialaxis\": {\"gridcolor\": \"white\", \"linecolor\": \"white\", \"ticks\": \"\"}}, \"scene\": {\"xaxis\": {\"backgroundcolor\": \"#E5ECF6\", \"gridcolor\": \"white\", \"gridwidth\": 2, \"linecolor\": \"white\", \"showbackground\": true, \"ticks\": \"\", \"zerolinecolor\": \"white\"}, \"yaxis\": {\"backgroundcolor\": \"#E5ECF6\", \"gridcolor\": \"white\", \"gridwidth\": 2, \"linecolor\": \"white\", \"showbackground\": true, \"ticks\": \"\", \"zerolinecolor\": \"white\"}, \"zaxis\": {\"backgroundcolor\": \"#E5ECF6\", \"gridcolor\": \"white\", \"gridwidth\": 2, \"linecolor\": \"white\", \"showbackground\": true, \"ticks\": \"\", \"zerolinecolor\": \"white\"}}, \"shapedefaults\": {\"line\": {\"color\": \"#2a3f5f\"}}, \"ternary\": {\"aaxis\": {\"gridcolor\": \"white\", \"linecolor\": \"white\", \"ticks\": \"\"}, \"baxis\": {\"gridcolor\": \"white\", \"linecolor\": \"white\", \"ticks\": \"\"}, \"bgcolor\": \"#E5ECF6\", \"caxis\": {\"gridcolor\": \"white\", \"linecolor\": \"white\", \"ticks\": \"\"}}, \"title\": {\"x\": 0.05}, \"xaxis\": {\"automargin\": true, \"gridcolor\": \"white\", \"linecolor\": \"white\", \"ticks\": \"\", \"title\": {\"standoff\": 15}, \"zerolinecolor\": \"white\", \"zerolinewidth\": 2}, \"yaxis\": {\"automargin\": true, \"gridcolor\": \"white\", \"linecolor\": \"white\", \"ticks\": \"\", \"title\": {\"standoff\": 15}, \"zerolinecolor\": \"white\", \"zerolinewidth\": 2}}}, \"title\": {\"font\": {\"color\": \"#4D5663\"}}, \"xaxis\": {\"gridcolor\": \"#E1E5ED\", \"showgrid\": true, \"tickfont\": {\"color\": \"#4D5663\"}, \"title\": {\"font\": {\"color\": \"#4D5663\"}, \"text\": \"\"}, \"zerolinecolor\": \"#E1E5ED\"}, \"yaxis\": {\"gridcolor\": \"#E1E5ED\", \"showgrid\": true, \"tickfont\": {\"color\": \"#4D5663\"}, \"title\": {\"font\": {\"color\": \"#4D5663\"}, \"text\": \"\"}, \"zerolinecolor\": \"#E1E5ED\"}},                        {\"showLink\": true, \"linkText\": \"Export to plot.ly\", \"plotlyServerURL\": \"https://plot.ly\", \"responsive\": true}                    ).then(function(){\n",
       "                            \n",
       "var gd = document.getElementById('ff85d6d5-171a-4c5d-97e5-d0a558c09f75');\n",
       "var x = new MutationObserver(function (mutations, observer) {{\n",
       "        var display = window.getComputedStyle(gd).display;\n",
       "        if (!display || display === 'none') {{\n",
       "            console.log([gd, 'removed!']);\n",
       "            Plotly.purge(gd);\n",
       "            observer.disconnect();\n",
       "        }}\n",
       "}});\n",
       "\n",
       "// Listen for the removal of the full notebook cells\n",
       "var notebookContainer = gd.closest('#notebook-container');\n",
       "if (notebookContainer) {{\n",
       "    x.observe(notebookContainer, {childList: true});\n",
       "}}\n",
       "\n",
       "// Listen for the clearing of the current output cell\n",
       "var outputEl = gd.closest('.output');\n",
       "if (outputEl) {{\n",
       "    x.observe(outputEl, {childList: true});\n",
       "}}\n",
       "\n",
       "                        })                };                });            </script>        </div>"
      ]
     },
     "metadata": {},
     "output_type": "display_data"
    }
   ],
   "source": [
    "df.count().iplot(kind='bar')"
   ]
  },
  {
   "cell_type": "markdown",
   "metadata": {},
   "source": [
    "Boxplots"
   ]
  },
  {
   "cell_type": "code",
   "execution_count": 49,
   "metadata": {},
   "outputs": [
    {
     "data": {
      "application/vnd.plotly.v1+json": {
       "config": {
        "linkText": "Export to plot.ly",
        "plotlyServerURL": "https://plot.ly",
        "showLink": true
       },
       "data": [
        {
         "boxpoints": false,
         "line": {
          "width": 1.3
         },
         "marker": {
          "color": "rgba(255, 153, 51, 1.0)"
         },
         "name": "A",
         "orientation": "v",
         "type": "box",
         "y": [
          -0.33401795564492287,
          -0.8567502346979979,
          -0.10473055917119059,
          -0.9552750460806879,
          -1.615569955059547,
          0.45208443032962725,
          1.1521251322277608,
          0.745651691971453,
          -0.4096921983005491,
          -1.8286545981090672,
          1.1162488615338755,
          -0.23917946135104004,
          -0.41795746820050994,
          -0.6158286873263658,
          -0.16522357255275513,
          -1.1466897394803683,
          0.1899506944113523,
          -0.30428371295067236,
          -0.8377454443042902,
          1.0749209762017375,
          -0.5036507942437648,
          0.7477607300033207,
          -0.4581271281732457,
          0.5879507188974076,
          0.4030595873888752,
          0.27583707736362106,
          -1.1843996197262006,
          0.02289383390635474,
          -0.3403937018414992,
          -1.7166785587717857,
          0.4822370620456638,
          0.5200151191009494,
          -0.7064456411263597,
          0.2777649973811855,
          -0.38139840158046373,
          0.0012714620076879613,
          -0.8984831424792492,
          0.5163859344827737,
          0.028933774684512,
          0.8413131356335115,
          1.400019231180424,
          -0.2413195821291121,
          -0.6792104376259505,
          -0.09656771735802587,
          -0.6475198989307501,
          0.548223693326196,
          -1.3819837976275722,
          -1.6262595692515833,
          -2.316340334702603,
          0.0746851580412261,
          1.6607660314582249,
          0.6059296659896694,
          -0.32675390364252194,
          0.7473568118899233,
          1.2637003740836217,
          -1.4016416000087277,
          0.0028637618612219018,
          0.2625532363277476,
          -2.111665921077397,
          0.9344936629906027,
          -0.1633075239448629,
          0.5334083791568638,
          -0.11211496887969293,
          1.148058947229644,
          -0.6640245778390096,
          0.3429848358350742,
          -0.22979124826761954,
          -0.36396205591449277,
          0.8924054416145863,
          -0.0061315933942883444,
          0.8003321749012936,
          0.35447366860929735,
          -0.33541016878165686,
          1.2336292297481033,
          -0.7955181010405288,
          0.011086448208904488,
          0.27737192354778073,
          1.682760295203774,
          1.5706126536750737,
          -0.5022370702420386,
          -1.4829078545161825,
          -1.5550319602966496,
          -0.1113288955932639,
          -0.6683103896896104,
          -0.42907556378926476,
          0.9020594465600063,
          -1.0131553498783252,
          -0.02711901899847754,
          -0.30832841072807776,
          -0.42582943667482037,
          0.44336034515772516,
          1.1159664902530844,
          0.056746386041653184,
          -1.6172012143199634,
          -1.5755596256094238,
          0.1091926218659547,
          -0.5849546851871757,
          -1.4307737601208024,
          -0.33501558412825977,
          -0.1886428376261212
         ]
        },
        {
         "boxpoints": false,
         "line": {
          "width": 1.3
         },
         "marker": {
          "color": "rgba(55, 128, 191, 1.0)"
         },
         "name": "B",
         "orientation": "v",
         "type": "box",
         "y": [
          0.7876917141458819,
          -0.4927411666792617,
          1.0974937036873178,
          -0.4439206985018027,
          0.2887527016408452,
          1.6742941592395084,
          0.09769658941939971,
          -0.5725516723706708,
          -0.5492592727640042,
          -1.5202236019398916,
          0.38823943145541134,
          1.6282609740421874,
          0.7326277731686339,
          0.06730103330838098,
          0.3402060045322037,
          0.09507628974658346,
          -0.02434056897616973,
          -0.3543784939901299,
          -1.223788539698824,
          -0.6343497374288385,
          0.26653812477656896,
          1.438206680395697,
          0.2415253255836718,
          -0.5987723898434579,
          -0.9171915030653498,
          0.11207252291134627,
          0.05451867791386243,
          0.4112131470328786,
          0.44492768680055544,
          0.2518950357633279,
          1.2463146582630462,
          -0.2112880449759986,
          1.3866651715692133,
          -0.6856964980957535,
          -0.4222120528187373,
          1.1922204650983412,
          0.15401391008934873,
          -2.1054080496754954,
          0.022291737503580638,
          0.7897529100041379,
          -1.2690774934764053,
          -0.7350699839334449,
          -1.0471268941827443,
          -1.0153320689971657,
          0.78785482367279,
          0.7361749374278779,
          -1.1345914803012231,
          -0.5683363178024483,
          -0.49464389117558116,
          0.23422581647806803,
          -2.1553512566379696,
          -1.2433197111777519,
          -0.8198086705514108,
          -0.46962743588801903,
          -0.2882913723683333,
          0.8983233686389277,
          0.9084568051309245,
          -0.44221663833346375,
          1.0293957279524568,
          2.0421754421017866,
          0.03945373112628942,
          -0.2750148513970318,
          -1.2201128479118042,
          -0.1738405812640102,
          0.2875423811571659,
          -0.8738739689146106,
          0.7014107545116337,
          -2.3002964933232692,
          -0.6253456459787136,
          -1.8275246768702471,
          -0.15907550729462694,
          0.5844077990293167,
          -0.2301648650344321,
          0.33009928176921377,
          0.5445848145905013,
          0.5057947642888931,
          0.41536259213452914,
          -0.3776968113879913,
          -0.7157916944803,
          0.12712187178968135,
          0.3765080960387935,
          0.10454994680141004,
          -0.2067836441219874,
          -1.2982007775309201,
          0.8728751802177441,
          -0.4558648151654358,
          1.4143397838621108,
          -0.2283862758991108,
          -0.7885106007484821,
          -0.6237266472566988,
          0.03162986437150248,
          -0.212029724448196,
          -0.20608606868251564,
          -0.6031391322763106,
          0.2657646502926192,
          1.2832959415010545,
          0.47691329850658754,
          0.11495505177277747,
          1.8470207470600093,
          0.8959979991642596
         ]
        },
        {
         "boxpoints": false,
         "line": {
          "width": 1.3
         },
         "marker": {
          "color": "rgba(50, 171, 96, 1.0)"
         },
         "name": "C",
         "orientation": "v",
         "type": "box",
         "y": [
          0.10890878769720243,
          -0.6713626826884246,
          -0.8283248816466945,
          -0.39282402740141253,
          0.6977622699199653,
          0.2726902709017829,
          -0.733055647756976,
          -1.1769188858276907,
          0.5140440583698838,
          -0.5257997711549182,
          -0.5939913028444468,
          -1.0899920973102717,
          -1.1169496812268147,
          -0.06183448943431063,
          1.1920226620944019,
          0.3947340910429718,
          0.5165958715824404,
          -0.2532093271891566,
          -0.6229662667500819,
          -1.393246027853369,
          0.18626120369485305,
          -0.45703478164711936,
          -1.1010696049363926,
          -0.3494921184666258,
          -1.1599901840904236,
          -0.2668067273306687,
          0.5723653335982978,
          -0.510289270469568,
          0.4399836709351221,
          -1.3762717379296883,
          -0.24693364684247035,
          0.36514307526267437,
          1.7357873732423095,
          -0.45647718538009024,
          0.49518001829326896,
          0.2634835923908529,
          0.0641257741877574,
          0.19178971570842765,
          0.3442257007194484,
          1.3793889754152107,
          0.9206674912834298,
          -0.9983635840925854,
          -0.48464519386839716,
          -0.604114949438876,
          0.3162266874922444,
          1.544688940111044,
          -1.2088687769723159,
          1.5210922018964559,
          0.26449720263462595,
          0.27981023913330894,
          0.550732600434451,
          1.0794684031421604,
          -0.36412957770102033,
          0.5852166497226681,
          0.11759556183494221,
          0.14442260689725314,
          1.2991193258426927,
          -0.22388294041532714,
          -0.6433255684754923,
          -0.8119280263077251,
          -1.503443435559967,
          -0.28825355870732405,
          -0.31751555682564075,
          -0.458525472705331,
          -1.380610471676825,
          1.438621351833829,
          -0.5606915802597062,
          0.7858389274414597,
          -0.8197927399750891,
          0.5595279939993528,
          -0.5809829183529606,
          0.9724872248661316,
          0.09102921245140706,
          0.0022078382496239436,
          -0.43386260139667143,
          0.28357156020091284,
          0.2904148828301787,
          -0.17778428609997943,
          -0.6135457754406612,
          -0.9108405120118579,
          1.097663247217463,
          -0.690960694560415,
          -0.6228764988194392,
          1.10996227641887,
          1.1379791109474344,
          -0.11437215554158245,
          0.3153538449048185,
          0.7586464106613391,
          -0.6684773125147604,
          0.5850122060694447,
          -0.5757711110347066,
          1.6409042078109004,
          0.5516421100710179,
          1.4999661634677213,
          0.9203218164731303,
          -1.6853053860429534,
          0.000910264168236696,
          -0.6651748434595457,
          0.8569986581487651,
          1.354614590044158
         ]
        },
        {
         "boxpoints": false,
         "line": {
          "width": 1.3
         },
         "marker": {
          "color": "rgba(128, 0, 128, 1.0)"
         },
         "name": "D",
         "orientation": "v",
         "type": "box",
         "y": [
          -0.8725517699447418,
          2.2100037241425965,
          -0.18447471965609888,
          -1.0280709444626888,
          -0.038617173882581415,
          -2.037831386596425,
          -0.8488615903302171,
          -0.6557782591076858,
          -0.32961756737227393,
          0.46858892715420497,
          -0.6193317742938698,
          -1.1250056860244975,
          0.4278637007836617,
          1.063434945992072,
          -0.8755299552551474,
          -0.48299910943857494,
          -0.06416376223290995,
          0.6439306421881182,
          -1.2256664835126148,
          -0.30103394524184657,
          0.19307782761558323,
          2.2803572229868787,
          1.0231275280259986,
          -0.5841391390473818,
          0.7247137151293709,
          -0.7271142019678107,
          -0.31158219045913266,
          -0.8927003953161164,
          -0.33189112413778354,
          0.642608009982188,
          -0.30928011954721973,
          -0.28835655399055904,
          1.9617820968077664,
          -0.059083946274872734,
          -0.8397586751242981,
          -0.5469400318312613,
          1.0002451787591444,
          -0.4624189977132809,
          1.0359478047016608,
          1.4970943864754829,
          0.010265847176222464,
          -0.5325515770409451,
          -0.2619323131960744,
          0.5620808083620767,
          1.3465970674700758,
          0.7924164101004401,
          -1.3228732687102436,
          -2.0937669684216784,
          1.422580462553181,
          -1.7666536031136513,
          -0.8309110889937393,
          0.14896101418022792,
          -0.6048788067326643,
          0.990507987140074,
          0.8273624278890639,
          1.478465047435868,
          0.018240818333552865,
          0.9603234771883151,
          -0.6475970811866526,
          -0.8069625792560894,
          -1.1159667011257022,
          -0.8984065575657584,
          0.17500080669481868,
          0.5732201854852669,
          1.581026518189645,
          -0.5041301321733543,
          -0.6889010629106648,
          -1.0852170716238105,
          -0.7621635193632472,
          0.8655111236536761,
          -0.6030949305282863,
          0.03773427974266808,
          0.8363017380784022,
          -0.7956716401636215,
          -0.2689707486785275,
          1.44452335124853,
          -0.3633047011821962,
          0.6236380109920362,
          0.8612062010518985,
          -0.19720113191621397,
          0.28817124810430433,
          -0.49549746891339924,
          -1.3568447416162759,
          0.6661215460677381,
          -0.980701259135087,
          0.6734456045101622,
          1.155472647753716,
          0.8405667115006873,
          -3.677045545855245,
          -1.8116630686644002,
          -0.8384938069607375,
          -1.7508899135576048,
          0.5442700068805986,
          1.140123535318682,
          0.5944913448908976,
          0.15209708750178105,
          -0.31513758003187337,
          1.224183097982116,
          -0.6341506291455641,
          0.9888950057158389
         ]
        }
       ],
       "layout": {
        "legend": {
         "bgcolor": "#F5F6F9",
         "font": {
          "color": "#4D5663"
         }
        },
        "paper_bgcolor": "#F5F6F9",
        "plot_bgcolor": "#F5F6F9",
        "template": {
         "data": {
          "bar": [
           {
            "error_x": {
             "color": "#2a3f5f"
            },
            "error_y": {
             "color": "#2a3f5f"
            },
            "marker": {
             "line": {
              "color": "#E5ECF6",
              "width": 0.5
             }
            },
            "type": "bar"
           }
          ],
          "barpolar": [
           {
            "marker": {
             "line": {
              "color": "#E5ECF6",
              "width": 0.5
             }
            },
            "type": "barpolar"
           }
          ],
          "carpet": [
           {
            "aaxis": {
             "endlinecolor": "#2a3f5f",
             "gridcolor": "white",
             "linecolor": "white",
             "minorgridcolor": "white",
             "startlinecolor": "#2a3f5f"
            },
            "baxis": {
             "endlinecolor": "#2a3f5f",
             "gridcolor": "white",
             "linecolor": "white",
             "minorgridcolor": "white",
             "startlinecolor": "#2a3f5f"
            },
            "type": "carpet"
           }
          ],
          "choropleth": [
           {
            "colorbar": {
             "outlinewidth": 0,
             "ticks": ""
            },
            "type": "choropleth"
           }
          ],
          "contour": [
           {
            "colorbar": {
             "outlinewidth": 0,
             "ticks": ""
            },
            "colorscale": [
             [
              0,
              "#0d0887"
             ],
             [
              0.1111111111111111,
              "#46039f"
             ],
             [
              0.2222222222222222,
              "#7201a8"
             ],
             [
              0.3333333333333333,
              "#9c179e"
             ],
             [
              0.4444444444444444,
              "#bd3786"
             ],
             [
              0.5555555555555556,
              "#d8576b"
             ],
             [
              0.6666666666666666,
              "#ed7953"
             ],
             [
              0.7777777777777778,
              "#fb9f3a"
             ],
             [
              0.8888888888888888,
              "#fdca26"
             ],
             [
              1,
              "#f0f921"
             ]
            ],
            "type": "contour"
           }
          ],
          "contourcarpet": [
           {
            "colorbar": {
             "outlinewidth": 0,
             "ticks": ""
            },
            "type": "contourcarpet"
           }
          ],
          "heatmap": [
           {
            "colorbar": {
             "outlinewidth": 0,
             "ticks": ""
            },
            "colorscale": [
             [
              0,
              "#0d0887"
             ],
             [
              0.1111111111111111,
              "#46039f"
             ],
             [
              0.2222222222222222,
              "#7201a8"
             ],
             [
              0.3333333333333333,
              "#9c179e"
             ],
             [
              0.4444444444444444,
              "#bd3786"
             ],
             [
              0.5555555555555556,
              "#d8576b"
             ],
             [
              0.6666666666666666,
              "#ed7953"
             ],
             [
              0.7777777777777778,
              "#fb9f3a"
             ],
             [
              0.8888888888888888,
              "#fdca26"
             ],
             [
              1,
              "#f0f921"
             ]
            ],
            "type": "heatmap"
           }
          ],
          "heatmapgl": [
           {
            "colorbar": {
             "outlinewidth": 0,
             "ticks": ""
            },
            "colorscale": [
             [
              0,
              "#0d0887"
             ],
             [
              0.1111111111111111,
              "#46039f"
             ],
             [
              0.2222222222222222,
              "#7201a8"
             ],
             [
              0.3333333333333333,
              "#9c179e"
             ],
             [
              0.4444444444444444,
              "#bd3786"
             ],
             [
              0.5555555555555556,
              "#d8576b"
             ],
             [
              0.6666666666666666,
              "#ed7953"
             ],
             [
              0.7777777777777778,
              "#fb9f3a"
             ],
             [
              0.8888888888888888,
              "#fdca26"
             ],
             [
              1,
              "#f0f921"
             ]
            ],
            "type": "heatmapgl"
           }
          ],
          "histogram": [
           {
            "marker": {
             "colorbar": {
              "outlinewidth": 0,
              "ticks": ""
             }
            },
            "type": "histogram"
           }
          ],
          "histogram2d": [
           {
            "colorbar": {
             "outlinewidth": 0,
             "ticks": ""
            },
            "colorscale": [
             [
              0,
              "#0d0887"
             ],
             [
              0.1111111111111111,
              "#46039f"
             ],
             [
              0.2222222222222222,
              "#7201a8"
             ],
             [
              0.3333333333333333,
              "#9c179e"
             ],
             [
              0.4444444444444444,
              "#bd3786"
             ],
             [
              0.5555555555555556,
              "#d8576b"
             ],
             [
              0.6666666666666666,
              "#ed7953"
             ],
             [
              0.7777777777777778,
              "#fb9f3a"
             ],
             [
              0.8888888888888888,
              "#fdca26"
             ],
             [
              1,
              "#f0f921"
             ]
            ],
            "type": "histogram2d"
           }
          ],
          "histogram2dcontour": [
           {
            "colorbar": {
             "outlinewidth": 0,
             "ticks": ""
            },
            "colorscale": [
             [
              0,
              "#0d0887"
             ],
             [
              0.1111111111111111,
              "#46039f"
             ],
             [
              0.2222222222222222,
              "#7201a8"
             ],
             [
              0.3333333333333333,
              "#9c179e"
             ],
             [
              0.4444444444444444,
              "#bd3786"
             ],
             [
              0.5555555555555556,
              "#d8576b"
             ],
             [
              0.6666666666666666,
              "#ed7953"
             ],
             [
              0.7777777777777778,
              "#fb9f3a"
             ],
             [
              0.8888888888888888,
              "#fdca26"
             ],
             [
              1,
              "#f0f921"
             ]
            ],
            "type": "histogram2dcontour"
           }
          ],
          "mesh3d": [
           {
            "colorbar": {
             "outlinewidth": 0,
             "ticks": ""
            },
            "type": "mesh3d"
           }
          ],
          "parcoords": [
           {
            "line": {
             "colorbar": {
              "outlinewidth": 0,
              "ticks": ""
             }
            },
            "type": "parcoords"
           }
          ],
          "pie": [
           {
            "automargin": true,
            "type": "pie"
           }
          ],
          "scatter": [
           {
            "marker": {
             "colorbar": {
              "outlinewidth": 0,
              "ticks": ""
             }
            },
            "type": "scatter"
           }
          ],
          "scatter3d": [
           {
            "line": {
             "colorbar": {
              "outlinewidth": 0,
              "ticks": ""
             }
            },
            "marker": {
             "colorbar": {
              "outlinewidth": 0,
              "ticks": ""
             }
            },
            "type": "scatter3d"
           }
          ],
          "scattercarpet": [
           {
            "marker": {
             "colorbar": {
              "outlinewidth": 0,
              "ticks": ""
             }
            },
            "type": "scattercarpet"
           }
          ],
          "scattergeo": [
           {
            "marker": {
             "colorbar": {
              "outlinewidth": 0,
              "ticks": ""
             }
            },
            "type": "scattergeo"
           }
          ],
          "scattergl": [
           {
            "marker": {
             "colorbar": {
              "outlinewidth": 0,
              "ticks": ""
             }
            },
            "type": "scattergl"
           }
          ],
          "scattermapbox": [
           {
            "marker": {
             "colorbar": {
              "outlinewidth": 0,
              "ticks": ""
             }
            },
            "type": "scattermapbox"
           }
          ],
          "scatterpolar": [
           {
            "marker": {
             "colorbar": {
              "outlinewidth": 0,
              "ticks": ""
             }
            },
            "type": "scatterpolar"
           }
          ],
          "scatterpolargl": [
           {
            "marker": {
             "colorbar": {
              "outlinewidth": 0,
              "ticks": ""
             }
            },
            "type": "scatterpolargl"
           }
          ],
          "scatterternary": [
           {
            "marker": {
             "colorbar": {
              "outlinewidth": 0,
              "ticks": ""
             }
            },
            "type": "scatterternary"
           }
          ],
          "surface": [
           {
            "colorbar": {
             "outlinewidth": 0,
             "ticks": ""
            },
            "colorscale": [
             [
              0,
              "#0d0887"
             ],
             [
              0.1111111111111111,
              "#46039f"
             ],
             [
              0.2222222222222222,
              "#7201a8"
             ],
             [
              0.3333333333333333,
              "#9c179e"
             ],
             [
              0.4444444444444444,
              "#bd3786"
             ],
             [
              0.5555555555555556,
              "#d8576b"
             ],
             [
              0.6666666666666666,
              "#ed7953"
             ],
             [
              0.7777777777777778,
              "#fb9f3a"
             ],
             [
              0.8888888888888888,
              "#fdca26"
             ],
             [
              1,
              "#f0f921"
             ]
            ],
            "type": "surface"
           }
          ],
          "table": [
           {
            "cells": {
             "fill": {
              "color": "#EBF0F8"
             },
             "line": {
              "color": "white"
             }
            },
            "header": {
             "fill": {
              "color": "#C8D4E3"
             },
             "line": {
              "color": "white"
             }
            },
            "type": "table"
           }
          ]
         },
         "layout": {
          "annotationdefaults": {
           "arrowcolor": "#2a3f5f",
           "arrowhead": 0,
           "arrowwidth": 1
          },
          "coloraxis": {
           "colorbar": {
            "outlinewidth": 0,
            "ticks": ""
           }
          },
          "colorscale": {
           "diverging": [
            [
             0,
             "#8e0152"
            ],
            [
             0.1,
             "#c51b7d"
            ],
            [
             0.2,
             "#de77ae"
            ],
            [
             0.3,
             "#f1b6da"
            ],
            [
             0.4,
             "#fde0ef"
            ],
            [
             0.5,
             "#f7f7f7"
            ],
            [
             0.6,
             "#e6f5d0"
            ],
            [
             0.7,
             "#b8e186"
            ],
            [
             0.8,
             "#7fbc41"
            ],
            [
             0.9,
             "#4d9221"
            ],
            [
             1,
             "#276419"
            ]
           ],
           "sequential": [
            [
             0,
             "#0d0887"
            ],
            [
             0.1111111111111111,
             "#46039f"
            ],
            [
             0.2222222222222222,
             "#7201a8"
            ],
            [
             0.3333333333333333,
             "#9c179e"
            ],
            [
             0.4444444444444444,
             "#bd3786"
            ],
            [
             0.5555555555555556,
             "#d8576b"
            ],
            [
             0.6666666666666666,
             "#ed7953"
            ],
            [
             0.7777777777777778,
             "#fb9f3a"
            ],
            [
             0.8888888888888888,
             "#fdca26"
            ],
            [
             1,
             "#f0f921"
            ]
           ],
           "sequentialminus": [
            [
             0,
             "#0d0887"
            ],
            [
             0.1111111111111111,
             "#46039f"
            ],
            [
             0.2222222222222222,
             "#7201a8"
            ],
            [
             0.3333333333333333,
             "#9c179e"
            ],
            [
             0.4444444444444444,
             "#bd3786"
            ],
            [
             0.5555555555555556,
             "#d8576b"
            ],
            [
             0.6666666666666666,
             "#ed7953"
            ],
            [
             0.7777777777777778,
             "#fb9f3a"
            ],
            [
             0.8888888888888888,
             "#fdca26"
            ],
            [
             1,
             "#f0f921"
            ]
           ]
          },
          "colorway": [
           "#636efa",
           "#EF553B",
           "#00cc96",
           "#ab63fa",
           "#FFA15A",
           "#19d3f3",
           "#FF6692",
           "#B6E880",
           "#FF97FF",
           "#FECB52"
          ],
          "font": {
           "color": "#2a3f5f"
          },
          "geo": {
           "bgcolor": "white",
           "lakecolor": "white",
           "landcolor": "#E5ECF6",
           "showlakes": true,
           "showland": true,
           "subunitcolor": "white"
          },
          "hoverlabel": {
           "align": "left"
          },
          "hovermode": "closest",
          "mapbox": {
           "style": "light"
          },
          "paper_bgcolor": "white",
          "plot_bgcolor": "#E5ECF6",
          "polar": {
           "angularaxis": {
            "gridcolor": "white",
            "linecolor": "white",
            "ticks": ""
           },
           "bgcolor": "#E5ECF6",
           "radialaxis": {
            "gridcolor": "white",
            "linecolor": "white",
            "ticks": ""
           }
          },
          "scene": {
           "xaxis": {
            "backgroundcolor": "#E5ECF6",
            "gridcolor": "white",
            "gridwidth": 2,
            "linecolor": "white",
            "showbackground": true,
            "ticks": "",
            "zerolinecolor": "white"
           },
           "yaxis": {
            "backgroundcolor": "#E5ECF6",
            "gridcolor": "white",
            "gridwidth": 2,
            "linecolor": "white",
            "showbackground": true,
            "ticks": "",
            "zerolinecolor": "white"
           },
           "zaxis": {
            "backgroundcolor": "#E5ECF6",
            "gridcolor": "white",
            "gridwidth": 2,
            "linecolor": "white",
            "showbackground": true,
            "ticks": "",
            "zerolinecolor": "white"
           }
          },
          "shapedefaults": {
           "line": {
            "color": "#2a3f5f"
           }
          },
          "ternary": {
           "aaxis": {
            "gridcolor": "white",
            "linecolor": "white",
            "ticks": ""
           },
           "baxis": {
            "gridcolor": "white",
            "linecolor": "white",
            "ticks": ""
           },
           "bgcolor": "#E5ECF6",
           "caxis": {
            "gridcolor": "white",
            "linecolor": "white",
            "ticks": ""
           }
          },
          "title": {
           "x": 0.05
          },
          "xaxis": {
           "automargin": true,
           "gridcolor": "white",
           "linecolor": "white",
           "ticks": "",
           "title": {
            "standoff": 15
           },
           "zerolinecolor": "white",
           "zerolinewidth": 2
          },
          "yaxis": {
           "automargin": true,
           "gridcolor": "white",
           "linecolor": "white",
           "ticks": "",
           "title": {
            "standoff": 15
           },
           "zerolinecolor": "white",
           "zerolinewidth": 2
          }
         }
        },
        "title": {
         "font": {
          "color": "#4D5663"
         }
        },
        "xaxis": {
         "gridcolor": "#E1E5ED",
         "showgrid": true,
         "tickfont": {
          "color": "#4D5663"
         },
         "title": {
          "font": {
           "color": "#4D5663"
          },
          "text": ""
         },
         "zerolinecolor": "#E1E5ED"
        },
        "yaxis": {
         "gridcolor": "#E1E5ED",
         "showgrid": true,
         "tickfont": {
          "color": "#4D5663"
         },
         "title": {
          "font": {
           "color": "#4D5663"
          },
          "text": ""
         },
         "zerolinecolor": "#E1E5ED"
        }
       }
      },
      "text/html": [
       "<div>                            <div id=\"8c7e8acb-8ef9-4af7-909f-b08802ea5a3c\" class=\"plotly-graph-div\" style=\"height:525px; width:100%;\"></div>            <script type=\"text/javascript\">                require([\"plotly\"], function(Plotly) {                    window.PLOTLYENV=window.PLOTLYENV || {};\n",
       "                    window.PLOTLYENV.BASE_URL='https://plot.ly';                                    if (document.getElementById(\"8c7e8acb-8ef9-4af7-909f-b08802ea5a3c\")) {                    Plotly.newPlot(                        \"8c7e8acb-8ef9-4af7-909f-b08802ea5a3c\",                        [{\"boxpoints\": false, \"line\": {\"width\": 1.3}, \"marker\": {\"color\": \"rgba(255, 153, 51, 1.0)\"}, \"name\": \"A\", \"orientation\": \"v\", \"type\": \"box\", \"y\": [-0.33401795564492287, -0.8567502346979979, -0.10473055917119059, -0.9552750460806879, -1.615569955059547, 0.45208443032962725, 1.1521251322277608, 0.745651691971453, -0.4096921983005491, -1.8286545981090672, 1.1162488615338755, -0.23917946135104004, -0.41795746820050994, -0.6158286873263658, -0.16522357255275513, -1.1466897394803683, 0.1899506944113523, -0.30428371295067236, -0.8377454443042902, 1.0749209762017375, -0.5036507942437648, 0.7477607300033207, -0.4581271281732457, 0.5879507188974076, 0.4030595873888752, 0.27583707736362106, -1.1843996197262006, 0.02289383390635474, -0.3403937018414992, -1.7166785587717857, 0.4822370620456638, 0.5200151191009494, -0.7064456411263597, 0.2777649973811855, -0.38139840158046373, 0.0012714620076879613, -0.8984831424792492, 0.5163859344827737, 0.028933774684512, 0.8413131356335115, 1.400019231180424, -0.2413195821291121, -0.6792104376259505, -0.09656771735802587, -0.6475198989307501, 0.548223693326196, -1.3819837976275722, -1.6262595692515833, -2.316340334702603, 0.0746851580412261, 1.6607660314582249, 0.6059296659896694, -0.32675390364252194, 0.7473568118899233, 1.2637003740836217, -1.4016416000087277, 0.0028637618612219018, 0.2625532363277476, -2.111665921077397, 0.9344936629906027, -0.1633075239448629, 0.5334083791568638, -0.11211496887969293, 1.148058947229644, -0.6640245778390096, 0.3429848358350742, -0.22979124826761954, -0.36396205591449277, 0.8924054416145863, -0.0061315933942883444, 0.8003321749012936, 0.35447366860929735, -0.33541016878165686, 1.2336292297481033, -0.7955181010405288, 0.011086448208904488, 0.27737192354778073, 1.682760295203774, 1.5706126536750737, -0.5022370702420386, -1.4829078545161825, -1.5550319602966496, -0.1113288955932639, -0.6683103896896104, -0.42907556378926476, 0.9020594465600063, -1.0131553498783252, -0.02711901899847754, -0.30832841072807776, -0.42582943667482037, 0.44336034515772516, 1.1159664902530844, 0.056746386041653184, -1.6172012143199634, -1.5755596256094238, 0.1091926218659547, -0.5849546851871757, -1.4307737601208024, -0.33501558412825977, -0.1886428376261212]}, {\"boxpoints\": false, \"line\": {\"width\": 1.3}, \"marker\": {\"color\": \"rgba(55, 128, 191, 1.0)\"}, \"name\": \"B\", \"orientation\": \"v\", \"type\": \"box\", \"y\": [0.7876917141458819, -0.4927411666792617, 1.0974937036873178, -0.4439206985018027, 0.2887527016408452, 1.6742941592395084, 0.09769658941939971, -0.5725516723706708, -0.5492592727640042, -1.5202236019398916, 0.38823943145541134, 1.6282609740421874, 0.7326277731686339, 0.06730103330838098, 0.3402060045322037, 0.09507628974658346, -0.02434056897616973, -0.3543784939901299, -1.223788539698824, -0.6343497374288385, 0.26653812477656896, 1.438206680395697, 0.2415253255836718, -0.5987723898434579, -0.9171915030653498, 0.11207252291134627, 0.05451867791386243, 0.4112131470328786, 0.44492768680055544, 0.2518950357633279, 1.2463146582630462, -0.2112880449759986, 1.3866651715692133, -0.6856964980957535, -0.4222120528187373, 1.1922204650983412, 0.15401391008934873, -2.1054080496754954, 0.022291737503580638, 0.7897529100041379, -1.2690774934764053, -0.7350699839334449, -1.0471268941827443, -1.0153320689971657, 0.78785482367279, 0.7361749374278779, -1.1345914803012231, -0.5683363178024483, -0.49464389117558116, 0.23422581647806803, -2.1553512566379696, -1.2433197111777519, -0.8198086705514108, -0.46962743588801903, -0.2882913723683333, 0.8983233686389277, 0.9084568051309245, -0.44221663833346375, 1.0293957279524568, 2.0421754421017866, 0.03945373112628942, -0.2750148513970318, -1.2201128479118042, -0.1738405812640102, 0.2875423811571659, -0.8738739689146106, 0.7014107545116337, -2.3002964933232692, -0.6253456459787136, -1.8275246768702471, -0.15907550729462694, 0.5844077990293167, -0.2301648650344321, 0.33009928176921377, 0.5445848145905013, 0.5057947642888931, 0.41536259213452914, -0.3776968113879913, -0.7157916944803, 0.12712187178968135, 0.3765080960387935, 0.10454994680141004, -0.2067836441219874, -1.2982007775309201, 0.8728751802177441, -0.4558648151654358, 1.4143397838621108, -0.2283862758991108, -0.7885106007484821, -0.6237266472566988, 0.03162986437150248, -0.212029724448196, -0.20608606868251564, -0.6031391322763106, 0.2657646502926192, 1.2832959415010545, 0.47691329850658754, 0.11495505177277747, 1.8470207470600093, 0.8959979991642596]}, {\"boxpoints\": false, \"line\": {\"width\": 1.3}, \"marker\": {\"color\": \"rgba(50, 171, 96, 1.0)\"}, \"name\": \"C\", \"orientation\": \"v\", \"type\": \"box\", \"y\": [0.10890878769720243, -0.6713626826884246, -0.8283248816466945, -0.39282402740141253, 0.6977622699199653, 0.2726902709017829, -0.733055647756976, -1.1769188858276907, 0.5140440583698838, -0.5257997711549182, -0.5939913028444468, -1.0899920973102717, -1.1169496812268147, -0.06183448943431063, 1.1920226620944019, 0.3947340910429718, 0.5165958715824404, -0.2532093271891566, -0.6229662667500819, -1.393246027853369, 0.18626120369485305, -0.45703478164711936, -1.1010696049363926, -0.3494921184666258, -1.1599901840904236, -0.2668067273306687, 0.5723653335982978, -0.510289270469568, 0.4399836709351221, -1.3762717379296883, -0.24693364684247035, 0.36514307526267437, 1.7357873732423095, -0.45647718538009024, 0.49518001829326896, 0.2634835923908529, 0.0641257741877574, 0.19178971570842765, 0.3442257007194484, 1.3793889754152107, 0.9206674912834298, -0.9983635840925854, -0.48464519386839716, -0.604114949438876, 0.3162266874922444, 1.544688940111044, -1.2088687769723159, 1.5210922018964559, 0.26449720263462595, 0.27981023913330894, 0.550732600434451, 1.0794684031421604, -0.36412957770102033, 0.5852166497226681, 0.11759556183494221, 0.14442260689725314, 1.2991193258426927, -0.22388294041532714, -0.6433255684754923, -0.8119280263077251, -1.503443435559967, -0.28825355870732405, -0.31751555682564075, -0.458525472705331, -1.380610471676825, 1.438621351833829, -0.5606915802597062, 0.7858389274414597, -0.8197927399750891, 0.5595279939993528, -0.5809829183529606, 0.9724872248661316, 0.09102921245140706, 0.0022078382496239436, -0.43386260139667143, 0.28357156020091284, 0.2904148828301787, -0.17778428609997943, -0.6135457754406612, -0.9108405120118579, 1.097663247217463, -0.690960694560415, -0.6228764988194392, 1.10996227641887, 1.1379791109474344, -0.11437215554158245, 0.3153538449048185, 0.7586464106613391, -0.6684773125147604, 0.5850122060694447, -0.5757711110347066, 1.6409042078109004, 0.5516421100710179, 1.4999661634677213, 0.9203218164731303, -1.6853053860429534, 0.000910264168236696, -0.6651748434595457, 0.8569986581487651, 1.354614590044158]}, {\"boxpoints\": false, \"line\": {\"width\": 1.3}, \"marker\": {\"color\": \"rgba(128, 0, 128, 1.0)\"}, \"name\": \"D\", \"orientation\": \"v\", \"type\": \"box\", \"y\": [-0.8725517699447418, 2.2100037241425965, -0.18447471965609888, -1.0280709444626888, -0.038617173882581415, -2.037831386596425, -0.8488615903302171, -0.6557782591076858, -0.32961756737227393, 0.46858892715420497, -0.6193317742938698, -1.1250056860244975, 0.4278637007836617, 1.063434945992072, -0.8755299552551474, -0.48299910943857494, -0.06416376223290995, 0.6439306421881182, -1.2256664835126148, -0.30103394524184657, 0.19307782761558323, 2.2803572229868787, 1.0231275280259986, -0.5841391390473818, 0.7247137151293709, -0.7271142019678107, -0.31158219045913266, -0.8927003953161164, -0.33189112413778354, 0.642608009982188, -0.30928011954721973, -0.28835655399055904, 1.9617820968077664, -0.059083946274872734, -0.8397586751242981, -0.5469400318312613, 1.0002451787591444, -0.4624189977132809, 1.0359478047016608, 1.4970943864754829, 0.010265847176222464, -0.5325515770409451, -0.2619323131960744, 0.5620808083620767, 1.3465970674700758, 0.7924164101004401, -1.3228732687102436, -2.0937669684216784, 1.422580462553181, -1.7666536031136513, -0.8309110889937393, 0.14896101418022792, -0.6048788067326643, 0.990507987140074, 0.8273624278890639, 1.478465047435868, 0.018240818333552865, 0.9603234771883151, -0.6475970811866526, -0.8069625792560894, -1.1159667011257022, -0.8984065575657584, 0.17500080669481868, 0.5732201854852669, 1.581026518189645, -0.5041301321733543, -0.6889010629106648, -1.0852170716238105, -0.7621635193632472, 0.8655111236536761, -0.6030949305282863, 0.03773427974266808, 0.8363017380784022, -0.7956716401636215, -0.2689707486785275, 1.44452335124853, -0.3633047011821962, 0.6236380109920362, 0.8612062010518985, -0.19720113191621397, 0.28817124810430433, -0.49549746891339924, -1.3568447416162759, 0.6661215460677381, -0.980701259135087, 0.6734456045101622, 1.155472647753716, 0.8405667115006873, -3.677045545855245, -1.8116630686644002, -0.8384938069607375, -1.7508899135576048, 0.5442700068805986, 1.140123535318682, 0.5944913448908976, 0.15209708750178105, -0.31513758003187337, 1.224183097982116, -0.6341506291455641, 0.9888950057158389]}],                        {\"legend\": {\"bgcolor\": \"#F5F6F9\", \"font\": {\"color\": \"#4D5663\"}}, \"paper_bgcolor\": \"#F5F6F9\", \"plot_bgcolor\": \"#F5F6F9\", \"template\": {\"data\": {\"bar\": [{\"error_x\": {\"color\": \"#2a3f5f\"}, \"error_y\": {\"color\": \"#2a3f5f\"}, \"marker\": {\"line\": {\"color\": \"#E5ECF6\", \"width\": 0.5}}, \"type\": \"bar\"}], \"barpolar\": [{\"marker\": {\"line\": {\"color\": \"#E5ECF6\", \"width\": 0.5}}, \"type\": \"barpolar\"}], \"carpet\": [{\"aaxis\": {\"endlinecolor\": \"#2a3f5f\", \"gridcolor\": \"white\", \"linecolor\": \"white\", \"minorgridcolor\": \"white\", \"startlinecolor\": \"#2a3f5f\"}, \"baxis\": {\"endlinecolor\": \"#2a3f5f\", \"gridcolor\": \"white\", \"linecolor\": \"white\", \"minorgridcolor\": \"white\", \"startlinecolor\": \"#2a3f5f\"}, \"type\": \"carpet\"}], \"choropleth\": [{\"colorbar\": {\"outlinewidth\": 0, \"ticks\": \"\"}, \"type\": \"choropleth\"}], \"contour\": [{\"colorbar\": {\"outlinewidth\": 0, \"ticks\": \"\"}, \"colorscale\": [[0.0, \"#0d0887\"], [0.1111111111111111, \"#46039f\"], [0.2222222222222222, \"#7201a8\"], [0.3333333333333333, \"#9c179e\"], [0.4444444444444444, \"#bd3786\"], [0.5555555555555556, \"#d8576b\"], [0.6666666666666666, \"#ed7953\"], [0.7777777777777778, \"#fb9f3a\"], [0.8888888888888888, \"#fdca26\"], [1.0, \"#f0f921\"]], \"type\": \"contour\"}], \"contourcarpet\": [{\"colorbar\": {\"outlinewidth\": 0, \"ticks\": \"\"}, \"type\": \"contourcarpet\"}], \"heatmap\": [{\"colorbar\": {\"outlinewidth\": 0, \"ticks\": \"\"}, \"colorscale\": [[0.0, \"#0d0887\"], [0.1111111111111111, \"#46039f\"], [0.2222222222222222, \"#7201a8\"], [0.3333333333333333, \"#9c179e\"], [0.4444444444444444, \"#bd3786\"], [0.5555555555555556, \"#d8576b\"], [0.6666666666666666, \"#ed7953\"], [0.7777777777777778, \"#fb9f3a\"], [0.8888888888888888, \"#fdca26\"], [1.0, \"#f0f921\"]], \"type\": \"heatmap\"}], \"heatmapgl\": [{\"colorbar\": {\"outlinewidth\": 0, \"ticks\": \"\"}, \"colorscale\": [[0.0, \"#0d0887\"], [0.1111111111111111, \"#46039f\"], [0.2222222222222222, \"#7201a8\"], [0.3333333333333333, \"#9c179e\"], [0.4444444444444444, \"#bd3786\"], [0.5555555555555556, \"#d8576b\"], [0.6666666666666666, \"#ed7953\"], [0.7777777777777778, \"#fb9f3a\"], [0.8888888888888888, \"#fdca26\"], [1.0, \"#f0f921\"]], \"type\": \"heatmapgl\"}], \"histogram\": [{\"marker\": {\"colorbar\": {\"outlinewidth\": 0, \"ticks\": \"\"}}, \"type\": \"histogram\"}], \"histogram2d\": [{\"colorbar\": {\"outlinewidth\": 0, \"ticks\": \"\"}, \"colorscale\": [[0.0, \"#0d0887\"], [0.1111111111111111, \"#46039f\"], [0.2222222222222222, \"#7201a8\"], [0.3333333333333333, \"#9c179e\"], [0.4444444444444444, \"#bd3786\"], [0.5555555555555556, \"#d8576b\"], [0.6666666666666666, \"#ed7953\"], [0.7777777777777778, \"#fb9f3a\"], [0.8888888888888888, \"#fdca26\"], [1.0, \"#f0f921\"]], \"type\": \"histogram2d\"}], \"histogram2dcontour\": [{\"colorbar\": {\"outlinewidth\": 0, \"ticks\": \"\"}, \"colorscale\": [[0.0, \"#0d0887\"], [0.1111111111111111, \"#46039f\"], [0.2222222222222222, \"#7201a8\"], [0.3333333333333333, \"#9c179e\"], [0.4444444444444444, \"#bd3786\"], [0.5555555555555556, \"#d8576b\"], [0.6666666666666666, \"#ed7953\"], [0.7777777777777778, \"#fb9f3a\"], [0.8888888888888888, \"#fdca26\"], [1.0, \"#f0f921\"]], \"type\": \"histogram2dcontour\"}], \"mesh3d\": [{\"colorbar\": {\"outlinewidth\": 0, \"ticks\": \"\"}, \"type\": \"mesh3d\"}], \"parcoords\": [{\"line\": {\"colorbar\": {\"outlinewidth\": 0, \"ticks\": \"\"}}, \"type\": \"parcoords\"}], \"pie\": [{\"automargin\": true, \"type\": \"pie\"}], \"scatter\": [{\"marker\": {\"colorbar\": {\"outlinewidth\": 0, \"ticks\": \"\"}}, \"type\": \"scatter\"}], \"scatter3d\": [{\"line\": {\"colorbar\": {\"outlinewidth\": 0, \"ticks\": \"\"}}, \"marker\": {\"colorbar\": {\"outlinewidth\": 0, \"ticks\": \"\"}}, \"type\": \"scatter3d\"}], \"scattercarpet\": [{\"marker\": {\"colorbar\": {\"outlinewidth\": 0, \"ticks\": \"\"}}, \"type\": \"scattercarpet\"}], \"scattergeo\": [{\"marker\": {\"colorbar\": {\"outlinewidth\": 0, \"ticks\": \"\"}}, \"type\": \"scattergeo\"}], \"scattergl\": [{\"marker\": {\"colorbar\": {\"outlinewidth\": 0, \"ticks\": \"\"}}, \"type\": \"scattergl\"}], \"scattermapbox\": [{\"marker\": {\"colorbar\": {\"outlinewidth\": 0, \"ticks\": \"\"}}, \"type\": \"scattermapbox\"}], \"scatterpolar\": [{\"marker\": {\"colorbar\": {\"outlinewidth\": 0, \"ticks\": \"\"}}, \"type\": \"scatterpolar\"}], \"scatterpolargl\": [{\"marker\": {\"colorbar\": {\"outlinewidth\": 0, \"ticks\": \"\"}}, \"type\": \"scatterpolargl\"}], \"scatterternary\": [{\"marker\": {\"colorbar\": {\"outlinewidth\": 0, \"ticks\": \"\"}}, \"type\": \"scatterternary\"}], \"surface\": [{\"colorbar\": {\"outlinewidth\": 0, \"ticks\": \"\"}, \"colorscale\": [[0.0, \"#0d0887\"], [0.1111111111111111, \"#46039f\"], [0.2222222222222222, \"#7201a8\"], [0.3333333333333333, \"#9c179e\"], [0.4444444444444444, \"#bd3786\"], [0.5555555555555556, \"#d8576b\"], [0.6666666666666666, \"#ed7953\"], [0.7777777777777778, \"#fb9f3a\"], [0.8888888888888888, \"#fdca26\"], [1.0, \"#f0f921\"]], \"type\": \"surface\"}], \"table\": [{\"cells\": {\"fill\": {\"color\": \"#EBF0F8\"}, \"line\": {\"color\": \"white\"}}, \"header\": {\"fill\": {\"color\": \"#C8D4E3\"}, \"line\": {\"color\": \"white\"}}, \"type\": \"table\"}]}, \"layout\": {\"annotationdefaults\": {\"arrowcolor\": \"#2a3f5f\", \"arrowhead\": 0, \"arrowwidth\": 1}, \"coloraxis\": {\"colorbar\": {\"outlinewidth\": 0, \"ticks\": \"\"}}, \"colorscale\": {\"diverging\": [[0, \"#8e0152\"], [0.1, \"#c51b7d\"], [0.2, \"#de77ae\"], [0.3, \"#f1b6da\"], [0.4, \"#fde0ef\"], [0.5, \"#f7f7f7\"], [0.6, \"#e6f5d0\"], [0.7, \"#b8e186\"], [0.8, \"#7fbc41\"], [0.9, \"#4d9221\"], [1, \"#276419\"]], \"sequential\": [[0.0, \"#0d0887\"], [0.1111111111111111, \"#46039f\"], [0.2222222222222222, \"#7201a8\"], [0.3333333333333333, \"#9c179e\"], [0.4444444444444444, \"#bd3786\"], [0.5555555555555556, \"#d8576b\"], [0.6666666666666666, \"#ed7953\"], [0.7777777777777778, \"#fb9f3a\"], [0.8888888888888888, \"#fdca26\"], [1.0, \"#f0f921\"]], \"sequentialminus\": [[0.0, \"#0d0887\"], [0.1111111111111111, \"#46039f\"], [0.2222222222222222, \"#7201a8\"], [0.3333333333333333, \"#9c179e\"], [0.4444444444444444, \"#bd3786\"], [0.5555555555555556, \"#d8576b\"], [0.6666666666666666, \"#ed7953\"], [0.7777777777777778, \"#fb9f3a\"], [0.8888888888888888, \"#fdca26\"], [1.0, \"#f0f921\"]]}, \"colorway\": [\"#636efa\", \"#EF553B\", \"#00cc96\", \"#ab63fa\", \"#FFA15A\", \"#19d3f3\", \"#FF6692\", \"#B6E880\", \"#FF97FF\", \"#FECB52\"], \"font\": {\"color\": \"#2a3f5f\"}, \"geo\": {\"bgcolor\": \"white\", \"lakecolor\": \"white\", \"landcolor\": \"#E5ECF6\", \"showlakes\": true, \"showland\": true, \"subunitcolor\": \"white\"}, \"hoverlabel\": {\"align\": \"left\"}, \"hovermode\": \"closest\", \"mapbox\": {\"style\": \"light\"}, \"paper_bgcolor\": \"white\", \"plot_bgcolor\": \"#E5ECF6\", \"polar\": {\"angularaxis\": {\"gridcolor\": \"white\", \"linecolor\": \"white\", \"ticks\": \"\"}, \"bgcolor\": \"#E5ECF6\", \"radialaxis\": {\"gridcolor\": \"white\", \"linecolor\": \"white\", \"ticks\": \"\"}}, \"scene\": {\"xaxis\": {\"backgroundcolor\": \"#E5ECF6\", \"gridcolor\": \"white\", \"gridwidth\": 2, \"linecolor\": \"white\", \"showbackground\": true, \"ticks\": \"\", \"zerolinecolor\": \"white\"}, \"yaxis\": {\"backgroundcolor\": \"#E5ECF6\", \"gridcolor\": \"white\", \"gridwidth\": 2, \"linecolor\": \"white\", \"showbackground\": true, \"ticks\": \"\", \"zerolinecolor\": \"white\"}, \"zaxis\": {\"backgroundcolor\": \"#E5ECF6\", \"gridcolor\": \"white\", \"gridwidth\": 2, \"linecolor\": \"white\", \"showbackground\": true, \"ticks\": \"\", \"zerolinecolor\": \"white\"}}, \"shapedefaults\": {\"line\": {\"color\": \"#2a3f5f\"}}, \"ternary\": {\"aaxis\": {\"gridcolor\": \"white\", \"linecolor\": \"white\", \"ticks\": \"\"}, \"baxis\": {\"gridcolor\": \"white\", \"linecolor\": \"white\", \"ticks\": \"\"}, \"bgcolor\": \"#E5ECF6\", \"caxis\": {\"gridcolor\": \"white\", \"linecolor\": \"white\", \"ticks\": \"\"}}, \"title\": {\"x\": 0.05}, \"xaxis\": {\"automargin\": true, \"gridcolor\": \"white\", \"linecolor\": \"white\", \"ticks\": \"\", \"title\": {\"standoff\": 15}, \"zerolinecolor\": \"white\", \"zerolinewidth\": 2}, \"yaxis\": {\"automargin\": true, \"gridcolor\": \"white\", \"linecolor\": \"white\", \"ticks\": \"\", \"title\": {\"standoff\": 15}, \"zerolinecolor\": \"white\", \"zerolinewidth\": 2}}}, \"title\": {\"font\": {\"color\": \"#4D5663\"}}, \"xaxis\": {\"gridcolor\": \"#E1E5ED\", \"showgrid\": true, \"tickfont\": {\"color\": \"#4D5663\"}, \"title\": {\"font\": {\"color\": \"#4D5663\"}, \"text\": \"\"}, \"zerolinecolor\": \"#E1E5ED\"}, \"yaxis\": {\"gridcolor\": \"#E1E5ED\", \"showgrid\": true, \"tickfont\": {\"color\": \"#4D5663\"}, \"title\": {\"font\": {\"color\": \"#4D5663\"}, \"text\": \"\"}, \"zerolinecolor\": \"#E1E5ED\"}},                        {\"showLink\": true, \"linkText\": \"Export to plot.ly\", \"plotlyServerURL\": \"https://plot.ly\", \"responsive\": true}                    ).then(function(){\n",
       "                            \n",
       "var gd = document.getElementById('8c7e8acb-8ef9-4af7-909f-b08802ea5a3c');\n",
       "var x = new MutationObserver(function (mutations, observer) {{\n",
       "        var display = window.getComputedStyle(gd).display;\n",
       "        if (!display || display === 'none') {{\n",
       "            console.log([gd, 'removed!']);\n",
       "            Plotly.purge(gd);\n",
       "            observer.disconnect();\n",
       "        }}\n",
       "}});\n",
       "\n",
       "// Listen for the removal of the full notebook cells\n",
       "var notebookContainer = gd.closest('#notebook-container');\n",
       "if (notebookContainer) {{\n",
       "    x.observe(notebookContainer, {childList: true});\n",
       "}}\n",
       "\n",
       "// Listen for the clearing of the current output cell\n",
       "var outputEl = gd.closest('.output');\n",
       "if (outputEl) {{\n",
       "    x.observe(outputEl, {childList: true});\n",
       "}}\n",
       "\n",
       "                        })                };                });            </script>        </div>"
      ]
     },
     "metadata": {},
     "output_type": "display_data"
    }
   ],
   "source": [
    "df.iplot(kind='box')"
   ]
  },
  {
   "cell_type": "code",
   "execution_count": null,
   "metadata": {},
   "outputs": [],
   "source": []
  },
  {
   "cell_type": "markdown",
   "metadata": {},
   "source": [
    "3d Surface"
   ]
  },
  {
   "cell_type": "code",
   "execution_count": 75,
   "metadata": {},
   "outputs": [],
   "source": [
    "df3=pd.DataFrame({\n",
    "    'x':[1,2,3,4,5],\n",
    "    'y':[10,20,30,40,50],\n",
    "    'z':[5,4,3,2,1]\n",
    "\n",
    "    \n",
    "    \n",
    "})"
   ]
  },
  {
   "cell_type": "code",
   "execution_count": null,
   "metadata": {},
   "outputs": [],
   "source": []
  },
  {
   "cell_type": "code",
   "execution_count": 76,
   "metadata": {},
   "outputs": [
    {
     "data": {
      "text/html": [
       "<div>\n",
       "<style scoped>\n",
       "    .dataframe tbody tr th:only-of-type {\n",
       "        vertical-align: middle;\n",
       "    }\n",
       "\n",
       "    .dataframe tbody tr th {\n",
       "        vertical-align: top;\n",
       "    }\n",
       "\n",
       "    .dataframe thead th {\n",
       "        text-align: right;\n",
       "    }\n",
       "</style>\n",
       "<table border=\"1\" class=\"dataframe\">\n",
       "  <thead>\n",
       "    <tr style=\"text-align: right;\">\n",
       "      <th></th>\n",
       "      <th>x</th>\n",
       "      <th>y</th>\n",
       "      <th>z</th>\n",
       "    </tr>\n",
       "  </thead>\n",
       "  <tbody>\n",
       "    <tr>\n",
       "      <th>0</th>\n",
       "      <td>1</td>\n",
       "      <td>10</td>\n",
       "      <td>5</td>\n",
       "    </tr>\n",
       "    <tr>\n",
       "      <th>1</th>\n",
       "      <td>2</td>\n",
       "      <td>20</td>\n",
       "      <td>4</td>\n",
       "    </tr>\n",
       "    <tr>\n",
       "      <th>2</th>\n",
       "      <td>3</td>\n",
       "      <td>30</td>\n",
       "      <td>3</td>\n",
       "    </tr>\n",
       "    <tr>\n",
       "      <th>3</th>\n",
       "      <td>4</td>\n",
       "      <td>40</td>\n",
       "      <td>2</td>\n",
       "    </tr>\n",
       "    <tr>\n",
       "      <th>4</th>\n",
       "      <td>5</td>\n",
       "      <td>50</td>\n",
       "      <td>1</td>\n",
       "    </tr>\n",
       "  </tbody>\n",
       "</table>\n",
       "</div>"
      ],
      "text/plain": [
       "   x   y  z\n",
       "0  1  10  5\n",
       "1  2  20  4\n",
       "2  3  30  3\n",
       "3  4  40  2\n",
       "4  5  50  1"
      ]
     },
     "execution_count": 76,
     "metadata": {},
     "output_type": "execute_result"
    }
   ],
   "source": [
    "df3 "
   ]
  },
  {
   "cell_type": "code",
   "execution_count": 77,
   "metadata": {},
   "outputs": [
    {
     "data": {
      "application/vnd.plotly.v1+json": {
       "config": {
        "linkText": "Export to plot.ly",
        "plotlyServerURL": "https://plot.ly",
        "showLink": true
       },
       "data": [
        {
         "colorscale": [
          [
           0,
           "rgb(165,0,38)"
          ],
          [
           0.1,
           "rgb(215,48,39)"
          ],
          [
           0.2,
           "rgb(244,109,67)"
          ],
          [
           0.3,
           "rgb(253,174,97)"
          ],
          [
           0.4,
           "rgb(254,224,144)"
          ],
          [
           0.5,
           "rgb(255,255,191)"
          ],
          [
           0.6,
           "rgb(224,243,248)"
          ],
          [
           0.7,
           "rgb(171,217,233)"
          ],
          [
           0.8,
           "rgb(116,173,209)"
          ],
          [
           0.9,
           "rgb(69,117,180)"
          ],
          [
           1,
           "rgb(49,54,149)"
          ]
         ],
         "type": "surface",
         "x": [
          0,
          1,
          2,
          3,
          4
         ],
         "y": [
          "x",
          "y",
          "z"
         ],
         "z": [
          [
           1,
           2,
           3,
           4,
           5
          ],
          [
           10,
           20,
           30,
           40,
           50
          ],
          [
           5,
           4,
           3,
           2,
           1
          ]
         ]
        }
       ],
       "layout": {
        "legend": {
         "bgcolor": "#F5F6F9",
         "font": {
          "color": "#4D5663"
         }
        },
        "paper_bgcolor": "#F5F6F9",
        "plot_bgcolor": "#F5F6F9",
        "template": {
         "data": {
          "bar": [
           {
            "error_x": {
             "color": "#2a3f5f"
            },
            "error_y": {
             "color": "#2a3f5f"
            },
            "marker": {
             "line": {
              "color": "#E5ECF6",
              "width": 0.5
             }
            },
            "type": "bar"
           }
          ],
          "barpolar": [
           {
            "marker": {
             "line": {
              "color": "#E5ECF6",
              "width": 0.5
             }
            },
            "type": "barpolar"
           }
          ],
          "carpet": [
           {
            "aaxis": {
             "endlinecolor": "#2a3f5f",
             "gridcolor": "white",
             "linecolor": "white",
             "minorgridcolor": "white",
             "startlinecolor": "#2a3f5f"
            },
            "baxis": {
             "endlinecolor": "#2a3f5f",
             "gridcolor": "white",
             "linecolor": "white",
             "minorgridcolor": "white",
             "startlinecolor": "#2a3f5f"
            },
            "type": "carpet"
           }
          ],
          "choropleth": [
           {
            "colorbar": {
             "outlinewidth": 0,
             "ticks": ""
            },
            "type": "choropleth"
           }
          ],
          "contour": [
           {
            "colorbar": {
             "outlinewidth": 0,
             "ticks": ""
            },
            "colorscale": [
             [
              0,
              "#0d0887"
             ],
             [
              0.1111111111111111,
              "#46039f"
             ],
             [
              0.2222222222222222,
              "#7201a8"
             ],
             [
              0.3333333333333333,
              "#9c179e"
             ],
             [
              0.4444444444444444,
              "#bd3786"
             ],
             [
              0.5555555555555556,
              "#d8576b"
             ],
             [
              0.6666666666666666,
              "#ed7953"
             ],
             [
              0.7777777777777778,
              "#fb9f3a"
             ],
             [
              0.8888888888888888,
              "#fdca26"
             ],
             [
              1,
              "#f0f921"
             ]
            ],
            "type": "contour"
           }
          ],
          "contourcarpet": [
           {
            "colorbar": {
             "outlinewidth": 0,
             "ticks": ""
            },
            "type": "contourcarpet"
           }
          ],
          "heatmap": [
           {
            "colorbar": {
             "outlinewidth": 0,
             "ticks": ""
            },
            "colorscale": [
             [
              0,
              "#0d0887"
             ],
             [
              0.1111111111111111,
              "#46039f"
             ],
             [
              0.2222222222222222,
              "#7201a8"
             ],
             [
              0.3333333333333333,
              "#9c179e"
             ],
             [
              0.4444444444444444,
              "#bd3786"
             ],
             [
              0.5555555555555556,
              "#d8576b"
             ],
             [
              0.6666666666666666,
              "#ed7953"
             ],
             [
              0.7777777777777778,
              "#fb9f3a"
             ],
             [
              0.8888888888888888,
              "#fdca26"
             ],
             [
              1,
              "#f0f921"
             ]
            ],
            "type": "heatmap"
           }
          ],
          "heatmapgl": [
           {
            "colorbar": {
             "outlinewidth": 0,
             "ticks": ""
            },
            "colorscale": [
             [
              0,
              "#0d0887"
             ],
             [
              0.1111111111111111,
              "#46039f"
             ],
             [
              0.2222222222222222,
              "#7201a8"
             ],
             [
              0.3333333333333333,
              "#9c179e"
             ],
             [
              0.4444444444444444,
              "#bd3786"
             ],
             [
              0.5555555555555556,
              "#d8576b"
             ],
             [
              0.6666666666666666,
              "#ed7953"
             ],
             [
              0.7777777777777778,
              "#fb9f3a"
             ],
             [
              0.8888888888888888,
              "#fdca26"
             ],
             [
              1,
              "#f0f921"
             ]
            ],
            "type": "heatmapgl"
           }
          ],
          "histogram": [
           {
            "marker": {
             "colorbar": {
              "outlinewidth": 0,
              "ticks": ""
             }
            },
            "type": "histogram"
           }
          ],
          "histogram2d": [
           {
            "colorbar": {
             "outlinewidth": 0,
             "ticks": ""
            },
            "colorscale": [
             [
              0,
              "#0d0887"
             ],
             [
              0.1111111111111111,
              "#46039f"
             ],
             [
              0.2222222222222222,
              "#7201a8"
             ],
             [
              0.3333333333333333,
              "#9c179e"
             ],
             [
              0.4444444444444444,
              "#bd3786"
             ],
             [
              0.5555555555555556,
              "#d8576b"
             ],
             [
              0.6666666666666666,
              "#ed7953"
             ],
             [
              0.7777777777777778,
              "#fb9f3a"
             ],
             [
              0.8888888888888888,
              "#fdca26"
             ],
             [
              1,
              "#f0f921"
             ]
            ],
            "type": "histogram2d"
           }
          ],
          "histogram2dcontour": [
           {
            "colorbar": {
             "outlinewidth": 0,
             "ticks": ""
            },
            "colorscale": [
             [
              0,
              "#0d0887"
             ],
             [
              0.1111111111111111,
              "#46039f"
             ],
             [
              0.2222222222222222,
              "#7201a8"
             ],
             [
              0.3333333333333333,
              "#9c179e"
             ],
             [
              0.4444444444444444,
              "#bd3786"
             ],
             [
              0.5555555555555556,
              "#d8576b"
             ],
             [
              0.6666666666666666,
              "#ed7953"
             ],
             [
              0.7777777777777778,
              "#fb9f3a"
             ],
             [
              0.8888888888888888,
              "#fdca26"
             ],
             [
              1,
              "#f0f921"
             ]
            ],
            "type": "histogram2dcontour"
           }
          ],
          "mesh3d": [
           {
            "colorbar": {
             "outlinewidth": 0,
             "ticks": ""
            },
            "type": "mesh3d"
           }
          ],
          "parcoords": [
           {
            "line": {
             "colorbar": {
              "outlinewidth": 0,
              "ticks": ""
             }
            },
            "type": "parcoords"
           }
          ],
          "pie": [
           {
            "automargin": true,
            "type": "pie"
           }
          ],
          "scatter": [
           {
            "marker": {
             "colorbar": {
              "outlinewidth": 0,
              "ticks": ""
             }
            },
            "type": "scatter"
           }
          ],
          "scatter3d": [
           {
            "line": {
             "colorbar": {
              "outlinewidth": 0,
              "ticks": ""
             }
            },
            "marker": {
             "colorbar": {
              "outlinewidth": 0,
              "ticks": ""
             }
            },
            "type": "scatter3d"
           }
          ],
          "scattercarpet": [
           {
            "marker": {
             "colorbar": {
              "outlinewidth": 0,
              "ticks": ""
             }
            },
            "type": "scattercarpet"
           }
          ],
          "scattergeo": [
           {
            "marker": {
             "colorbar": {
              "outlinewidth": 0,
              "ticks": ""
             }
            },
            "type": "scattergeo"
           }
          ],
          "scattergl": [
           {
            "marker": {
             "colorbar": {
              "outlinewidth": 0,
              "ticks": ""
             }
            },
            "type": "scattergl"
           }
          ],
          "scattermapbox": [
           {
            "marker": {
             "colorbar": {
              "outlinewidth": 0,
              "ticks": ""
             }
            },
            "type": "scattermapbox"
           }
          ],
          "scatterpolar": [
           {
            "marker": {
             "colorbar": {
              "outlinewidth": 0,
              "ticks": ""
             }
            },
            "type": "scatterpolar"
           }
          ],
          "scatterpolargl": [
           {
            "marker": {
             "colorbar": {
              "outlinewidth": 0,
              "ticks": ""
             }
            },
            "type": "scatterpolargl"
           }
          ],
          "scatterternary": [
           {
            "marker": {
             "colorbar": {
              "outlinewidth": 0,
              "ticks": ""
             }
            },
            "type": "scatterternary"
           }
          ],
          "surface": [
           {
            "colorbar": {
             "outlinewidth": 0,
             "ticks": ""
            },
            "colorscale": [
             [
              0,
              "#0d0887"
             ],
             [
              0.1111111111111111,
              "#46039f"
             ],
             [
              0.2222222222222222,
              "#7201a8"
             ],
             [
              0.3333333333333333,
              "#9c179e"
             ],
             [
              0.4444444444444444,
              "#bd3786"
             ],
             [
              0.5555555555555556,
              "#d8576b"
             ],
             [
              0.6666666666666666,
              "#ed7953"
             ],
             [
              0.7777777777777778,
              "#fb9f3a"
             ],
             [
              0.8888888888888888,
              "#fdca26"
             ],
             [
              1,
              "#f0f921"
             ]
            ],
            "type": "surface"
           }
          ],
          "table": [
           {
            "cells": {
             "fill": {
              "color": "#EBF0F8"
             },
             "line": {
              "color": "white"
             }
            },
            "header": {
             "fill": {
              "color": "#C8D4E3"
             },
             "line": {
              "color": "white"
             }
            },
            "type": "table"
           }
          ]
         },
         "layout": {
          "annotationdefaults": {
           "arrowcolor": "#2a3f5f",
           "arrowhead": 0,
           "arrowwidth": 1
          },
          "coloraxis": {
           "colorbar": {
            "outlinewidth": 0,
            "ticks": ""
           }
          },
          "colorscale": {
           "diverging": [
            [
             0,
             "#8e0152"
            ],
            [
             0.1,
             "#c51b7d"
            ],
            [
             0.2,
             "#de77ae"
            ],
            [
             0.3,
             "#f1b6da"
            ],
            [
             0.4,
             "#fde0ef"
            ],
            [
             0.5,
             "#f7f7f7"
            ],
            [
             0.6,
             "#e6f5d0"
            ],
            [
             0.7,
             "#b8e186"
            ],
            [
             0.8,
             "#7fbc41"
            ],
            [
             0.9,
             "#4d9221"
            ],
            [
             1,
             "#276419"
            ]
           ],
           "sequential": [
            [
             0,
             "#0d0887"
            ],
            [
             0.1111111111111111,
             "#46039f"
            ],
            [
             0.2222222222222222,
             "#7201a8"
            ],
            [
             0.3333333333333333,
             "#9c179e"
            ],
            [
             0.4444444444444444,
             "#bd3786"
            ],
            [
             0.5555555555555556,
             "#d8576b"
            ],
            [
             0.6666666666666666,
             "#ed7953"
            ],
            [
             0.7777777777777778,
             "#fb9f3a"
            ],
            [
             0.8888888888888888,
             "#fdca26"
            ],
            [
             1,
             "#f0f921"
            ]
           ],
           "sequentialminus": [
            [
             0,
             "#0d0887"
            ],
            [
             0.1111111111111111,
             "#46039f"
            ],
            [
             0.2222222222222222,
             "#7201a8"
            ],
            [
             0.3333333333333333,
             "#9c179e"
            ],
            [
             0.4444444444444444,
             "#bd3786"
            ],
            [
             0.5555555555555556,
             "#d8576b"
            ],
            [
             0.6666666666666666,
             "#ed7953"
            ],
            [
             0.7777777777777778,
             "#fb9f3a"
            ],
            [
             0.8888888888888888,
             "#fdca26"
            ],
            [
             1,
             "#f0f921"
            ]
           ]
          },
          "colorway": [
           "#636efa",
           "#EF553B",
           "#00cc96",
           "#ab63fa",
           "#FFA15A",
           "#19d3f3",
           "#FF6692",
           "#B6E880",
           "#FF97FF",
           "#FECB52"
          ],
          "font": {
           "color": "#2a3f5f"
          },
          "geo": {
           "bgcolor": "white",
           "lakecolor": "white",
           "landcolor": "#E5ECF6",
           "showlakes": true,
           "showland": true,
           "subunitcolor": "white"
          },
          "hoverlabel": {
           "align": "left"
          },
          "hovermode": "closest",
          "mapbox": {
           "style": "light"
          },
          "paper_bgcolor": "white",
          "plot_bgcolor": "#E5ECF6",
          "polar": {
           "angularaxis": {
            "gridcolor": "white",
            "linecolor": "white",
            "ticks": ""
           },
           "bgcolor": "#E5ECF6",
           "radialaxis": {
            "gridcolor": "white",
            "linecolor": "white",
            "ticks": ""
           }
          },
          "scene": {
           "xaxis": {
            "backgroundcolor": "#E5ECF6",
            "gridcolor": "white",
            "gridwidth": 2,
            "linecolor": "white",
            "showbackground": true,
            "ticks": "",
            "zerolinecolor": "white"
           },
           "yaxis": {
            "backgroundcolor": "#E5ECF6",
            "gridcolor": "white",
            "gridwidth": 2,
            "linecolor": "white",
            "showbackground": true,
            "ticks": "",
            "zerolinecolor": "white"
           },
           "zaxis": {
            "backgroundcolor": "#E5ECF6",
            "gridcolor": "white",
            "gridwidth": 2,
            "linecolor": "white",
            "showbackground": true,
            "ticks": "",
            "zerolinecolor": "white"
           }
          },
          "shapedefaults": {
           "line": {
            "color": "#2a3f5f"
           }
          },
          "ternary": {
           "aaxis": {
            "gridcolor": "white",
            "linecolor": "white",
            "ticks": ""
           },
           "baxis": {
            "gridcolor": "white",
            "linecolor": "white",
            "ticks": ""
           },
           "bgcolor": "#E5ECF6",
           "caxis": {
            "gridcolor": "white",
            "linecolor": "white",
            "ticks": ""
           }
          },
          "title": {
           "x": 0.05
          },
          "xaxis": {
           "automargin": true,
           "gridcolor": "white",
           "linecolor": "white",
           "ticks": "",
           "title": {
            "standoff": 15
           },
           "zerolinecolor": "white",
           "zerolinewidth": 2
          },
          "yaxis": {
           "automargin": true,
           "gridcolor": "white",
           "linecolor": "white",
           "ticks": "",
           "title": {
            "standoff": 15
           },
           "zerolinecolor": "white",
           "zerolinewidth": 2
          }
         }
        },
        "title": {
         "font": {
          "color": "#4D5663"
         }
        },
        "xaxis": {
         "gridcolor": "#E1E5ED",
         "showgrid": true,
         "tickfont": {
          "color": "#4D5663"
         },
         "title": {
          "font": {
           "color": "#4D5663"
          },
          "text": ""
         },
         "zerolinecolor": "#E1E5ED"
        },
        "yaxis": {
         "gridcolor": "#E1E5ED",
         "showgrid": true,
         "tickfont": {
          "color": "#4D5663"
         },
         "title": {
          "font": {
           "color": "#4D5663"
          },
          "text": ""
         },
         "zerolinecolor": "#E1E5ED"
        }
       }
      },
      "text/html": [
       "<div>                            <div id=\"dc425995-cc1f-4ce7-af34-17635aee0a41\" class=\"plotly-graph-div\" style=\"height:525px; width:100%;\"></div>            <script type=\"text/javascript\">                require([\"plotly\"], function(Plotly) {                    window.PLOTLYENV=window.PLOTLYENV || {};\n",
       "                    window.PLOTLYENV.BASE_URL='https://plot.ly';                                    if (document.getElementById(\"dc425995-cc1f-4ce7-af34-17635aee0a41\")) {                    Plotly.newPlot(                        \"dc425995-cc1f-4ce7-af34-17635aee0a41\",                        [{\"colorscale\": [[0.0, \"rgb(165,0,38)\"], [0.1, \"rgb(215,48,39)\"], [0.2, \"rgb(244,109,67)\"], [0.3, \"rgb(253,174,97)\"], [0.4, \"rgb(254,224,144)\"], [0.5, \"rgb(255,255,191)\"], [0.6, \"rgb(224,243,248)\"], [0.7, \"rgb(171,217,233)\"], [0.8, \"rgb(116,173,209)\"], [0.9, \"rgb(69,117,180)\"], [1.0, \"rgb(49,54,149)\"]], \"type\": \"surface\", \"x\": [0, 1, 2, 3, 4], \"y\": [\"x\", \"y\", \"z\"], \"z\": [[1, 2, 3, 4, 5], [10, 20, 30, 40, 50], [5, 4, 3, 2, 1]]}],                        {\"legend\": {\"bgcolor\": \"#F5F6F9\", \"font\": {\"color\": \"#4D5663\"}}, \"paper_bgcolor\": \"#F5F6F9\", \"plot_bgcolor\": \"#F5F6F9\", \"template\": {\"data\": {\"bar\": [{\"error_x\": {\"color\": \"#2a3f5f\"}, \"error_y\": {\"color\": \"#2a3f5f\"}, \"marker\": {\"line\": {\"color\": \"#E5ECF6\", \"width\": 0.5}}, \"type\": \"bar\"}], \"barpolar\": [{\"marker\": {\"line\": {\"color\": \"#E5ECF6\", \"width\": 0.5}}, \"type\": \"barpolar\"}], \"carpet\": [{\"aaxis\": {\"endlinecolor\": \"#2a3f5f\", \"gridcolor\": \"white\", \"linecolor\": \"white\", \"minorgridcolor\": \"white\", \"startlinecolor\": \"#2a3f5f\"}, \"baxis\": {\"endlinecolor\": \"#2a3f5f\", \"gridcolor\": \"white\", \"linecolor\": \"white\", \"minorgridcolor\": \"white\", \"startlinecolor\": \"#2a3f5f\"}, \"type\": \"carpet\"}], \"choropleth\": [{\"colorbar\": {\"outlinewidth\": 0, \"ticks\": \"\"}, \"type\": \"choropleth\"}], \"contour\": [{\"colorbar\": {\"outlinewidth\": 0, \"ticks\": \"\"}, \"colorscale\": [[0.0, \"#0d0887\"], [0.1111111111111111, \"#46039f\"], [0.2222222222222222, \"#7201a8\"], [0.3333333333333333, \"#9c179e\"], [0.4444444444444444, \"#bd3786\"], [0.5555555555555556, \"#d8576b\"], [0.6666666666666666, \"#ed7953\"], [0.7777777777777778, \"#fb9f3a\"], [0.8888888888888888, \"#fdca26\"], [1.0, \"#f0f921\"]], \"type\": \"contour\"}], \"contourcarpet\": [{\"colorbar\": {\"outlinewidth\": 0, \"ticks\": \"\"}, \"type\": \"contourcarpet\"}], \"heatmap\": [{\"colorbar\": {\"outlinewidth\": 0, \"ticks\": \"\"}, \"colorscale\": [[0.0, \"#0d0887\"], [0.1111111111111111, \"#46039f\"], [0.2222222222222222, \"#7201a8\"], [0.3333333333333333, \"#9c179e\"], [0.4444444444444444, \"#bd3786\"], [0.5555555555555556, \"#d8576b\"], [0.6666666666666666, \"#ed7953\"], [0.7777777777777778, \"#fb9f3a\"], [0.8888888888888888, \"#fdca26\"], [1.0, \"#f0f921\"]], \"type\": \"heatmap\"}], \"heatmapgl\": [{\"colorbar\": {\"outlinewidth\": 0, \"ticks\": \"\"}, \"colorscale\": [[0.0, \"#0d0887\"], [0.1111111111111111, \"#46039f\"], [0.2222222222222222, \"#7201a8\"], [0.3333333333333333, \"#9c179e\"], [0.4444444444444444, \"#bd3786\"], [0.5555555555555556, \"#d8576b\"], [0.6666666666666666, \"#ed7953\"], [0.7777777777777778, \"#fb9f3a\"], [0.8888888888888888, \"#fdca26\"], [1.0, \"#f0f921\"]], \"type\": \"heatmapgl\"}], \"histogram\": [{\"marker\": {\"colorbar\": {\"outlinewidth\": 0, \"ticks\": \"\"}}, \"type\": \"histogram\"}], \"histogram2d\": [{\"colorbar\": {\"outlinewidth\": 0, \"ticks\": \"\"}, \"colorscale\": [[0.0, \"#0d0887\"], [0.1111111111111111, \"#46039f\"], [0.2222222222222222, \"#7201a8\"], [0.3333333333333333, \"#9c179e\"], [0.4444444444444444, \"#bd3786\"], [0.5555555555555556, \"#d8576b\"], [0.6666666666666666, \"#ed7953\"], [0.7777777777777778, \"#fb9f3a\"], [0.8888888888888888, \"#fdca26\"], [1.0, \"#f0f921\"]], \"type\": \"histogram2d\"}], \"histogram2dcontour\": [{\"colorbar\": {\"outlinewidth\": 0, \"ticks\": \"\"}, \"colorscale\": [[0.0, \"#0d0887\"], [0.1111111111111111, \"#46039f\"], [0.2222222222222222, \"#7201a8\"], [0.3333333333333333, \"#9c179e\"], [0.4444444444444444, \"#bd3786\"], [0.5555555555555556, \"#d8576b\"], [0.6666666666666666, \"#ed7953\"], [0.7777777777777778, \"#fb9f3a\"], [0.8888888888888888, \"#fdca26\"], [1.0, \"#f0f921\"]], \"type\": \"histogram2dcontour\"}], \"mesh3d\": [{\"colorbar\": {\"outlinewidth\": 0, \"ticks\": \"\"}, \"type\": \"mesh3d\"}], \"parcoords\": [{\"line\": {\"colorbar\": {\"outlinewidth\": 0, \"ticks\": \"\"}}, \"type\": \"parcoords\"}], \"pie\": [{\"automargin\": true, \"type\": \"pie\"}], \"scatter\": [{\"marker\": {\"colorbar\": {\"outlinewidth\": 0, \"ticks\": \"\"}}, \"type\": \"scatter\"}], \"scatter3d\": [{\"line\": {\"colorbar\": {\"outlinewidth\": 0, \"ticks\": \"\"}}, \"marker\": {\"colorbar\": {\"outlinewidth\": 0, \"ticks\": \"\"}}, \"type\": \"scatter3d\"}], \"scattercarpet\": [{\"marker\": {\"colorbar\": {\"outlinewidth\": 0, \"ticks\": \"\"}}, \"type\": \"scattercarpet\"}], \"scattergeo\": [{\"marker\": {\"colorbar\": {\"outlinewidth\": 0, \"ticks\": \"\"}}, \"type\": \"scattergeo\"}], \"scattergl\": [{\"marker\": {\"colorbar\": {\"outlinewidth\": 0, \"ticks\": \"\"}}, \"type\": \"scattergl\"}], \"scattermapbox\": [{\"marker\": {\"colorbar\": {\"outlinewidth\": 0, \"ticks\": \"\"}}, \"type\": \"scattermapbox\"}], \"scatterpolar\": [{\"marker\": {\"colorbar\": {\"outlinewidth\": 0, \"ticks\": \"\"}}, \"type\": \"scatterpolar\"}], \"scatterpolargl\": [{\"marker\": {\"colorbar\": {\"outlinewidth\": 0, \"ticks\": \"\"}}, \"type\": \"scatterpolargl\"}], \"scatterternary\": [{\"marker\": {\"colorbar\": {\"outlinewidth\": 0, \"ticks\": \"\"}}, \"type\": \"scatterternary\"}], \"surface\": [{\"colorbar\": {\"outlinewidth\": 0, \"ticks\": \"\"}, \"colorscale\": [[0.0, \"#0d0887\"], [0.1111111111111111, \"#46039f\"], [0.2222222222222222, \"#7201a8\"], [0.3333333333333333, \"#9c179e\"], [0.4444444444444444, \"#bd3786\"], [0.5555555555555556, \"#d8576b\"], [0.6666666666666666, \"#ed7953\"], [0.7777777777777778, \"#fb9f3a\"], [0.8888888888888888, \"#fdca26\"], [1.0, \"#f0f921\"]], \"type\": \"surface\"}], \"table\": [{\"cells\": {\"fill\": {\"color\": \"#EBF0F8\"}, \"line\": {\"color\": \"white\"}}, \"header\": {\"fill\": {\"color\": \"#C8D4E3\"}, \"line\": {\"color\": \"white\"}}, \"type\": \"table\"}]}, \"layout\": {\"annotationdefaults\": {\"arrowcolor\": \"#2a3f5f\", \"arrowhead\": 0, \"arrowwidth\": 1}, \"coloraxis\": {\"colorbar\": {\"outlinewidth\": 0, \"ticks\": \"\"}}, \"colorscale\": {\"diverging\": [[0, \"#8e0152\"], [0.1, \"#c51b7d\"], [0.2, \"#de77ae\"], [0.3, \"#f1b6da\"], [0.4, \"#fde0ef\"], [0.5, \"#f7f7f7\"], [0.6, \"#e6f5d0\"], [0.7, \"#b8e186\"], [0.8, \"#7fbc41\"], [0.9, \"#4d9221\"], [1, \"#276419\"]], \"sequential\": [[0.0, \"#0d0887\"], [0.1111111111111111, \"#46039f\"], [0.2222222222222222, \"#7201a8\"], [0.3333333333333333, \"#9c179e\"], [0.4444444444444444, \"#bd3786\"], [0.5555555555555556, \"#d8576b\"], [0.6666666666666666, \"#ed7953\"], [0.7777777777777778, \"#fb9f3a\"], [0.8888888888888888, \"#fdca26\"], [1.0, \"#f0f921\"]], \"sequentialminus\": [[0.0, \"#0d0887\"], [0.1111111111111111, \"#46039f\"], [0.2222222222222222, \"#7201a8\"], [0.3333333333333333, \"#9c179e\"], [0.4444444444444444, \"#bd3786\"], [0.5555555555555556, \"#d8576b\"], [0.6666666666666666, \"#ed7953\"], [0.7777777777777778, \"#fb9f3a\"], [0.8888888888888888, \"#fdca26\"], [1.0, \"#f0f921\"]]}, \"colorway\": [\"#636efa\", \"#EF553B\", \"#00cc96\", \"#ab63fa\", \"#FFA15A\", \"#19d3f3\", \"#FF6692\", \"#B6E880\", \"#FF97FF\", \"#FECB52\"], \"font\": {\"color\": \"#2a3f5f\"}, \"geo\": {\"bgcolor\": \"white\", \"lakecolor\": \"white\", \"landcolor\": \"#E5ECF6\", \"showlakes\": true, \"showland\": true, \"subunitcolor\": \"white\"}, \"hoverlabel\": {\"align\": \"left\"}, \"hovermode\": \"closest\", \"mapbox\": {\"style\": \"light\"}, \"paper_bgcolor\": \"white\", \"plot_bgcolor\": \"#E5ECF6\", \"polar\": {\"angularaxis\": {\"gridcolor\": \"white\", \"linecolor\": \"white\", \"ticks\": \"\"}, \"bgcolor\": \"#E5ECF6\", \"radialaxis\": {\"gridcolor\": \"white\", \"linecolor\": \"white\", \"ticks\": \"\"}}, \"scene\": {\"xaxis\": {\"backgroundcolor\": \"#E5ECF6\", \"gridcolor\": \"white\", \"gridwidth\": 2, \"linecolor\": \"white\", \"showbackground\": true, \"ticks\": \"\", \"zerolinecolor\": \"white\"}, \"yaxis\": {\"backgroundcolor\": \"#E5ECF6\", \"gridcolor\": \"white\", \"gridwidth\": 2, \"linecolor\": \"white\", \"showbackground\": true, \"ticks\": \"\", \"zerolinecolor\": \"white\"}, \"zaxis\": {\"backgroundcolor\": \"#E5ECF6\", \"gridcolor\": \"white\", \"gridwidth\": 2, \"linecolor\": \"white\", \"showbackground\": true, \"ticks\": \"\", \"zerolinecolor\": \"white\"}}, \"shapedefaults\": {\"line\": {\"color\": \"#2a3f5f\"}}, \"ternary\": {\"aaxis\": {\"gridcolor\": \"white\", \"linecolor\": \"white\", \"ticks\": \"\"}, \"baxis\": {\"gridcolor\": \"white\", \"linecolor\": \"white\", \"ticks\": \"\"}, \"bgcolor\": \"#E5ECF6\", \"caxis\": {\"gridcolor\": \"white\", \"linecolor\": \"white\", \"ticks\": \"\"}}, \"title\": {\"x\": 0.05}, \"xaxis\": {\"automargin\": true, \"gridcolor\": \"white\", \"linecolor\": \"white\", \"ticks\": \"\", \"title\": {\"standoff\": 15}, \"zerolinecolor\": \"white\", \"zerolinewidth\": 2}, \"yaxis\": {\"automargin\": true, \"gridcolor\": \"white\", \"linecolor\": \"white\", \"ticks\": \"\", \"title\": {\"standoff\": 15}, \"zerolinecolor\": \"white\", \"zerolinewidth\": 2}}}, \"title\": {\"font\": {\"color\": \"#4D5663\"}}, \"xaxis\": {\"gridcolor\": \"#E1E5ED\", \"showgrid\": true, \"tickfont\": {\"color\": \"#4D5663\"}, \"title\": {\"font\": {\"color\": \"#4D5663\"}, \"text\": \"\"}, \"zerolinecolor\": \"#E1E5ED\"}, \"yaxis\": {\"gridcolor\": \"#E1E5ED\", \"showgrid\": true, \"tickfont\": {\"color\": \"#4D5663\"}, \"title\": {\"font\": {\"color\": \"#4D5663\"}, \"text\": \"\"}, \"zerolinecolor\": \"#E1E5ED\"}},                        {\"showLink\": true, \"linkText\": \"Export to plot.ly\", \"plotlyServerURL\": \"https://plot.ly\", \"responsive\": true}                    ).then(function(){\n",
       "                            \n",
       "var gd = document.getElementById('dc425995-cc1f-4ce7-af34-17635aee0a41');\n",
       "var x = new MutationObserver(function (mutations, observer) {{\n",
       "        var display = window.getComputedStyle(gd).display;\n",
       "        if (!display || display === 'none') {{\n",
       "            console.log([gd, 'removed!']);\n",
       "            Plotly.purge(gd);\n",
       "            observer.disconnect();\n",
       "        }}\n",
       "}});\n",
       "\n",
       "// Listen for the removal of the full notebook cells\n",
       "var notebookContainer = gd.closest('#notebook-container');\n",
       "if (notebookContainer) {{\n",
       "    x.observe(notebookContainer, {childList: true});\n",
       "}}\n",
       "\n",
       "// Listen for the clearing of the current output cell\n",
       "var outputEl = gd.closest('.output');\n",
       "if (outputEl) {{\n",
       "    x.observe(outputEl, {childList: true});\n",
       "}}\n",
       "\n",
       "                        })                };                });            </script>        </div>"
      ]
     },
     "metadata": {},
     "output_type": "display_data"
    }
   ],
   "source": [
    "df3.iplot(kind='surface',colorscale='rdylbu')"
   ]
  },
  {
   "cell_type": "code",
   "execution_count": null,
   "metadata": {},
   "outputs": [],
   "source": []
  },
  {
   "cell_type": "markdown",
   "metadata": {},
   "source": [
    "Spread"
   ]
  },
  {
   "cell_type": "code",
   "execution_count": 78,
   "metadata": {},
   "outputs": [
    {
     "name": "stderr",
     "output_type": "stream",
     "text": [
      "c:\\python37\\lib\\site-packages\\cufflinks\\plotlytools.py:849: FutureWarning:\n",
      "\n",
      "The pandas.np module is deprecated and will be removed from pandas in a future version. Import numpy directly instead\n",
      "\n",
      "c:\\python37\\lib\\site-packages\\cufflinks\\plotlytools.py:850: FutureWarning:\n",
      "\n",
      "The pandas.np module is deprecated and will be removed from pandas in a future version. Import numpy directly instead\n",
      "\n"
     ]
    },
    {
     "data": {
      "application/vnd.plotly.v1+json": {
       "config": {
        "linkText": "Export to plot.ly",
        "plotlyServerURL": "https://plot.ly",
        "showLink": true
       },
       "data": [
        {
         "line": {
          "color": "rgba(255, 153, 51, 1.0)",
          "dash": "solid",
          "shape": "linear",
          "width": 1.3
         },
         "mode": "lines",
         "name": "A",
         "text": "",
         "type": "scatter",
         "x": [
          0,
          1,
          2,
          3,
          4,
          5,
          6,
          7,
          8,
          9,
          10,
          11,
          12,
          13,
          14,
          15,
          16,
          17,
          18,
          19,
          20,
          21,
          22,
          23,
          24,
          25,
          26,
          27,
          28,
          29,
          30,
          31,
          32,
          33,
          34,
          35,
          36,
          37,
          38,
          39,
          40,
          41,
          42,
          43,
          44,
          45,
          46,
          47,
          48,
          49,
          50,
          51,
          52,
          53,
          54,
          55,
          56,
          57,
          58,
          59,
          60,
          61,
          62,
          63,
          64,
          65,
          66,
          67,
          68,
          69,
          70,
          71,
          72,
          73,
          74,
          75,
          76,
          77,
          78,
          79,
          80,
          81,
          82,
          83,
          84,
          85,
          86,
          87,
          88,
          89,
          90,
          91,
          92,
          93,
          94,
          95,
          96,
          97,
          98,
          99
         ],
         "y": [
          -0.33401795564492287,
          -0.8567502346979979,
          -0.10473055917119059,
          -0.9552750460806879,
          -1.615569955059547,
          0.45208443032962725,
          1.1521251322277608,
          0.745651691971453,
          -0.4096921983005491,
          -1.8286545981090672,
          1.1162488615338755,
          -0.23917946135104004,
          -0.41795746820050994,
          -0.6158286873263658,
          -0.16522357255275513,
          -1.1466897394803683,
          0.1899506944113523,
          -0.30428371295067236,
          -0.8377454443042902,
          1.0749209762017375,
          -0.5036507942437648,
          0.7477607300033207,
          -0.4581271281732457,
          0.5879507188974076,
          0.4030595873888752,
          0.27583707736362106,
          -1.1843996197262006,
          0.02289383390635474,
          -0.3403937018414992,
          -1.7166785587717857,
          0.4822370620456638,
          0.5200151191009494,
          -0.7064456411263597,
          0.2777649973811855,
          -0.38139840158046373,
          0.0012714620076879613,
          -0.8984831424792492,
          0.5163859344827737,
          0.028933774684512,
          0.8413131356335115,
          1.400019231180424,
          -0.2413195821291121,
          -0.6792104376259505,
          -0.09656771735802587,
          -0.6475198989307501,
          0.548223693326196,
          -1.3819837976275722,
          -1.6262595692515833,
          -2.316340334702603,
          0.0746851580412261,
          1.6607660314582249,
          0.6059296659896694,
          -0.32675390364252194,
          0.7473568118899233,
          1.2637003740836217,
          -1.4016416000087277,
          0.0028637618612219018,
          0.2625532363277476,
          -2.111665921077397,
          0.9344936629906027,
          -0.1633075239448629,
          0.5334083791568638,
          -0.11211496887969293,
          1.148058947229644,
          -0.6640245778390096,
          0.3429848358350742,
          -0.22979124826761954,
          -0.36396205591449277,
          0.8924054416145863,
          -0.0061315933942883444,
          0.8003321749012936,
          0.35447366860929735,
          -0.33541016878165686,
          1.2336292297481033,
          -0.7955181010405288,
          0.011086448208904488,
          0.27737192354778073,
          1.682760295203774,
          1.5706126536750737,
          -0.5022370702420386,
          -1.4829078545161825,
          -1.5550319602966496,
          -0.1113288955932639,
          -0.6683103896896104,
          -0.42907556378926476,
          0.9020594465600063,
          -1.0131553498783252,
          -0.02711901899847754,
          -0.30832841072807776,
          -0.42582943667482037,
          0.44336034515772516,
          1.1159664902530844,
          0.056746386041653184,
          -1.6172012143199634,
          -1.5755596256094238,
          0.1091926218659547,
          -0.5849546851871757,
          -1.4307737601208024,
          -0.33501558412825977,
          -0.1886428376261212
         ]
        },
        {
         "line": {
          "color": "rgba(55, 128, 191, 1.0)",
          "dash": "solid",
          "shape": "linear",
          "width": 1.3
         },
         "mode": "lines",
         "name": "B",
         "text": "",
         "type": "scatter",
         "x": [
          0,
          1,
          2,
          3,
          4,
          5,
          6,
          7,
          8,
          9,
          10,
          11,
          12,
          13,
          14,
          15,
          16,
          17,
          18,
          19,
          20,
          21,
          22,
          23,
          24,
          25,
          26,
          27,
          28,
          29,
          30,
          31,
          32,
          33,
          34,
          35,
          36,
          37,
          38,
          39,
          40,
          41,
          42,
          43,
          44,
          45,
          46,
          47,
          48,
          49,
          50,
          51,
          52,
          53,
          54,
          55,
          56,
          57,
          58,
          59,
          60,
          61,
          62,
          63,
          64,
          65,
          66,
          67,
          68,
          69,
          70,
          71,
          72,
          73,
          74,
          75,
          76,
          77,
          78,
          79,
          80,
          81,
          82,
          83,
          84,
          85,
          86,
          87,
          88,
          89,
          90,
          91,
          92,
          93,
          94,
          95,
          96,
          97,
          98,
          99
         ],
         "y": [
          0.7876917141458819,
          -0.4927411666792617,
          1.0974937036873178,
          -0.4439206985018027,
          0.2887527016408452,
          1.6742941592395084,
          0.09769658941939971,
          -0.5725516723706708,
          -0.5492592727640042,
          -1.5202236019398916,
          0.38823943145541134,
          1.6282609740421874,
          0.7326277731686339,
          0.06730103330838098,
          0.3402060045322037,
          0.09507628974658346,
          -0.02434056897616973,
          -0.3543784939901299,
          -1.223788539698824,
          -0.6343497374288385,
          0.26653812477656896,
          1.438206680395697,
          0.2415253255836718,
          -0.5987723898434579,
          -0.9171915030653498,
          0.11207252291134627,
          0.05451867791386243,
          0.4112131470328786,
          0.44492768680055544,
          0.2518950357633279,
          1.2463146582630462,
          -0.2112880449759986,
          1.3866651715692133,
          -0.6856964980957535,
          -0.4222120528187373,
          1.1922204650983412,
          0.15401391008934873,
          -2.1054080496754954,
          0.022291737503580638,
          0.7897529100041379,
          -1.2690774934764053,
          -0.7350699839334449,
          -1.0471268941827443,
          -1.0153320689971657,
          0.78785482367279,
          0.7361749374278779,
          -1.1345914803012231,
          -0.5683363178024483,
          -0.49464389117558116,
          0.23422581647806803,
          -2.1553512566379696,
          -1.2433197111777519,
          -0.8198086705514108,
          -0.46962743588801903,
          -0.2882913723683333,
          0.8983233686389277,
          0.9084568051309245,
          -0.44221663833346375,
          1.0293957279524568,
          2.0421754421017866,
          0.03945373112628942,
          -0.2750148513970318,
          -1.2201128479118042,
          -0.1738405812640102,
          0.2875423811571659,
          -0.8738739689146106,
          0.7014107545116337,
          -2.3002964933232692,
          -0.6253456459787136,
          -1.8275246768702471,
          -0.15907550729462694,
          0.5844077990293167,
          -0.2301648650344321,
          0.33009928176921377,
          0.5445848145905013,
          0.5057947642888931,
          0.41536259213452914,
          -0.3776968113879913,
          -0.7157916944803,
          0.12712187178968135,
          0.3765080960387935,
          0.10454994680141004,
          -0.2067836441219874,
          -1.2982007775309201,
          0.8728751802177441,
          -0.4558648151654358,
          1.4143397838621108,
          -0.2283862758991108,
          -0.7885106007484821,
          -0.6237266472566988,
          0.03162986437150248,
          -0.212029724448196,
          -0.20608606868251564,
          -0.6031391322763106,
          0.2657646502926192,
          1.2832959415010545,
          0.47691329850658754,
          0.11495505177277747,
          1.8470207470600093,
          0.8959979991642596
         ]
        },
        {
         "connectgaps": false,
         "fill": "tozeroy",
         "line": {
          "color": "green",
          "dash": "solid",
          "shape": "linear",
          "width": 0.5
         },
         "mode": "lines",
         "name": "Spread",
         "showlegend": false,
         "type": "scatter",
         "x": [
          0,
          1,
          2,
          3,
          4,
          5,
          6,
          7,
          8,
          9,
          10,
          11,
          12,
          13,
          14,
          15,
          16,
          17,
          18,
          19,
          20,
          21,
          22,
          23,
          24,
          25,
          26,
          27,
          28,
          29,
          30,
          31,
          32,
          33,
          34,
          35,
          36,
          37,
          38,
          39,
          40,
          41,
          42,
          43,
          44,
          45,
          46,
          47,
          48,
          49,
          50,
          51,
          52,
          53,
          54,
          55,
          56,
          57,
          58,
          59,
          60,
          61,
          62,
          63,
          64,
          65,
          66,
          67,
          68,
          69,
          70,
          71,
          72,
          73,
          74,
          75,
          76,
          77,
          78,
          79,
          80,
          81,
          82,
          83,
          84,
          85,
          86,
          87,
          88,
          89,
          90,
          91,
          92,
          93,
          94,
          95,
          96,
          97,
          98,
          99
         ],
         "xaxis": "x2",
         "y": [
          "",
          "",
          "",
          "",
          "",
          "",
          1.054428542808361,
          1.3182033643421238,
          0.13956707446345512,
          "",
          0.7280094300784641,
          "",
          "",
          "",
          "",
          "",
          0.21429126338752202,
          0.050094781039457525,
          0.38604309539453374,
          1.709270713630576,
          "",
          "",
          "",
          1.1867231087408654,
          1.320251090454225,
          0.16376455445227478,
          "",
          "",
          "",
          "",
          "",
          0.7313031640769481,
          "",
          0.9634614954769389,
          0.040813651238273574,
          "",
          "",
          2.621793984158269,
          0.006642037180931364,
          0.05156022562937357,
          2.6690967246568293,
          0.49375040180433283,
          0.36791645655679384,
          0.9187643516391398,
          "",
          "",
          "",
          "",
          "",
          "",
          3.816117288096194,
          1.8492493771674212,
          0.4930547669088889,
          1.2169842477779422,
          1.551991746451955,
          "",
          "",
          0.7047698746612113,
          "",
          "",
          "",
          0.8084232305538956,
          1.1079978790321112,
          1.3218995284936543,
          "",
          1.2168588047496849,
          "",
          1.9363344374087765,
          1.5177510875932998,
          1.8213930834759589,
          0.9594076821959205,
          "",
          "",
          0.9035299479788895,
          "",
          "",
          "",
          2.060457106591765,
          2.286404348155374,
          "",
          "",
          "",
          0.09545474852872352,
          0.6298903878413097,
          "",
          1.3579242617254421,
          "",
          0.20126725690063327,
          0.48018219002040435,
          0.19789721058187842,
          0.41173048078622265,
          1.3279962147012805,
          0.26283245472416883,
          "",
          "",
          "",
          "",
          "",
          "",
          ""
         ],
         "yaxis": "y2"
        },
        {
         "connectgaps": false,
         "fill": "tozeroy",
         "line": {
          "color": "red",
          "dash": "solid",
          "shape": "linear",
          "width": 0.5
         },
         "mode": "lines",
         "name": "Spread",
         "showlegend": false,
         "type": "scatter",
         "x": [
          0,
          1,
          2,
          3,
          4,
          5,
          6,
          7,
          8,
          9,
          10,
          11,
          12,
          13,
          14,
          15,
          16,
          17,
          18,
          19,
          20,
          21,
          22,
          23,
          24,
          25,
          26,
          27,
          28,
          29,
          30,
          31,
          32,
          33,
          34,
          35,
          36,
          37,
          38,
          39,
          40,
          41,
          42,
          43,
          44,
          45,
          46,
          47,
          48,
          49,
          50,
          51,
          52,
          53,
          54,
          55,
          56,
          57,
          58,
          59,
          60,
          61,
          62,
          63,
          64,
          65,
          66,
          67,
          68,
          69,
          70,
          71,
          72,
          73,
          74,
          75,
          76,
          77,
          78,
          79,
          80,
          81,
          82,
          83,
          84,
          85,
          86,
          87,
          88,
          89,
          90,
          91,
          92,
          93,
          94,
          95,
          96,
          97,
          98,
          99
         ],
         "xaxis": "x2",
         "y": [
          -1.1217096697908047,
          -0.3640090680187362,
          -1.2022242628585085,
          -0.5113543475788852,
          -1.9043226567003924,
          -1.2222097289098812,
          "",
          "",
          "",
          -0.3084309961691756,
          "",
          -1.8674404353932275,
          -1.1505852413691438,
          -0.6831297206347468,
          -0.5054295770849588,
          -1.241766029226952,
          "",
          "",
          "",
          "",
          -0.7701889190203337,
          -0.6904459503923763,
          -0.6996524537569175,
          "",
          "",
          "",
          -1.238918297640063,
          -0.38831931312652385,
          -0.7853213886420547,
          -1.9685735945351135,
          -0.7640775962173825,
          "",
          -2.093110812695573,
          "",
          "",
          -1.1909490030906533,
          -1.052497052568598,
          "",
          "",
          "",
          "",
          "",
          "",
          "",
          -1.43537472260354,
          -0.18795124410168185,
          -0.24739231732634903,
          -1.057923251449135,
          -1.8216964435270215,
          -0.15954065843684195,
          "",
          "",
          "",
          "",
          "",
          -2.2999649686476555,
          -0.9055930432697026,
          "",
          -3.1410616490298535,
          -1.107681779111184,
          -0.2027612550711523,
          "",
          "",
          "",
          -0.9515669589961755,
          "",
          -0.9312020027792532,
          "",
          "",
          "",
          "",
          -0.22993413042001937,
          -0.10524530374722477,
          "",
          -1.34010291563103,
          -0.49470831607998866,
          -0.1379906685867484,
          "",
          "",
          -0.6293589420317199,
          -1.8594159505549759,
          -1.6595819070980595,
          "",
          "",
          -1.3019507440070088,
          "",
          -2.427495133740436,
          "",
          "",
          "",
          "",
          "",
          "",
          -1.0140620820436528,
          -1.841324275902043,
          -1.1741033196350998,
          -1.0618679836937632,
          -1.54572881189358,
          -2.182036331188269,
          -1.0846408367903808
         ],
         "yaxis": "y2"
        }
       ],
       "layout": {
        "hovermode": "x",
        "legend": {
         "bgcolor": "#F5F6F9",
         "font": {
          "color": "#4D5663"
         }
        },
        "paper_bgcolor": "#F5F6F9",
        "plot_bgcolor": "#F5F6F9",
        "template": {
         "data": {
          "bar": [
           {
            "error_x": {
             "color": "#2a3f5f"
            },
            "error_y": {
             "color": "#2a3f5f"
            },
            "marker": {
             "line": {
              "color": "#E5ECF6",
              "width": 0.5
             }
            },
            "type": "bar"
           }
          ],
          "barpolar": [
           {
            "marker": {
             "line": {
              "color": "#E5ECF6",
              "width": 0.5
             }
            },
            "type": "barpolar"
           }
          ],
          "carpet": [
           {
            "aaxis": {
             "endlinecolor": "#2a3f5f",
             "gridcolor": "white",
             "linecolor": "white",
             "minorgridcolor": "white",
             "startlinecolor": "#2a3f5f"
            },
            "baxis": {
             "endlinecolor": "#2a3f5f",
             "gridcolor": "white",
             "linecolor": "white",
             "minorgridcolor": "white",
             "startlinecolor": "#2a3f5f"
            },
            "type": "carpet"
           }
          ],
          "choropleth": [
           {
            "colorbar": {
             "outlinewidth": 0,
             "ticks": ""
            },
            "type": "choropleth"
           }
          ],
          "contour": [
           {
            "colorbar": {
             "outlinewidth": 0,
             "ticks": ""
            },
            "colorscale": [
             [
              0,
              "#0d0887"
             ],
             [
              0.1111111111111111,
              "#46039f"
             ],
             [
              0.2222222222222222,
              "#7201a8"
             ],
             [
              0.3333333333333333,
              "#9c179e"
             ],
             [
              0.4444444444444444,
              "#bd3786"
             ],
             [
              0.5555555555555556,
              "#d8576b"
             ],
             [
              0.6666666666666666,
              "#ed7953"
             ],
             [
              0.7777777777777778,
              "#fb9f3a"
             ],
             [
              0.8888888888888888,
              "#fdca26"
             ],
             [
              1,
              "#f0f921"
             ]
            ],
            "type": "contour"
           }
          ],
          "contourcarpet": [
           {
            "colorbar": {
             "outlinewidth": 0,
             "ticks": ""
            },
            "type": "contourcarpet"
           }
          ],
          "heatmap": [
           {
            "colorbar": {
             "outlinewidth": 0,
             "ticks": ""
            },
            "colorscale": [
             [
              0,
              "#0d0887"
             ],
             [
              0.1111111111111111,
              "#46039f"
             ],
             [
              0.2222222222222222,
              "#7201a8"
             ],
             [
              0.3333333333333333,
              "#9c179e"
             ],
             [
              0.4444444444444444,
              "#bd3786"
             ],
             [
              0.5555555555555556,
              "#d8576b"
             ],
             [
              0.6666666666666666,
              "#ed7953"
             ],
             [
              0.7777777777777778,
              "#fb9f3a"
             ],
             [
              0.8888888888888888,
              "#fdca26"
             ],
             [
              1,
              "#f0f921"
             ]
            ],
            "type": "heatmap"
           }
          ],
          "heatmapgl": [
           {
            "colorbar": {
             "outlinewidth": 0,
             "ticks": ""
            },
            "colorscale": [
             [
              0,
              "#0d0887"
             ],
             [
              0.1111111111111111,
              "#46039f"
             ],
             [
              0.2222222222222222,
              "#7201a8"
             ],
             [
              0.3333333333333333,
              "#9c179e"
             ],
             [
              0.4444444444444444,
              "#bd3786"
             ],
             [
              0.5555555555555556,
              "#d8576b"
             ],
             [
              0.6666666666666666,
              "#ed7953"
             ],
             [
              0.7777777777777778,
              "#fb9f3a"
             ],
             [
              0.8888888888888888,
              "#fdca26"
             ],
             [
              1,
              "#f0f921"
             ]
            ],
            "type": "heatmapgl"
           }
          ],
          "histogram": [
           {
            "marker": {
             "colorbar": {
              "outlinewidth": 0,
              "ticks": ""
             }
            },
            "type": "histogram"
           }
          ],
          "histogram2d": [
           {
            "colorbar": {
             "outlinewidth": 0,
             "ticks": ""
            },
            "colorscale": [
             [
              0,
              "#0d0887"
             ],
             [
              0.1111111111111111,
              "#46039f"
             ],
             [
              0.2222222222222222,
              "#7201a8"
             ],
             [
              0.3333333333333333,
              "#9c179e"
             ],
             [
              0.4444444444444444,
              "#bd3786"
             ],
             [
              0.5555555555555556,
              "#d8576b"
             ],
             [
              0.6666666666666666,
              "#ed7953"
             ],
             [
              0.7777777777777778,
              "#fb9f3a"
             ],
             [
              0.8888888888888888,
              "#fdca26"
             ],
             [
              1,
              "#f0f921"
             ]
            ],
            "type": "histogram2d"
           }
          ],
          "histogram2dcontour": [
           {
            "colorbar": {
             "outlinewidth": 0,
             "ticks": ""
            },
            "colorscale": [
             [
              0,
              "#0d0887"
             ],
             [
              0.1111111111111111,
              "#46039f"
             ],
             [
              0.2222222222222222,
              "#7201a8"
             ],
             [
              0.3333333333333333,
              "#9c179e"
             ],
             [
              0.4444444444444444,
              "#bd3786"
             ],
             [
              0.5555555555555556,
              "#d8576b"
             ],
             [
              0.6666666666666666,
              "#ed7953"
             ],
             [
              0.7777777777777778,
              "#fb9f3a"
             ],
             [
              0.8888888888888888,
              "#fdca26"
             ],
             [
              1,
              "#f0f921"
             ]
            ],
            "type": "histogram2dcontour"
           }
          ],
          "mesh3d": [
           {
            "colorbar": {
             "outlinewidth": 0,
             "ticks": ""
            },
            "type": "mesh3d"
           }
          ],
          "parcoords": [
           {
            "line": {
             "colorbar": {
              "outlinewidth": 0,
              "ticks": ""
             }
            },
            "type": "parcoords"
           }
          ],
          "pie": [
           {
            "automargin": true,
            "type": "pie"
           }
          ],
          "scatter": [
           {
            "marker": {
             "colorbar": {
              "outlinewidth": 0,
              "ticks": ""
             }
            },
            "type": "scatter"
           }
          ],
          "scatter3d": [
           {
            "line": {
             "colorbar": {
              "outlinewidth": 0,
              "ticks": ""
             }
            },
            "marker": {
             "colorbar": {
              "outlinewidth": 0,
              "ticks": ""
             }
            },
            "type": "scatter3d"
           }
          ],
          "scattercarpet": [
           {
            "marker": {
             "colorbar": {
              "outlinewidth": 0,
              "ticks": ""
             }
            },
            "type": "scattercarpet"
           }
          ],
          "scattergeo": [
           {
            "marker": {
             "colorbar": {
              "outlinewidth": 0,
              "ticks": ""
             }
            },
            "type": "scattergeo"
           }
          ],
          "scattergl": [
           {
            "marker": {
             "colorbar": {
              "outlinewidth": 0,
              "ticks": ""
             }
            },
            "type": "scattergl"
           }
          ],
          "scattermapbox": [
           {
            "marker": {
             "colorbar": {
              "outlinewidth": 0,
              "ticks": ""
             }
            },
            "type": "scattermapbox"
           }
          ],
          "scatterpolar": [
           {
            "marker": {
             "colorbar": {
              "outlinewidth": 0,
              "ticks": ""
             }
            },
            "type": "scatterpolar"
           }
          ],
          "scatterpolargl": [
           {
            "marker": {
             "colorbar": {
              "outlinewidth": 0,
              "ticks": ""
             }
            },
            "type": "scatterpolargl"
           }
          ],
          "scatterternary": [
           {
            "marker": {
             "colorbar": {
              "outlinewidth": 0,
              "ticks": ""
             }
            },
            "type": "scatterternary"
           }
          ],
          "surface": [
           {
            "colorbar": {
             "outlinewidth": 0,
             "ticks": ""
            },
            "colorscale": [
             [
              0,
              "#0d0887"
             ],
             [
              0.1111111111111111,
              "#46039f"
             ],
             [
              0.2222222222222222,
              "#7201a8"
             ],
             [
              0.3333333333333333,
              "#9c179e"
             ],
             [
              0.4444444444444444,
              "#bd3786"
             ],
             [
              0.5555555555555556,
              "#d8576b"
             ],
             [
              0.6666666666666666,
              "#ed7953"
             ],
             [
              0.7777777777777778,
              "#fb9f3a"
             ],
             [
              0.8888888888888888,
              "#fdca26"
             ],
             [
              1,
              "#f0f921"
             ]
            ],
            "type": "surface"
           }
          ],
          "table": [
           {
            "cells": {
             "fill": {
              "color": "#EBF0F8"
             },
             "line": {
              "color": "white"
             }
            },
            "header": {
             "fill": {
              "color": "#C8D4E3"
             },
             "line": {
              "color": "white"
             }
            },
            "type": "table"
           }
          ]
         },
         "layout": {
          "annotationdefaults": {
           "arrowcolor": "#2a3f5f",
           "arrowhead": 0,
           "arrowwidth": 1
          },
          "coloraxis": {
           "colorbar": {
            "outlinewidth": 0,
            "ticks": ""
           }
          },
          "colorscale": {
           "diverging": [
            [
             0,
             "#8e0152"
            ],
            [
             0.1,
             "#c51b7d"
            ],
            [
             0.2,
             "#de77ae"
            ],
            [
             0.3,
             "#f1b6da"
            ],
            [
             0.4,
             "#fde0ef"
            ],
            [
             0.5,
             "#f7f7f7"
            ],
            [
             0.6,
             "#e6f5d0"
            ],
            [
             0.7,
             "#b8e186"
            ],
            [
             0.8,
             "#7fbc41"
            ],
            [
             0.9,
             "#4d9221"
            ],
            [
             1,
             "#276419"
            ]
           ],
           "sequential": [
            [
             0,
             "#0d0887"
            ],
            [
             0.1111111111111111,
             "#46039f"
            ],
            [
             0.2222222222222222,
             "#7201a8"
            ],
            [
             0.3333333333333333,
             "#9c179e"
            ],
            [
             0.4444444444444444,
             "#bd3786"
            ],
            [
             0.5555555555555556,
             "#d8576b"
            ],
            [
             0.6666666666666666,
             "#ed7953"
            ],
            [
             0.7777777777777778,
             "#fb9f3a"
            ],
            [
             0.8888888888888888,
             "#fdca26"
            ],
            [
             1,
             "#f0f921"
            ]
           ],
           "sequentialminus": [
            [
             0,
             "#0d0887"
            ],
            [
             0.1111111111111111,
             "#46039f"
            ],
            [
             0.2222222222222222,
             "#7201a8"
            ],
            [
             0.3333333333333333,
             "#9c179e"
            ],
            [
             0.4444444444444444,
             "#bd3786"
            ],
            [
             0.5555555555555556,
             "#d8576b"
            ],
            [
             0.6666666666666666,
             "#ed7953"
            ],
            [
             0.7777777777777778,
             "#fb9f3a"
            ],
            [
             0.8888888888888888,
             "#fdca26"
            ],
            [
             1,
             "#f0f921"
            ]
           ]
          },
          "colorway": [
           "#636efa",
           "#EF553B",
           "#00cc96",
           "#ab63fa",
           "#FFA15A",
           "#19d3f3",
           "#FF6692",
           "#B6E880",
           "#FF97FF",
           "#FECB52"
          ],
          "font": {
           "color": "#2a3f5f"
          },
          "geo": {
           "bgcolor": "white",
           "lakecolor": "white",
           "landcolor": "#E5ECF6",
           "showlakes": true,
           "showland": true,
           "subunitcolor": "white"
          },
          "hoverlabel": {
           "align": "left"
          },
          "hovermode": "closest",
          "mapbox": {
           "style": "light"
          },
          "paper_bgcolor": "white",
          "plot_bgcolor": "#E5ECF6",
          "polar": {
           "angularaxis": {
            "gridcolor": "white",
            "linecolor": "white",
            "ticks": ""
           },
           "bgcolor": "#E5ECF6",
           "radialaxis": {
            "gridcolor": "white",
            "linecolor": "white",
            "ticks": ""
           }
          },
          "scene": {
           "xaxis": {
            "backgroundcolor": "#E5ECF6",
            "gridcolor": "white",
            "gridwidth": 2,
            "linecolor": "white",
            "showbackground": true,
            "ticks": "",
            "zerolinecolor": "white"
           },
           "yaxis": {
            "backgroundcolor": "#E5ECF6",
            "gridcolor": "white",
            "gridwidth": 2,
            "linecolor": "white",
            "showbackground": true,
            "ticks": "",
            "zerolinecolor": "white"
           },
           "zaxis": {
            "backgroundcolor": "#E5ECF6",
            "gridcolor": "white",
            "gridwidth": 2,
            "linecolor": "white",
            "showbackground": true,
            "ticks": "",
            "zerolinecolor": "white"
           }
          },
          "shapedefaults": {
           "line": {
            "color": "#2a3f5f"
           }
          },
          "ternary": {
           "aaxis": {
            "gridcolor": "white",
            "linecolor": "white",
            "ticks": ""
           },
           "baxis": {
            "gridcolor": "white",
            "linecolor": "white",
            "ticks": ""
           },
           "bgcolor": "#E5ECF6",
           "caxis": {
            "gridcolor": "white",
            "linecolor": "white",
            "ticks": ""
           }
          },
          "title": {
           "x": 0.05
          },
          "xaxis": {
           "automargin": true,
           "gridcolor": "white",
           "linecolor": "white",
           "ticks": "",
           "title": {
            "standoff": 15
           },
           "zerolinecolor": "white",
           "zerolinewidth": 2
          },
          "yaxis": {
           "automargin": true,
           "gridcolor": "white",
           "linecolor": "white",
           "ticks": "",
           "title": {
            "standoff": 15
           },
           "zerolinecolor": "white",
           "zerolinewidth": 2
          }
         }
        },
        "title": {
         "font": {
          "color": "#4D5663"
         }
        },
        "xaxis": {
         "gridcolor": "#E1E5ED",
         "showgrid": true,
         "tickfont": {
          "color": "#4D5663"
         },
         "title": {
          "font": {
           "color": "#4D5663"
          },
          "text": ""
         },
         "zerolinecolor": "#E1E5ED"
        },
        "xaxis2": {
         "anchor": "y2",
         "gridcolor": "#E1E5ED",
         "showgrid": true,
         "showticklabels": false,
         "tickfont": {
          "color": "#4D5663"
         },
         "title": {
          "font": {
           "color": "#4D5663"
          },
          "text": ""
         },
         "zerolinecolor": "#E1E5ED"
        },
        "yaxis": {
         "domain": [
          0.3,
          1
         ],
         "gridcolor": "#E1E5ED",
         "showgrid": true,
         "tickfont": {
          "color": "#4D5663"
         },
         "title": {
          "font": {
           "color": "#4D5663"
          },
          "text": ""
         },
         "zerolinecolor": "#E1E5ED"
        },
        "yaxis2": {
         "domain": [
          0,
          0.25
         ],
         "gridcolor": "#E1E5ED",
         "showgrid": true,
         "tickfont": {
          "color": "#4D5663"
         },
         "title": {
          "font": {
           "color": "#4D5663"
          },
          "text": "Spread"
         },
         "zerolinecolor": "#E1E5ED"
        }
       }
      },
      "text/html": [
       "<div>                            <div id=\"9268f8d5-5c15-4743-abbb-f5d0d1ab8a69\" class=\"plotly-graph-div\" style=\"height:525px; width:100%;\"></div>            <script type=\"text/javascript\">                require([\"plotly\"], function(Plotly) {                    window.PLOTLYENV=window.PLOTLYENV || {};\n",
       "                    window.PLOTLYENV.BASE_URL='https://plot.ly';                                    if (document.getElementById(\"9268f8d5-5c15-4743-abbb-f5d0d1ab8a69\")) {                    Plotly.newPlot(                        \"9268f8d5-5c15-4743-abbb-f5d0d1ab8a69\",                        [{\"line\": {\"color\": \"rgba(255, 153, 51, 1.0)\", \"dash\": \"solid\", \"shape\": \"linear\", \"width\": 1.3}, \"mode\": \"lines\", \"name\": \"A\", \"text\": \"\", \"type\": \"scatter\", \"x\": [0, 1, 2, 3, 4, 5, 6, 7, 8, 9, 10, 11, 12, 13, 14, 15, 16, 17, 18, 19, 20, 21, 22, 23, 24, 25, 26, 27, 28, 29, 30, 31, 32, 33, 34, 35, 36, 37, 38, 39, 40, 41, 42, 43, 44, 45, 46, 47, 48, 49, 50, 51, 52, 53, 54, 55, 56, 57, 58, 59, 60, 61, 62, 63, 64, 65, 66, 67, 68, 69, 70, 71, 72, 73, 74, 75, 76, 77, 78, 79, 80, 81, 82, 83, 84, 85, 86, 87, 88, 89, 90, 91, 92, 93, 94, 95, 96, 97, 98, 99], \"y\": [-0.33401795564492287, -0.8567502346979979, -0.10473055917119059, -0.9552750460806879, -1.615569955059547, 0.45208443032962725, 1.1521251322277608, 0.745651691971453, -0.4096921983005491, -1.8286545981090672, 1.1162488615338755, -0.23917946135104004, -0.41795746820050994, -0.6158286873263658, -0.16522357255275513, -1.1466897394803683, 0.1899506944113523, -0.30428371295067236, -0.8377454443042902, 1.0749209762017375, -0.5036507942437648, 0.7477607300033207, -0.4581271281732457, 0.5879507188974076, 0.4030595873888752, 0.27583707736362106, -1.1843996197262006, 0.02289383390635474, -0.3403937018414992, -1.7166785587717857, 0.4822370620456638, 0.5200151191009494, -0.7064456411263597, 0.2777649973811855, -0.38139840158046373, 0.0012714620076879613, -0.8984831424792492, 0.5163859344827737, 0.028933774684512, 0.8413131356335115, 1.400019231180424, -0.2413195821291121, -0.6792104376259505, -0.09656771735802587, -0.6475198989307501, 0.548223693326196, -1.3819837976275722, -1.6262595692515833, -2.316340334702603, 0.0746851580412261, 1.6607660314582249, 0.6059296659896694, -0.32675390364252194, 0.7473568118899233, 1.2637003740836217, -1.4016416000087277, 0.0028637618612219018, 0.2625532363277476, -2.111665921077397, 0.9344936629906027, -0.1633075239448629, 0.5334083791568638, -0.11211496887969293, 1.148058947229644, -0.6640245778390096, 0.3429848358350742, -0.22979124826761954, -0.36396205591449277, 0.8924054416145863, -0.0061315933942883444, 0.8003321749012936, 0.35447366860929735, -0.33541016878165686, 1.2336292297481033, -0.7955181010405288, 0.011086448208904488, 0.27737192354778073, 1.682760295203774, 1.5706126536750737, -0.5022370702420386, -1.4829078545161825, -1.5550319602966496, -0.1113288955932639, -0.6683103896896104, -0.42907556378926476, 0.9020594465600063, -1.0131553498783252, -0.02711901899847754, -0.30832841072807776, -0.42582943667482037, 0.44336034515772516, 1.1159664902530844, 0.056746386041653184, -1.6172012143199634, -1.5755596256094238, 0.1091926218659547, -0.5849546851871757, -1.4307737601208024, -0.33501558412825977, -0.1886428376261212]}, {\"line\": {\"color\": \"rgba(55, 128, 191, 1.0)\", \"dash\": \"solid\", \"shape\": \"linear\", \"width\": 1.3}, \"mode\": \"lines\", \"name\": \"B\", \"text\": \"\", \"type\": \"scatter\", \"x\": [0, 1, 2, 3, 4, 5, 6, 7, 8, 9, 10, 11, 12, 13, 14, 15, 16, 17, 18, 19, 20, 21, 22, 23, 24, 25, 26, 27, 28, 29, 30, 31, 32, 33, 34, 35, 36, 37, 38, 39, 40, 41, 42, 43, 44, 45, 46, 47, 48, 49, 50, 51, 52, 53, 54, 55, 56, 57, 58, 59, 60, 61, 62, 63, 64, 65, 66, 67, 68, 69, 70, 71, 72, 73, 74, 75, 76, 77, 78, 79, 80, 81, 82, 83, 84, 85, 86, 87, 88, 89, 90, 91, 92, 93, 94, 95, 96, 97, 98, 99], \"y\": [0.7876917141458819, -0.4927411666792617, 1.0974937036873178, -0.4439206985018027, 0.2887527016408452, 1.6742941592395084, 0.09769658941939971, -0.5725516723706708, -0.5492592727640042, -1.5202236019398916, 0.38823943145541134, 1.6282609740421874, 0.7326277731686339, 0.06730103330838098, 0.3402060045322037, 0.09507628974658346, -0.02434056897616973, -0.3543784939901299, -1.223788539698824, -0.6343497374288385, 0.26653812477656896, 1.438206680395697, 0.2415253255836718, -0.5987723898434579, -0.9171915030653498, 0.11207252291134627, 0.05451867791386243, 0.4112131470328786, 0.44492768680055544, 0.2518950357633279, 1.2463146582630462, -0.2112880449759986, 1.3866651715692133, -0.6856964980957535, -0.4222120528187373, 1.1922204650983412, 0.15401391008934873, -2.1054080496754954, 0.022291737503580638, 0.7897529100041379, -1.2690774934764053, -0.7350699839334449, -1.0471268941827443, -1.0153320689971657, 0.78785482367279, 0.7361749374278779, -1.1345914803012231, -0.5683363178024483, -0.49464389117558116, 0.23422581647806803, -2.1553512566379696, -1.2433197111777519, -0.8198086705514108, -0.46962743588801903, -0.2882913723683333, 0.8983233686389277, 0.9084568051309245, -0.44221663833346375, 1.0293957279524568, 2.0421754421017866, 0.03945373112628942, -0.2750148513970318, -1.2201128479118042, -0.1738405812640102, 0.2875423811571659, -0.8738739689146106, 0.7014107545116337, -2.3002964933232692, -0.6253456459787136, -1.8275246768702471, -0.15907550729462694, 0.5844077990293167, -0.2301648650344321, 0.33009928176921377, 0.5445848145905013, 0.5057947642888931, 0.41536259213452914, -0.3776968113879913, -0.7157916944803, 0.12712187178968135, 0.3765080960387935, 0.10454994680141004, -0.2067836441219874, -1.2982007775309201, 0.8728751802177441, -0.4558648151654358, 1.4143397838621108, -0.2283862758991108, -0.7885106007484821, -0.6237266472566988, 0.03162986437150248, -0.212029724448196, -0.20608606868251564, -0.6031391322763106, 0.2657646502926192, 1.2832959415010545, 0.47691329850658754, 0.11495505177277747, 1.8470207470600093, 0.8959979991642596]}, {\"connectgaps\": false, \"fill\": \"tozeroy\", \"line\": {\"color\": \"green\", \"dash\": \"solid\", \"shape\": \"linear\", \"width\": 0.5}, \"mode\": \"lines\", \"name\": \"Spread\", \"showlegend\": false, \"type\": \"scatter\", \"x\": [0, 1, 2, 3, 4, 5, 6, 7, 8, 9, 10, 11, 12, 13, 14, 15, 16, 17, 18, 19, 20, 21, 22, 23, 24, 25, 26, 27, 28, 29, 30, 31, 32, 33, 34, 35, 36, 37, 38, 39, 40, 41, 42, 43, 44, 45, 46, 47, 48, 49, 50, 51, 52, 53, 54, 55, 56, 57, 58, 59, 60, 61, 62, 63, 64, 65, 66, 67, 68, 69, 70, 71, 72, 73, 74, 75, 76, 77, 78, 79, 80, 81, 82, 83, 84, 85, 86, 87, 88, 89, 90, 91, 92, 93, 94, 95, 96, 97, 98, 99], \"xaxis\": \"x2\", \"y\": [\"\", \"\", \"\", \"\", \"\", \"\", 1.054428542808361, 1.3182033643421238, 0.13956707446345512, \"\", 0.7280094300784641, \"\", \"\", \"\", \"\", \"\", 0.21429126338752202, 0.050094781039457525, 0.38604309539453374, 1.709270713630576, \"\", \"\", \"\", 1.1867231087408654, 1.320251090454225, 0.16376455445227478, \"\", \"\", \"\", \"\", \"\", 0.7313031640769481, \"\", 0.9634614954769389, 0.040813651238273574, \"\", \"\", 2.621793984158269, 0.006642037180931364, 0.05156022562937357, 2.6690967246568293, 0.49375040180433283, 0.36791645655679384, 0.9187643516391398, \"\", \"\", \"\", \"\", \"\", \"\", 3.816117288096194, 1.8492493771674212, 0.4930547669088889, 1.2169842477779422, 1.551991746451955, \"\", \"\", 0.7047698746612113, \"\", \"\", \"\", 0.8084232305538956, 1.1079978790321112, 1.3218995284936543, \"\", 1.2168588047496849, \"\", 1.9363344374087765, 1.5177510875932998, 1.8213930834759589, 0.9594076821959205, \"\", \"\", 0.9035299479788895, \"\", \"\", \"\", 2.060457106591765, 2.286404348155374, \"\", \"\", \"\", 0.09545474852872352, 0.6298903878413097, \"\", 1.3579242617254421, \"\", 0.20126725690063327, 0.48018219002040435, 0.19789721058187842, 0.41173048078622265, 1.3279962147012805, 0.26283245472416883, \"\", \"\", \"\", \"\", \"\", \"\", \"\"], \"yaxis\": \"y2\"}, {\"connectgaps\": false, \"fill\": \"tozeroy\", \"line\": {\"color\": \"red\", \"dash\": \"solid\", \"shape\": \"linear\", \"width\": 0.5}, \"mode\": \"lines\", \"name\": \"Spread\", \"showlegend\": false, \"type\": \"scatter\", \"x\": [0, 1, 2, 3, 4, 5, 6, 7, 8, 9, 10, 11, 12, 13, 14, 15, 16, 17, 18, 19, 20, 21, 22, 23, 24, 25, 26, 27, 28, 29, 30, 31, 32, 33, 34, 35, 36, 37, 38, 39, 40, 41, 42, 43, 44, 45, 46, 47, 48, 49, 50, 51, 52, 53, 54, 55, 56, 57, 58, 59, 60, 61, 62, 63, 64, 65, 66, 67, 68, 69, 70, 71, 72, 73, 74, 75, 76, 77, 78, 79, 80, 81, 82, 83, 84, 85, 86, 87, 88, 89, 90, 91, 92, 93, 94, 95, 96, 97, 98, 99], \"xaxis\": \"x2\", \"y\": [-1.1217096697908047, -0.3640090680187362, -1.2022242628585085, -0.5113543475788852, -1.9043226567003924, -1.2222097289098812, \"\", \"\", \"\", -0.3084309961691756, \"\", -1.8674404353932275, -1.1505852413691438, -0.6831297206347468, -0.5054295770849588, -1.241766029226952, \"\", \"\", \"\", \"\", -0.7701889190203337, -0.6904459503923763, -0.6996524537569175, \"\", \"\", \"\", -1.238918297640063, -0.38831931312652385, -0.7853213886420547, -1.9685735945351135, -0.7640775962173825, \"\", -2.093110812695573, \"\", \"\", -1.1909490030906533, -1.052497052568598, \"\", \"\", \"\", \"\", \"\", \"\", \"\", -1.43537472260354, -0.18795124410168185, -0.24739231732634903, -1.057923251449135, -1.8216964435270215, -0.15954065843684195, \"\", \"\", \"\", \"\", \"\", -2.2999649686476555, -0.9055930432697026, \"\", -3.1410616490298535, -1.107681779111184, -0.2027612550711523, \"\", \"\", \"\", -0.9515669589961755, \"\", -0.9312020027792532, \"\", \"\", \"\", \"\", -0.22993413042001937, -0.10524530374722477, \"\", -1.34010291563103, -0.49470831607998866, -0.1379906685867484, \"\", \"\", -0.6293589420317199, -1.8594159505549759, -1.6595819070980595, \"\", \"\", -1.3019507440070088, \"\", -2.427495133740436, \"\", \"\", \"\", \"\", \"\", \"\", -1.0140620820436528, -1.841324275902043, -1.1741033196350998, -1.0618679836937632, -1.54572881189358, -2.182036331188269, -1.0846408367903808], \"yaxis\": \"y2\"}],                        {\"hovermode\": \"x\", \"legend\": {\"bgcolor\": \"#F5F6F9\", \"font\": {\"color\": \"#4D5663\"}}, \"paper_bgcolor\": \"#F5F6F9\", \"plot_bgcolor\": \"#F5F6F9\", \"template\": {\"data\": {\"bar\": [{\"error_x\": {\"color\": \"#2a3f5f\"}, \"error_y\": {\"color\": \"#2a3f5f\"}, \"marker\": {\"line\": {\"color\": \"#E5ECF6\", \"width\": 0.5}}, \"type\": \"bar\"}], \"barpolar\": [{\"marker\": {\"line\": {\"color\": \"#E5ECF6\", \"width\": 0.5}}, \"type\": \"barpolar\"}], \"carpet\": [{\"aaxis\": {\"endlinecolor\": \"#2a3f5f\", \"gridcolor\": \"white\", \"linecolor\": \"white\", \"minorgridcolor\": \"white\", \"startlinecolor\": \"#2a3f5f\"}, \"baxis\": {\"endlinecolor\": \"#2a3f5f\", \"gridcolor\": \"white\", \"linecolor\": \"white\", \"minorgridcolor\": \"white\", \"startlinecolor\": \"#2a3f5f\"}, \"type\": \"carpet\"}], \"choropleth\": [{\"colorbar\": {\"outlinewidth\": 0, \"ticks\": \"\"}, \"type\": \"choropleth\"}], \"contour\": [{\"colorbar\": {\"outlinewidth\": 0, \"ticks\": \"\"}, \"colorscale\": [[0.0, \"#0d0887\"], [0.1111111111111111, \"#46039f\"], [0.2222222222222222, \"#7201a8\"], [0.3333333333333333, \"#9c179e\"], [0.4444444444444444, \"#bd3786\"], [0.5555555555555556, \"#d8576b\"], [0.6666666666666666, \"#ed7953\"], [0.7777777777777778, \"#fb9f3a\"], [0.8888888888888888, \"#fdca26\"], [1.0, \"#f0f921\"]], \"type\": \"contour\"}], \"contourcarpet\": [{\"colorbar\": {\"outlinewidth\": 0, \"ticks\": \"\"}, \"type\": \"contourcarpet\"}], \"heatmap\": [{\"colorbar\": {\"outlinewidth\": 0, \"ticks\": \"\"}, \"colorscale\": [[0.0, \"#0d0887\"], [0.1111111111111111, \"#46039f\"], [0.2222222222222222, \"#7201a8\"], [0.3333333333333333, \"#9c179e\"], [0.4444444444444444, \"#bd3786\"], [0.5555555555555556, \"#d8576b\"], [0.6666666666666666, \"#ed7953\"], [0.7777777777777778, \"#fb9f3a\"], [0.8888888888888888, \"#fdca26\"], [1.0, \"#f0f921\"]], \"type\": \"heatmap\"}], \"heatmapgl\": [{\"colorbar\": {\"outlinewidth\": 0, \"ticks\": \"\"}, \"colorscale\": [[0.0, \"#0d0887\"], [0.1111111111111111, \"#46039f\"], [0.2222222222222222, \"#7201a8\"], [0.3333333333333333, \"#9c179e\"], [0.4444444444444444, \"#bd3786\"], [0.5555555555555556, \"#d8576b\"], [0.6666666666666666, \"#ed7953\"], [0.7777777777777778, \"#fb9f3a\"], [0.8888888888888888, \"#fdca26\"], [1.0, \"#f0f921\"]], \"type\": \"heatmapgl\"}], \"histogram\": [{\"marker\": {\"colorbar\": {\"outlinewidth\": 0, \"ticks\": \"\"}}, \"type\": \"histogram\"}], \"histogram2d\": [{\"colorbar\": {\"outlinewidth\": 0, \"ticks\": \"\"}, \"colorscale\": [[0.0, \"#0d0887\"], [0.1111111111111111, \"#46039f\"], [0.2222222222222222, \"#7201a8\"], [0.3333333333333333, \"#9c179e\"], [0.4444444444444444, \"#bd3786\"], [0.5555555555555556, \"#d8576b\"], [0.6666666666666666, \"#ed7953\"], [0.7777777777777778, \"#fb9f3a\"], [0.8888888888888888, \"#fdca26\"], [1.0, \"#f0f921\"]], \"type\": \"histogram2d\"}], \"histogram2dcontour\": [{\"colorbar\": {\"outlinewidth\": 0, \"ticks\": \"\"}, \"colorscale\": [[0.0, \"#0d0887\"], [0.1111111111111111, \"#46039f\"], [0.2222222222222222, \"#7201a8\"], [0.3333333333333333, \"#9c179e\"], [0.4444444444444444, \"#bd3786\"], [0.5555555555555556, \"#d8576b\"], [0.6666666666666666, \"#ed7953\"], [0.7777777777777778, \"#fb9f3a\"], [0.8888888888888888, \"#fdca26\"], [1.0, \"#f0f921\"]], \"type\": \"histogram2dcontour\"}], \"mesh3d\": [{\"colorbar\": {\"outlinewidth\": 0, \"ticks\": \"\"}, \"type\": \"mesh3d\"}], \"parcoords\": [{\"line\": {\"colorbar\": {\"outlinewidth\": 0, \"ticks\": \"\"}}, \"type\": \"parcoords\"}], \"pie\": [{\"automargin\": true, \"type\": \"pie\"}], \"scatter\": [{\"marker\": {\"colorbar\": {\"outlinewidth\": 0, \"ticks\": \"\"}}, \"type\": \"scatter\"}], \"scatter3d\": [{\"line\": {\"colorbar\": {\"outlinewidth\": 0, \"ticks\": \"\"}}, \"marker\": {\"colorbar\": {\"outlinewidth\": 0, \"ticks\": \"\"}}, \"type\": \"scatter3d\"}], \"scattercarpet\": [{\"marker\": {\"colorbar\": {\"outlinewidth\": 0, \"ticks\": \"\"}}, \"type\": \"scattercarpet\"}], \"scattergeo\": [{\"marker\": {\"colorbar\": {\"outlinewidth\": 0, \"ticks\": \"\"}}, \"type\": \"scattergeo\"}], \"scattergl\": [{\"marker\": {\"colorbar\": {\"outlinewidth\": 0, \"ticks\": \"\"}}, \"type\": \"scattergl\"}], \"scattermapbox\": [{\"marker\": {\"colorbar\": {\"outlinewidth\": 0, \"ticks\": \"\"}}, \"type\": \"scattermapbox\"}], \"scatterpolar\": [{\"marker\": {\"colorbar\": {\"outlinewidth\": 0, \"ticks\": \"\"}}, \"type\": \"scatterpolar\"}], \"scatterpolargl\": [{\"marker\": {\"colorbar\": {\"outlinewidth\": 0, \"ticks\": \"\"}}, \"type\": \"scatterpolargl\"}], \"scatterternary\": [{\"marker\": {\"colorbar\": {\"outlinewidth\": 0, \"ticks\": \"\"}}, \"type\": \"scatterternary\"}], \"surface\": [{\"colorbar\": {\"outlinewidth\": 0, \"ticks\": \"\"}, \"colorscale\": [[0.0, \"#0d0887\"], [0.1111111111111111, \"#46039f\"], [0.2222222222222222, \"#7201a8\"], [0.3333333333333333, \"#9c179e\"], [0.4444444444444444, \"#bd3786\"], [0.5555555555555556, \"#d8576b\"], [0.6666666666666666, \"#ed7953\"], [0.7777777777777778, \"#fb9f3a\"], [0.8888888888888888, \"#fdca26\"], [1.0, \"#f0f921\"]], \"type\": \"surface\"}], \"table\": [{\"cells\": {\"fill\": {\"color\": \"#EBF0F8\"}, \"line\": {\"color\": \"white\"}}, \"header\": {\"fill\": {\"color\": \"#C8D4E3\"}, \"line\": {\"color\": \"white\"}}, \"type\": \"table\"}]}, \"layout\": {\"annotationdefaults\": {\"arrowcolor\": \"#2a3f5f\", \"arrowhead\": 0, \"arrowwidth\": 1}, \"coloraxis\": {\"colorbar\": {\"outlinewidth\": 0, \"ticks\": \"\"}}, \"colorscale\": {\"diverging\": [[0, \"#8e0152\"], [0.1, \"#c51b7d\"], [0.2, \"#de77ae\"], [0.3, \"#f1b6da\"], [0.4, \"#fde0ef\"], [0.5, \"#f7f7f7\"], [0.6, \"#e6f5d0\"], [0.7, \"#b8e186\"], [0.8, \"#7fbc41\"], [0.9, \"#4d9221\"], [1, \"#276419\"]], \"sequential\": [[0.0, \"#0d0887\"], [0.1111111111111111, \"#46039f\"], [0.2222222222222222, \"#7201a8\"], [0.3333333333333333, \"#9c179e\"], [0.4444444444444444, \"#bd3786\"], [0.5555555555555556, \"#d8576b\"], [0.6666666666666666, \"#ed7953\"], [0.7777777777777778, \"#fb9f3a\"], [0.8888888888888888, \"#fdca26\"], [1.0, \"#f0f921\"]], \"sequentialminus\": [[0.0, \"#0d0887\"], [0.1111111111111111, \"#46039f\"], [0.2222222222222222, \"#7201a8\"], [0.3333333333333333, \"#9c179e\"], [0.4444444444444444, \"#bd3786\"], [0.5555555555555556, \"#d8576b\"], [0.6666666666666666, \"#ed7953\"], [0.7777777777777778, \"#fb9f3a\"], [0.8888888888888888, \"#fdca26\"], [1.0, \"#f0f921\"]]}, \"colorway\": [\"#636efa\", \"#EF553B\", \"#00cc96\", \"#ab63fa\", \"#FFA15A\", \"#19d3f3\", \"#FF6692\", \"#B6E880\", \"#FF97FF\", \"#FECB52\"], \"font\": {\"color\": \"#2a3f5f\"}, \"geo\": {\"bgcolor\": \"white\", \"lakecolor\": \"white\", \"landcolor\": \"#E5ECF6\", \"showlakes\": true, \"showland\": true, \"subunitcolor\": \"white\"}, \"hoverlabel\": {\"align\": \"left\"}, \"hovermode\": \"closest\", \"mapbox\": {\"style\": \"light\"}, \"paper_bgcolor\": \"white\", \"plot_bgcolor\": \"#E5ECF6\", \"polar\": {\"angularaxis\": {\"gridcolor\": \"white\", \"linecolor\": \"white\", \"ticks\": \"\"}, \"bgcolor\": \"#E5ECF6\", \"radialaxis\": {\"gridcolor\": \"white\", \"linecolor\": \"white\", \"ticks\": \"\"}}, \"scene\": {\"xaxis\": {\"backgroundcolor\": \"#E5ECF6\", \"gridcolor\": \"white\", \"gridwidth\": 2, \"linecolor\": \"white\", \"showbackground\": true, \"ticks\": \"\", \"zerolinecolor\": \"white\"}, \"yaxis\": {\"backgroundcolor\": \"#E5ECF6\", \"gridcolor\": \"white\", \"gridwidth\": 2, \"linecolor\": \"white\", \"showbackground\": true, \"ticks\": \"\", \"zerolinecolor\": \"white\"}, \"zaxis\": {\"backgroundcolor\": \"#E5ECF6\", \"gridcolor\": \"white\", \"gridwidth\": 2, \"linecolor\": \"white\", \"showbackground\": true, \"ticks\": \"\", \"zerolinecolor\": \"white\"}}, \"shapedefaults\": {\"line\": {\"color\": \"#2a3f5f\"}}, \"ternary\": {\"aaxis\": {\"gridcolor\": \"white\", \"linecolor\": \"white\", \"ticks\": \"\"}, \"baxis\": {\"gridcolor\": \"white\", \"linecolor\": \"white\", \"ticks\": \"\"}, \"bgcolor\": \"#E5ECF6\", \"caxis\": {\"gridcolor\": \"white\", \"linecolor\": \"white\", \"ticks\": \"\"}}, \"title\": {\"x\": 0.05}, \"xaxis\": {\"automargin\": true, \"gridcolor\": \"white\", \"linecolor\": \"white\", \"ticks\": \"\", \"title\": {\"standoff\": 15}, \"zerolinecolor\": \"white\", \"zerolinewidth\": 2}, \"yaxis\": {\"automargin\": true, \"gridcolor\": \"white\", \"linecolor\": \"white\", \"ticks\": \"\", \"title\": {\"standoff\": 15}, \"zerolinecolor\": \"white\", \"zerolinewidth\": 2}}}, \"title\": {\"font\": {\"color\": \"#4D5663\"}}, \"xaxis\": {\"gridcolor\": \"#E1E5ED\", \"showgrid\": true, \"tickfont\": {\"color\": \"#4D5663\"}, \"title\": {\"font\": {\"color\": \"#4D5663\"}, \"text\": \"\"}, \"zerolinecolor\": \"#E1E5ED\"}, \"xaxis2\": {\"anchor\": \"y2\", \"gridcolor\": \"#E1E5ED\", \"showgrid\": true, \"showticklabels\": false, \"tickfont\": {\"color\": \"#4D5663\"}, \"title\": {\"font\": {\"color\": \"#4D5663\"}, \"text\": \"\"}, \"zerolinecolor\": \"#E1E5ED\"}, \"yaxis\": {\"domain\": [0.3, 1], \"gridcolor\": \"#E1E5ED\", \"showgrid\": true, \"tickfont\": {\"color\": \"#4D5663\"}, \"title\": {\"font\": {\"color\": \"#4D5663\"}, \"text\": \"\"}, \"zerolinecolor\": \"#E1E5ED\"}, \"yaxis2\": {\"domain\": [0, 0.25], \"gridcolor\": \"#E1E5ED\", \"showgrid\": true, \"tickfont\": {\"color\": \"#4D5663\"}, \"title\": {\"font\": {\"color\": \"#4D5663\"}, \"text\": \"Spread\"}, \"zerolinecolor\": \"#E1E5ED\"}},                        {\"showLink\": true, \"linkText\": \"Export to plot.ly\", \"plotlyServerURL\": \"https://plot.ly\", \"responsive\": true}                    ).then(function(){\n",
       "                            \n",
       "var gd = document.getElementById('9268f8d5-5c15-4743-abbb-f5d0d1ab8a69');\n",
       "var x = new MutationObserver(function (mutations, observer) {{\n",
       "        var display = window.getComputedStyle(gd).display;\n",
       "        if (!display || display === 'none') {{\n",
       "            console.log([gd, 'removed!']);\n",
       "            Plotly.purge(gd);\n",
       "            observer.disconnect();\n",
       "        }}\n",
       "}});\n",
       "\n",
       "// Listen for the removal of the full notebook cells\n",
       "var notebookContainer = gd.closest('#notebook-container');\n",
       "if (notebookContainer) {{\n",
       "    x.observe(notebookContainer, {childList: true});\n",
       "}}\n",
       "\n",
       "// Listen for the clearing of the current output cell\n",
       "var outputEl = gd.closest('.output');\n",
       "if (outputEl) {{\n",
       "    x.observe(outputEl, {childList: true});\n",
       "}}\n",
       "\n",
       "                        })                };                });            </script>        </div>"
      ]
     },
     "metadata": {},
     "output_type": "display_data"
    }
   ],
   "source": [
    "df[['A','B']].iplot(kind='spread')"
   ]
  },
  {
   "cell_type": "markdown",
   "metadata": {},
   "source": [
    "Histogram"
   ]
  },
  {
   "cell_type": "code",
   "execution_count": 79,
   "metadata": {},
   "outputs": [
    {
     "data": {
      "text/plain": [
       "<AxesSubplot:ylabel='Frequency'>"
      ]
     },
     "execution_count": 79,
     "metadata": {},
     "output_type": "execute_result"
    },
    {
     "data": {
      "image/png": "[encoded data removed]",
      "text/plain": [
       "<Figure size 432x288 with 1 Axes>"
      ]
     },
     "metadata": {
      "needs_background": "light"
     },
     "output_type": "display_data"
    }
   ],
   "source": [
    "df['A'].plot(kind='hist',bins=25)"
   ]
  },
  {
   "cell_type": "code",
   "execution_count": null,
   "metadata": {},
   "outputs": [],
   "source": []
  },
  {
   "cell_type": "code",
   "execution_count": 84,
   "metadata": {},
   "outputs": [
    {
     "data": {
      "application/vnd.plotly.v1+json": {
       "config": {
        "linkText": "Export to plot.ly",
        "plotlyServerURL": "https://plot.ly",
        "showLink": true
       },
       "data": [
        {
         "marker": {
          "color": [
           "rgb(255, 153, 51)",
           "rgb(55, 128, 191)",
           "rgb(50, 171, 96)",
           "rgb(128, 0, 128)",
           "rgb(219, 64, 82)",
           "rgb(0, 128, 128)",
           "rgb(255, 255, 51)",
           "rgb(128, 128, 0)",
           "rgb(251, 128, 114)",
           "rgb(128, 177, 211)"
          ],
          "line": {
           "width": 1.3
          },
          "size": [
           64,
           41,
           37,
           49,
           81,
           69,
           39,
           26,
           76,
           45,
           43,
           29,
           28,
           59,
           96,
           72,
           76,
           53,
           43,
           20,
           66,
           47,
           29,
           51,
           27,
           53,
           77,
           46,
           74,
           21,
           54,
           71,
           112,
           47,
           75,
           68,
           63,
           66,
           71,
           101,
           88,
           32,
           47,
           43,
           70,
           106,
           25,
           105,
           68,
           69,
           77,
           92,
           50,
           78,
           64,
           65,
           99,
           54,
           42,
           37,
           17,
           52,
           51,
           47,
           20,
           103,
           44,
           84,
           37,
           77,
           44,
           89,
           63,
           61,
           48,
           69,
           69,
           56,
           43,
           34,
           93,
           41,
           43,
           93,
           94,
           57,
           70,
           83,
           41,
           78,
           44,
           109,
           77,
           105,
           88,
           12,
           61,
           41,
           86,
           100
          ],
          "symbol": "circle"
         },
         "mode": "markers",
         "text": "",
         "type": "scatter",
         "x": [
          -0.33401795564492287,
          -0.8567502346979979,
          -0.10473055917119059,
          -0.9552750460806879,
          -1.615569955059547,
          0.45208443032962725,
          1.1521251322277608,
          0.745651691971453,
          -0.4096921983005491,
          -1.8286545981090672,
          1.1162488615338755,
          -0.23917946135104004,
          -0.41795746820050994,
          -0.6158286873263658,
          -0.16522357255275513,
          -1.1466897394803683,
          0.1899506944113523,
          -0.30428371295067236,
          -0.8377454443042902,
          1.0749209762017375,
          -0.5036507942437648,
          0.7477607300033207,
          -0.4581271281732457,
          0.5879507188974076,
          0.4030595873888752,
          0.27583707736362106,
          -1.1843996197262006,
          0.02289383390635474,
          -0.3403937018414992,
          -1.7166785587717857,
          0.4822370620456638,
          0.5200151191009494,
          -0.7064456411263597,
          0.2777649973811855,
          -0.38139840158046373,
          0.0012714620076879613,
          -0.8984831424792492,
          0.5163859344827737,
          0.028933774684512,
          0.8413131356335115,
          1.400019231180424,
          -0.2413195821291121,
          -0.6792104376259505,
          -0.09656771735802587,
          -0.6475198989307501,
          0.548223693326196,
          -1.3819837976275722,
          -1.6262595692515833,
          -2.316340334702603,
          0.0746851580412261,
          1.6607660314582249,
          0.6059296659896694,
          -0.32675390364252194,
          0.7473568118899233,
          1.2637003740836217,
          -1.4016416000087277,
          0.0028637618612219018,
          0.2625532363277476,
          -2.111665921077397,
          0.9344936629906027,
          -0.1633075239448629,
          0.5334083791568638,
          -0.11211496887969293,
          1.148058947229644,
          -0.6640245778390096,
          0.3429848358350742,
          -0.22979124826761954,
          -0.36396205591449277,
          0.8924054416145863,
          -0.0061315933942883444,
          0.8003321749012936,
          0.35447366860929735,
          -0.33541016878165686,
          1.2336292297481033,
          -0.7955181010405288,
          0.011086448208904488,
          0.27737192354778073,
          1.682760295203774,
          1.5706126536750737,
          -0.5022370702420386,
          -1.4829078545161825,
          -1.5550319602966496,
          -0.1113288955932639,
          -0.6683103896896104,
          -0.42907556378926476,
          0.9020594465600063,
          -1.0131553498783252,
          -0.02711901899847754,
          -0.30832841072807776,
          -0.42582943667482037,
          0.44336034515772516,
          1.1159664902530844,
          0.056746386041653184,
          -1.6172012143199634,
          -1.5755596256094238,
          0.1091926218659547,
          -0.5849546851871757,
          -1.4307737601208024,
          -0.33501558412825977,
          -0.1886428376261212
         ],
         "y": [
          0.7876917141458819,
          -0.4927411666792617,
          1.0974937036873178,
          -0.4439206985018027,
          0.2887527016408452,
          1.6742941592395084,
          0.09769658941939971,
          -0.5725516723706708,
          -0.5492592727640042,
          -1.5202236019398916,
          0.38823943145541134,
          1.6282609740421874,
          0.7326277731686339,
          0.06730103330838098,
          0.3402060045322037,
          0.09507628974658346,
          -0.02434056897616973,
          -0.3543784939901299,
          -1.223788539698824,
          -0.6343497374288385,
          0.26653812477656896,
          1.438206680395697,
          0.2415253255836718,
          -0.5987723898434579,
          -0.9171915030653498,
          0.11207252291134627,
          0.05451867791386243,
          0.4112131470328786,
          0.44492768680055544,
          0.2518950357633279,
          1.2463146582630462,
          -0.2112880449759986,
          1.3866651715692133,
          -0.6856964980957535,
          -0.4222120528187373,
          1.1922204650983412,
          0.15401391008934873,
          -2.1054080496754954,
          0.022291737503580638,
          0.7897529100041379,
          -1.2690774934764053,
          -0.7350699839334449,
          -1.0471268941827443,
          -1.0153320689971657,
          0.78785482367279,
          0.7361749374278779,
          -1.1345914803012231,
          -0.5683363178024483,
          -0.49464389117558116,
          0.23422581647806803,
          -2.1553512566379696,
          -1.2433197111777519,
          -0.8198086705514108,
          -0.46962743588801903,
          -0.2882913723683333,
          0.8983233686389277,
          0.9084568051309245,
          -0.44221663833346375,
          1.0293957279524568,
          2.0421754421017866,
          0.03945373112628942,
          -0.2750148513970318,
          -1.2201128479118042,
          -0.1738405812640102,
          0.2875423811571659,
          -0.8738739689146106,
          0.7014107545116337,
          -2.3002964933232692,
          -0.6253456459787136,
          -1.8275246768702471,
          -0.15907550729462694,
          0.5844077990293167,
          -0.2301648650344321,
          0.33009928176921377,
          0.5445848145905013,
          0.5057947642888931,
          0.41536259213452914,
          -0.3776968113879913,
          -0.7157916944803,
          0.12712187178968135,
          0.3765080960387935,
          0.10454994680141004,
          -0.2067836441219874,
          -1.2982007775309201,
          0.8728751802177441,
          -0.4558648151654358,
          1.4143397838621108,
          -0.2283862758991108,
          -0.7885106007484821,
          -0.6237266472566988,
          0.03162986437150248,
          -0.212029724448196,
          -0.20608606868251564,
          -0.6031391322763106,
          0.2657646502926192,
          1.2832959415010545,
          0.47691329850658754,
          0.11495505177277747,
          1.8470207470600093,
          0.8959979991642596
         ]
        }
       ],
       "layout": {
        "legend": {
         "bgcolor": "#F5F6F9",
         "font": {
          "color": "#4D5663"
         }
        },
        "paper_bgcolor": "#F5F6F9",
        "plot_bgcolor": "#F5F6F9",
        "template": {
         "data": {
          "bar": [
           {
            "error_x": {
             "color": "#2a3f5f"
            },
            "error_y": {
             "color": "#2a3f5f"
            },
            "marker": {
             "line": {
              "color": "#E5ECF6",
              "width": 0.5
             }
            },
            "type": "bar"
           }
          ],
          "barpolar": [
           {
            "marker": {
             "line": {
              "color": "#E5ECF6",
              "width": 0.5
             }
            },
            "type": "barpolar"
           }
          ],
          "carpet": [
           {
            "aaxis": {
             "endlinecolor": "#2a3f5f",
             "gridcolor": "white",
             "linecolor": "white",
             "minorgridcolor": "white",
             "startlinecolor": "#2a3f5f"
            },
            "baxis": {
             "endlinecolor": "#2a3f5f",
             "gridcolor": "white",
             "linecolor": "white",
             "minorgridcolor": "white",
             "startlinecolor": "#2a3f5f"
            },
            "type": "carpet"
           }
          ],
          "choropleth": [
           {
            "colorbar": {
             "outlinewidth": 0,
             "ticks": ""
            },
            "type": "choropleth"
           }
          ],
          "contour": [
           {
            "colorbar": {
             "outlinewidth": 0,
             "ticks": ""
            },
            "colorscale": [
             [
              0,
              "#0d0887"
             ],
             [
              0.1111111111111111,
              "#46039f"
             ],
             [
              0.2222222222222222,
              "#7201a8"
             ],
             [
              0.3333333333333333,
              "#9c179e"
             ],
             [
              0.4444444444444444,
              "#bd3786"
             ],
             [
              0.5555555555555556,
              "#d8576b"
             ],
             [
              0.6666666666666666,
              "#ed7953"
             ],
             [
              0.7777777777777778,
              "#fb9f3a"
             ],
             [
              0.8888888888888888,
              "#fdca26"
             ],
             [
              1,
              "#f0f921"
             ]
            ],
            "type": "contour"
           }
          ],
          "contourcarpet": [
           {
            "colorbar": {
             "outlinewidth": 0,
             "ticks": ""
            },
            "type": "contourcarpet"
           }
          ],
          "heatmap": [
           {
            "colorbar": {
             "outlinewidth": 0,
             "ticks": ""
            },
            "colorscale": [
             [
              0,
              "#0d0887"
             ],
             [
              0.1111111111111111,
              "#46039f"
             ],
             [
              0.2222222222222222,
              "#7201a8"
             ],
             [
              0.3333333333333333,
              "#9c179e"
             ],
             [
              0.4444444444444444,
              "#bd3786"
             ],
             [
              0.5555555555555556,
              "#d8576b"
             ],
             [
              0.6666666666666666,
              "#ed7953"
             ],
             [
              0.7777777777777778,
              "#fb9f3a"
             ],
             [
              0.8888888888888888,
              "#fdca26"
             ],
             [
              1,
              "#f0f921"
             ]
            ],
            "type": "heatmap"
           }
          ],
          "heatmapgl": [
           {
            "colorbar": {
             "outlinewidth": 0,
             "ticks": ""
            },
            "colorscale": [
             [
              0,
              "#0d0887"
             ],
             [
              0.1111111111111111,
              "#46039f"
             ],
             [
              0.2222222222222222,
              "#7201a8"
             ],
             [
              0.3333333333333333,
              "#9c179e"
             ],
             [
              0.4444444444444444,
              "#bd3786"
             ],
             [
              0.5555555555555556,
              "#d8576b"
             ],
             [
              0.6666666666666666,
              "#ed7953"
             ],
             [
              0.7777777777777778,
              "#fb9f3a"
             ],
             [
              0.8888888888888888,
              "#fdca26"
             ],
             [
              1,
              "#f0f921"
             ]
            ],
            "type": "heatmapgl"
           }
          ],
          "histogram": [
           {
            "marker": {
             "colorbar": {
              "outlinewidth": 0,
              "ticks": ""
             }
            },
            "type": "histogram"
           }
          ],
          "histogram2d": [
           {
            "colorbar": {
             "outlinewidth": 0,
             "ticks": ""
            },
            "colorscale": [
             [
              0,
              "#0d0887"
             ],
             [
              0.1111111111111111,
              "#46039f"
             ],
             [
              0.2222222222222222,
              "#7201a8"
             ],
             [
              0.3333333333333333,
              "#9c179e"
             ],
             [
              0.4444444444444444,
              "#bd3786"
             ],
             [
              0.5555555555555556,
              "#d8576b"
             ],
             [
              0.6666666666666666,
              "#ed7953"
             ],
             [
              0.7777777777777778,
              "#fb9f3a"
             ],
             [
              0.8888888888888888,
              "#fdca26"
             ],
             [
              1,
              "#f0f921"
             ]
            ],
            "type": "histogram2d"
           }
          ],
          "histogram2dcontour": [
           {
            "colorbar": {
             "outlinewidth": 0,
             "ticks": ""
            },
            "colorscale": [
             [
              0,
              "#0d0887"
             ],
             [
              0.1111111111111111,
              "#46039f"
             ],
             [
              0.2222222222222222,
              "#7201a8"
             ],
             [
              0.3333333333333333,
              "#9c179e"
             ],
             [
              0.4444444444444444,
              "#bd3786"
             ],
             [
              0.5555555555555556,
              "#d8576b"
             ],
             [
              0.6666666666666666,
              "#ed7953"
             ],
             [
              0.7777777777777778,
              "#fb9f3a"
             ],
             [
              0.8888888888888888,
              "#fdca26"
             ],
             [
              1,
              "#f0f921"
             ]
            ],
            "type": "histogram2dcontour"
           }
          ],
          "mesh3d": [
           {
            "colorbar": {
             "outlinewidth": 0,
             "ticks": ""
            },
            "type": "mesh3d"
           }
          ],
          "parcoords": [
           {
            "line": {
             "colorbar": {
              "outlinewidth": 0,
              "ticks": ""
             }
            },
            "type": "parcoords"
           }
          ],
          "pie": [
           {
            "automargin": true,
            "type": "pie"
           }
          ],
          "scatter": [
           {
            "marker": {
             "colorbar": {
              "outlinewidth": 0,
              "ticks": ""
             }
            },
            "type": "scatter"
           }
          ],
          "scatter3d": [
           {
            "line": {
             "colorbar": {
              "outlinewidth": 0,
              "ticks": ""
             }
            },
            "marker": {
             "colorbar": {
              "outlinewidth": 0,
              "ticks": ""
             }
            },
            "type": "scatter3d"
           }
          ],
          "scattercarpet": [
           {
            "marker": {
             "colorbar": {
              "outlinewidth": 0,
              "ticks": ""
             }
            },
            "type": "scattercarpet"
           }
          ],
          "scattergeo": [
           {
            "marker": {
             "colorbar": {
              "outlinewidth": 0,
              "ticks": ""
             }
            },
            "type": "scattergeo"
           }
          ],
          "scattergl": [
           {
            "marker": {
             "colorbar": {
              "outlinewidth": 0,
              "ticks": ""
             }
            },
            "type": "scattergl"
           }
          ],
          "scattermapbox": [
           {
            "marker": {
             "colorbar": {
              "outlinewidth": 0,
              "ticks": ""
             }
            },
            "type": "scattermapbox"
           }
          ],
          "scatterpolar": [
           {
            "marker": {
             "colorbar": {
              "outlinewidth": 0,
              "ticks": ""
             }
            },
            "type": "scatterpolar"
           }
          ],
          "scatterpolargl": [
           {
            "marker": {
             "colorbar": {
              "outlinewidth": 0,
              "ticks": ""
             }
            },
            "type": "scatterpolargl"
           }
          ],
          "scatterternary": [
           {
            "marker": {
             "colorbar": {
              "outlinewidth": 0,
              "ticks": ""
             }
            },
            "type": "scatterternary"
           }
          ],
          "surface": [
           {
            "colorbar": {
             "outlinewidth": 0,
             "ticks": ""
            },
            "colorscale": [
             [
              0,
              "#0d0887"
             ],
             [
              0.1111111111111111,
              "#46039f"
             ],
             [
              0.2222222222222222,
              "#7201a8"
             ],
             [
              0.3333333333333333,
              "#9c179e"
             ],
             [
              0.4444444444444444,
              "#bd3786"
             ],
             [
              0.5555555555555556,
              "#d8576b"
             ],
             [
              0.6666666666666666,
              "#ed7953"
             ],
             [
              0.7777777777777778,
              "#fb9f3a"
             ],
             [
              0.8888888888888888,
              "#fdca26"
             ],
             [
              1,
              "#f0f921"
             ]
            ],
            "type": "surface"
           }
          ],
          "table": [
           {
            "cells": {
             "fill": {
              "color": "#EBF0F8"
             },
             "line": {
              "color": "white"
             }
            },
            "header": {
             "fill": {
              "color": "#C8D4E3"
             },
             "line": {
              "color": "white"
             }
            },
            "type": "table"
           }
          ]
         },
         "layout": {
          "annotationdefaults": {
           "arrowcolor": "#2a3f5f",
           "arrowhead": 0,
           "arrowwidth": 1
          },
          "coloraxis": {
           "colorbar": {
            "outlinewidth": 0,
            "ticks": ""
           }
          },
          "colorscale": {
           "diverging": [
            [
             0,
             "#8e0152"
            ],
            [
             0.1,
             "#c51b7d"
            ],
            [
             0.2,
             "#de77ae"
            ],
            [
             0.3,
             "#f1b6da"
            ],
            [
             0.4,
             "#fde0ef"
            ],
            [
             0.5,
             "#f7f7f7"
            ],
            [
             0.6,
             "#e6f5d0"
            ],
            [
             0.7,
             "#b8e186"
            ],
            [
             0.8,
             "#7fbc41"
            ],
            [
             0.9,
             "#4d9221"
            ],
            [
             1,
             "#276419"
            ]
           ],
           "sequential": [
            [
             0,
             "#0d0887"
            ],
            [
             0.1111111111111111,
             "#46039f"
            ],
            [
             0.2222222222222222,
             "#7201a8"
            ],
            [
             0.3333333333333333,
             "#9c179e"
            ],
            [
             0.4444444444444444,
             "#bd3786"
            ],
            [
             0.5555555555555556,
             "#d8576b"
            ],
            [
             0.6666666666666666,
             "#ed7953"
            ],
            [
             0.7777777777777778,
             "#fb9f3a"
            ],
            [
             0.8888888888888888,
             "#fdca26"
            ],
            [
             1,
             "#f0f921"
            ]
           ],
           "sequentialminus": [
            [
             0,
             "#0d0887"
            ],
            [
             0.1111111111111111,
             "#46039f"
            ],
            [
             0.2222222222222222,
             "#7201a8"
            ],
            [
             0.3333333333333333,
             "#9c179e"
            ],
            [
             0.4444444444444444,
             "#bd3786"
            ],
            [
             0.5555555555555556,
             "#d8576b"
            ],
            [
             0.6666666666666666,
             "#ed7953"
            ],
            [
             0.7777777777777778,
             "#fb9f3a"
            ],
            [
             0.8888888888888888,
             "#fdca26"
            ],
            [
             1,
             "#f0f921"
            ]
           ]
          },
          "colorway": [
           "#636efa",
           "#EF553B",
           "#00cc96",
           "#ab63fa",
           "#FFA15A",
           "#19d3f3",
           "#FF6692",
           "#B6E880",
           "#FF97FF",
           "#FECB52"
          ],
          "font": {
           "color": "#2a3f5f"
          },
          "geo": {
           "bgcolor": "white",
           "lakecolor": "white",
           "landcolor": "#E5ECF6",
           "showlakes": true,
           "showland": true,
           "subunitcolor": "white"
          },
          "hoverlabel": {
           "align": "left"
          },
          "hovermode": "closest",
          "mapbox": {
           "style": "light"
          },
          "paper_bgcolor": "white",
          "plot_bgcolor": "#E5ECF6",
          "polar": {
           "angularaxis": {
            "gridcolor": "white",
            "linecolor": "white",
            "ticks": ""
           },
           "bgcolor": "#E5ECF6",
           "radialaxis": {
            "gridcolor": "white",
            "linecolor": "white",
            "ticks": ""
           }
          },
          "scene": {
           "xaxis": {
            "backgroundcolor": "#E5ECF6",
            "gridcolor": "white",
            "gridwidth": 2,
            "linecolor": "white",
            "showbackground": true,
            "ticks": "",
            "zerolinecolor": "white"
           },
           "yaxis": {
            "backgroundcolor": "#E5ECF6",
            "gridcolor": "white",
            "gridwidth": 2,
            "linecolor": "white",
            "showbackground": true,
            "ticks": "",
            "zerolinecolor": "white"
           },
           "zaxis": {
            "backgroundcolor": "#E5ECF6",
            "gridcolor": "white",
            "gridwidth": 2,
            "linecolor": "white",
            "showbackground": true,
            "ticks": "",
            "zerolinecolor": "white"
           }
          },
          "shapedefaults": {
           "line": {
            "color": "#2a3f5f"
           }
          },
          "ternary": {
           "aaxis": {
            "gridcolor": "white",
            "linecolor": "white",
            "ticks": ""
           },
           "baxis": {
            "gridcolor": "white",
            "linecolor": "white",
            "ticks": ""
           },
           "bgcolor": "#E5ECF6",
           "caxis": {
            "gridcolor": "white",
            "linecolor": "white",
            "ticks": ""
           }
          },
          "title": {
           "x": 0.05
          },
          "xaxis": {
           "automargin": true,
           "gridcolor": "white",
           "linecolor": "white",
           "ticks": "",
           "title": {
            "standoff": 15
           },
           "zerolinecolor": "white",
           "zerolinewidth": 2
          },
          "yaxis": {
           "automargin": true,
           "gridcolor": "white",
           "linecolor": "white",
           "ticks": "",
           "title": {
            "standoff": 15
           },
           "zerolinecolor": "white",
           "zerolinewidth": 2
          }
         }
        },
        "title": {
         "font": {
          "color": "#4D5663"
         }
        },
        "xaxis": {
         "gridcolor": "#E1E5ED",
         "showgrid": true,
         "tickfont": {
          "color": "#4D5663"
         },
         "title": {
          "font": {
           "color": "#4D5663"
          },
          "text": ""
         },
         "zerolinecolor": "#E1E5ED"
        },
        "yaxis": {
         "gridcolor": "#E1E5ED",
         "showgrid": true,
         "tickfont": {
          "color": "#4D5663"
         },
         "title": {
          "font": {
           "color": "#4D5663"
          },
          "text": ""
         },
         "zerolinecolor": "#E1E5ED"
        }
       }
      },
      "text/html": [
       "<div>                            <div id=\"ae86071d-ea4f-427f-833f-80df288d992f\" class=\"plotly-graph-div\" style=\"height:525px; width:100%;\"></div>            <script type=\"text/javascript\">                require([\"plotly\"], function(Plotly) {                    window.PLOTLYENV=window.PLOTLYENV || {};\n",
       "                    window.PLOTLYENV.BASE_URL='https://plot.ly';                                    if (document.getElementById(\"ae86071d-ea4f-427f-833f-80df288d992f\")) {                    Plotly.newPlot(                        \"ae86071d-ea4f-427f-833f-80df288d992f\",                        [{\"marker\": {\"color\": [\"rgb(255, 153, 51)\", \"rgb(55, 128, 191)\", \"rgb(50, 171, 96)\", \"rgb(128, 0, 128)\", \"rgb(219, 64, 82)\", \"rgb(0, 128, 128)\", \"rgb(255, 255, 51)\", \"rgb(128, 128, 0)\", \"rgb(251, 128, 114)\", \"rgb(128, 177, 211)\"], \"line\": {\"width\": 1.3}, \"size\": [64, 41, 37, 49, 81, 69, 39, 26, 76, 45, 43, 29, 28, 59, 96, 72, 76, 53, 43, 20, 66, 47, 29, 51, 27, 53, 77, 46, 74, 21, 54, 71, 112, 47, 75, 68, 63, 66, 71, 101, 88, 32, 47, 43, 70, 106, 25, 105, 68, 69, 77, 92, 50, 78, 64, 65, 99, 54, 42, 37, 17, 52, 51, 47, 20, 103, 44, 84, 37, 77, 44, 89, 63, 61, 48, 69, 69, 56, 43, 34, 93, 41, 43, 93, 94, 57, 70, 83, 41, 78, 44, 109, 77, 105, 88, 12, 61, 41, 86, 100], \"symbol\": \"circle\"}, \"mode\": \"markers\", \"text\": \"\", \"type\": \"scatter\", \"x\": [-0.33401795564492287, -0.8567502346979979, -0.10473055917119059, -0.9552750460806879, -1.615569955059547, 0.45208443032962725, 1.1521251322277608, 0.745651691971453, -0.4096921983005491, -1.8286545981090672, 1.1162488615338755, -0.23917946135104004, -0.41795746820050994, -0.6158286873263658, -0.16522357255275513, -1.1466897394803683, 0.1899506944113523, -0.30428371295067236, -0.8377454443042902, 1.0749209762017375, -0.5036507942437648, 0.7477607300033207, -0.4581271281732457, 0.5879507188974076, 0.4030595873888752, 0.27583707736362106, -1.1843996197262006, 0.02289383390635474, -0.3403937018414992, -1.7166785587717857, 0.4822370620456638, 0.5200151191009494, -0.7064456411263597, 0.2777649973811855, -0.38139840158046373, 0.0012714620076879613, -0.8984831424792492, 0.5163859344827737, 0.028933774684512, 0.8413131356335115, 1.400019231180424, -0.2413195821291121, -0.6792104376259505, -0.09656771735802587, -0.6475198989307501, 0.548223693326196, -1.3819837976275722, -1.6262595692515833, -2.316340334702603, 0.0746851580412261, 1.6607660314582249, 0.6059296659896694, -0.32675390364252194, 0.7473568118899233, 1.2637003740836217, -1.4016416000087277, 0.0028637618612219018, 0.2625532363277476, -2.111665921077397, 0.9344936629906027, -0.1633075239448629, 0.5334083791568638, -0.11211496887969293, 1.148058947229644, -0.6640245778390096, 0.3429848358350742, -0.22979124826761954, -0.36396205591449277, 0.8924054416145863, -0.0061315933942883444, 0.8003321749012936, 0.35447366860929735, -0.33541016878165686, 1.2336292297481033, -0.7955181010405288, 0.011086448208904488, 0.27737192354778073, 1.682760295203774, 1.5706126536750737, -0.5022370702420386, -1.4829078545161825, -1.5550319602966496, -0.1113288955932639, -0.6683103896896104, -0.42907556378926476, 0.9020594465600063, -1.0131553498783252, -0.02711901899847754, -0.30832841072807776, -0.42582943667482037, 0.44336034515772516, 1.1159664902530844, 0.056746386041653184, -1.6172012143199634, -1.5755596256094238, 0.1091926218659547, -0.5849546851871757, -1.4307737601208024, -0.33501558412825977, -0.1886428376261212], \"y\": [0.7876917141458819, -0.4927411666792617, 1.0974937036873178, -0.4439206985018027, 0.2887527016408452, 1.6742941592395084, 0.09769658941939971, -0.5725516723706708, -0.5492592727640042, -1.5202236019398916, 0.38823943145541134, 1.6282609740421874, 0.7326277731686339, 0.06730103330838098, 0.3402060045322037, 0.09507628974658346, -0.02434056897616973, -0.3543784939901299, -1.223788539698824, -0.6343497374288385, 0.26653812477656896, 1.438206680395697, 0.2415253255836718, -0.5987723898434579, -0.9171915030653498, 0.11207252291134627, 0.05451867791386243, 0.4112131470328786, 0.44492768680055544, 0.2518950357633279, 1.2463146582630462, -0.2112880449759986, 1.3866651715692133, -0.6856964980957535, -0.4222120528187373, 1.1922204650983412, 0.15401391008934873, -2.1054080496754954, 0.022291737503580638, 0.7897529100041379, -1.2690774934764053, -0.7350699839334449, -1.0471268941827443, -1.0153320689971657, 0.78785482367279, 0.7361749374278779, -1.1345914803012231, -0.5683363178024483, -0.49464389117558116, 0.23422581647806803, -2.1553512566379696, -1.2433197111777519, -0.8198086705514108, -0.46962743588801903, -0.2882913723683333, 0.8983233686389277, 0.9084568051309245, -0.44221663833346375, 1.0293957279524568, 2.0421754421017866, 0.03945373112628942, -0.2750148513970318, -1.2201128479118042, -0.1738405812640102, 0.2875423811571659, -0.8738739689146106, 0.7014107545116337, -2.3002964933232692, -0.6253456459787136, -1.8275246768702471, -0.15907550729462694, 0.5844077990293167, -0.2301648650344321, 0.33009928176921377, 0.5445848145905013, 0.5057947642888931, 0.41536259213452914, -0.3776968113879913, -0.7157916944803, 0.12712187178968135, 0.3765080960387935, 0.10454994680141004, -0.2067836441219874, -1.2982007775309201, 0.8728751802177441, -0.4558648151654358, 1.4143397838621108, -0.2283862758991108, -0.7885106007484821, -0.6237266472566988, 0.03162986437150248, -0.212029724448196, -0.20608606868251564, -0.6031391322763106, 0.2657646502926192, 1.2832959415010545, 0.47691329850658754, 0.11495505177277747, 1.8470207470600093, 0.8959979991642596]}],                        {\"legend\": {\"bgcolor\": \"#F5F6F9\", \"font\": {\"color\": \"#4D5663\"}}, \"paper_bgcolor\": \"#F5F6F9\", \"plot_bgcolor\": \"#F5F6F9\", \"template\": {\"data\": {\"bar\": [{\"error_x\": {\"color\": \"#2a3f5f\"}, \"error_y\": {\"color\": \"#2a3f5f\"}, \"marker\": {\"line\": {\"color\": \"#E5ECF6\", \"width\": 0.5}}, \"type\": \"bar\"}], \"barpolar\": [{\"marker\": {\"line\": {\"color\": \"#E5ECF6\", \"width\": 0.5}}, \"type\": \"barpolar\"}], \"carpet\": [{\"aaxis\": {\"endlinecolor\": \"#2a3f5f\", \"gridcolor\": \"white\", \"linecolor\": \"white\", \"minorgridcolor\": \"white\", \"startlinecolor\": \"#2a3f5f\"}, \"baxis\": {\"endlinecolor\": \"#2a3f5f\", \"gridcolor\": \"white\", \"linecolor\": \"white\", \"minorgridcolor\": \"white\", \"startlinecolor\": \"#2a3f5f\"}, \"type\": \"carpet\"}], \"choropleth\": [{\"colorbar\": {\"outlinewidth\": 0, \"ticks\": \"\"}, \"type\": \"choropleth\"}], \"contour\": [{\"colorbar\": {\"outlinewidth\": 0, \"ticks\": \"\"}, \"colorscale\": [[0.0, \"#0d0887\"], [0.1111111111111111, \"#46039f\"], [0.2222222222222222, \"#7201a8\"], [0.3333333333333333, \"#9c179e\"], [0.4444444444444444, \"#bd3786\"], [0.5555555555555556, \"#d8576b\"], [0.6666666666666666, \"#ed7953\"], [0.7777777777777778, \"#fb9f3a\"], [0.8888888888888888, \"#fdca26\"], [1.0, \"#f0f921\"]], \"type\": \"contour\"}], \"contourcarpet\": [{\"colorbar\": {\"outlinewidth\": 0, \"ticks\": \"\"}, \"type\": \"contourcarpet\"}], \"heatmap\": [{\"colorbar\": {\"outlinewidth\": 0, \"ticks\": \"\"}, \"colorscale\": [[0.0, \"#0d0887\"], [0.1111111111111111, \"#46039f\"], [0.2222222222222222, \"#7201a8\"], [0.3333333333333333, \"#9c179e\"], [0.4444444444444444, \"#bd3786\"], [0.5555555555555556, \"#d8576b\"], [0.6666666666666666, \"#ed7953\"], [0.7777777777777778, \"#fb9f3a\"], [0.8888888888888888, \"#fdca26\"], [1.0, \"#f0f921\"]], \"type\": \"heatmap\"}], \"heatmapgl\": [{\"colorbar\": {\"outlinewidth\": 0, \"ticks\": \"\"}, \"colorscale\": [[0.0, \"#0d0887\"], [0.1111111111111111, \"#46039f\"], [0.2222222222222222, \"#7201a8\"], [0.3333333333333333, \"#9c179e\"], [0.4444444444444444, \"#bd3786\"], [0.5555555555555556, \"#d8576b\"], [0.6666666666666666, \"#ed7953\"], [0.7777777777777778, \"#fb9f3a\"], [0.8888888888888888, \"#fdca26\"], [1.0, \"#f0f921\"]], \"type\": \"heatmapgl\"}], \"histogram\": [{\"marker\": {\"colorbar\": {\"outlinewidth\": 0, \"ticks\": \"\"}}, \"type\": \"histogram\"}], \"histogram2d\": [{\"colorbar\": {\"outlinewidth\": 0, \"ticks\": \"\"}, \"colorscale\": [[0.0, \"#0d0887\"], [0.1111111111111111, \"#46039f\"], [0.2222222222222222, \"#7201a8\"], [0.3333333333333333, \"#9c179e\"], [0.4444444444444444, \"#bd3786\"], [0.5555555555555556, \"#d8576b\"], [0.6666666666666666, \"#ed7953\"], [0.7777777777777778, \"#fb9f3a\"], [0.8888888888888888, \"#fdca26\"], [1.0, \"#f0f921\"]], \"type\": \"histogram2d\"}], \"histogram2dcontour\": [{\"colorbar\": {\"outlinewidth\": 0, \"ticks\": \"\"}, \"colorscale\": [[0.0, \"#0d0887\"], [0.1111111111111111, \"#46039f\"], [0.2222222222222222, \"#7201a8\"], [0.3333333333333333, \"#9c179e\"], [0.4444444444444444, \"#bd3786\"], [0.5555555555555556, \"#d8576b\"], [0.6666666666666666, \"#ed7953\"], [0.7777777777777778, \"#fb9f3a\"], [0.8888888888888888, \"#fdca26\"], [1.0, \"#f0f921\"]], \"type\": \"histogram2dcontour\"}], \"mesh3d\": [{\"colorbar\": {\"outlinewidth\": 0, \"ticks\": \"\"}, \"type\": \"mesh3d\"}], \"parcoords\": [{\"line\": {\"colorbar\": {\"outlinewidth\": 0, \"ticks\": \"\"}}, \"type\": \"parcoords\"}], \"pie\": [{\"automargin\": true, \"type\": \"pie\"}], \"scatter\": [{\"marker\": {\"colorbar\": {\"outlinewidth\": 0, \"ticks\": \"\"}}, \"type\": \"scatter\"}], \"scatter3d\": [{\"line\": {\"colorbar\": {\"outlinewidth\": 0, \"ticks\": \"\"}}, \"marker\": {\"colorbar\": {\"outlinewidth\": 0, \"ticks\": \"\"}}, \"type\": \"scatter3d\"}], \"scattercarpet\": [{\"marker\": {\"colorbar\": {\"outlinewidth\": 0, \"ticks\": \"\"}}, \"type\": \"scattercarpet\"}], \"scattergeo\": [{\"marker\": {\"colorbar\": {\"outlinewidth\": 0, \"ticks\": \"\"}}, \"type\": \"scattergeo\"}], \"scattergl\": [{\"marker\": {\"colorbar\": {\"outlinewidth\": 0, \"ticks\": \"\"}}, \"type\": \"scattergl\"}], \"scattermapbox\": [{\"marker\": {\"colorbar\": {\"outlinewidth\": 0, \"ticks\": \"\"}}, \"type\": \"scattermapbox\"}], \"scatterpolar\": [{\"marker\": {\"colorbar\": {\"outlinewidth\": 0, \"ticks\": \"\"}}, \"type\": \"scatterpolar\"}], \"scatterpolargl\": [{\"marker\": {\"colorbar\": {\"outlinewidth\": 0, \"ticks\": \"\"}}, \"type\": \"scatterpolargl\"}], \"scatterternary\": [{\"marker\": {\"colorbar\": {\"outlinewidth\": 0, \"ticks\": \"\"}}, \"type\": \"scatterternary\"}], \"surface\": [{\"colorbar\": {\"outlinewidth\": 0, \"ticks\": \"\"}, \"colorscale\": [[0.0, \"#0d0887\"], [0.1111111111111111, \"#46039f\"], [0.2222222222222222, \"#7201a8\"], [0.3333333333333333, \"#9c179e\"], [0.4444444444444444, \"#bd3786\"], [0.5555555555555556, \"#d8576b\"], [0.6666666666666666, \"#ed7953\"], [0.7777777777777778, \"#fb9f3a\"], [0.8888888888888888, \"#fdca26\"], [1.0, \"#f0f921\"]], \"type\": \"surface\"}], \"table\": [{\"cells\": {\"fill\": {\"color\": \"#EBF0F8\"}, \"line\": {\"color\": \"white\"}}, \"header\": {\"fill\": {\"color\": \"#C8D4E3\"}, \"line\": {\"color\": \"white\"}}, \"type\": \"table\"}]}, \"layout\": {\"annotationdefaults\": {\"arrowcolor\": \"#2a3f5f\", \"arrowhead\": 0, \"arrowwidth\": 1}, \"coloraxis\": {\"colorbar\": {\"outlinewidth\": 0, \"ticks\": \"\"}}, \"colorscale\": {\"diverging\": [[0, \"#8e0152\"], [0.1, \"#c51b7d\"], [0.2, \"#de77ae\"], [0.3, \"#f1b6da\"], [0.4, \"#fde0ef\"], [0.5, \"#f7f7f7\"], [0.6, \"#e6f5d0\"], [0.7, \"#b8e186\"], [0.8, \"#7fbc41\"], [0.9, \"#4d9221\"], [1, \"#276419\"]], \"sequential\": [[0.0, \"#0d0887\"], [0.1111111111111111, \"#46039f\"], [0.2222222222222222, \"#7201a8\"], [0.3333333333333333, \"#9c179e\"], [0.4444444444444444, \"#bd3786\"], [0.5555555555555556, \"#d8576b\"], [0.6666666666666666, \"#ed7953\"], [0.7777777777777778, \"#fb9f3a\"], [0.8888888888888888, \"#fdca26\"], [1.0, \"#f0f921\"]], \"sequentialminus\": [[0.0, \"#0d0887\"], [0.1111111111111111, \"#46039f\"], [0.2222222222222222, \"#7201a8\"], [0.3333333333333333, \"#9c179e\"], [0.4444444444444444, \"#bd3786\"], [0.5555555555555556, \"#d8576b\"], [0.6666666666666666, \"#ed7953\"], [0.7777777777777778, \"#fb9f3a\"], [0.8888888888888888, \"#fdca26\"], [1.0, \"#f0f921\"]]}, \"colorway\": [\"#636efa\", \"#EF553B\", \"#00cc96\", \"#ab63fa\", \"#FFA15A\", \"#19d3f3\", \"#FF6692\", \"#B6E880\", \"#FF97FF\", \"#FECB52\"], \"font\": {\"color\": \"#2a3f5f\"}, \"geo\": {\"bgcolor\": \"white\", \"lakecolor\": \"white\", \"landcolor\": \"#E5ECF6\", \"showlakes\": true, \"showland\": true, \"subunitcolor\": \"white\"}, \"hoverlabel\": {\"align\": \"left\"}, \"hovermode\": \"closest\", \"mapbox\": {\"style\": \"light\"}, \"paper_bgcolor\": \"white\", \"plot_bgcolor\": \"#E5ECF6\", \"polar\": {\"angularaxis\": {\"gridcolor\": \"white\", \"linecolor\": \"white\", \"ticks\": \"\"}, \"bgcolor\": \"#E5ECF6\", \"radialaxis\": {\"gridcolor\": \"white\", \"linecolor\": \"white\", \"ticks\": \"\"}}, \"scene\": {\"xaxis\": {\"backgroundcolor\": \"#E5ECF6\", \"gridcolor\": \"white\", \"gridwidth\": 2, \"linecolor\": \"white\", \"showbackground\": true, \"ticks\": \"\", \"zerolinecolor\": \"white\"}, \"yaxis\": {\"backgroundcolor\": \"#E5ECF6\", \"gridcolor\": \"white\", \"gridwidth\": 2, \"linecolor\": \"white\", \"showbackground\": true, \"ticks\": \"\", \"zerolinecolor\": \"white\"}, \"zaxis\": {\"backgroundcolor\": \"#E5ECF6\", \"gridcolor\": \"white\", \"gridwidth\": 2, \"linecolor\": \"white\", \"showbackground\": true, \"ticks\": \"\", \"zerolinecolor\": \"white\"}}, \"shapedefaults\": {\"line\": {\"color\": \"#2a3f5f\"}}, \"ternary\": {\"aaxis\": {\"gridcolor\": \"white\", \"linecolor\": \"white\", \"ticks\": \"\"}, \"baxis\": {\"gridcolor\": \"white\", \"linecolor\": \"white\", \"ticks\": \"\"}, \"bgcolor\": \"#E5ECF6\", \"caxis\": {\"gridcolor\": \"white\", \"linecolor\": \"white\", \"ticks\": \"\"}}, \"title\": {\"x\": 0.05}, \"xaxis\": {\"automargin\": true, \"gridcolor\": \"white\", \"linecolor\": \"white\", \"ticks\": \"\", \"title\": {\"standoff\": 15}, \"zerolinecolor\": \"white\", \"zerolinewidth\": 2}, \"yaxis\": {\"automargin\": true, \"gridcolor\": \"white\", \"linecolor\": \"white\", \"ticks\": \"\", \"title\": {\"standoff\": 15}, \"zerolinecolor\": \"white\", \"zerolinewidth\": 2}}}, \"title\": {\"font\": {\"color\": \"#4D5663\"}}, \"xaxis\": {\"gridcolor\": \"#E1E5ED\", \"showgrid\": true, \"tickfont\": {\"color\": \"#4D5663\"}, \"title\": {\"font\": {\"color\": \"#4D5663\"}, \"text\": \"\"}, \"zerolinecolor\": \"#E1E5ED\"}, \"yaxis\": {\"gridcolor\": \"#E1E5ED\", \"showgrid\": true, \"tickfont\": {\"color\": \"#4D5663\"}, \"title\": {\"font\": {\"color\": \"#4D5663\"}, \"text\": \"\"}, \"zerolinecolor\": \"#E1E5ED\"}},                        {\"showLink\": true, \"linkText\": \"Export to plot.ly\", \"plotlyServerURL\": \"https://plot.ly\", \"responsive\": true}                    ).then(function(){\n",
       "                            \n",
       "var gd = document.getElementById('ae86071d-ea4f-427f-833f-80df288d992f');\n",
       "var x = new MutationObserver(function (mutations, observer) {{\n",
       "        var display = window.getComputedStyle(gd).display;\n",
       "        if (!display || display === 'none') {{\n",
       "            console.log([gd, 'removed!']);\n",
       "            Plotly.purge(gd);\n",
       "            observer.disconnect();\n",
       "        }}\n",
       "}});\n",
       "\n",
       "// Listen for the removal of the full notebook cells\n",
       "var notebookContainer = gd.closest('#notebook-container');\n",
       "if (notebookContainer) {{\n",
       "    x.observe(notebookContainer, {childList: true});\n",
       "}}\n",
       "\n",
       "// Listen for the clearing of the current output cell\n",
       "var outputEl = gd.closest('.output');\n",
       "if (outputEl) {{\n",
       "    x.observe(outputEl, {childList: true});\n",
       "}}\n",
       "\n",
       "                        })                };                });            </script>        </div>"
      ]
     },
     "metadata": {},
     "output_type": "display_data"
    }
   ],
   "source": [
    "df.iplot(kind='bubble',x='A',y='B',size='C')"
   ]
  },
  {
   "cell_type": "code",
   "execution_count": null,
   "metadata": {},
   "outputs": [],
   "source": []
  },
  {
   "cell_type": "markdown",
   "metadata": {},
   "source": [
    "Scatter_Matrix()"
   ]
  },
  {
   "cell_type": "code",
   "execution_count": null,
   "metadata": {},
   "outputs": [],
   "source": []
  },
  {
   "cell_type": "code",
   "execution_count": 85,
   "metadata": {},
   "outputs": [
    {
     "data": {
      "application/vnd.plotly.v1+json": {
       "config": {
        "linkText": "Export to plot.ly",
        "plotlyServerURL": "https://plot.ly",
        "showLink": true
       },
       "data": [
        {
         "histfunc": "count",
         "histnorm": "",
         "marker": {
          "color": "rgba(255, 153, 51, 1.0)",
          "line": {
           "color": "#4D5663",
           "width": 1.3
          }
         },
         "name": "A",
         "nbinsx": 10,
         "opacity": 0.8,
         "orientation": "v",
         "type": "histogram",
         "x": [
          -0.33401795564492287,
          -0.8567502346979979,
          -0.10473055917119059,
          -0.9552750460806879,
          -1.615569955059547,
          0.45208443032962725,
          1.1521251322277608,
          0.745651691971453,
          -0.4096921983005491,
          -1.8286545981090672,
          1.1162488615338755,
          -0.23917946135104004,
          -0.41795746820050994,
          -0.6158286873263658,
          -0.16522357255275513,
          -1.1466897394803683,
          0.1899506944113523,
          -0.30428371295067236,
          -0.8377454443042902,
          1.0749209762017375,
          -0.5036507942437648,
          0.7477607300033207,
          -0.4581271281732457,
          0.5879507188974076,
          0.4030595873888752,
          0.27583707736362106,
          -1.1843996197262006,
          0.02289383390635474,
          -0.3403937018414992,
          -1.7166785587717857,
          0.4822370620456638,
          0.5200151191009494,
          -0.7064456411263597,
          0.2777649973811855,
          -0.38139840158046373,
          0.0012714620076879613,
          -0.8984831424792492,
          0.5163859344827737,
          0.028933774684512,
          0.8413131356335115,
          1.400019231180424,
          -0.2413195821291121,
          -0.6792104376259505,
          -0.09656771735802587,
          -0.6475198989307501,
          0.548223693326196,
          -1.3819837976275722,
          -1.6262595692515833,
          -2.316340334702603,
          0.0746851580412261,
          1.6607660314582249,
          0.6059296659896694,
          -0.32675390364252194,
          0.7473568118899233,
          1.2637003740836217,
          -1.4016416000087277,
          0.0028637618612219018,
          0.2625532363277476,
          -2.111665921077397,
          0.9344936629906027,
          -0.1633075239448629,
          0.5334083791568638,
          -0.11211496887969293,
          1.148058947229644,
          -0.6640245778390096,
          0.3429848358350742,
          -0.22979124826761954,
          -0.36396205591449277,
          0.8924054416145863,
          -0.0061315933942883444,
          0.8003321749012936,
          0.35447366860929735,
          -0.33541016878165686,
          1.2336292297481033,
          -0.7955181010405288,
          0.011086448208904488,
          0.27737192354778073,
          1.682760295203774,
          1.5706126536750737,
          -0.5022370702420386,
          -1.4829078545161825,
          -1.5550319602966496,
          -0.1113288955932639,
          -0.6683103896896104,
          -0.42907556378926476,
          0.9020594465600063,
          -1.0131553498783252,
          -0.02711901899847754,
          -0.30832841072807776,
          -0.42582943667482037,
          0.44336034515772516,
          1.1159664902530844,
          0.056746386041653184,
          -1.6172012143199634,
          -1.5755596256094238,
          0.1091926218659547,
          -0.5849546851871757,
          -1.4307737601208024,
          -0.33501558412825977,
          -0.1886428376261212
         ],
         "xaxis": "x",
         "yaxis": "y"
        },
        {
         "line": {
          "color": "rgba(128, 128, 128, 1.0)",
          "dash": "solid",
          "shape": "linear",
          "width": 1.3
         },
         "marker": {
          "size": 2,
          "symbol": "circle"
         },
         "mode": "markers",
         "name": "A",
         "text": "",
         "type": "scatter",
         "x": [
          0.7876917141458819,
          -0.4927411666792617,
          1.0974937036873178,
          -0.4439206985018027,
          0.2887527016408452,
          1.6742941592395084,
          0.09769658941939971,
          -0.5725516723706708,
          -0.5492592727640042,
          -1.5202236019398916,
          0.38823943145541134,
          1.6282609740421874,
          0.7326277731686339,
          0.06730103330838098,
          0.3402060045322037,
          0.09507628974658346,
          -0.02434056897616973,
          -0.3543784939901299,
          -1.223788539698824,
          -0.6343497374288385,
          0.26653812477656896,
          1.438206680395697,
          0.2415253255836718,
          -0.5987723898434579,
          -0.9171915030653498,
          0.11207252291134627,
          0.05451867791386243,
          0.4112131470328786,
          0.44492768680055544,
          0.2518950357633279,
          1.2463146582630462,
          -0.2112880449759986,
          1.3866651715692133,
          -0.6856964980957535,
          -0.4222120528187373,
          1.1922204650983412,
          0.15401391008934873,
          -2.1054080496754954,
          0.022291737503580638,
          0.7897529100041379,
          -1.2690774934764053,
          -0.7350699839334449,
          -1.0471268941827443,
          -1.0153320689971657,
          0.78785482367279,
          0.7361749374278779,
          -1.1345914803012231,
          -0.5683363178024483,
          -0.49464389117558116,
          0.23422581647806803,
          -2.1553512566379696,
          -1.2433197111777519,
          -0.8198086705514108,
          -0.46962743588801903,
          -0.2882913723683333,
          0.8983233686389277,
          0.9084568051309245,
          -0.44221663833346375,
          1.0293957279524568,
          2.0421754421017866,
          0.03945373112628942,
          -0.2750148513970318,
          -1.2201128479118042,
          -0.1738405812640102,
          0.2875423811571659,
          -0.8738739689146106,
          0.7014107545116337,
          -2.3002964933232692,
          -0.6253456459787136,
          -1.8275246768702471,
          -0.15907550729462694,
          0.5844077990293167,
          -0.2301648650344321,
          0.33009928176921377,
          0.5445848145905013,
          0.5057947642888931,
          0.41536259213452914,
          -0.3776968113879913,
          -0.7157916944803,
          0.12712187178968135,
          0.3765080960387935,
          0.10454994680141004,
          -0.2067836441219874,
          -1.2982007775309201,
          0.8728751802177441,
          -0.4558648151654358,
          1.4143397838621108,
          -0.2283862758991108,
          -0.7885106007484821,
          -0.6237266472566988,
          0.03162986437150248,
          -0.212029724448196,
          -0.20608606868251564,
          -0.6031391322763106,
          0.2657646502926192,
          1.2832959415010545,
          0.47691329850658754,
          0.11495505177277747,
          1.8470207470600093,
          0.8959979991642596
         ],
         "xaxis": "x2",
         "y": [
          -0.33401795564492287,
          -0.8567502346979979,
          -0.10473055917119059,
          -0.9552750460806879,
          -1.615569955059547,
          0.45208443032962725,
          1.1521251322277608,
          0.745651691971453,
          -0.4096921983005491,
          -1.8286545981090672,
          1.1162488615338755,
          -0.23917946135104004,
          -0.41795746820050994,
          -0.6158286873263658,
          -0.16522357255275513,
          -1.1466897394803683,
          0.1899506944113523,
          -0.30428371295067236,
          -0.8377454443042902,
          1.0749209762017375,
          -0.5036507942437648,
          0.7477607300033207,
          -0.4581271281732457,
          0.5879507188974076,
          0.4030595873888752,
          0.27583707736362106,
          -1.1843996197262006,
          0.02289383390635474,
          -0.3403937018414992,
          -1.7166785587717857,
          0.4822370620456638,
          0.5200151191009494,
          -0.7064456411263597,
          0.2777649973811855,
          -0.38139840158046373,
          0.0012714620076879613,
          -0.8984831424792492,
          0.5163859344827737,
          0.028933774684512,
          0.8413131356335115,
          1.400019231180424,
          -0.2413195821291121,
          -0.6792104376259505,
          -0.09656771735802587,
          -0.6475198989307501,
          0.548223693326196,
          -1.3819837976275722,
          -1.6262595692515833,
          -2.316340334702603,
          0.0746851580412261,
          1.6607660314582249,
          0.6059296659896694,
          -0.32675390364252194,
          0.7473568118899233,
          1.2637003740836217,
          -1.4016416000087277,
          0.0028637618612219018,
          0.2625532363277476,
          -2.111665921077397,
          0.9344936629906027,
          -0.1633075239448629,
          0.5334083791568638,
          -0.11211496887969293,
          1.148058947229644,
          -0.6640245778390096,
          0.3429848358350742,
          -0.22979124826761954,
          -0.36396205591449277,
          0.8924054416145863,
          -0.0061315933942883444,
          0.8003321749012936,
          0.35447366860929735,
          -0.33541016878165686,
          1.2336292297481033,
          -0.7955181010405288,
          0.011086448208904488,
          0.27737192354778073,
          1.682760295203774,
          1.5706126536750737,
          -0.5022370702420386,
          -1.4829078545161825,
          -1.5550319602966496,
          -0.1113288955932639,
          -0.6683103896896104,
          -0.42907556378926476,
          0.9020594465600063,
          -1.0131553498783252,
          -0.02711901899847754,
          -0.30832841072807776,
          -0.42582943667482037,
          0.44336034515772516,
          1.1159664902530844,
          0.056746386041653184,
          -1.6172012143199634,
          -1.5755596256094238,
          0.1091926218659547,
          -0.5849546851871757,
          -1.4307737601208024,
          -0.33501558412825977,
          -0.1886428376261212
         ],
         "yaxis": "y2"
        },
        {
         "line": {
          "color": "rgba(128, 128, 128, 1.0)",
          "dash": "solid",
          "shape": "linear",
          "width": 1.3
         },
         "marker": {
          "size": 2,
          "symbol": "circle"
         },
         "mode": "markers",
         "name": "A",
         "text": "",
         "type": "scatter",
         "x": [
          0.10890878769720243,
          -0.6713626826884246,
          -0.8283248816466945,
          -0.39282402740141253,
          0.6977622699199653,
          0.2726902709017829,
          -0.733055647756976,
          -1.1769188858276907,
          0.5140440583698838,
          -0.5257997711549182,
          -0.5939913028444468,
          -1.0899920973102717,
          -1.1169496812268147,
          -0.06183448943431063,
          1.1920226620944019,
          0.3947340910429718,
          0.5165958715824404,
          -0.2532093271891566,
          -0.6229662667500819,
          -1.393246027853369,
          0.18626120369485305,
          -0.45703478164711936,
          -1.1010696049363926,
          -0.3494921184666258,
          -1.1599901840904236,
          -0.2668067273306687,
          0.5723653335982978,
          -0.510289270469568,
          0.4399836709351221,
          -1.3762717379296883,
          -0.24693364684247035,
          0.36514307526267437,
          1.7357873732423095,
          -0.45647718538009024,
          0.49518001829326896,
          0.2634835923908529,
          0.0641257741877574,
          0.19178971570842765,
          0.3442257007194484,
          1.3793889754152107,
          0.9206674912834298,
          -0.9983635840925854,
          -0.48464519386839716,
          -0.604114949438876,
          0.3162266874922444,
          1.544688940111044,
          -1.2088687769723159,
          1.5210922018964559,
          0.26449720263462595,
          0.27981023913330894,
          0.550732600434451,
          1.0794684031421604,
          -0.36412957770102033,
          0.5852166497226681,
          0.11759556183494221,
          0.14442260689725314,
          1.2991193258426927,
          -0.22388294041532714,
          -0.6433255684754923,
          -0.8119280263077251,
          -1.503443435559967,
          -0.28825355870732405,
          -0.31751555682564075,
          -0.458525472705331,
          -1.380610471676825,
          1.438621351833829,
          -0.5606915802597062,
          0.7858389274414597,
          -0.8197927399750891,
          0.5595279939993528,
          -0.5809829183529606,
          0.9724872248661316,
          0.09102921245140706,
          0.0022078382496239436,
          -0.43386260139667143,
          0.28357156020091284,
          0.2904148828301787,
          -0.17778428609997943,
          -0.6135457754406612,
          -0.9108405120118579,
          1.097663247217463,
          -0.690960694560415,
          -0.6228764988194392,
          1.10996227641887,
          1.1379791109474344,
          -0.11437215554158245,
          0.3153538449048185,
          0.7586464106613391,
          -0.6684773125147604,
          0.5850122060694447,
          -0.5757711110347066,
          1.6409042078109004,
          0.5516421100710179,
          1.4999661634677213,
          0.9203218164731303,
          -1.6853053860429534,
          0.000910264168236696,
          -0.6651748434595457,
          0.8569986581487651,
          1.354614590044158
         ],
         "xaxis": "x3",
         "y": [
          -0.33401795564492287,
          -0.8567502346979979,
          -0.10473055917119059,
          -0.9552750460806879,
          -1.615569955059547,
          0.45208443032962725,
          1.1521251322277608,
          0.745651691971453,
          -0.4096921983005491,
          -1.8286545981090672,
          1.1162488615338755,
          -0.23917946135104004,
          -0.41795746820050994,
          -0.6158286873263658,
          -0.16522357255275513,
          -1.1466897394803683,
          0.1899506944113523,
          -0.30428371295067236,
          -0.8377454443042902,
          1.0749209762017375,
          -0.5036507942437648,
          0.7477607300033207,
          -0.4581271281732457,
          0.5879507188974076,
          0.4030595873888752,
          0.27583707736362106,
          -1.1843996197262006,
          0.02289383390635474,
          -0.3403937018414992,
          -1.7166785587717857,
          0.4822370620456638,
          0.5200151191009494,
          -0.7064456411263597,
          0.2777649973811855,
          -0.38139840158046373,
          0.0012714620076879613,
          -0.8984831424792492,
          0.5163859344827737,
          0.028933774684512,
          0.8413131356335115,
          1.400019231180424,
          -0.2413195821291121,
          -0.6792104376259505,
          -0.09656771735802587,
          -0.6475198989307501,
          0.548223693326196,
          -1.3819837976275722,
          -1.6262595692515833,
          -2.316340334702603,
          0.0746851580412261,
          1.6607660314582249,
          0.6059296659896694,
          -0.32675390364252194,
          0.7473568118899233,
          1.2637003740836217,
          -1.4016416000087277,
          0.0028637618612219018,
          0.2625532363277476,
          -2.111665921077397,
          0.9344936629906027,
          -0.1633075239448629,
          0.5334083791568638,
          -0.11211496887969293,
          1.148058947229644,
          -0.6640245778390096,
          0.3429848358350742,
          -0.22979124826761954,
          -0.36396205591449277,
          0.8924054416145863,
          -0.0061315933942883444,
          0.8003321749012936,
          0.35447366860929735,
          -0.33541016878165686,
          1.2336292297481033,
          -0.7955181010405288,
          0.011086448208904488,
          0.27737192354778073,
          1.682760295203774,
          1.5706126536750737,
          -0.5022370702420386,
          -1.4829078545161825,
          -1.5550319602966496,
          -0.1113288955932639,
          -0.6683103896896104,
          -0.42907556378926476,
          0.9020594465600063,
          -1.0131553498783252,
          -0.02711901899847754,
          -0.30832841072807776,
          -0.42582943667482037,
          0.44336034515772516,
          1.1159664902530844,
          0.056746386041653184,
          -1.6172012143199634,
          -1.5755596256094238,
          0.1091926218659547,
          -0.5849546851871757,
          -1.4307737601208024,
          -0.33501558412825977,
          -0.1886428376261212
         ],
         "yaxis": "y3"
        },
        {
         "line": {
          "color": "rgba(128, 128, 128, 1.0)",
          "dash": "solid",
          "shape": "linear",
          "width": 1.3
         },
         "marker": {
          "size": 2,
          "symbol": "circle"
         },
         "mode": "markers",
         "name": "A",
         "text": "",
         "type": "scatter",
         "x": [
          -0.8725517699447418,
          2.2100037241425965,
          -0.18447471965609888,
          -1.0280709444626888,
          -0.038617173882581415,
          -2.037831386596425,
          -0.8488615903302171,
          -0.6557782591076858,
          -0.32961756737227393,
          0.46858892715420497,
          -0.6193317742938698,
          -1.1250056860244975,
          0.4278637007836617,
          1.063434945992072,
          -0.8755299552551474,
          -0.48299910943857494,
          -0.06416376223290995,
          0.6439306421881182,
          -1.2256664835126148,
          -0.30103394524184657,
          0.19307782761558323,
          2.2803572229868787,
          1.0231275280259986,
          -0.5841391390473818,
          0.7247137151293709,
          -0.7271142019678107,
          -0.31158219045913266,
          -0.8927003953161164,
          -0.33189112413778354,
          0.642608009982188,
          -0.30928011954721973,
          -0.28835655399055904,
          1.9617820968077664,
          -0.059083946274872734,
          -0.8397586751242981,
          -0.5469400318312613,
          1.0002451787591444,
          -0.4624189977132809,
          1.0359478047016608,
          1.4970943864754829,
          0.010265847176222464,
          -0.5325515770409451,
          -0.2619323131960744,
          0.5620808083620767,
          1.3465970674700758,
          0.7924164101004401,
          -1.3228732687102436,
          -2.0937669684216784,
          1.422580462553181,
          -1.7666536031136513,
          -0.8309110889937393,
          0.14896101418022792,
          -0.6048788067326643,
          0.990507987140074,
          0.8273624278890639,
          1.478465047435868,
          0.018240818333552865,
          0.9603234771883151,
          -0.6475970811866526,
          -0.8069625792560894,
          -1.1159667011257022,
          -0.8984065575657584,
          0.17500080669481868,
          0.5732201854852669,
          1.581026518189645,
          -0.5041301321733543,
          -0.6889010629106648,
          -1.0852170716238105,
          -0.7621635193632472,
          0.8655111236536761,
          -0.6030949305282863,
          0.03773427974266808,
          0.8363017380784022,
          -0.7956716401636215,
          -0.2689707486785275,
          1.44452335124853,
          -0.3633047011821962,
          0.6236380109920362,
          0.8612062010518985,
          -0.19720113191621397,
          0.28817124810430433,
          -0.49549746891339924,
          -1.3568447416162759,
          0.6661215460677381,
          -0.980701259135087,
          0.6734456045101622,
          1.155472647753716,
          0.8405667115006873,
          -3.677045545855245,
          -1.8116630686644002,
          -0.8384938069607375,
          -1.7508899135576048,
          0.5442700068805986,
          1.140123535318682,
          0.5944913448908976,
          0.15209708750178105,
          -0.31513758003187337,
          1.224183097982116,
          -0.6341506291455641,
          0.9888950057158389
         ],
         "xaxis": "x4",
         "y": [
          -0.33401795564492287,
          -0.8567502346979979,
          -0.10473055917119059,
          -0.9552750460806879,
          -1.615569955059547,
          0.45208443032962725,
          1.1521251322277608,
          0.745651691971453,
          -0.4096921983005491,
          -1.8286545981090672,
          1.1162488615338755,
          -0.23917946135104004,
          -0.41795746820050994,
          -0.6158286873263658,
          -0.16522357255275513,
          -1.1466897394803683,
          0.1899506944113523,
          -0.30428371295067236,
          -0.8377454443042902,
          1.0749209762017375,
          -0.5036507942437648,
          0.7477607300033207,
          -0.4581271281732457,
          0.5879507188974076,
          0.4030595873888752,
          0.27583707736362106,
          -1.1843996197262006,
          0.02289383390635474,
          -0.3403937018414992,
          -1.7166785587717857,
          0.4822370620456638,
          0.5200151191009494,
          -0.7064456411263597,
          0.2777649973811855,
          -0.38139840158046373,
          0.0012714620076879613,
          -0.8984831424792492,
          0.5163859344827737,
          0.028933774684512,
          0.8413131356335115,
          1.400019231180424,
          -0.2413195821291121,
          -0.6792104376259505,
          -0.09656771735802587,
          -0.6475198989307501,
          0.548223693326196,
          -1.3819837976275722,
          -1.6262595692515833,
          -2.316340334702603,
          0.0746851580412261,
          1.6607660314582249,
          0.6059296659896694,
          -0.32675390364252194,
          0.7473568118899233,
          1.2637003740836217,
          -1.4016416000087277,
          0.0028637618612219018,
          0.2625532363277476,
          -2.111665921077397,
          0.9344936629906027,
          -0.1633075239448629,
          0.5334083791568638,
          -0.11211496887969293,
          1.148058947229644,
          -0.6640245778390096,
          0.3429848358350742,
          -0.22979124826761954,
          -0.36396205591449277,
          0.8924054416145863,
          -0.0061315933942883444,
          0.8003321749012936,
          0.35447366860929735,
          -0.33541016878165686,
          1.2336292297481033,
          -0.7955181010405288,
          0.011086448208904488,
          0.27737192354778073,
          1.682760295203774,
          1.5706126536750737,
          -0.5022370702420386,
          -1.4829078545161825,
          -1.5550319602966496,
          -0.1113288955932639,
          -0.6683103896896104,
          -0.42907556378926476,
          0.9020594465600063,
          -1.0131553498783252,
          -0.02711901899847754,
          -0.30832841072807776,
          -0.42582943667482037,
          0.44336034515772516,
          1.1159664902530844,
          0.056746386041653184,
          -1.6172012143199634,
          -1.5755596256094238,
          0.1091926218659547,
          -0.5849546851871757,
          -1.4307737601208024,
          -0.33501558412825977,
          -0.1886428376261212
         ],
         "yaxis": "y4"
        },
        {
         "line": {
          "color": "rgba(128, 128, 128, 1.0)",
          "dash": "solid",
          "shape": "linear",
          "width": 1.3
         },
         "marker": {
          "size": 2,
          "symbol": "circle"
         },
         "mode": "markers",
         "name": "B",
         "text": "",
         "type": "scatter",
         "x": [
          -0.33401795564492287,
          -0.8567502346979979,
          -0.10473055917119059,
          -0.9552750460806879,
          -1.615569955059547,
          0.45208443032962725,
          1.1521251322277608,
          0.745651691971453,
          -0.4096921983005491,
          -1.8286545981090672,
          1.1162488615338755,
          -0.23917946135104004,
          -0.41795746820050994,
          -0.6158286873263658,
          -0.16522357255275513,
          -1.1466897394803683,
          0.1899506944113523,
          -0.30428371295067236,
          -0.8377454443042902,
          1.0749209762017375,
          -0.5036507942437648,
          0.7477607300033207,
          -0.4581271281732457,
          0.5879507188974076,
          0.4030595873888752,
          0.27583707736362106,
          -1.1843996197262006,
          0.02289383390635474,
          -0.3403937018414992,
          -1.7166785587717857,
          0.4822370620456638,
          0.5200151191009494,
          -0.7064456411263597,
          0.2777649973811855,
          -0.38139840158046373,
          0.0012714620076879613,
          -0.8984831424792492,
          0.5163859344827737,
          0.028933774684512,
          0.8413131356335115,
          1.400019231180424,
          -0.2413195821291121,
          -0.6792104376259505,
          -0.09656771735802587,
          -0.6475198989307501,
          0.548223693326196,
          -1.3819837976275722,
          -1.6262595692515833,
          -2.316340334702603,
          0.0746851580412261,
          1.6607660314582249,
          0.6059296659896694,
          -0.32675390364252194,
          0.7473568118899233,
          1.2637003740836217,
          -1.4016416000087277,
          0.0028637618612219018,
          0.2625532363277476,
          -2.111665921077397,
          0.9344936629906027,
          -0.1633075239448629,
          0.5334083791568638,
          -0.11211496887969293,
          1.148058947229644,
          -0.6640245778390096,
          0.3429848358350742,
          -0.22979124826761954,
          -0.36396205591449277,
          0.8924054416145863,
          -0.0061315933942883444,
          0.8003321749012936,
          0.35447366860929735,
          -0.33541016878165686,
          1.2336292297481033,
          -0.7955181010405288,
          0.011086448208904488,
          0.27737192354778073,
          1.682760295203774,
          1.5706126536750737,
          -0.5022370702420386,
          -1.4829078545161825,
          -1.5550319602966496,
          -0.1113288955932639,
          -0.6683103896896104,
          -0.42907556378926476,
          0.9020594465600063,
          -1.0131553498783252,
          -0.02711901899847754,
          -0.30832841072807776,
          -0.42582943667482037,
          0.44336034515772516,
          1.1159664902530844,
          0.056746386041653184,
          -1.6172012143199634,
          -1.5755596256094238,
          0.1091926218659547,
          -0.5849546851871757,
          -1.4307737601208024,
          -0.33501558412825977,
          -0.1886428376261212
         ],
         "xaxis": "x5",
         "y": [
          0.7876917141458819,
          -0.4927411666792617,
          1.0974937036873178,
          -0.4439206985018027,
          0.2887527016408452,
          1.6742941592395084,
          0.09769658941939971,
          -0.5725516723706708,
          -0.5492592727640042,
          -1.5202236019398916,
          0.38823943145541134,
          1.6282609740421874,
          0.7326277731686339,
          0.06730103330838098,
          0.3402060045322037,
          0.09507628974658346,
          -0.02434056897616973,
          -0.3543784939901299,
          -1.223788539698824,
          -0.6343497374288385,
          0.26653812477656896,
          1.438206680395697,
          0.2415253255836718,
          -0.5987723898434579,
          -0.9171915030653498,
          0.11207252291134627,
          0.05451867791386243,
          0.4112131470328786,
          0.44492768680055544,
          0.2518950357633279,
          1.2463146582630462,
          -0.2112880449759986,
          1.3866651715692133,
          -0.6856964980957535,
          -0.4222120528187373,
          1.1922204650983412,
          0.15401391008934873,
          -2.1054080496754954,
          0.022291737503580638,
          0.7897529100041379,
          -1.2690774934764053,
          -0.7350699839334449,
          -1.0471268941827443,
          -1.0153320689971657,
          0.78785482367279,
          0.7361749374278779,
          -1.1345914803012231,
          -0.5683363178024483,
          -0.49464389117558116,
          0.23422581647806803,
          -2.1553512566379696,
          -1.2433197111777519,
          -0.8198086705514108,
          -0.46962743588801903,
          -0.2882913723683333,
          0.8983233686389277,
          0.9084568051309245,
          -0.44221663833346375,
          1.0293957279524568,
          2.0421754421017866,
          0.03945373112628942,
          -0.2750148513970318,
          -1.2201128479118042,
          -0.1738405812640102,
          0.2875423811571659,
          -0.8738739689146106,
          0.7014107545116337,
          -2.3002964933232692,
          -0.6253456459787136,
          -1.8275246768702471,
          -0.15907550729462694,
          0.5844077990293167,
          -0.2301648650344321,
          0.33009928176921377,
          0.5445848145905013,
          0.5057947642888931,
          0.41536259213452914,
          -0.3776968113879913,
          -0.7157916944803,
          0.12712187178968135,
          0.3765080960387935,
          0.10454994680141004,
          -0.2067836441219874,
          -1.2982007775309201,
          0.8728751802177441,
          -0.4558648151654358,
          1.4143397838621108,
          -0.2283862758991108,
          -0.7885106007484821,
          -0.6237266472566988,
          0.03162986437150248,
          -0.212029724448196,
          -0.20608606868251564,
          -0.6031391322763106,
          0.2657646502926192,
          1.2832959415010545,
          0.47691329850658754,
          0.11495505177277747,
          1.8470207470600093,
          0.8959979991642596
         ],
         "yaxis": "y5"
        },
        {
         "histfunc": "count",
         "histnorm": "",
         "marker": {
          "color": "rgba(55, 128, 191, 1.0)",
          "line": {
           "color": "#4D5663",
           "width": 1.3
          }
         },
         "name": "B",
         "nbinsx": 10,
         "opacity": 0.8,
         "orientation": "v",
         "type": "histogram",
         "x": [
          0.7876917141458819,
          -0.4927411666792617,
          1.0974937036873178,
          -0.4439206985018027,
          0.2887527016408452,
          1.6742941592395084,
          0.09769658941939971,
          -0.5725516723706708,
          -0.5492592727640042,
          -1.5202236019398916,
          0.38823943145541134,
          1.6282609740421874,
          0.7326277731686339,
          0.06730103330838098,
          0.3402060045322037,
          0.09507628974658346,
          -0.02434056897616973,
          -0.3543784939901299,
          -1.223788539698824,
          -0.6343497374288385,
          0.26653812477656896,
          1.438206680395697,
          0.2415253255836718,
          -0.5987723898434579,
          -0.9171915030653498,
          0.11207252291134627,
          0.05451867791386243,
          0.4112131470328786,
          0.44492768680055544,
          0.2518950357633279,
          1.2463146582630462,
          -0.2112880449759986,
          1.3866651715692133,
          -0.6856964980957535,
          -0.4222120528187373,
          1.1922204650983412,
          0.15401391008934873,
          -2.1054080496754954,
          0.022291737503580638,
          0.7897529100041379,
          -1.2690774934764053,
          -0.7350699839334449,
          -1.0471268941827443,
          -1.0153320689971657,
          0.78785482367279,
          0.7361749374278779,
          -1.1345914803012231,
          -0.5683363178024483,
          -0.49464389117558116,
          0.23422581647806803,
          -2.1553512566379696,
          -1.2433197111777519,
          -0.8198086705514108,
          -0.46962743588801903,
          -0.2882913723683333,
          0.8983233686389277,
          0.9084568051309245,
          -0.44221663833346375,
          1.0293957279524568,
          2.0421754421017866,
          0.03945373112628942,
          -0.2750148513970318,
          -1.2201128479118042,
          -0.1738405812640102,
          0.2875423811571659,
          -0.8738739689146106,
          0.7014107545116337,
          -2.3002964933232692,
          -0.6253456459787136,
          -1.8275246768702471,
          -0.15907550729462694,
          0.5844077990293167,
          -0.2301648650344321,
          0.33009928176921377,
          0.5445848145905013,
          0.5057947642888931,
          0.41536259213452914,
          -0.3776968113879913,
          -0.7157916944803,
          0.12712187178968135,
          0.3765080960387935,
          0.10454994680141004,
          -0.2067836441219874,
          -1.2982007775309201,
          0.8728751802177441,
          -0.4558648151654358,
          1.4143397838621108,
          -0.2283862758991108,
          -0.7885106007484821,
          -0.6237266472566988,
          0.03162986437150248,
          -0.212029724448196,
          -0.20608606868251564,
          -0.6031391322763106,
          0.2657646502926192,
          1.2832959415010545,
          0.47691329850658754,
          0.11495505177277747,
          1.8470207470600093,
          0.8959979991642596
         ],
         "xaxis": "x6",
         "yaxis": "y6"
        },
        {
         "line": {
          "color": "rgba(128, 128, 128, 1.0)",
          "dash": "solid",
          "shape": "linear",
          "width": 1.3
         },
         "marker": {
          "size": 2,
          "symbol": "circle"
         },
         "mode": "markers",
         "name": "B",
         "text": "",
         "type": "scatter",
         "x": [
          0.10890878769720243,
          -0.6713626826884246,
          -0.8283248816466945,
          -0.39282402740141253,
          0.6977622699199653,
          0.2726902709017829,
          -0.733055647756976,
          -1.1769188858276907,
          0.5140440583698838,
          -0.5257997711549182,
          -0.5939913028444468,
          -1.0899920973102717,
          -1.1169496812268147,
          -0.06183448943431063,
          1.1920226620944019,
          0.3947340910429718,
          0.5165958715824404,
          -0.2532093271891566,
          -0.6229662667500819,
          -1.393246027853369,
          0.18626120369485305,
          -0.45703478164711936,
          -1.1010696049363926,
          -0.3494921184666258,
          -1.1599901840904236,
          -0.2668067273306687,
          0.5723653335982978,
          -0.510289270469568,
          0.4399836709351221,
          -1.3762717379296883,
          -0.24693364684247035,
          0.36514307526267437,
          1.7357873732423095,
          -0.45647718538009024,
          0.49518001829326896,
          0.2634835923908529,
          0.0641257741877574,
          0.19178971570842765,
          0.3442257007194484,
          1.3793889754152107,
          0.9206674912834298,
          -0.9983635840925854,
          -0.48464519386839716,
          -0.604114949438876,
          0.3162266874922444,
          1.544688940111044,
          -1.2088687769723159,
          1.5210922018964559,
          0.26449720263462595,
          0.27981023913330894,
          0.550732600434451,
          1.0794684031421604,
          -0.36412957770102033,
          0.5852166497226681,
          0.11759556183494221,
          0.14442260689725314,
          1.2991193258426927,
          -0.22388294041532714,
          -0.6433255684754923,
          -0.8119280263077251,
          -1.503443435559967,
          -0.28825355870732405,
          -0.31751555682564075,
          -0.458525472705331,
          -1.380610471676825,
          1.438621351833829,
          -0.5606915802597062,
          0.7858389274414597,
          -0.8197927399750891,
          0.5595279939993528,
          -0.5809829183529606,
          0.9724872248661316,
          0.09102921245140706,
          0.0022078382496239436,
          -0.43386260139667143,
          0.28357156020091284,
          0.2904148828301787,
          -0.17778428609997943,
          -0.6135457754406612,
          -0.9108405120118579,
          1.097663247217463,
          -0.690960694560415,
          -0.6228764988194392,
          1.10996227641887,
          1.1379791109474344,
          -0.11437215554158245,
          0.3153538449048185,
          0.7586464106613391,
          -0.6684773125147604,
          0.5850122060694447,
          -0.5757711110347066,
          1.6409042078109004,
          0.5516421100710179,
          1.4999661634677213,
          0.9203218164731303,
          -1.6853053860429534,
          0.000910264168236696,
          -0.6651748434595457,
          0.8569986581487651,
          1.354614590044158
         ],
         "xaxis": "x7",
         "y": [
          0.7876917141458819,
          -0.4927411666792617,
          1.0974937036873178,
          -0.4439206985018027,
          0.2887527016408452,
          1.6742941592395084,
          0.09769658941939971,
          -0.5725516723706708,
          -0.5492592727640042,
          -1.5202236019398916,
          0.38823943145541134,
          1.6282609740421874,
          0.7326277731686339,
          0.06730103330838098,
          0.3402060045322037,
          0.09507628974658346,
          -0.02434056897616973,
          -0.3543784939901299,
          -1.223788539698824,
          -0.6343497374288385,
          0.26653812477656896,
          1.438206680395697,
          0.2415253255836718,
          -0.5987723898434579,
          -0.9171915030653498,
          0.11207252291134627,
          0.05451867791386243,
          0.4112131470328786,
          0.44492768680055544,
          0.2518950357633279,
          1.2463146582630462,
          -0.2112880449759986,
          1.3866651715692133,
          -0.6856964980957535,
          -0.4222120528187373,
          1.1922204650983412,
          0.15401391008934873,
          -2.1054080496754954,
          0.022291737503580638,
          0.7897529100041379,
          -1.2690774934764053,
          -0.7350699839334449,
          -1.0471268941827443,
          -1.0153320689971657,
          0.78785482367279,
          0.7361749374278779,
          -1.1345914803012231,
          -0.5683363178024483,
          -0.49464389117558116,
          0.23422581647806803,
          -2.1553512566379696,
          -1.2433197111777519,
          -0.8198086705514108,
          -0.46962743588801903,
          -0.2882913723683333,
          0.8983233686389277,
          0.9084568051309245,
          -0.44221663833346375,
          1.0293957279524568,
          2.0421754421017866,
          0.03945373112628942,
          -0.2750148513970318,
          -1.2201128479118042,
          -0.1738405812640102,
          0.2875423811571659,
          -0.8738739689146106,
          0.7014107545116337,
          -2.3002964933232692,
          -0.6253456459787136,
          -1.8275246768702471,
          -0.15907550729462694,
          0.5844077990293167,
          -0.2301648650344321,
          0.33009928176921377,
          0.5445848145905013,
          0.5057947642888931,
          0.41536259213452914,
          -0.3776968113879913,
          -0.7157916944803,
          0.12712187178968135,
          0.3765080960387935,
          0.10454994680141004,
          -0.2067836441219874,
          -1.2982007775309201,
          0.8728751802177441,
          -0.4558648151654358,
          1.4143397838621108,
          -0.2283862758991108,
          -0.7885106007484821,
          -0.6237266472566988,
          0.03162986437150248,
          -0.212029724448196,
          -0.20608606868251564,
          -0.6031391322763106,
          0.2657646502926192,
          1.2832959415010545,
          0.47691329850658754,
          0.11495505177277747,
          1.8470207470600093,
          0.8959979991642596
         ],
         "yaxis": "y7"
        },
        {
         "line": {
          "color": "rgba(128, 128, 128, 1.0)",
          "dash": "solid",
          "shape": "linear",
          "width": 1.3
         },
         "marker": {
          "size": 2,
          "symbol": "circle"
         },
         "mode": "markers",
         "name": "B",
         "text": "",
         "type": "scatter",
         "x": [
          -0.8725517699447418,
          2.2100037241425965,
          -0.18447471965609888,
          -1.0280709444626888,
          -0.038617173882581415,
          -2.037831386596425,
          -0.8488615903302171,
          -0.6557782591076858,
          -0.32961756737227393,
          0.46858892715420497,
          -0.6193317742938698,
          -1.1250056860244975,
          0.4278637007836617,
          1.063434945992072,
          -0.8755299552551474,
          -0.48299910943857494,
          -0.06416376223290995,
          0.6439306421881182,
          -1.2256664835126148,
          -0.30103394524184657,
          0.19307782761558323,
          2.2803572229868787,
          1.0231275280259986,
          -0.5841391390473818,
          0.7247137151293709,
          -0.7271142019678107,
          -0.31158219045913266,
          -0.8927003953161164,
          -0.33189112413778354,
          0.642608009982188,
          -0.30928011954721973,
          -0.28835655399055904,
          1.9617820968077664,
          -0.059083946274872734,
          -0.8397586751242981,
          -0.5469400318312613,
          1.0002451787591444,
          -0.4624189977132809,
          1.0359478047016608,
          1.4970943864754829,
          0.010265847176222464,
          -0.5325515770409451,
          -0.2619323131960744,
          0.5620808083620767,
          1.3465970674700758,
          0.7924164101004401,
          -1.3228732687102436,
          -2.0937669684216784,
          1.422580462553181,
          -1.7666536031136513,
          -0.8309110889937393,
          0.14896101418022792,
          -0.6048788067326643,
          0.990507987140074,
          0.8273624278890639,
          1.478465047435868,
          0.018240818333552865,
          0.9603234771883151,
          -0.6475970811866526,
          -0.8069625792560894,
          -1.1159667011257022,
          -0.8984065575657584,
          0.17500080669481868,
          0.5732201854852669,
          1.581026518189645,
          -0.5041301321733543,
          -0.6889010629106648,
          -1.0852170716238105,
          -0.7621635193632472,
          0.8655111236536761,
          -0.6030949305282863,
          0.03773427974266808,
          0.8363017380784022,
          -0.7956716401636215,
          -0.2689707486785275,
          1.44452335124853,
          -0.3633047011821962,
          0.6236380109920362,
          0.8612062010518985,
          -0.19720113191621397,
          0.28817124810430433,
          -0.49549746891339924,
          -1.3568447416162759,
          0.6661215460677381,
          -0.980701259135087,
          0.6734456045101622,
          1.155472647753716,
          0.8405667115006873,
          -3.677045545855245,
          -1.8116630686644002,
          -0.8384938069607375,
          -1.7508899135576048,
          0.5442700068805986,
          1.140123535318682,
          0.5944913448908976,
          0.15209708750178105,
          -0.31513758003187337,
          1.224183097982116,
          -0.6341506291455641,
          0.9888950057158389
         ],
         "xaxis": "x8",
         "y": [
          0.7876917141458819,
          -0.4927411666792617,
          1.0974937036873178,
          -0.4439206985018027,
          0.2887527016408452,
          1.6742941592395084,
          0.09769658941939971,
          -0.5725516723706708,
          -0.5492592727640042,
          -1.5202236019398916,
          0.38823943145541134,
          1.6282609740421874,
          0.7326277731686339,
          0.06730103330838098,
          0.3402060045322037,
          0.09507628974658346,
          -0.02434056897616973,
          -0.3543784939901299,
          -1.223788539698824,
          -0.6343497374288385,
          0.26653812477656896,
          1.438206680395697,
          0.2415253255836718,
          -0.5987723898434579,
          -0.9171915030653498,
          0.11207252291134627,
          0.05451867791386243,
          0.4112131470328786,
          0.44492768680055544,
          0.2518950357633279,
          1.2463146582630462,
          -0.2112880449759986,
          1.3866651715692133,
          -0.6856964980957535,
          -0.4222120528187373,
          1.1922204650983412,
          0.15401391008934873,
          -2.1054080496754954,
          0.022291737503580638,
          0.7897529100041379,
          -1.2690774934764053,
          -0.7350699839334449,
          -1.0471268941827443,
          -1.0153320689971657,
          0.78785482367279,
          0.7361749374278779,
          -1.1345914803012231,
          -0.5683363178024483,
          -0.49464389117558116,
          0.23422581647806803,
          -2.1553512566379696,
          -1.2433197111777519,
          -0.8198086705514108,
          -0.46962743588801903,
          -0.2882913723683333,
          0.8983233686389277,
          0.9084568051309245,
          -0.44221663833346375,
          1.0293957279524568,
          2.0421754421017866,
          0.03945373112628942,
          -0.2750148513970318,
          -1.2201128479118042,
          -0.1738405812640102,
          0.2875423811571659,
          -0.8738739689146106,
          0.7014107545116337,
          -2.3002964933232692,
          -0.6253456459787136,
          -1.8275246768702471,
          -0.15907550729462694,
          0.5844077990293167,
          -0.2301648650344321,
          0.33009928176921377,
          0.5445848145905013,
          0.5057947642888931,
          0.41536259213452914,
          -0.3776968113879913,
          -0.7157916944803,
          0.12712187178968135,
          0.3765080960387935,
          0.10454994680141004,
          -0.2067836441219874,
          -1.2982007775309201,
          0.8728751802177441,
          -0.4558648151654358,
          1.4143397838621108,
          -0.2283862758991108,
          -0.7885106007484821,
          -0.6237266472566988,
          0.03162986437150248,
          -0.212029724448196,
          -0.20608606868251564,
          -0.6031391322763106,
          0.2657646502926192,
          1.2832959415010545,
          0.47691329850658754,
          0.11495505177277747,
          1.8470207470600093,
          0.8959979991642596
         ],
         "yaxis": "y8"
        },
        {
         "line": {
          "color": "rgba(128, 128, 128, 1.0)",
          "dash": "solid",
          "shape": "linear",
          "width": 1.3
         },
         "marker": {
          "size": 2,
          "symbol": "circle"
         },
         "mode": "markers",
         "name": "C",
         "text": "",
         "type": "scatter",
         "x": [
          -0.33401795564492287,
          -0.8567502346979979,
          -0.10473055917119059,
          -0.9552750460806879,
          -1.615569955059547,
          0.45208443032962725,
          1.1521251322277608,
          0.745651691971453,
          -0.4096921983005491,
          -1.8286545981090672,
          1.1162488615338755,
          -0.23917946135104004,
          -0.41795746820050994,
          -0.6158286873263658,
          -0.16522357255275513,
          -1.1466897394803683,
          0.1899506944113523,
          -0.30428371295067236,
          -0.8377454443042902,
          1.0749209762017375,
          -0.5036507942437648,
          0.7477607300033207,
          -0.4581271281732457,
          0.5879507188974076,
          0.4030595873888752,
          0.27583707736362106,
          -1.1843996197262006,
          0.02289383390635474,
          -0.3403937018414992,
          -1.7166785587717857,
          0.4822370620456638,
          0.5200151191009494,
          -0.7064456411263597,
          0.2777649973811855,
          -0.38139840158046373,
          0.0012714620076879613,
          -0.8984831424792492,
          0.5163859344827737,
          0.028933774684512,
          0.8413131356335115,
          1.400019231180424,
          -0.2413195821291121,
          -0.6792104376259505,
          -0.09656771735802587,
          -0.6475198989307501,
          0.548223693326196,
          -1.3819837976275722,
          -1.6262595692515833,
          -2.316340334702603,
          0.0746851580412261,
          1.6607660314582249,
          0.6059296659896694,
          -0.32675390364252194,
          0.7473568118899233,
          1.2637003740836217,
          -1.4016416000087277,
          0.0028637618612219018,
          0.2625532363277476,
          -2.111665921077397,
          0.9344936629906027,
          -0.1633075239448629,
          0.5334083791568638,
          -0.11211496887969293,
          1.148058947229644,
          -0.6640245778390096,
          0.3429848358350742,
          -0.22979124826761954,
          -0.36396205591449277,
          0.8924054416145863,
          -0.0061315933942883444,
          0.8003321749012936,
          0.35447366860929735,
          -0.33541016878165686,
          1.2336292297481033,
          -0.7955181010405288,
          0.011086448208904488,
          0.27737192354778073,
          1.682760295203774,
          1.5706126536750737,
          -0.5022370702420386,
          -1.4829078545161825,
          -1.5550319602966496,
          -0.1113288955932639,
          -0.6683103896896104,
          -0.42907556378926476,
          0.9020594465600063,
          -1.0131553498783252,
          -0.02711901899847754,
          -0.30832841072807776,
          -0.42582943667482037,
          0.44336034515772516,
          1.1159664902530844,
          0.056746386041653184,
          -1.6172012143199634,
          -1.5755596256094238,
          0.1091926218659547,
          -0.5849546851871757,
          -1.4307737601208024,
          -0.33501558412825977,
          -0.1886428376261212
         ],
         "xaxis": "x9",
         "y": [
          0.10890878769720243,
          -0.6713626826884246,
          -0.8283248816466945,
          -0.39282402740141253,
          0.6977622699199653,
          0.2726902709017829,
          -0.733055647756976,
          -1.1769188858276907,
          0.5140440583698838,
          -0.5257997711549182,
          -0.5939913028444468,
          -1.0899920973102717,
          -1.1169496812268147,
          -0.06183448943431063,
          1.1920226620944019,
          0.3947340910429718,
          0.5165958715824404,
          -0.2532093271891566,
          -0.6229662667500819,
          -1.393246027853369,
          0.18626120369485305,
          -0.45703478164711936,
          -1.1010696049363926,
          -0.3494921184666258,
          -1.1599901840904236,
          -0.2668067273306687,
          0.5723653335982978,
          -0.510289270469568,
          0.4399836709351221,
          -1.3762717379296883,
          -0.24693364684247035,
          0.36514307526267437,
          1.7357873732423095,
          -0.45647718538009024,
          0.49518001829326896,
          0.2634835923908529,
          0.0641257741877574,
          0.19178971570842765,
          0.3442257007194484,
          1.3793889754152107,
          0.9206674912834298,
          -0.9983635840925854,
          -0.48464519386839716,
          -0.604114949438876,
          0.3162266874922444,
          1.544688940111044,
          -1.2088687769723159,
          1.5210922018964559,
          0.26449720263462595,
          0.27981023913330894,
          0.550732600434451,
          1.0794684031421604,
          -0.36412957770102033,
          0.5852166497226681,
          0.11759556183494221,
          0.14442260689725314,
          1.2991193258426927,
          -0.22388294041532714,
          -0.6433255684754923,
          -0.8119280263077251,
          -1.503443435559967,
          -0.28825355870732405,
          -0.31751555682564075,
          -0.458525472705331,
          -1.380610471676825,
          1.438621351833829,
          -0.5606915802597062,
          0.7858389274414597,
          -0.8197927399750891,
          0.5595279939993528,
          -0.5809829183529606,
          0.9724872248661316,
          0.09102921245140706,
          0.0022078382496239436,
          -0.43386260139667143,
          0.28357156020091284,
          0.2904148828301787,
          -0.17778428609997943,
          -0.6135457754406612,
          -0.9108405120118579,
          1.097663247217463,
          -0.690960694560415,
          -0.6228764988194392,
          1.10996227641887,
          1.1379791109474344,
          -0.11437215554158245,
          0.3153538449048185,
          0.7586464106613391,
          -0.6684773125147604,
          0.5850122060694447,
          -0.5757711110347066,
          1.6409042078109004,
          0.5516421100710179,
          1.4999661634677213,
          0.9203218164731303,
          -1.6853053860429534,
          0.000910264168236696,
          -0.6651748434595457,
          0.8569986581487651,
          1.354614590044158
         ],
         "yaxis": "y9"
        },
        {
         "line": {
          "color": "rgba(128, 128, 128, 1.0)",
          "dash": "solid",
          "shape": "linear",
          "width": 1.3
         },
         "marker": {
          "size": 2,
          "symbol": "circle"
         },
         "mode": "markers",
         "name": "C",
         "text": "",
         "type": "scatter",
         "x": [
          0.7876917141458819,
          -0.4927411666792617,
          1.0974937036873178,
          -0.4439206985018027,
          0.2887527016408452,
          1.6742941592395084,
          0.09769658941939971,
          -0.5725516723706708,
          -0.5492592727640042,
          -1.5202236019398916,
          0.38823943145541134,
          1.6282609740421874,
          0.7326277731686339,
          0.06730103330838098,
          0.3402060045322037,
          0.09507628974658346,
          -0.02434056897616973,
          -0.3543784939901299,
          -1.223788539698824,
          -0.6343497374288385,
          0.26653812477656896,
          1.438206680395697,
          0.2415253255836718,
          -0.5987723898434579,
          -0.9171915030653498,
          0.11207252291134627,
          0.05451867791386243,
          0.4112131470328786,
          0.44492768680055544,
          0.2518950357633279,
          1.2463146582630462,
          -0.2112880449759986,
          1.3866651715692133,
          -0.6856964980957535,
          -0.4222120528187373,
          1.1922204650983412,
          0.15401391008934873,
          -2.1054080496754954,
          0.022291737503580638,
          0.7897529100041379,
          -1.2690774934764053,
          -0.7350699839334449,
          -1.0471268941827443,
          -1.0153320689971657,
          0.78785482367279,
          0.7361749374278779,
          -1.1345914803012231,
          -0.5683363178024483,
          -0.49464389117558116,
          0.23422581647806803,
          -2.1553512566379696,
          -1.2433197111777519,
          -0.8198086705514108,
          -0.46962743588801903,
          -0.2882913723683333,
          0.8983233686389277,
          0.9084568051309245,
          -0.44221663833346375,
          1.0293957279524568,
          2.0421754421017866,
          0.03945373112628942,
          -0.2750148513970318,
          -1.2201128479118042,
          -0.1738405812640102,
          0.2875423811571659,
          -0.8738739689146106,
          0.7014107545116337,
          -2.3002964933232692,
          -0.6253456459787136,
          -1.8275246768702471,
          -0.15907550729462694,
          0.5844077990293167,
          -0.2301648650344321,
          0.33009928176921377,
          0.5445848145905013,
          0.5057947642888931,
          0.41536259213452914,
          -0.3776968113879913,
          -0.7157916944803,
          0.12712187178968135,
          0.3765080960387935,
          0.10454994680141004,
          -0.2067836441219874,
          -1.2982007775309201,
          0.8728751802177441,
          -0.4558648151654358,
          1.4143397838621108,
          -0.2283862758991108,
          -0.7885106007484821,
          -0.6237266472566988,
          0.03162986437150248,
          -0.212029724448196,
          -0.20608606868251564,
          -0.6031391322763106,
          0.2657646502926192,
          1.2832959415010545,
          0.47691329850658754,
          0.11495505177277747,
          1.8470207470600093,
          0.8959979991642596
         ],
         "xaxis": "x10",
         "y": [
          0.10890878769720243,
          -0.6713626826884246,
          -0.8283248816466945,
          -0.39282402740141253,
          0.6977622699199653,
          0.2726902709017829,
          -0.733055647756976,
          -1.1769188858276907,
          0.5140440583698838,
          -0.5257997711549182,
          -0.5939913028444468,
          -1.0899920973102717,
          -1.1169496812268147,
          -0.06183448943431063,
          1.1920226620944019,
          0.3947340910429718,
          0.5165958715824404,
          -0.2532093271891566,
          -0.6229662667500819,
          -1.393246027853369,
          0.18626120369485305,
          -0.45703478164711936,
          -1.1010696049363926,
          -0.3494921184666258,
          -1.1599901840904236,
          -0.2668067273306687,
          0.5723653335982978,
          -0.510289270469568,
          0.4399836709351221,
          -1.3762717379296883,
          -0.24693364684247035,
          0.36514307526267437,
          1.7357873732423095,
          -0.45647718538009024,
          0.49518001829326896,
          0.2634835923908529,
          0.0641257741877574,
          0.19178971570842765,
          0.3442257007194484,
          1.3793889754152107,
          0.9206674912834298,
          -0.9983635840925854,
          -0.48464519386839716,
          -0.604114949438876,
          0.3162266874922444,
          1.544688940111044,
          -1.2088687769723159,
          1.5210922018964559,
          0.26449720263462595,
          0.27981023913330894,
          0.550732600434451,
          1.0794684031421604,
          -0.36412957770102033,
          0.5852166497226681,
          0.11759556183494221,
          0.14442260689725314,
          1.2991193258426927,
          -0.22388294041532714,
          -0.6433255684754923,
          -0.8119280263077251,
          -1.503443435559967,
          -0.28825355870732405,
          -0.31751555682564075,
          -0.458525472705331,
          -1.380610471676825,
          1.438621351833829,
          -0.5606915802597062,
          0.7858389274414597,
          -0.8197927399750891,
          0.5595279939993528,
          -0.5809829183529606,
          0.9724872248661316,
          0.09102921245140706,
          0.0022078382496239436,
          -0.43386260139667143,
          0.28357156020091284,
          0.2904148828301787,
          -0.17778428609997943,
          -0.6135457754406612,
          -0.9108405120118579,
          1.097663247217463,
          -0.690960694560415,
          -0.6228764988194392,
          1.10996227641887,
          1.1379791109474344,
          -0.11437215554158245,
          0.3153538449048185,
          0.7586464106613391,
          -0.6684773125147604,
          0.5850122060694447,
          -0.5757711110347066,
          1.6409042078109004,
          0.5516421100710179,
          1.4999661634677213,
          0.9203218164731303,
          -1.6853053860429534,
          0.000910264168236696,
          -0.6651748434595457,
          0.8569986581487651,
          1.354614590044158
         ],
         "yaxis": "y10"
        },
        {
         "histfunc": "count",
         "histnorm": "",
         "marker": {
          "color": "rgba(50, 171, 96, 1.0)",
          "line": {
           "color": "#4D5663",
           "width": 1.3
          }
         },
         "name": "C",
         "nbinsx": 10,
         "opacity": 0.8,
         "orientation": "v",
         "type": "histogram",
         "x": [
          0.10890878769720243,
          -0.6713626826884246,
          -0.8283248816466945,
          -0.39282402740141253,
          0.6977622699199653,
          0.2726902709017829,
          -0.733055647756976,
          -1.1769188858276907,
          0.5140440583698838,
          -0.5257997711549182,
          -0.5939913028444468,
          -1.0899920973102717,
          -1.1169496812268147,
          -0.06183448943431063,
          1.1920226620944019,
          0.3947340910429718,
          0.5165958715824404,
          -0.2532093271891566,
          -0.6229662667500819,
          -1.393246027853369,
          0.18626120369485305,
          -0.45703478164711936,
          -1.1010696049363926,
          -0.3494921184666258,
          -1.1599901840904236,
          -0.2668067273306687,
          0.5723653335982978,
          -0.510289270469568,
          0.4399836709351221,
          -1.3762717379296883,
          -0.24693364684247035,
          0.36514307526267437,
          1.7357873732423095,
          -0.45647718538009024,
          0.49518001829326896,
          0.2634835923908529,
          0.0641257741877574,
          0.19178971570842765,
          0.3442257007194484,
          1.3793889754152107,
          0.9206674912834298,
          -0.9983635840925854,
          -0.48464519386839716,
          -0.604114949438876,
          0.3162266874922444,
          1.544688940111044,
          -1.2088687769723159,
          1.5210922018964559,
          0.26449720263462595,
          0.27981023913330894,
          0.550732600434451,
          1.0794684031421604,
          -0.36412957770102033,
          0.5852166497226681,
          0.11759556183494221,
          0.14442260689725314,
          1.2991193258426927,
          -0.22388294041532714,
          -0.6433255684754923,
          -0.8119280263077251,
          -1.503443435559967,
          -0.28825355870732405,
          -0.31751555682564075,
          -0.458525472705331,
          -1.380610471676825,
          1.438621351833829,
          -0.5606915802597062,
          0.7858389274414597,
          -0.8197927399750891,
          0.5595279939993528,
          -0.5809829183529606,
          0.9724872248661316,
          0.09102921245140706,
          0.0022078382496239436,
          -0.43386260139667143,
          0.28357156020091284,
          0.2904148828301787,
          -0.17778428609997943,
          -0.6135457754406612,
          -0.9108405120118579,
          1.097663247217463,
          -0.690960694560415,
          -0.6228764988194392,
          1.10996227641887,
          1.1379791109474344,
          -0.11437215554158245,
          0.3153538449048185,
          0.7586464106613391,
          -0.6684773125147604,
          0.5850122060694447,
          -0.5757711110347066,
          1.6409042078109004,
          0.5516421100710179,
          1.4999661634677213,
          0.9203218164731303,
          -1.6853053860429534,
          0.000910264168236696,
          -0.6651748434595457,
          0.8569986581487651,
          1.354614590044158
         ],
         "xaxis": "x11",
         "yaxis": "y11"
        },
        {
         "line": {
          "color": "rgba(128, 128, 128, 1.0)",
          "dash": "solid",
          "shape": "linear",
          "width": 1.3
         },
         "marker": {
          "size": 2,
          "symbol": "circle"
         },
         "mode": "markers",
         "name": "C",
         "text": "",
         "type": "scatter",
         "x": [
          -0.8725517699447418,
          2.2100037241425965,
          -0.18447471965609888,
          -1.0280709444626888,
          -0.038617173882581415,
          -2.037831386596425,
          -0.8488615903302171,
          -0.6557782591076858,
          -0.32961756737227393,
          0.46858892715420497,
          -0.6193317742938698,
          -1.1250056860244975,
          0.4278637007836617,
          1.063434945992072,
          -0.8755299552551474,
          -0.48299910943857494,
          -0.06416376223290995,
          0.6439306421881182,
          -1.2256664835126148,
          -0.30103394524184657,
          0.19307782761558323,
          2.2803572229868787,
          1.0231275280259986,
          -0.5841391390473818,
          0.7247137151293709,
          -0.7271142019678107,
          -0.31158219045913266,
          -0.8927003953161164,
          -0.33189112413778354,
          0.642608009982188,
          -0.30928011954721973,
          -0.28835655399055904,
          1.9617820968077664,
          -0.059083946274872734,
          -0.8397586751242981,
          -0.5469400318312613,
          1.0002451787591444,
          -0.4624189977132809,
          1.0359478047016608,
          1.4970943864754829,
          0.010265847176222464,
          -0.5325515770409451,
          -0.2619323131960744,
          0.5620808083620767,
          1.3465970674700758,
          0.7924164101004401,
          -1.3228732687102436,
          -2.0937669684216784,
          1.422580462553181,
          -1.7666536031136513,
          -0.8309110889937393,
          0.14896101418022792,
          -0.6048788067326643,
          0.990507987140074,
          0.8273624278890639,
          1.478465047435868,
          0.018240818333552865,
          0.9603234771883151,
          -0.6475970811866526,
          -0.8069625792560894,
          -1.1159667011257022,
          -0.8984065575657584,
          0.17500080669481868,
          0.5732201854852669,
          1.581026518189645,
          -0.5041301321733543,
          -0.6889010629106648,
          -1.0852170716238105,
          -0.7621635193632472,
          0.8655111236536761,
          -0.6030949305282863,
          0.03773427974266808,
          0.8363017380784022,
          -0.7956716401636215,
          -0.2689707486785275,
          1.44452335124853,
          -0.3633047011821962,
          0.6236380109920362,
          0.8612062010518985,
          -0.19720113191621397,
          0.28817124810430433,
          -0.49549746891339924,
          -1.3568447416162759,
          0.6661215460677381,
          -0.980701259135087,
          0.6734456045101622,
          1.155472647753716,
          0.8405667115006873,
          -3.677045545855245,
          -1.8116630686644002,
          -0.8384938069607375,
          -1.7508899135576048,
          0.5442700068805986,
          1.140123535318682,
          0.5944913448908976,
          0.15209708750178105,
          -0.31513758003187337,
          1.224183097982116,
          -0.6341506291455641,
          0.9888950057158389
         ],
         "xaxis": "x12",
         "y": [
          0.10890878769720243,
          -0.6713626826884246,
          -0.8283248816466945,
          -0.39282402740141253,
          0.6977622699199653,
          0.2726902709017829,
          -0.733055647756976,
          -1.1769188858276907,
          0.5140440583698838,
          -0.5257997711549182,
          -0.5939913028444468,
          -1.0899920973102717,
          -1.1169496812268147,
          -0.06183448943431063,
          1.1920226620944019,
          0.3947340910429718,
          0.5165958715824404,
          -0.2532093271891566,
          -0.6229662667500819,
          -1.393246027853369,
          0.18626120369485305,
          -0.45703478164711936,
          -1.1010696049363926,
          -0.3494921184666258,
          -1.1599901840904236,
          -0.2668067273306687,
          0.5723653335982978,
          -0.510289270469568,
          0.4399836709351221,
          -1.3762717379296883,
          -0.24693364684247035,
          0.36514307526267437,
          1.7357873732423095,
          -0.45647718538009024,
          0.49518001829326896,
          0.2634835923908529,
          0.0641257741877574,
          0.19178971570842765,
          0.3442257007194484,
          1.3793889754152107,
          0.9206674912834298,
          -0.9983635840925854,
          -0.48464519386839716,
          -0.604114949438876,
          0.3162266874922444,
          1.544688940111044,
          -1.2088687769723159,
          1.5210922018964559,
          0.26449720263462595,
          0.27981023913330894,
          0.550732600434451,
          1.0794684031421604,
          -0.36412957770102033,
          0.5852166497226681,
          0.11759556183494221,
          0.14442260689725314,
          1.2991193258426927,
          -0.22388294041532714,
          -0.6433255684754923,
          -0.8119280263077251,
          -1.503443435559967,
          -0.28825355870732405,
          -0.31751555682564075,
          -0.458525472705331,
          -1.380610471676825,
          1.438621351833829,
          -0.5606915802597062,
          0.7858389274414597,
          -0.8197927399750891,
          0.5595279939993528,
          -0.5809829183529606,
          0.9724872248661316,
          0.09102921245140706,
          0.0022078382496239436,
          -0.43386260139667143,
          0.28357156020091284,
          0.2904148828301787,
          -0.17778428609997943,
          -0.6135457754406612,
          -0.9108405120118579,
          1.097663247217463,
          -0.690960694560415,
          -0.6228764988194392,
          1.10996227641887,
          1.1379791109474344,
          -0.11437215554158245,
          0.3153538449048185,
          0.7586464106613391,
          -0.6684773125147604,
          0.5850122060694447,
          -0.5757711110347066,
          1.6409042078109004,
          0.5516421100710179,
          1.4999661634677213,
          0.9203218164731303,
          -1.6853053860429534,
          0.000910264168236696,
          -0.6651748434595457,
          0.8569986581487651,
          1.354614590044158
         ],
         "yaxis": "y12"
        },
        {
         "line": {
          "color": "rgba(128, 128, 128, 1.0)",
          "dash": "solid",
          "shape": "linear",
          "width": 1.3
         },
         "marker": {
          "size": 2,
          "symbol": "circle"
         },
         "mode": "markers",
         "name": "D",
         "text": "",
         "type": "scatter",
         "x": [
          -0.33401795564492287,
          -0.8567502346979979,
          -0.10473055917119059,
          -0.9552750460806879,
          -1.615569955059547,
          0.45208443032962725,
          1.1521251322277608,
          0.745651691971453,
          -0.4096921983005491,
          -1.8286545981090672,
          1.1162488615338755,
          -0.23917946135104004,
          -0.41795746820050994,
          -0.6158286873263658,
          -0.16522357255275513,
          -1.1466897394803683,
          0.1899506944113523,
          -0.30428371295067236,
          -0.8377454443042902,
          1.0749209762017375,
          -0.5036507942437648,
          0.7477607300033207,
          -0.4581271281732457,
          0.5879507188974076,
          0.4030595873888752,
          0.27583707736362106,
          -1.1843996197262006,
          0.02289383390635474,
          -0.3403937018414992,
          -1.7166785587717857,
          0.4822370620456638,
          0.5200151191009494,
          -0.7064456411263597,
          0.2777649973811855,
          -0.38139840158046373,
          0.0012714620076879613,
          -0.8984831424792492,
          0.5163859344827737,
          0.028933774684512,
          0.8413131356335115,
          1.400019231180424,
          -0.2413195821291121,
          -0.6792104376259505,
          -0.09656771735802587,
          -0.6475198989307501,
          0.548223693326196,
          -1.3819837976275722,
          -1.6262595692515833,
          -2.316340334702603,
          0.0746851580412261,
          1.6607660314582249,
          0.6059296659896694,
          -0.32675390364252194,
          0.7473568118899233,
          1.2637003740836217,
          -1.4016416000087277,
          0.0028637618612219018,
          0.2625532363277476,
          -2.111665921077397,
          0.9344936629906027,
          -0.1633075239448629,
          0.5334083791568638,
          -0.11211496887969293,
          1.148058947229644,
          -0.6640245778390096,
          0.3429848358350742,
          -0.22979124826761954,
          -0.36396205591449277,
          0.8924054416145863,
          -0.0061315933942883444,
          0.8003321749012936,
          0.35447366860929735,
          -0.33541016878165686,
          1.2336292297481033,
          -0.7955181010405288,
          0.011086448208904488,
          0.27737192354778073,
          1.682760295203774,
          1.5706126536750737,
          -0.5022370702420386,
          -1.4829078545161825,
          -1.5550319602966496,
          -0.1113288955932639,
          -0.6683103896896104,
          -0.42907556378926476,
          0.9020594465600063,
          -1.0131553498783252,
          -0.02711901899847754,
          -0.30832841072807776,
          -0.42582943667482037,
          0.44336034515772516,
          1.1159664902530844,
          0.056746386041653184,
          -1.6172012143199634,
          -1.5755596256094238,
          0.1091926218659547,
          -0.5849546851871757,
          -1.4307737601208024,
          -0.33501558412825977,
          -0.1886428376261212
         ],
         "xaxis": "x13",
         "y": [
          -0.8725517699447418,
          2.2100037241425965,
          -0.18447471965609888,
          -1.0280709444626888,
          -0.038617173882581415,
          -2.037831386596425,
          -0.8488615903302171,
          -0.6557782591076858,
          -0.32961756737227393,
          0.46858892715420497,
          -0.6193317742938698,
          -1.1250056860244975,
          0.4278637007836617,
          1.063434945992072,
          -0.8755299552551474,
          -0.48299910943857494,
          -0.06416376223290995,
          0.6439306421881182,
          -1.2256664835126148,
          -0.30103394524184657,
          0.19307782761558323,
          2.2803572229868787,
          1.0231275280259986,
          -0.5841391390473818,
          0.7247137151293709,
          -0.7271142019678107,
          -0.31158219045913266,
          -0.8927003953161164,
          -0.33189112413778354,
          0.642608009982188,
          -0.30928011954721973,
          -0.28835655399055904,
          1.9617820968077664,
          -0.059083946274872734,
          -0.8397586751242981,
          -0.5469400318312613,
          1.0002451787591444,
          -0.4624189977132809,
          1.0359478047016608,
          1.4970943864754829,
          0.010265847176222464,
          -0.5325515770409451,
          -0.2619323131960744,
          0.5620808083620767,
          1.3465970674700758,
          0.7924164101004401,
          -1.3228732687102436,
          -2.0937669684216784,
          1.422580462553181,
          -1.7666536031136513,
          -0.8309110889937393,
          0.14896101418022792,
          -0.6048788067326643,
          0.990507987140074,
          0.8273624278890639,
          1.478465047435868,
          0.018240818333552865,
          0.9603234771883151,
          -0.6475970811866526,
          -0.8069625792560894,
          -1.1159667011257022,
          -0.8984065575657584,
          0.17500080669481868,
          0.5732201854852669,
          1.581026518189645,
          -0.5041301321733543,
          -0.6889010629106648,
          -1.0852170716238105,
          -0.7621635193632472,
          0.8655111236536761,
          -0.6030949305282863,
          0.03773427974266808,
          0.8363017380784022,
          -0.7956716401636215,
          -0.2689707486785275,
          1.44452335124853,
          -0.3633047011821962,
          0.6236380109920362,
          0.8612062010518985,
          -0.19720113191621397,
          0.28817124810430433,
          -0.49549746891339924,
          -1.3568447416162759,
          0.6661215460677381,
          -0.980701259135087,
          0.6734456045101622,
          1.155472647753716,
          0.8405667115006873,
          -3.677045545855245,
          -1.8116630686644002,
          -0.8384938069607375,
          -1.7508899135576048,
          0.5442700068805986,
          1.140123535318682,
          0.5944913448908976,
          0.15209708750178105,
          -0.31513758003187337,
          1.224183097982116,
          -0.6341506291455641,
          0.9888950057158389
         ],
         "yaxis": "y13"
        },
        {
         "line": {
          "color": "rgba(128, 128, 128, 1.0)",
          "dash": "solid",
          "shape": "linear",
          "width": 1.3
         },
         "marker": {
          "size": 2,
          "symbol": "circle"
         },
         "mode": "markers",
         "name": "D",
         "text": "",
         "type": "scatter",
         "x": [
          0.7876917141458819,
          -0.4927411666792617,
          1.0974937036873178,
          -0.4439206985018027,
          0.2887527016408452,
          1.6742941592395084,
          0.09769658941939971,
          -0.5725516723706708,
          -0.5492592727640042,
          -1.5202236019398916,
          0.38823943145541134,
          1.6282609740421874,
          0.7326277731686339,
          0.06730103330838098,
          0.3402060045322037,
          0.09507628974658346,
          -0.02434056897616973,
          -0.3543784939901299,
          -1.223788539698824,
          -0.6343497374288385,
          0.26653812477656896,
          1.438206680395697,
          0.2415253255836718,
          -0.5987723898434579,
          -0.9171915030653498,
          0.11207252291134627,
          0.05451867791386243,
          0.4112131470328786,
          0.44492768680055544,
          0.2518950357633279,
          1.2463146582630462,
          -0.2112880449759986,
          1.3866651715692133,
          -0.6856964980957535,
          -0.4222120528187373,
          1.1922204650983412,
          0.15401391008934873,
          -2.1054080496754954,
          0.022291737503580638,
          0.7897529100041379,
          -1.2690774934764053,
          -0.7350699839334449,
          -1.0471268941827443,
          -1.0153320689971657,
          0.78785482367279,
          0.7361749374278779,
          -1.1345914803012231,
          -0.5683363178024483,
          -0.49464389117558116,
          0.23422581647806803,
          -2.1553512566379696,
          -1.2433197111777519,
          -0.8198086705514108,
          -0.46962743588801903,
          -0.2882913723683333,
          0.8983233686389277,
          0.9084568051309245,
          -0.44221663833346375,
          1.0293957279524568,
          2.0421754421017866,
          0.03945373112628942,
          -0.2750148513970318,
          -1.2201128479118042,
          -0.1738405812640102,
          0.2875423811571659,
          -0.8738739689146106,
          0.7014107545116337,
          -2.3002964933232692,
          -0.6253456459787136,
          -1.8275246768702471,
          -0.15907550729462694,
          0.5844077990293167,
          -0.2301648650344321,
          0.33009928176921377,
          0.5445848145905013,
          0.5057947642888931,
          0.41536259213452914,
          -0.3776968113879913,
          -0.7157916944803,
          0.12712187178968135,
          0.3765080960387935,
          0.10454994680141004,
          -0.2067836441219874,
          -1.2982007775309201,
          0.8728751802177441,
          -0.4558648151654358,
          1.4143397838621108,
          -0.2283862758991108,
          -0.7885106007484821,
          -0.6237266472566988,
          0.03162986437150248,
          -0.212029724448196,
          -0.20608606868251564,
          -0.6031391322763106,
          0.2657646502926192,
          1.2832959415010545,
          0.47691329850658754,
          0.11495505177277747,
          1.8470207470600093,
          0.8959979991642596
         ],
         "xaxis": "x14",
         "y": [
          -0.8725517699447418,
          2.2100037241425965,
          -0.18447471965609888,
          -1.0280709444626888,
          -0.038617173882581415,
          -2.037831386596425,
          -0.8488615903302171,
          -0.6557782591076858,
          -0.32961756737227393,
          0.46858892715420497,
          -0.6193317742938698,
          -1.1250056860244975,
          0.4278637007836617,
          1.063434945992072,
          -0.8755299552551474,
          -0.48299910943857494,
          -0.06416376223290995,
          0.6439306421881182,
          -1.2256664835126148,
          -0.30103394524184657,
          0.19307782761558323,
          2.2803572229868787,
          1.0231275280259986,
          -0.5841391390473818,
          0.7247137151293709,
          -0.7271142019678107,
          -0.31158219045913266,
          -0.8927003953161164,
          -0.33189112413778354,
          0.642608009982188,
          -0.30928011954721973,
          -0.28835655399055904,
          1.9617820968077664,
          -0.059083946274872734,
          -0.8397586751242981,
          -0.5469400318312613,
          1.0002451787591444,
          -0.4624189977132809,
          1.0359478047016608,
          1.4970943864754829,
          0.010265847176222464,
          -0.5325515770409451,
          -0.2619323131960744,
          0.5620808083620767,
          1.3465970674700758,
          0.7924164101004401,
          -1.3228732687102436,
          -2.0937669684216784,
          1.422580462553181,
          -1.7666536031136513,
          -0.8309110889937393,
          0.14896101418022792,
          -0.6048788067326643,
          0.990507987140074,
          0.8273624278890639,
          1.478465047435868,
          0.018240818333552865,
          0.9603234771883151,
          -0.6475970811866526,
          -0.8069625792560894,
          -1.1159667011257022,
          -0.8984065575657584,
          0.17500080669481868,
          0.5732201854852669,
          1.581026518189645,
          -0.5041301321733543,
          -0.6889010629106648,
          -1.0852170716238105,
          -0.7621635193632472,
          0.8655111236536761,
          -0.6030949305282863,
          0.03773427974266808,
          0.8363017380784022,
          -0.7956716401636215,
          -0.2689707486785275,
          1.44452335124853,
          -0.3633047011821962,
          0.6236380109920362,
          0.8612062010518985,
          -0.19720113191621397,
          0.28817124810430433,
          -0.49549746891339924,
          -1.3568447416162759,
          0.6661215460677381,
          -0.980701259135087,
          0.6734456045101622,
          1.155472647753716,
          0.8405667115006873,
          -3.677045545855245,
          -1.8116630686644002,
          -0.8384938069607375,
          -1.7508899135576048,
          0.5442700068805986,
          1.140123535318682,
          0.5944913448908976,
          0.15209708750178105,
          -0.31513758003187337,
          1.224183097982116,
          -0.6341506291455641,
          0.9888950057158389
         ],
         "yaxis": "y14"
        },
        {
         "line": {
          "color": "rgba(128, 128, 128, 1.0)",
          "dash": "solid",
          "shape": "linear",
          "width": 1.3
         },
         "marker": {
          "size": 2,
          "symbol": "circle"
         },
         "mode": "markers",
         "name": "D",
         "text": "",
         "type": "scatter",
         "x": [
          0.10890878769720243,
          -0.6713626826884246,
          -0.8283248816466945,
          -0.39282402740141253,
          0.6977622699199653,
          0.2726902709017829,
          -0.733055647756976,
          -1.1769188858276907,
          0.5140440583698838,
          -0.5257997711549182,
          -0.5939913028444468,
          -1.0899920973102717,
          -1.1169496812268147,
          -0.06183448943431063,
          1.1920226620944019,
          0.3947340910429718,
          0.5165958715824404,
          -0.2532093271891566,
          -0.6229662667500819,
          -1.393246027853369,
          0.18626120369485305,
          -0.45703478164711936,
          -1.1010696049363926,
          -0.3494921184666258,
          -1.1599901840904236,
          -0.2668067273306687,
          0.5723653335982978,
          -0.510289270469568,
          0.4399836709351221,
          -1.3762717379296883,
          -0.24693364684247035,
          0.36514307526267437,
          1.7357873732423095,
          -0.45647718538009024,
          0.49518001829326896,
          0.2634835923908529,
          0.0641257741877574,
          0.19178971570842765,
          0.3442257007194484,
          1.3793889754152107,
          0.9206674912834298,
          -0.9983635840925854,
          -0.48464519386839716,
          -0.604114949438876,
          0.3162266874922444,
          1.544688940111044,
          -1.2088687769723159,
          1.5210922018964559,
          0.26449720263462595,
          0.27981023913330894,
          0.550732600434451,
          1.0794684031421604,
          -0.36412957770102033,
          0.5852166497226681,
          0.11759556183494221,
          0.14442260689725314,
          1.2991193258426927,
          -0.22388294041532714,
          -0.6433255684754923,
          -0.8119280263077251,
          -1.503443435559967,
          -0.28825355870732405,
          -0.31751555682564075,
          -0.458525472705331,
          -1.380610471676825,
          1.438621351833829,
          -0.5606915802597062,
          0.7858389274414597,
          -0.8197927399750891,
          0.5595279939993528,
          -0.5809829183529606,
          0.9724872248661316,
          0.09102921245140706,
          0.0022078382496239436,
          -0.43386260139667143,
          0.28357156020091284,
          0.2904148828301787,
          -0.17778428609997943,
          -0.6135457754406612,
          -0.9108405120118579,
          1.097663247217463,
          -0.690960694560415,
          -0.6228764988194392,
          1.10996227641887,
          1.1379791109474344,
          -0.11437215554158245,
          0.3153538449048185,
          0.7586464106613391,
          -0.6684773125147604,
          0.5850122060694447,
          -0.5757711110347066,
          1.6409042078109004,
          0.5516421100710179,
          1.4999661634677213,
          0.9203218164731303,
          -1.6853053860429534,
          0.000910264168236696,
          -0.6651748434595457,
          0.8569986581487651,
          1.354614590044158
         ],
         "xaxis": "x15",
         "y": [
          -0.8725517699447418,
          2.2100037241425965,
          -0.18447471965609888,
          -1.0280709444626888,
          -0.038617173882581415,
          -2.037831386596425,
          -0.8488615903302171,
          -0.6557782591076858,
          -0.32961756737227393,
          0.46858892715420497,
          -0.6193317742938698,
          -1.1250056860244975,
          0.4278637007836617,
          1.063434945992072,
          -0.8755299552551474,
          -0.48299910943857494,
          -0.06416376223290995,
          0.6439306421881182,
          -1.2256664835126148,
          -0.30103394524184657,
          0.19307782761558323,
          2.2803572229868787,
          1.0231275280259986,
          -0.5841391390473818,
          0.7247137151293709,
          -0.7271142019678107,
          -0.31158219045913266,
          -0.8927003953161164,
          -0.33189112413778354,
          0.642608009982188,
          -0.30928011954721973,
          -0.28835655399055904,
          1.9617820968077664,
          -0.059083946274872734,
          -0.8397586751242981,
          -0.5469400318312613,
          1.0002451787591444,
          -0.4624189977132809,
          1.0359478047016608,
          1.4970943864754829,
          0.010265847176222464,
          -0.5325515770409451,
          -0.2619323131960744,
          0.5620808083620767,
          1.3465970674700758,
          0.7924164101004401,
          -1.3228732687102436,
          -2.0937669684216784,
          1.422580462553181,
          -1.7666536031136513,
          -0.8309110889937393,
          0.14896101418022792,
          -0.6048788067326643,
          0.990507987140074,
          0.8273624278890639,
          1.478465047435868,
          0.018240818333552865,
          0.9603234771883151,
          -0.6475970811866526,
          -0.8069625792560894,
          -1.1159667011257022,
          -0.8984065575657584,
          0.17500080669481868,
          0.5732201854852669,
          1.581026518189645,
          -0.5041301321733543,
          -0.6889010629106648,
          -1.0852170716238105,
          -0.7621635193632472,
          0.8655111236536761,
          -0.6030949305282863,
          0.03773427974266808,
          0.8363017380784022,
          -0.7956716401636215,
          -0.2689707486785275,
          1.44452335124853,
          -0.3633047011821962,
          0.6236380109920362,
          0.8612062010518985,
          -0.19720113191621397,
          0.28817124810430433,
          -0.49549746891339924,
          -1.3568447416162759,
          0.6661215460677381,
          -0.980701259135087,
          0.6734456045101622,
          1.155472647753716,
          0.8405667115006873,
          -3.677045545855245,
          -1.8116630686644002,
          -0.8384938069607375,
          -1.7508899135576048,
          0.5442700068805986,
          1.140123535318682,
          0.5944913448908976,
          0.15209708750178105,
          -0.31513758003187337,
          1.224183097982116,
          -0.6341506291455641,
          0.9888950057158389
         ],
         "yaxis": "y15"
        },
        {
         "histfunc": "count",
         "histnorm": "",
         "marker": {
          "color": "rgba(128, 0, 128, 1.0)",
          "line": {
           "color": "#4D5663",
           "width": 1.3
          }
         },
         "name": "D",
         "nbinsx": 10,
         "opacity": 0.8,
         "orientation": "v",
         "type": "histogram",
         "x": [
          -0.8725517699447418,
          2.2100037241425965,
          -0.18447471965609888,
          -1.0280709444626888,
          -0.038617173882581415,
          -2.037831386596425,
          -0.8488615903302171,
          -0.6557782591076858,
          -0.32961756737227393,
          0.46858892715420497,
          -0.6193317742938698,
          -1.1250056860244975,
          0.4278637007836617,
          1.063434945992072,
          -0.8755299552551474,
          -0.48299910943857494,
          -0.06416376223290995,
          0.6439306421881182,
          -1.2256664835126148,
          -0.30103394524184657,
          0.19307782761558323,
          2.2803572229868787,
          1.0231275280259986,
          -0.5841391390473818,
          0.7247137151293709,
          -0.7271142019678107,
          -0.31158219045913266,
          -0.8927003953161164,
          -0.33189112413778354,
          0.642608009982188,
          -0.30928011954721973,
          -0.28835655399055904,
          1.9617820968077664,
          -0.059083946274872734,
          -0.8397586751242981,
          -0.5469400318312613,
          1.0002451787591444,
          -0.4624189977132809,
          1.0359478047016608,
          1.4970943864754829,
          0.010265847176222464,
          -0.5325515770409451,
          -0.2619323131960744,
          0.5620808083620767,
          1.3465970674700758,
          0.7924164101004401,
          -1.3228732687102436,
          -2.0937669684216784,
          1.422580462553181,
          -1.7666536031136513,
          -0.8309110889937393,
          0.14896101418022792,
          -0.6048788067326643,
          0.990507987140074,
          0.8273624278890639,
          1.478465047435868,
          0.018240818333552865,
          0.9603234771883151,
          -0.6475970811866526,
          -0.8069625792560894,
          -1.1159667011257022,
          -0.8984065575657584,
          0.17500080669481868,
          0.5732201854852669,
          1.581026518189645,
          -0.5041301321733543,
          -0.6889010629106648,
          -1.0852170716238105,
          -0.7621635193632472,
          0.8655111236536761,
          -0.6030949305282863,
          0.03773427974266808,
          0.8363017380784022,
          -0.7956716401636215,
          -0.2689707486785275,
          1.44452335124853,
          -0.3633047011821962,
          0.6236380109920362,
          0.8612062010518985,
          -0.19720113191621397,
          0.28817124810430433,
          -0.49549746891339924,
          -1.3568447416162759,
          0.6661215460677381,
          -0.980701259135087,
          0.6734456045101622,
          1.155472647753716,
          0.8405667115006873,
          -3.677045545855245,
          -1.8116630686644002,
          -0.8384938069607375,
          -1.7508899135576048,
          0.5442700068805986,
          1.140123535318682,
          0.5944913448908976,
          0.15209708750178105,
          -0.31513758003187337,
          1.224183097982116,
          -0.6341506291455641,
          0.9888950057158389
         ],
         "xaxis": "x16",
         "yaxis": "y16"
        }
       ],
       "layout": {
        "bargap": 0.02,
        "legend": {
         "bgcolor": "#F5F6F9",
         "font": {
          "color": "#4D5663"
         }
        },
        "paper_bgcolor": "#F5F6F9",
        "plot_bgcolor": "#F5F6F9",
        "showlegend": false,
        "template": {
         "data": {
          "bar": [
           {
            "error_x": {
             "color": "#2a3f5f"
            },
            "error_y": {
             "color": "#2a3f5f"
            },
            "marker": {
             "line": {
              "color": "#E5ECF6",
              "width": 0.5
             }
            },
            "type": "bar"
           }
          ],
          "barpolar": [
           {
            "marker": {
             "line": {
              "color": "#E5ECF6",
              "width": 0.5
             }
            },
            "type": "barpolar"
           }
          ],
          "carpet": [
           {
            "aaxis": {
             "endlinecolor": "#2a3f5f",
             "gridcolor": "white",
             "linecolor": "white",
             "minorgridcolor": "white",
             "startlinecolor": "#2a3f5f"
            },
            "baxis": {
             "endlinecolor": "#2a3f5f",
             "gridcolor": "white",
             "linecolor": "white",
             "minorgridcolor": "white",
             "startlinecolor": "#2a3f5f"
            },
            "type": "carpet"
           }
          ],
          "choropleth": [
           {
            "colorbar": {
             "outlinewidth": 0,
             "ticks": ""
            },
            "type": "choropleth"
           }
          ],
          "contour": [
           {
            "colorbar": {
             "outlinewidth": 0,
             "ticks": ""
            },
            "colorscale": [
             [
              0,
              "#0d0887"
             ],
             [
              0.1111111111111111,
              "#46039f"
             ],
             [
              0.2222222222222222,
              "#7201a8"
             ],
             [
              0.3333333333333333,
              "#9c179e"
             ],
             [
              0.4444444444444444,
              "#bd3786"
             ],
             [
              0.5555555555555556,
              "#d8576b"
             ],
             [
              0.6666666666666666,
              "#ed7953"
             ],
             [
              0.7777777777777778,
              "#fb9f3a"
             ],
             [
              0.8888888888888888,
              "#fdca26"
             ],
             [
              1,
              "#f0f921"
             ]
            ],
            "type": "contour"
           }
          ],
          "contourcarpet": [
           {
            "colorbar": {
             "outlinewidth": 0,
             "ticks": ""
            },
            "type": "contourcarpet"
           }
          ],
          "heatmap": [
           {
            "colorbar": {
             "outlinewidth": 0,
             "ticks": ""
            },
            "colorscale": [
             [
              0,
              "#0d0887"
             ],
             [
              0.1111111111111111,
              "#46039f"
             ],
             [
              0.2222222222222222,
              "#7201a8"
             ],
             [
              0.3333333333333333,
              "#9c179e"
             ],
             [
              0.4444444444444444,
              "#bd3786"
             ],
             [
              0.5555555555555556,
              "#d8576b"
             ],
             [
              0.6666666666666666,
              "#ed7953"
             ],
             [
              0.7777777777777778,
              "#fb9f3a"
             ],
             [
              0.8888888888888888,
              "#fdca26"
             ],
             [
              1,
              "#f0f921"
             ]
            ],
            "type": "heatmap"
           }
          ],
          "heatmapgl": [
           {
            "colorbar": {
             "outlinewidth": 0,
             "ticks": ""
            },
            "colorscale": [
             [
              0,
              "#0d0887"
             ],
             [
              0.1111111111111111,
              "#46039f"
             ],
             [
              0.2222222222222222,
              "#7201a8"
             ],
             [
              0.3333333333333333,
              "#9c179e"
             ],
             [
              0.4444444444444444,
              "#bd3786"
             ],
             [
              0.5555555555555556,
              "#d8576b"
             ],
             [
              0.6666666666666666,
              "#ed7953"
             ],
             [
              0.7777777777777778,
              "#fb9f3a"
             ],
             [
              0.8888888888888888,
              "#fdca26"
             ],
             [
              1,
              "#f0f921"
             ]
            ],
            "type": "heatmapgl"
           }
          ],
          "histogram": [
           {
            "marker": {
             "colorbar": {
              "outlinewidth": 0,
              "ticks": ""
             }
            },
            "type": "histogram"
           }
          ],
          "histogram2d": [
           {
            "colorbar": {
             "outlinewidth": 0,
             "ticks": ""
            },
            "colorscale": [
             [
              0,
              "#0d0887"
             ],
             [
              0.1111111111111111,
              "#46039f"
             ],
             [
              0.2222222222222222,
              "#7201a8"
             ],
             [
              0.3333333333333333,
              "#9c179e"
             ],
             [
              0.4444444444444444,
              "#bd3786"
             ],
             [
              0.5555555555555556,
              "#d8576b"
             ],
             [
              0.6666666666666666,
              "#ed7953"
             ],
             [
              0.7777777777777778,
              "#fb9f3a"
             ],
             [
              0.8888888888888888,
              "#fdca26"
             ],
             [
              1,
              "#f0f921"
             ]
            ],
            "type": "histogram2d"
           }
          ],
          "histogram2dcontour": [
           {
            "colorbar": {
             "outlinewidth": 0,
             "ticks": ""
            },
            "colorscale": [
             [
              0,
              "#0d0887"
             ],
             [
              0.1111111111111111,
              "#46039f"
             ],
             [
              0.2222222222222222,
              "#7201a8"
             ],
             [
              0.3333333333333333,
              "#9c179e"
             ],
             [
              0.4444444444444444,
              "#bd3786"
             ],
             [
              0.5555555555555556,
              "#d8576b"
             ],
             [
              0.6666666666666666,
              "#ed7953"
             ],
             [
              0.7777777777777778,
              "#fb9f3a"
             ],
             [
              0.8888888888888888,
              "#fdca26"
             ],
             [
              1,
              "#f0f921"
             ]
            ],
            "type": "histogram2dcontour"
           }
          ],
          "mesh3d": [
           {
            "colorbar": {
             "outlinewidth": 0,
             "ticks": ""
            },
            "type": "mesh3d"
           }
          ],
          "parcoords": [
           {
            "line": {
             "colorbar": {
              "outlinewidth": 0,
              "ticks": ""
             }
            },
            "type": "parcoords"
           }
          ],
          "pie": [
           {
            "automargin": true,
            "type": "pie"
           }
          ],
          "scatter": [
           {
            "marker": {
             "colorbar": {
              "outlinewidth": 0,
              "ticks": ""
             }
            },
            "type": "scatter"
           }
          ],
          "scatter3d": [
           {
            "line": {
             "colorbar": {
              "outlinewidth": 0,
              "ticks": ""
             }
            },
            "marker": {
             "colorbar": {
              "outlinewidth": 0,
              "ticks": ""
             }
            },
            "type": "scatter3d"
           }
          ],
          "scattercarpet": [
           {
            "marker": {
             "colorbar": {
              "outlinewidth": 0,
              "ticks": ""
             }
            },
            "type": "scattercarpet"
           }
          ],
          "scattergeo": [
           {
            "marker": {
             "colorbar": {
              "outlinewidth": 0,
              "ticks": ""
             }
            },
            "type": "scattergeo"
           }
          ],
          "scattergl": [
           {
            "marker": {
             "colorbar": {
              "outlinewidth": 0,
              "ticks": ""
             }
            },
            "type": "scattergl"
           }
          ],
          "scattermapbox": [
           {
            "marker": {
             "colorbar": {
              "outlinewidth": 0,
              "ticks": ""
             }
            },
            "type": "scattermapbox"
           }
          ],
          "scatterpolar": [
           {
            "marker": {
             "colorbar": {
              "outlinewidth": 0,
              "ticks": ""
             }
            },
            "type": "scatterpolar"
           }
          ],
          "scatterpolargl": [
           {
            "marker": {
             "colorbar": {
              "outlinewidth": 0,
              "ticks": ""
             }
            },
            "type": "scatterpolargl"
           }
          ],
          "scatterternary": [
           {
            "marker": {
             "colorbar": {
              "outlinewidth": 0,
              "ticks": ""
             }
            },
            "type": "scatterternary"
           }
          ],
          "surface": [
           {
            "colorbar": {
             "outlinewidth": 0,
             "ticks": ""
            },
            "colorscale": [
             [
              0,
              "#0d0887"
             ],
             [
              0.1111111111111111,
              "#46039f"
             ],
             [
              0.2222222222222222,
              "#7201a8"
             ],
             [
              0.3333333333333333,
              "#9c179e"
             ],
             [
              0.4444444444444444,
              "#bd3786"
             ],
             [
              0.5555555555555556,
              "#d8576b"
             ],
             [
              0.6666666666666666,
              "#ed7953"
             ],
             [
              0.7777777777777778,
              "#fb9f3a"
             ],
             [
              0.8888888888888888,
              "#fdca26"
             ],
             [
              1,
              "#f0f921"
             ]
            ],
            "type": "surface"
           }
          ],
          "table": [
           {
            "cells": {
             "fill": {
              "color": "#EBF0F8"
             },
             "line": {
              "color": "white"
             }
            },
            "header": {
             "fill": {
              "color": "#C8D4E3"
             },
             "line": {
              "color": "white"
             }
            },
            "type": "table"
           }
          ]
         },
         "layout": {
          "annotationdefaults": {
           "arrowcolor": "#2a3f5f",
           "arrowhead": 0,
           "arrowwidth": 1
          },
          "coloraxis": {
           "colorbar": {
            "outlinewidth": 0,
            "ticks": ""
           }
          },
          "colorscale": {
           "diverging": [
            [
             0,
             "#8e0152"
            ],
            [
             0.1,
             "#c51b7d"
            ],
            [
             0.2,
             "#de77ae"
            ],
            [
             0.3,
             "#f1b6da"
            ],
            [
             0.4,
             "#fde0ef"
            ],
            [
             0.5,
             "#f7f7f7"
            ],
            [
             0.6,
             "#e6f5d0"
            ],
            [
             0.7,
             "#b8e186"
            ],
            [
             0.8,
             "#7fbc41"
            ],
            [
             0.9,
             "#4d9221"
            ],
            [
             1,
             "#276419"
            ]
           ],
           "sequential": [
            [
             0,
             "#0d0887"
            ],
            [
             0.1111111111111111,
             "#46039f"
            ],
            [
             0.2222222222222222,
             "#7201a8"
            ],
            [
             0.3333333333333333,
             "#9c179e"
            ],
            [
             0.4444444444444444,
             "#bd3786"
            ],
            [
             0.5555555555555556,
             "#d8576b"
            ],
            [
             0.6666666666666666,
             "#ed7953"
            ],
            [
             0.7777777777777778,
             "#fb9f3a"
            ],
            [
             0.8888888888888888,
             "#fdca26"
            ],
            [
             1,
             "#f0f921"
            ]
           ],
           "sequentialminus": [
            [
             0,
             "#0d0887"
            ],
            [
             0.1111111111111111,
             "#46039f"
            ],
            [
             0.2222222222222222,
             "#7201a8"
            ],
            [
             0.3333333333333333,
             "#9c179e"
            ],
            [
             0.4444444444444444,
             "#bd3786"
            ],
            [
             0.5555555555555556,
             "#d8576b"
            ],
            [
             0.6666666666666666,
             "#ed7953"
            ],
            [
             0.7777777777777778,
             "#fb9f3a"
            ],
            [
             0.8888888888888888,
             "#fdca26"
            ],
            [
             1,
             "#f0f921"
            ]
           ]
          },
          "colorway": [
           "#636efa",
           "#EF553B",
           "#00cc96",
           "#ab63fa",
           "#FFA15A",
           "#19d3f3",
           "#FF6692",
           "#B6E880",
           "#FF97FF",
           "#FECB52"
          ],
          "font": {
           "color": "#2a3f5f"
          },
          "geo": {
           "bgcolor": "white",
           "lakecolor": "white",
           "landcolor": "#E5ECF6",
           "showlakes": true,
           "showland": true,
           "subunitcolor": "white"
          },
          "hoverlabel": {
           "align": "left"
          },
          "hovermode": "closest",
          "mapbox": {
           "style": "light"
          },
          "paper_bgcolor": "white",
          "plot_bgcolor": "#E5ECF6",
          "polar": {
           "angularaxis": {
            "gridcolor": "white",
            "linecolor": "white",
            "ticks": ""
           },
           "bgcolor": "#E5ECF6",
           "radialaxis": {
            "gridcolor": "white",
            "linecolor": "white",
            "ticks": ""
           }
          },
          "scene": {
           "xaxis": {
            "backgroundcolor": "#E5ECF6",
            "gridcolor": "white",
            "gridwidth": 2,
            "linecolor": "white",
            "showbackground": true,
            "ticks": "",
            "zerolinecolor": "white"
           },
           "yaxis": {
            "backgroundcolor": "#E5ECF6",
            "gridcolor": "white",
            "gridwidth": 2,
            "linecolor": "white",
            "showbackground": true,
            "ticks": "",
            "zerolinecolor": "white"
           },
           "zaxis": {
            "backgroundcolor": "#E5ECF6",
            "gridcolor": "white",
            "gridwidth": 2,
            "linecolor": "white",
            "showbackground": true,
            "ticks": "",
            "zerolinecolor": "white"
           }
          },
          "shapedefaults": {
           "line": {
            "color": "#2a3f5f"
           }
          },
          "ternary": {
           "aaxis": {
            "gridcolor": "white",
            "linecolor": "white",
            "ticks": ""
           },
           "baxis": {
            "gridcolor": "white",
            "linecolor": "white",
            "ticks": ""
           },
           "bgcolor": "#E5ECF6",
           "caxis": {
            "gridcolor": "white",
            "linecolor": "white",
            "ticks": ""
           }
          },
          "title": {
           "x": 0.05
          },
          "xaxis": {
           "automargin": true,
           "gridcolor": "white",
           "linecolor": "white",
           "ticks": "",
           "title": {
            "standoff": 15
           },
           "zerolinecolor": "white",
           "zerolinewidth": 2
          },
          "yaxis": {
           "automargin": true,
           "gridcolor": "white",
           "linecolor": "white",
           "ticks": "",
           "title": {
            "standoff": 15
           },
           "zerolinecolor": "white",
           "zerolinewidth": 2
          }
         }
        },
        "title": {
         "font": {
          "color": "#4D5663"
         }
        },
        "xaxis": {
         "anchor": "y",
         "domain": [
          0,
          0.2125
         ],
         "gridcolor": "#E1E5ED",
         "showgrid": false,
         "tickfont": {
          "color": "#4D5663"
         },
         "title": {
          "font": {
           "color": "#4D5663"
          },
          "text": ""
         },
         "zerolinecolor": "#E1E5ED"
        },
        "xaxis10": {
         "anchor": "y10",
         "domain": [
          0.2625,
          0.475
         ],
         "gridcolor": "#E1E5ED",
         "showgrid": false,
         "tickfont": {
          "color": "#4D5663"
         },
         "title": {
          "font": {
           "color": "#4D5663"
          },
          "text": ""
         },
         "zerolinecolor": "#E1E5ED"
        },
        "xaxis11": {
         "anchor": "y11",
         "domain": [
          0.525,
          0.7375
         ],
         "gridcolor": "#E1E5ED",
         "showgrid": false,
         "tickfont": {
          "color": "#4D5663"
         },
         "title": {
          "font": {
           "color": "#4D5663"
          },
          "text": ""
         },
         "zerolinecolor": "#E1E5ED"
        },
        "xaxis12": {
         "anchor": "y12",
         "domain": [
          0.7875,
          1
         ],
         "gridcolor": "#E1E5ED",
         "showgrid": false,
         "tickfont": {
          "color": "#4D5663"
         },
         "title": {
          "font": {
           "color": "#4D5663"
          },
          "text": ""
         },
         "zerolinecolor": "#E1E5ED"
        },
        "xaxis13": {
         "anchor": "y13",
         "domain": [
          0,
          0.2125
         ],
         "gridcolor": "#E1E5ED",
         "showgrid": false,
         "tickfont": {
          "color": "#4D5663"
         },
         "title": {
          "font": {
           "color": "#4D5663"
          },
          "text": ""
         },
         "zerolinecolor": "#E1E5ED"
        },
        "xaxis14": {
         "anchor": "y14",
         "domain": [
          0.2625,
          0.475
         ],
         "gridcolor": "#E1E5ED",
         "showgrid": false,
         "tickfont": {
          "color": "#4D5663"
         },
         "title": {
          "font": {
           "color": "#4D5663"
          },
          "text": ""
         },
         "zerolinecolor": "#E1E5ED"
        },
        "xaxis15": {
         "anchor": "y15",
         "domain": [
          0.525,
          0.7375
         ],
         "gridcolor": "#E1E5ED",
         "showgrid": false,
         "tickfont": {
          "color": "#4D5663"
         },
         "title": {
          "font": {
           "color": "#4D5663"
          },
          "text": ""
         },
         "zerolinecolor": "#E1E5ED"
        },
        "xaxis16": {
         "anchor": "y16",
         "domain": [
          0.7875,
          1
         ],
         "gridcolor": "#E1E5ED",
         "showgrid": false,
         "tickfont": {
          "color": "#4D5663"
         },
         "title": {
          "font": {
           "color": "#4D5663"
          },
          "text": ""
         },
         "zerolinecolor": "#E1E5ED"
        },
        "xaxis2": {
         "anchor": "y2",
         "domain": [
          0.2625,
          0.475
         ],
         "gridcolor": "#E1E5ED",
         "showgrid": false,
         "tickfont": {
          "color": "#4D5663"
         },
         "title": {
          "font": {
           "color": "#4D5663"
          },
          "text": ""
         },
         "zerolinecolor": "#E1E5ED"
        },
        "xaxis3": {
         "anchor": "y3",
         "domain": [
          0.525,
          0.7375
         ],
         "gridcolor": "#E1E5ED",
         "showgrid": false,
         "tickfont": {
          "color": "#4D5663"
         },
         "title": {
          "font": {
           "color": "#4D5663"
          },
          "text": ""
         },
         "zerolinecolor": "#E1E5ED"
        },
        "xaxis4": {
         "anchor": "y4",
         "domain": [
          0.7875,
          1
         ],
         "gridcolor": "#E1E5ED",
         "showgrid": false,
         "tickfont": {
          "color": "#4D5663"
         },
         "title": {
          "font": {
           "color": "#4D5663"
          },
          "text": ""
         },
         "zerolinecolor": "#E1E5ED"
        },
        "xaxis5": {
         "anchor": "y5",
         "domain": [
          0,
          0.2125
         ],
         "gridcolor": "#E1E5ED",
         "showgrid": false,
         "tickfont": {
          "color": "#4D5663"
         },
         "title": {
          "font": {
           "color": "#4D5663"
          },
          "text": ""
         },
         "zerolinecolor": "#E1E5ED"
        },
        "xaxis6": {
         "anchor": "y6",
         "domain": [
          0.2625,
          0.475
         ],
         "gridcolor": "#E1E5ED",
         "showgrid": false,
         "tickfont": {
          "color": "#4D5663"
         },
         "title": {
          "font": {
           "color": "#4D5663"
          },
          "text": ""
         },
         "zerolinecolor": "#E1E5ED"
        },
        "xaxis7": {
         "anchor": "y7",
         "domain": [
          0.525,
          0.7375
         ],
         "gridcolor": "#E1E5ED",
         "showgrid": false,
         "tickfont": {
          "color": "#4D5663"
         },
         "title": {
          "font": {
           "color": "#4D5663"
          },
          "text": ""
         },
         "zerolinecolor": "#E1E5ED"
        },
        "xaxis8": {
         "anchor": "y8",
         "domain": [
          0.7875,
          1
         ],
         "gridcolor": "#E1E5ED",
         "showgrid": false,
         "tickfont": {
          "color": "#4D5663"
         },
         "title": {
          "font": {
           "color": "#4D5663"
          },
          "text": ""
         },
         "zerolinecolor": "#E1E5ED"
        },
        "xaxis9": {
         "anchor": "y9",
         "domain": [
          0,
          0.2125
         ],
         "gridcolor": "#E1E5ED",
         "showgrid": false,
         "tickfont": {
          "color": "#4D5663"
         },
         "title": {
          "font": {
           "color": "#4D5663"
          },
          "text": ""
         },
         "zerolinecolor": "#E1E5ED"
        },
        "yaxis": {
         "anchor": "x",
         "domain": [
          0.8025,
          1
         ],
         "gridcolor": "#E1E5ED",
         "showgrid": false,
         "tickfont": {
          "color": "#4D5663"
         },
         "title": {
          "font": {
           "color": "#4D5663"
          },
          "text": ""
         },
         "zerolinecolor": "#E1E5ED"
        },
        "yaxis10": {
         "anchor": "x10",
         "domain": [
          0.2675,
          0.465
         ],
         "gridcolor": "#E1E5ED",
         "showgrid": false,
         "tickfont": {
          "color": "#4D5663"
         },
         "title": {
          "font": {
           "color": "#4D5663"
          },
          "text": ""
         },
         "zerolinecolor": "#E1E5ED"
        },
        "yaxis11": {
         "anchor": "x11",
         "domain": [
          0.2675,
          0.465
         ],
         "gridcolor": "#E1E5ED",
         "showgrid": false,
         "tickfont": {
          "color": "#4D5663"
         },
         "title": {
          "font": {
           "color": "#4D5663"
          },
          "text": ""
         },
         "zerolinecolor": "#E1E5ED"
        },
        "yaxis12": {
         "anchor": "x12",
         "domain": [
          0.2675,
          0.465
         ],
         "gridcolor": "#E1E5ED",
         "showgrid": false,
         "tickfont": {
          "color": "#4D5663"
         },
         "title": {
          "font": {
           "color": "#4D5663"
          },
          "text": ""
         },
         "zerolinecolor": "#E1E5ED"
        },
        "yaxis13": {
         "anchor": "x13",
         "domain": [
          0,
          0.1975
         ],
         "gridcolor": "#E1E5ED",
         "showgrid": false,
         "tickfont": {
          "color": "#4D5663"
         },
         "title": {
          "font": {
           "color": "#4D5663"
          },
          "text": ""
         },
         "zerolinecolor": "#E1E5ED"
        },
        "yaxis14": {
         "anchor": "x14",
         "domain": [
          0,
          0.1975
         ],
         "gridcolor": "#E1E5ED",
         "showgrid": false,
         "tickfont": {
          "color": "#4D5663"
         },
         "title": {
          "font": {
           "color": "#4D5663"
          },
          "text": ""
         },
         "zerolinecolor": "#E1E5ED"
        },
        "yaxis15": {
         "anchor": "x15",
         "domain": [
          0,
          0.1975
         ],
         "gridcolor": "#E1E5ED",
         "showgrid": false,
         "tickfont": {
          "color": "#4D5663"
         },
         "title": {
          "font": {
           "color": "#4D5663"
          },
          "text": ""
         },
         "zerolinecolor": "#E1E5ED"
        },
        "yaxis16": {
         "anchor": "x16",
         "domain": [
          0,
          0.1975
         ],
         "gridcolor": "#E1E5ED",
         "showgrid": false,
         "tickfont": {
          "color": "#4D5663"
         },
         "title": {
          "font": {
           "color": "#4D5663"
          },
          "text": ""
         },
         "zerolinecolor": "#E1E5ED"
        },
        "yaxis2": {
         "anchor": "x2",
         "domain": [
          0.8025,
          1
         ],
         "gridcolor": "#E1E5ED",
         "showgrid": false,
         "tickfont": {
          "color": "#4D5663"
         },
         "title": {
          "font": {
           "color": "#4D5663"
          },
          "text": ""
         },
         "zerolinecolor": "#E1E5ED"
        },
        "yaxis3": {
         "anchor": "x3",
         "domain": [
          0.8025,
          1
         ],
         "gridcolor": "#E1E5ED",
         "showgrid": false,
         "tickfont": {
          "color": "#4D5663"
         },
         "title": {
          "font": {
           "color": "#4D5663"
          },
          "text": ""
         },
         "zerolinecolor": "#E1E5ED"
        },
        "yaxis4": {
         "anchor": "x4",
         "domain": [
          0.8025,
          1
         ],
         "gridcolor": "#E1E5ED",
         "showgrid": false,
         "tickfont": {
          "color": "#4D5663"
         },
         "title": {
          "font": {
           "color": "#4D5663"
          },
          "text": ""
         },
         "zerolinecolor": "#E1E5ED"
        },
        "yaxis5": {
         "anchor": "x5",
         "domain": [
          0.535,
          0.7325
         ],
         "gridcolor": "#E1E5ED",
         "showgrid": false,
         "tickfont": {
          "color": "#4D5663"
         },
         "title": {
          "font": {
           "color": "#4D5663"
          },
          "text": ""
         },
         "zerolinecolor": "#E1E5ED"
        },
        "yaxis6": {
         "anchor": "x6",
         "domain": [
          0.535,
          0.7325
         ],
         "gridcolor": "#E1E5ED",
         "showgrid": false,
         "tickfont": {
          "color": "#4D5663"
         },
         "title": {
          "font": {
           "color": "#4D5663"
          },
          "text": ""
         },
         "zerolinecolor": "#E1E5ED"
        },
        "yaxis7": {
         "anchor": "x7",
         "domain": [
          0.535,
          0.7325
         ],
         "gridcolor": "#E1E5ED",
         "showgrid": false,
         "tickfont": {
          "color": "#4D5663"
         },
         "title": {
          "font": {
           "color": "#4D5663"
          },
          "text": ""
         },
         "zerolinecolor": "#E1E5ED"
        },
        "yaxis8": {
         "anchor": "x8",
         "domain": [
          0.535,
          0.7325
         ],
         "gridcolor": "#E1E5ED",
         "showgrid": false,
         "tickfont": {
          "color": "#4D5663"
         },
         "title": {
          "font": {
           "color": "#4D5663"
          },
          "text": ""
         },
         "zerolinecolor": "#E1E5ED"
        },
        "yaxis9": {
         "anchor": "x9",
         "domain": [
          0.2675,
          0.465
         ],
         "gridcolor": "#E1E5ED",
         "showgrid": false,
         "tickfont": {
          "color": "#4D5663"
         },
         "title": {
          "font": {
           "color": "#4D5663"
          },
          "text": ""
         },
         "zerolinecolor": "#E1E5ED"
        }
       }
      },
      "text/html": [
       "<div>                            <div id=\"6078daed-68f4-4f45-8d10-3212a7d53125\" class=\"plotly-graph-div\" style=\"height:525px; width:100%;\"></div>            <script type=\"text/javascript\">                require([\"plotly\"], function(Plotly) {                    window.PLOTLYENV=window.PLOTLYENV || {};\n",
       "                    window.PLOTLYENV.BASE_URL='https://plot.ly';                                    if (document.getElementById(\"6078daed-68f4-4f45-8d10-3212a7d53125\")) {                    Plotly.newPlot(                        \"6078daed-68f4-4f45-8d10-3212a7d53125\",                        [{\"histfunc\": \"count\", \"histnorm\": \"\", \"marker\": {\"color\": \"rgba(255, 153, 51, 1.0)\", \"line\": {\"color\": \"#4D5663\", \"width\": 1.3}}, \"name\": \"A\", \"nbinsx\": 10, \"opacity\": 0.8, \"orientation\": \"v\", \"type\": \"histogram\", \"x\": [-0.33401795564492287, -0.8567502346979979, -0.10473055917119059, -0.9552750460806879, -1.615569955059547, 0.45208443032962725, 1.1521251322277608, 0.745651691971453, -0.4096921983005491, -1.8286545981090672, 1.1162488615338755, -0.23917946135104004, -0.41795746820050994, -0.6158286873263658, -0.16522357255275513, -1.1466897394803683, 0.1899506944113523, -0.30428371295067236, -0.8377454443042902, 1.0749209762017375, -0.5036507942437648, 0.7477607300033207, -0.4581271281732457, 0.5879507188974076, 0.4030595873888752, 0.27583707736362106, -1.1843996197262006, 0.02289383390635474, -0.3403937018414992, -1.7166785587717857, 0.4822370620456638, 0.5200151191009494, -0.7064456411263597, 0.2777649973811855, -0.38139840158046373, 0.0012714620076879613, -0.8984831424792492, 0.5163859344827737, 0.028933774684512, 0.8413131356335115, 1.400019231180424, -0.2413195821291121, -0.6792104376259505, -0.09656771735802587, -0.6475198989307501, 0.548223693326196, -1.3819837976275722, -1.6262595692515833, -2.316340334702603, 0.0746851580412261, 1.6607660314582249, 0.6059296659896694, -0.32675390364252194, 0.7473568118899233, 1.2637003740836217, -1.4016416000087277, 0.0028637618612219018, 0.2625532363277476, -2.111665921077397, 0.9344936629906027, -0.1633075239448629, 0.5334083791568638, -0.11211496887969293, 1.148058947229644, -0.6640245778390096, 0.3429848358350742, -0.22979124826761954, -0.36396205591449277, 0.8924054416145863, -0.0061315933942883444, 0.8003321749012936, 0.35447366860929735, -0.33541016878165686, 1.2336292297481033, -0.7955181010405288, 0.011086448208904488, 0.27737192354778073, 1.682760295203774, 1.5706126536750737, -0.5022370702420386, -1.4829078545161825, -1.5550319602966496, -0.1113288955932639, -0.6683103896896104, -0.42907556378926476, 0.9020594465600063, -1.0131553498783252, -0.02711901899847754, -0.30832841072807776, -0.42582943667482037, 0.44336034515772516, 1.1159664902530844, 0.056746386041653184, -1.6172012143199634, -1.5755596256094238, 0.1091926218659547, -0.5849546851871757, -1.4307737601208024, -0.33501558412825977, -0.1886428376261212], \"xaxis\": \"x\", \"yaxis\": \"y\"}, {\"line\": {\"color\": \"rgba(128, 128, 128, 1.0)\", \"dash\": \"solid\", \"shape\": \"linear\", \"width\": 1.3}, \"marker\": {\"size\": 2, \"symbol\": \"circle\"}, \"mode\": \"markers\", \"name\": \"A\", \"text\": \"\", \"type\": \"scatter\", \"x\": [0.7876917141458819, -0.4927411666792617, 1.0974937036873178, -0.4439206985018027, 0.2887527016408452, 1.6742941592395084, 0.09769658941939971, -0.5725516723706708, -0.5492592727640042, -1.5202236019398916, 0.38823943145541134, 1.6282609740421874, 0.7326277731686339, 0.06730103330838098, 0.3402060045322037, 0.09507628974658346, -0.02434056897616973, -0.3543784939901299, -1.223788539698824, -0.6343497374288385, 0.26653812477656896, 1.438206680395697, 0.2415253255836718, -0.5987723898434579, -0.9171915030653498, 0.11207252291134627, 0.05451867791386243, 0.4112131470328786, 0.44492768680055544, 0.2518950357633279, 1.2463146582630462, -0.2112880449759986, 1.3866651715692133, -0.6856964980957535, -0.4222120528187373, 1.1922204650983412, 0.15401391008934873, -2.1054080496754954, 0.022291737503580638, 0.7897529100041379, -1.2690774934764053, -0.7350699839334449, -1.0471268941827443, -1.0153320689971657, 0.78785482367279, 0.7361749374278779, -1.1345914803012231, -0.5683363178024483, -0.49464389117558116, 0.23422581647806803, -2.1553512566379696, -1.2433197111777519, -0.8198086705514108, -0.46962743588801903, -0.2882913723683333, 0.8983233686389277, 0.9084568051309245, -0.44221663833346375, 1.0293957279524568, 2.0421754421017866, 0.03945373112628942, -0.2750148513970318, -1.2201128479118042, -0.1738405812640102, 0.2875423811571659, -0.8738739689146106, 0.7014107545116337, -2.3002964933232692, -0.6253456459787136, -1.8275246768702471, -0.15907550729462694, 0.5844077990293167, -0.2301648650344321, 0.33009928176921377, 0.5445848145905013, 0.5057947642888931, 0.41536259213452914, -0.3776968113879913, -0.7157916944803, 0.12712187178968135, 0.3765080960387935, 0.10454994680141004, -0.2067836441219874, -1.2982007775309201, 0.8728751802177441, -0.4558648151654358, 1.4143397838621108, -0.2283862758991108, -0.7885106007484821, -0.6237266472566988, 0.03162986437150248, -0.212029724448196, -0.20608606868251564, -0.6031391322763106, 0.2657646502926192, 1.2832959415010545, 0.47691329850658754, 0.11495505177277747, 1.8470207470600093, 0.8959979991642596], \"xaxis\": \"x2\", \"y\": [-0.33401795564492287, -0.8567502346979979, -0.10473055917119059, -0.9552750460806879, -1.615569955059547, 0.45208443032962725, 1.1521251322277608, 0.745651691971453, -0.4096921983005491, -1.8286545981090672, 1.1162488615338755, -0.23917946135104004, -0.41795746820050994, -0.6158286873263658, -0.16522357255275513, -1.1466897394803683, 0.1899506944113523, -0.30428371295067236, -0.8377454443042902, 1.0749209762017375, -0.5036507942437648, 0.7477607300033207, -0.4581271281732457, 0.5879507188974076, 0.4030595873888752, 0.27583707736362106, -1.1843996197262006, 0.02289383390635474, -0.3403937018414992, -1.7166785587717857, 0.4822370620456638, 0.5200151191009494, -0.7064456411263597, 0.2777649973811855, -0.38139840158046373, 0.0012714620076879613, -0.8984831424792492, 0.5163859344827737, 0.028933774684512, 0.8413131356335115, 1.400019231180424, -0.2413195821291121, -0.6792104376259505, -0.09656771735802587, -0.6475198989307501, 0.548223693326196, -1.3819837976275722, -1.6262595692515833, -2.316340334702603, 0.0746851580412261, 1.6607660314582249, 0.6059296659896694, -0.32675390364252194, 0.7473568118899233, 1.2637003740836217, -1.4016416000087277, 0.0028637618612219018, 0.2625532363277476, -2.111665921077397, 0.9344936629906027, -0.1633075239448629, 0.5334083791568638, -0.11211496887969293, 1.148058947229644, -0.6640245778390096, 0.3429848358350742, -0.22979124826761954, -0.36396205591449277, 0.8924054416145863, -0.0061315933942883444, 0.8003321749012936, 0.35447366860929735, -0.33541016878165686, 1.2336292297481033, -0.7955181010405288, 0.011086448208904488, 0.27737192354778073, 1.682760295203774, 1.5706126536750737, -0.5022370702420386, -1.4829078545161825, -1.5550319602966496, -0.1113288955932639, -0.6683103896896104, -0.42907556378926476, 0.9020594465600063, -1.0131553498783252, -0.02711901899847754, -0.30832841072807776, -0.42582943667482037, 0.44336034515772516, 1.1159664902530844, 0.056746386041653184, -1.6172012143199634, -1.5755596256094238, 0.1091926218659547, -0.5849546851871757, -1.4307737601208024, -0.33501558412825977, -0.1886428376261212], \"yaxis\": \"y2\"}, {\"line\": {\"color\": \"rgba(128, 128, 128, 1.0)\", \"dash\": \"solid\", \"shape\": \"linear\", \"width\": 1.3}, \"marker\": {\"size\": 2, \"symbol\": \"circle\"}, \"mode\": \"markers\", \"name\": \"A\", \"text\": \"\", \"type\": \"scatter\", \"x\": [0.10890878769720243, -0.6713626826884246, -0.8283248816466945, -0.39282402740141253, 0.6977622699199653, 0.2726902709017829, -0.733055647756976, -1.1769188858276907, 0.5140440583698838, -0.5257997711549182, -0.5939913028444468, -1.0899920973102717, -1.1169496812268147, -0.06183448943431063, 1.1920226620944019, 0.3947340910429718, 0.5165958715824404, -0.2532093271891566, -0.6229662667500819, -1.393246027853369, 0.18626120369485305, -0.45703478164711936, -1.1010696049363926, -0.3494921184666258, -1.1599901840904236, -0.2668067273306687, 0.5723653335982978, -0.510289270469568, 0.4399836709351221, -1.3762717379296883, -0.24693364684247035, 0.36514307526267437, 1.7357873732423095, -0.45647718538009024, 0.49518001829326896, 0.2634835923908529, 0.0641257741877574, 0.19178971570842765, 0.3442257007194484, 1.3793889754152107, 0.9206674912834298, -0.9983635840925854, -0.48464519386839716, -0.604114949438876, 0.3162266874922444, 1.544688940111044, -1.2088687769723159, 1.5210922018964559, 0.26449720263462595, 0.27981023913330894, 0.550732600434451, 1.0794684031421604, -0.36412957770102033, 0.5852166497226681, 0.11759556183494221, 0.14442260689725314, 1.2991193258426927, -0.22388294041532714, -0.6433255684754923, -0.8119280263077251, -1.503443435559967, -0.28825355870732405, -0.31751555682564075, -0.458525472705331, -1.380610471676825, 1.438621351833829, -0.5606915802597062, 0.7858389274414597, -0.8197927399750891, 0.5595279939993528, -0.5809829183529606, 0.9724872248661316, 0.09102921245140706, 0.0022078382496239436, -0.43386260139667143, 0.28357156020091284, 0.2904148828301787, -0.17778428609997943, -0.6135457754406612, -0.9108405120118579, 1.097663247217463, -0.690960694560415, -0.6228764988194392, 1.10996227641887, 1.1379791109474344, -0.11437215554158245, 0.3153538449048185, 0.7586464106613391, -0.6684773125147604, 0.5850122060694447, -0.5757711110347066, 1.6409042078109004, 0.5516421100710179, 1.4999661634677213, 0.9203218164731303, -1.6853053860429534, 0.000910264168236696, -0.6651748434595457, 0.8569986581487651, 1.354614590044158], \"xaxis\": \"x3\", \"y\": [-0.33401795564492287, -0.8567502346979979, -0.10473055917119059, -0.9552750460806879, -1.615569955059547, 0.45208443032962725, 1.1521251322277608, 0.745651691971453, -0.4096921983005491, -1.8286545981090672, 1.1162488615338755, -0.23917946135104004, -0.41795746820050994, -0.6158286873263658, -0.16522357255275513, -1.1466897394803683, 0.1899506944113523, -0.30428371295067236, -0.8377454443042902, 1.0749209762017375, -0.5036507942437648, 0.7477607300033207, -0.4581271281732457, 0.5879507188974076, 0.4030595873888752, 0.27583707736362106, -1.1843996197262006, 0.02289383390635474, -0.3403937018414992, -1.7166785587717857, 0.4822370620456638, 0.5200151191009494, -0.7064456411263597, 0.2777649973811855, -0.38139840158046373, 0.0012714620076879613, -0.8984831424792492, 0.5163859344827737, 0.028933774684512, 0.8413131356335115, 1.400019231180424, -0.2413195821291121, -0.6792104376259505, -0.09656771735802587, -0.6475198989307501, 0.548223693326196, -1.3819837976275722, -1.6262595692515833, -2.316340334702603, 0.0746851580412261, 1.6607660314582249, 0.6059296659896694, -0.32675390364252194, 0.7473568118899233, 1.2637003740836217, -1.4016416000087277, 0.0028637618612219018, 0.2625532363277476, -2.111665921077397, 0.9344936629906027, -0.1633075239448629, 0.5334083791568638, -0.11211496887969293, 1.148058947229644, -0.6640245778390096, 0.3429848358350742, -0.22979124826761954, -0.36396205591449277, 0.8924054416145863, -0.0061315933942883444, 0.8003321749012936, 0.35447366860929735, -0.33541016878165686, 1.2336292297481033, -0.7955181010405288, 0.011086448208904488, 0.27737192354778073, 1.682760295203774, 1.5706126536750737, -0.5022370702420386, -1.4829078545161825, -1.5550319602966496, -0.1113288955932639, -0.6683103896896104, -0.42907556378926476, 0.9020594465600063, -1.0131553498783252, -0.02711901899847754, -0.30832841072807776, -0.42582943667482037, 0.44336034515772516, 1.1159664902530844, 0.056746386041653184, -1.6172012143199634, -1.5755596256094238, 0.1091926218659547, -0.5849546851871757, -1.4307737601208024, -0.33501558412825977, -0.1886428376261212], \"yaxis\": \"y3\"}, {\"line\": {\"color\": \"rgba(128, 128, 128, 1.0)\", \"dash\": \"solid\", \"shape\": \"linear\", \"width\": 1.3}, \"marker\": {\"size\": 2, \"symbol\": \"circle\"}, \"mode\": \"markers\", \"name\": \"A\", \"text\": \"\", \"type\": \"scatter\", \"x\": [-0.8725517699447418, 2.2100037241425965, -0.18447471965609888, -1.0280709444626888, -0.038617173882581415, -2.037831386596425, -0.8488615903302171, -0.6557782591076858, -0.32961756737227393, 0.46858892715420497, -0.6193317742938698, -1.1250056860244975, 0.4278637007836617, 1.063434945992072, -0.8755299552551474, -0.48299910943857494, -0.06416376223290995, 0.6439306421881182, -1.2256664835126148, -0.30103394524184657, 0.19307782761558323, 2.2803572229868787, 1.0231275280259986, -0.5841391390473818, 0.7247137151293709, -0.7271142019678107, -0.31158219045913266, -0.8927003953161164, -0.33189112413778354, 0.642608009982188, -0.30928011954721973, -0.28835655399055904, 1.9617820968077664, -0.059083946274872734, -0.8397586751242981, -0.5469400318312613, 1.0002451787591444, -0.4624189977132809, 1.0359478047016608, 1.4970943864754829, 0.010265847176222464, -0.5325515770409451, -0.2619323131960744, 0.5620808083620767, 1.3465970674700758, 0.7924164101004401, -1.3228732687102436, -2.0937669684216784, 1.422580462553181, -1.7666536031136513, -0.8309110889937393, 0.14896101418022792, -0.6048788067326643, 0.990507987140074, 0.8273624278890639, 1.478465047435868, 0.018240818333552865, 0.9603234771883151, -0.6475970811866526, -0.8069625792560894, -1.1159667011257022, -0.8984065575657584, 0.17500080669481868, 0.5732201854852669, 1.581026518189645, -0.5041301321733543, -0.6889010629106648, -1.0852170716238105, -0.7621635193632472, 0.8655111236536761, -0.6030949305282863, 0.03773427974266808, 0.8363017380784022, -0.7956716401636215, -0.2689707486785275, 1.44452335124853, -0.3633047011821962, 0.6236380109920362, 0.8612062010518985, -0.19720113191621397, 0.28817124810430433, -0.49549746891339924, -1.3568447416162759, 0.6661215460677381, -0.980701259135087, 0.6734456045101622, 1.155472647753716, 0.8405667115006873, -3.677045545855245, -1.8116630686644002, -0.8384938069607375, -1.7508899135576048, 0.5442700068805986, 1.140123535318682, 0.5944913448908976, 0.15209708750178105, -0.31513758003187337, 1.224183097982116, -0.6341506291455641, 0.9888950057158389], \"xaxis\": \"x4\", \"y\": [-0.33401795564492287, -0.8567502346979979, -0.10473055917119059, -0.9552750460806879, -1.615569955059547, 0.45208443032962725, 1.1521251322277608, 0.745651691971453, -0.4096921983005491, -1.8286545981090672, 1.1162488615338755, -0.23917946135104004, -0.41795746820050994, -0.6158286873263658, -0.16522357255275513, -1.1466897394803683, 0.1899506944113523, -0.30428371295067236, -0.8377454443042902, 1.0749209762017375, -0.5036507942437648, 0.7477607300033207, -0.4581271281732457, 0.5879507188974076, 0.4030595873888752, 0.27583707736362106, -1.1843996197262006, 0.02289383390635474, -0.3403937018414992, -1.7166785587717857, 0.4822370620456638, 0.5200151191009494, -0.7064456411263597, 0.2777649973811855, -0.38139840158046373, 0.0012714620076879613, -0.8984831424792492, 0.5163859344827737, 0.028933774684512, 0.8413131356335115, 1.400019231180424, -0.2413195821291121, -0.6792104376259505, -0.09656771735802587, -0.6475198989307501, 0.548223693326196, -1.3819837976275722, -1.6262595692515833, -2.316340334702603, 0.0746851580412261, 1.6607660314582249, 0.6059296659896694, -0.32675390364252194, 0.7473568118899233, 1.2637003740836217, -1.4016416000087277, 0.0028637618612219018, 0.2625532363277476, -2.111665921077397, 0.9344936629906027, -0.1633075239448629, 0.5334083791568638, -0.11211496887969293, 1.148058947229644, -0.6640245778390096, 0.3429848358350742, -0.22979124826761954, -0.36396205591449277, 0.8924054416145863, -0.0061315933942883444, 0.8003321749012936, 0.35447366860929735, -0.33541016878165686, 1.2336292297481033, -0.7955181010405288, 0.011086448208904488, 0.27737192354778073, 1.682760295203774, 1.5706126536750737, -0.5022370702420386, -1.4829078545161825, -1.5550319602966496, -0.1113288955932639, -0.6683103896896104, -0.42907556378926476, 0.9020594465600063, -1.0131553498783252, -0.02711901899847754, -0.30832841072807776, -0.42582943667482037, 0.44336034515772516, 1.1159664902530844, 0.056746386041653184, -1.6172012143199634, -1.5755596256094238, 0.1091926218659547, -0.5849546851871757, -1.4307737601208024, -0.33501558412825977, -0.1886428376261212], \"yaxis\": \"y4\"}, {\"line\": {\"color\": \"rgba(128, 128, 128, 1.0)\", \"dash\": \"solid\", \"shape\": \"linear\", \"width\": 1.3}, \"marker\": {\"size\": 2, \"symbol\": \"circle\"}, \"mode\": \"markers\", \"name\": \"B\", \"text\": \"\", \"type\": \"scatter\", \"x\": [-0.33401795564492287, -0.8567502346979979, -0.10473055917119059, -0.9552750460806879, -1.615569955059547, 0.45208443032962725, 1.1521251322277608, 0.745651691971453, -0.4096921983005491, -1.8286545981090672, 1.1162488615338755, -0.23917946135104004, -0.41795746820050994, -0.6158286873263658, -0.16522357255275513, -1.1466897394803683, 0.1899506944113523, -0.30428371295067236, -0.8377454443042902, 1.0749209762017375, -0.5036507942437648, 0.7477607300033207, -0.4581271281732457, 0.5879507188974076, 0.4030595873888752, 0.27583707736362106, -1.1843996197262006, 0.02289383390635474, -0.3403937018414992, -1.7166785587717857, 0.4822370620456638, 0.5200151191009494, -0.7064456411263597, 0.2777649973811855, -0.38139840158046373, 0.0012714620076879613, -0.8984831424792492, 0.5163859344827737, 0.028933774684512, 0.8413131356335115, 1.400019231180424, -0.2413195821291121, -0.6792104376259505, -0.09656771735802587, -0.6475198989307501, 0.548223693326196, -1.3819837976275722, -1.6262595692515833, -2.316340334702603, 0.0746851580412261, 1.6607660314582249, 0.6059296659896694, -0.32675390364252194, 0.7473568118899233, 1.2637003740836217, -1.4016416000087277, 0.0028637618612219018, 0.2625532363277476, -2.111665921077397, 0.9344936629906027, -0.1633075239448629, 0.5334083791568638, -0.11211496887969293, 1.148058947229644, -0.6640245778390096, 0.3429848358350742, -0.22979124826761954, -0.36396205591449277, 0.8924054416145863, -0.0061315933942883444, 0.8003321749012936, 0.35447366860929735, -0.33541016878165686, 1.2336292297481033, -0.7955181010405288, 0.011086448208904488, 0.27737192354778073, 1.682760295203774, 1.5706126536750737, -0.5022370702420386, -1.4829078545161825, -1.5550319602966496, -0.1113288955932639, -0.6683103896896104, -0.42907556378926476, 0.9020594465600063, -1.0131553498783252, -0.02711901899847754, -0.30832841072807776, -0.42582943667482037, 0.44336034515772516, 1.1159664902530844, 0.056746386041653184, -1.6172012143199634, -1.5755596256094238, 0.1091926218659547, -0.5849546851871757, -1.4307737601208024, -0.33501558412825977, -0.1886428376261212], \"xaxis\": \"x5\", \"y\": [0.7876917141458819, -0.4927411666792617, 1.0974937036873178, -0.4439206985018027, 0.2887527016408452, 1.6742941592395084, 0.09769658941939971, -0.5725516723706708, -0.5492592727640042, -1.5202236019398916, 0.38823943145541134, 1.6282609740421874, 0.7326277731686339, 0.06730103330838098, 0.3402060045322037, 0.09507628974658346, -0.02434056897616973, -0.3543784939901299, -1.223788539698824, -0.6343497374288385, 0.26653812477656896, 1.438206680395697, 0.2415253255836718, -0.5987723898434579, -0.9171915030653498, 0.11207252291134627, 0.05451867791386243, 0.4112131470328786, 0.44492768680055544, 0.2518950357633279, 1.2463146582630462, -0.2112880449759986, 1.3866651715692133, -0.6856964980957535, -0.4222120528187373, 1.1922204650983412, 0.15401391008934873, -2.1054080496754954, 0.022291737503580638, 0.7897529100041379, -1.2690774934764053, -0.7350699839334449, -1.0471268941827443, -1.0153320689971657, 0.78785482367279, 0.7361749374278779, -1.1345914803012231, -0.5683363178024483, -0.49464389117558116, 0.23422581647806803, -2.1553512566379696, -1.2433197111777519, -0.8198086705514108, -0.46962743588801903, -0.2882913723683333, 0.8983233686389277, 0.9084568051309245, -0.44221663833346375, 1.0293957279524568, 2.0421754421017866, 0.03945373112628942, -0.2750148513970318, -1.2201128479118042, -0.1738405812640102, 0.2875423811571659, -0.8738739689146106, 0.7014107545116337, -2.3002964933232692, -0.6253456459787136, -1.8275246768702471, -0.15907550729462694, 0.5844077990293167, -0.2301648650344321, 0.33009928176921377, 0.5445848145905013, 0.5057947642888931, 0.41536259213452914, -0.3776968113879913, -0.7157916944803, 0.12712187178968135, 0.3765080960387935, 0.10454994680141004, -0.2067836441219874, -1.2982007775309201, 0.8728751802177441, -0.4558648151654358, 1.4143397838621108, -0.2283862758991108, -0.7885106007484821, -0.6237266472566988, 0.03162986437150248, -0.212029724448196, -0.20608606868251564, -0.6031391322763106, 0.2657646502926192, 1.2832959415010545, 0.47691329850658754, 0.11495505177277747, 1.8470207470600093, 0.8959979991642596], \"yaxis\": \"y5\"}, {\"histfunc\": \"count\", \"histnorm\": \"\", \"marker\": {\"color\": \"rgba(55, 128, 191, 1.0)\", \"line\": {\"color\": \"#4D5663\", \"width\": 1.3}}, \"name\": \"B\", \"nbinsx\": 10, \"opacity\": 0.8, \"orientation\": \"v\", \"type\": \"histogram\", \"x\": [0.7876917141458819, -0.4927411666792617, 1.0974937036873178, -0.4439206985018027, 0.2887527016408452, 1.6742941592395084, 0.09769658941939971, -0.5725516723706708, -0.5492592727640042, -1.5202236019398916, 0.38823943145541134, 1.6282609740421874, 0.7326277731686339, 0.06730103330838098, 0.3402060045322037, 0.09507628974658346, -0.02434056897616973, -0.3543784939901299, -1.223788539698824, -0.6343497374288385, 0.26653812477656896, 1.438206680395697, 0.2415253255836718, -0.5987723898434579, -0.9171915030653498, 0.11207252291134627, 0.05451867791386243, 0.4112131470328786, 0.44492768680055544, 0.2518950357633279, 1.2463146582630462, -0.2112880449759986, 1.3866651715692133, -0.6856964980957535, -0.4222120528187373, 1.1922204650983412, 0.15401391008934873, -2.1054080496754954, 0.022291737503580638, 0.7897529100041379, -1.2690774934764053, -0.7350699839334449, -1.0471268941827443, -1.0153320689971657, 0.78785482367279, 0.7361749374278779, -1.1345914803012231, -0.5683363178024483, -0.49464389117558116, 0.23422581647806803, -2.1553512566379696, -1.2433197111777519, -0.8198086705514108, -0.46962743588801903, -0.2882913723683333, 0.8983233686389277, 0.9084568051309245, -0.44221663833346375, 1.0293957279524568, 2.0421754421017866, 0.03945373112628942, -0.2750148513970318, -1.2201128479118042, -0.1738405812640102, 0.2875423811571659, -0.8738739689146106, 0.7014107545116337, -2.3002964933232692, -0.6253456459787136, -1.8275246768702471, -0.15907550729462694, 0.5844077990293167, -0.2301648650344321, 0.33009928176921377, 0.5445848145905013, 0.5057947642888931, 0.41536259213452914, -0.3776968113879913, -0.7157916944803, 0.12712187178968135, 0.3765080960387935, 0.10454994680141004, -0.2067836441219874, -1.2982007775309201, 0.8728751802177441, -0.4558648151654358, 1.4143397838621108, -0.2283862758991108, -0.7885106007484821, -0.6237266472566988, 0.03162986437150248, -0.212029724448196, -0.20608606868251564, -0.6031391322763106, 0.2657646502926192, 1.2832959415010545, 0.47691329850658754, 0.11495505177277747, 1.8470207470600093, 0.8959979991642596], \"xaxis\": \"x6\", \"yaxis\": \"y6\"}, {\"line\": {\"color\": \"rgba(128, 128, 128, 1.0)\", \"dash\": \"solid\", \"shape\": \"linear\", \"width\": 1.3}, \"marker\": {\"size\": 2, \"symbol\": \"circle\"}, \"mode\": \"markers\", \"name\": \"B\", \"text\": \"\", \"type\": \"scatter\", \"x\": [0.10890878769720243, -0.6713626826884246, -0.8283248816466945, -0.39282402740141253, 0.6977622699199653, 0.2726902709017829, -0.733055647756976, -1.1769188858276907, 0.5140440583698838, -0.5257997711549182, -0.5939913028444468, -1.0899920973102717, -1.1169496812268147, -0.06183448943431063, 1.1920226620944019, 0.3947340910429718, 0.5165958715824404, -0.2532093271891566, -0.6229662667500819, -1.393246027853369, 0.18626120369485305, -0.45703478164711936, -1.1010696049363926, -0.3494921184666258, -1.1599901840904236, -0.2668067273306687, 0.5723653335982978, -0.510289270469568, 0.4399836709351221, -1.3762717379296883, -0.24693364684247035, 0.36514307526267437, 1.7357873732423095, -0.45647718538009024, 0.49518001829326896, 0.2634835923908529, 0.0641257741877574, 0.19178971570842765, 0.3442257007194484, 1.3793889754152107, 0.9206674912834298, -0.9983635840925854, -0.48464519386839716, -0.604114949438876, 0.3162266874922444, 1.544688940111044, -1.2088687769723159, 1.5210922018964559, 0.26449720263462595, 0.27981023913330894, 0.550732600434451, 1.0794684031421604, -0.36412957770102033, 0.5852166497226681, 0.11759556183494221, 0.14442260689725314, 1.2991193258426927, -0.22388294041532714, -0.6433255684754923, -0.8119280263077251, -1.503443435559967, -0.28825355870732405, -0.31751555682564075, -0.458525472705331, -1.380610471676825, 1.438621351833829, -0.5606915802597062, 0.7858389274414597, -0.8197927399750891, 0.5595279939993528, -0.5809829183529606, 0.9724872248661316, 0.09102921245140706, 0.0022078382496239436, -0.43386260139667143, 0.28357156020091284, 0.2904148828301787, -0.17778428609997943, -0.6135457754406612, -0.9108405120118579, 1.097663247217463, -0.690960694560415, -0.6228764988194392, 1.10996227641887, 1.1379791109474344, -0.11437215554158245, 0.3153538449048185, 0.7586464106613391, -0.6684773125147604, 0.5850122060694447, -0.5757711110347066, 1.6409042078109004, 0.5516421100710179, 1.4999661634677213, 0.9203218164731303, -1.6853053860429534, 0.000910264168236696, -0.6651748434595457, 0.8569986581487651, 1.354614590044158], \"xaxis\": \"x7\", \"y\": [0.7876917141458819, -0.4927411666792617, 1.0974937036873178, -0.4439206985018027, 0.2887527016408452, 1.6742941592395084, 0.09769658941939971, -0.5725516723706708, -0.5492592727640042, -1.5202236019398916, 0.38823943145541134, 1.6282609740421874, 0.7326277731686339, 0.06730103330838098, 0.3402060045322037, 0.09507628974658346, -0.02434056897616973, -0.3543784939901299, -1.223788539698824, -0.6343497374288385, 0.26653812477656896, 1.438206680395697, 0.2415253255836718, -0.5987723898434579, -0.9171915030653498, 0.11207252291134627, 0.05451867791386243, 0.4112131470328786, 0.44492768680055544, 0.2518950357633279, 1.2463146582630462, -0.2112880449759986, 1.3866651715692133, -0.6856964980957535, -0.4222120528187373, 1.1922204650983412, 0.15401391008934873, -2.1054080496754954, 0.022291737503580638, 0.7897529100041379, -1.2690774934764053, -0.7350699839334449, -1.0471268941827443, -1.0153320689971657, 0.78785482367279, 0.7361749374278779, -1.1345914803012231, -0.5683363178024483, -0.49464389117558116, 0.23422581647806803, -2.1553512566379696, -1.2433197111777519, -0.8198086705514108, -0.46962743588801903, -0.2882913723683333, 0.8983233686389277, 0.9084568051309245, -0.44221663833346375, 1.0293957279524568, 2.0421754421017866, 0.03945373112628942, -0.2750148513970318, -1.2201128479118042, -0.1738405812640102, 0.2875423811571659, -0.8738739689146106, 0.7014107545116337, -2.3002964933232692, -0.6253456459787136, -1.8275246768702471, -0.15907550729462694, 0.5844077990293167, -0.2301648650344321, 0.33009928176921377, 0.5445848145905013, 0.5057947642888931, 0.41536259213452914, -0.3776968113879913, -0.7157916944803, 0.12712187178968135, 0.3765080960387935, 0.10454994680141004, -0.2067836441219874, -1.2982007775309201, 0.8728751802177441, -0.4558648151654358, 1.4143397838621108, -0.2283862758991108, -0.7885106007484821, -0.6237266472566988, 0.03162986437150248, -0.212029724448196, -0.20608606868251564, -0.6031391322763106, 0.2657646502926192, 1.2832959415010545, 0.47691329850658754, 0.11495505177277747, 1.8470207470600093, 0.8959979991642596], \"yaxis\": \"y7\"}, {\"line\": {\"color\": \"rgba(128, 128, 128, 1.0)\", \"dash\": \"solid\", \"shape\": \"linear\", \"width\": 1.3}, \"marker\": {\"size\": 2, \"symbol\": \"circle\"}, \"mode\": \"markers\", \"name\": \"B\", \"text\": \"\", \"type\": \"scatter\", \"x\": [-0.8725517699447418, 2.2100037241425965, -0.18447471965609888, -1.0280709444626888, -0.038617173882581415, -2.037831386596425, -0.8488615903302171, -0.6557782591076858, -0.32961756737227393, 0.46858892715420497, -0.6193317742938698, -1.1250056860244975, 0.4278637007836617, 1.063434945992072, -0.8755299552551474, -0.48299910943857494, -0.06416376223290995, 0.6439306421881182, -1.2256664835126148, -0.30103394524184657, 0.19307782761558323, 2.2803572229868787, 1.0231275280259986, -0.5841391390473818, 0.7247137151293709, -0.7271142019678107, -0.31158219045913266, -0.8927003953161164, -0.33189112413778354, 0.642608009982188, -0.30928011954721973, -0.28835655399055904, 1.9617820968077664, -0.059083946274872734, -0.8397586751242981, -0.5469400318312613, 1.0002451787591444, -0.4624189977132809, 1.0359478047016608, 1.4970943864754829, 0.010265847176222464, -0.5325515770409451, -0.2619323131960744, 0.5620808083620767, 1.3465970674700758, 0.7924164101004401, -1.3228732687102436, -2.0937669684216784, 1.422580462553181, -1.7666536031136513, -0.8309110889937393, 0.14896101418022792, -0.6048788067326643, 0.990507987140074, 0.8273624278890639, 1.478465047435868, 0.018240818333552865, 0.9603234771883151, -0.6475970811866526, -0.8069625792560894, -1.1159667011257022, -0.8984065575657584, 0.17500080669481868, 0.5732201854852669, 1.581026518189645, -0.5041301321733543, -0.6889010629106648, -1.0852170716238105, -0.7621635193632472, 0.8655111236536761, -0.6030949305282863, 0.03773427974266808, 0.8363017380784022, -0.7956716401636215, -0.2689707486785275, 1.44452335124853, -0.3633047011821962, 0.6236380109920362, 0.8612062010518985, -0.19720113191621397, 0.28817124810430433, -0.49549746891339924, -1.3568447416162759, 0.6661215460677381, -0.980701259135087, 0.6734456045101622, 1.155472647753716, 0.8405667115006873, -3.677045545855245, -1.8116630686644002, -0.8384938069607375, -1.7508899135576048, 0.5442700068805986, 1.140123535318682, 0.5944913448908976, 0.15209708750178105, -0.31513758003187337, 1.224183097982116, -0.6341506291455641, 0.9888950057158389], \"xaxis\": \"x8\", \"y\": [0.7876917141458819, -0.4927411666792617, 1.0974937036873178, -0.4439206985018027, 0.2887527016408452, 1.6742941592395084, 0.09769658941939971, -0.5725516723706708, -0.5492592727640042, -1.5202236019398916, 0.38823943145541134, 1.6282609740421874, 0.7326277731686339, 0.06730103330838098, 0.3402060045322037, 0.09507628974658346, -0.02434056897616973, -0.3543784939901299, -1.223788539698824, -0.6343497374288385, 0.26653812477656896, 1.438206680395697, 0.2415253255836718, -0.5987723898434579, -0.9171915030653498, 0.11207252291134627, 0.05451867791386243, 0.4112131470328786, 0.44492768680055544, 0.2518950357633279, 1.2463146582630462, -0.2112880449759986, 1.3866651715692133, -0.6856964980957535, -0.4222120528187373, 1.1922204650983412, 0.15401391008934873, -2.1054080496754954, 0.022291737503580638, 0.7897529100041379, -1.2690774934764053, -0.7350699839334449, -1.0471268941827443, -1.0153320689971657, 0.78785482367279, 0.7361749374278779, -1.1345914803012231, -0.5683363178024483, -0.49464389117558116, 0.23422581647806803, -2.1553512566379696, -1.2433197111777519, -0.8198086705514108, -0.46962743588801903, -0.2882913723683333, 0.8983233686389277, 0.9084568051309245, -0.44221663833346375, 1.0293957279524568, 2.0421754421017866, 0.03945373112628942, -0.2750148513970318, -1.2201128479118042, -0.1738405812640102, 0.2875423811571659, -0.8738739689146106, 0.7014107545116337, -2.3002964933232692, -0.6253456459787136, -1.8275246768702471, -0.15907550729462694, 0.5844077990293167, -0.2301648650344321, 0.33009928176921377, 0.5445848145905013, 0.5057947642888931, 0.41536259213452914, -0.3776968113879913, -0.7157916944803, 0.12712187178968135, 0.3765080960387935, 0.10454994680141004, -0.2067836441219874, -1.2982007775309201, 0.8728751802177441, -0.4558648151654358, 1.4143397838621108, -0.2283862758991108, -0.7885106007484821, -0.6237266472566988, 0.03162986437150248, -0.212029724448196, -0.20608606868251564, -0.6031391322763106, 0.2657646502926192, 1.2832959415010545, 0.47691329850658754, 0.11495505177277747, 1.8470207470600093, 0.8959979991642596], \"yaxis\": \"y8\"}, {\"line\": {\"color\": \"rgba(128, 128, 128, 1.0)\", \"dash\": \"solid\", \"shape\": \"linear\", \"width\": 1.3}, \"marker\": {\"size\": 2, \"symbol\": \"circle\"}, \"mode\": \"markers\", \"name\": \"C\", \"text\": \"\", \"type\": \"scatter\", \"x\": [-0.33401795564492287, -0.8567502346979979, -0.10473055917119059, -0.9552750460806879, -1.615569955059547, 0.45208443032962725, 1.1521251322277608, 0.745651691971453, -0.4096921983005491, -1.8286545981090672, 1.1162488615338755, -0.23917946135104004, -0.41795746820050994, -0.6158286873263658, -0.16522357255275513, -1.1466897394803683, 0.1899506944113523, -0.30428371295067236, -0.8377454443042902, 1.0749209762017375, -0.5036507942437648, 0.7477607300033207, -0.4581271281732457, 0.5879507188974076, 0.4030595873888752, 0.27583707736362106, -1.1843996197262006, 0.02289383390635474, -0.3403937018414992, -1.7166785587717857, 0.4822370620456638, 0.5200151191009494, -0.7064456411263597, 0.2777649973811855, -0.38139840158046373, 0.0012714620076879613, -0.8984831424792492, 0.5163859344827737, 0.028933774684512, 0.8413131356335115, 1.400019231180424, -0.2413195821291121, -0.6792104376259505, -0.09656771735802587, -0.6475198989307501, 0.548223693326196, -1.3819837976275722, -1.6262595692515833, -2.316340334702603, 0.0746851580412261, 1.6607660314582249, 0.6059296659896694, -0.32675390364252194, 0.7473568118899233, 1.2637003740836217, -1.4016416000087277, 0.0028637618612219018, 0.2625532363277476, -2.111665921077397, 0.9344936629906027, -0.1633075239448629, 0.5334083791568638, -0.11211496887969293, 1.148058947229644, -0.6640245778390096, 0.3429848358350742, -0.22979124826761954, -0.36396205591449277, 0.8924054416145863, -0.0061315933942883444, 0.8003321749012936, 0.35447366860929735, -0.33541016878165686, 1.2336292297481033, -0.7955181010405288, 0.011086448208904488, 0.27737192354778073, 1.682760295203774, 1.5706126536750737, -0.5022370702420386, -1.4829078545161825, -1.5550319602966496, -0.1113288955932639, -0.6683103896896104, -0.42907556378926476, 0.9020594465600063, -1.0131553498783252, -0.02711901899847754, -0.30832841072807776, -0.42582943667482037, 0.44336034515772516, 1.1159664902530844, 0.056746386041653184, -1.6172012143199634, -1.5755596256094238, 0.1091926218659547, -0.5849546851871757, -1.4307737601208024, -0.33501558412825977, -0.1886428376261212], \"xaxis\": \"x9\", \"y\": [0.10890878769720243, -0.6713626826884246, -0.8283248816466945, -0.39282402740141253, 0.6977622699199653, 0.2726902709017829, -0.733055647756976, -1.1769188858276907, 0.5140440583698838, -0.5257997711549182, -0.5939913028444468, -1.0899920973102717, -1.1169496812268147, -0.06183448943431063, 1.1920226620944019, 0.3947340910429718, 0.5165958715824404, -0.2532093271891566, -0.6229662667500819, -1.393246027853369, 0.18626120369485305, -0.45703478164711936, -1.1010696049363926, -0.3494921184666258, -1.1599901840904236, -0.2668067273306687, 0.5723653335982978, -0.510289270469568, 0.4399836709351221, -1.3762717379296883, -0.24693364684247035, 0.36514307526267437, 1.7357873732423095, -0.45647718538009024, 0.49518001829326896, 0.2634835923908529, 0.0641257741877574, 0.19178971570842765, 0.3442257007194484, 1.3793889754152107, 0.9206674912834298, -0.9983635840925854, -0.48464519386839716, -0.604114949438876, 0.3162266874922444, 1.544688940111044, -1.2088687769723159, 1.5210922018964559, 0.26449720263462595, 0.27981023913330894, 0.550732600434451, 1.0794684031421604, -0.36412957770102033, 0.5852166497226681, 0.11759556183494221, 0.14442260689725314, 1.2991193258426927, -0.22388294041532714, -0.6433255684754923, -0.8119280263077251, -1.503443435559967, -0.28825355870732405, -0.31751555682564075, -0.458525472705331, -1.380610471676825, 1.438621351833829, -0.5606915802597062, 0.7858389274414597, -0.8197927399750891, 0.5595279939993528, -0.5809829183529606, 0.9724872248661316, 0.09102921245140706, 0.0022078382496239436, -0.43386260139667143, 0.28357156020091284, 0.2904148828301787, -0.17778428609997943, -0.6135457754406612, -0.9108405120118579, 1.097663247217463, -0.690960694560415, -0.6228764988194392, 1.10996227641887, 1.1379791109474344, -0.11437215554158245, 0.3153538449048185, 0.7586464106613391, -0.6684773125147604, 0.5850122060694447, -0.5757711110347066, 1.6409042078109004, 0.5516421100710179, 1.4999661634677213, 0.9203218164731303, -1.6853053860429534, 0.000910264168236696, -0.6651748434595457, 0.8569986581487651, 1.354614590044158], \"yaxis\": \"y9\"}, {\"line\": {\"color\": \"rgba(128, 128, 128, 1.0)\", \"dash\": \"solid\", \"shape\": \"linear\", \"width\": 1.3}, \"marker\": {\"size\": 2, \"symbol\": \"circle\"}, \"mode\": \"markers\", \"name\": \"C\", \"text\": \"\", \"type\": \"scatter\", \"x\": [0.7876917141458819, -0.4927411666792617, 1.0974937036873178, -0.4439206985018027, 0.2887527016408452, 1.6742941592395084, 0.09769658941939971, -0.5725516723706708, -0.5492592727640042, -1.5202236019398916, 0.38823943145541134, 1.6282609740421874, 0.7326277731686339, 0.06730103330838098, 0.3402060045322037, 0.09507628974658346, -0.02434056897616973, -0.3543784939901299, -1.223788539698824, -0.6343497374288385, 0.26653812477656896, 1.438206680395697, 0.2415253255836718, -0.5987723898434579, -0.9171915030653498, 0.11207252291134627, 0.05451867791386243, 0.4112131470328786, 0.44492768680055544, 0.2518950357633279, 1.2463146582630462, -0.2112880449759986, 1.3866651715692133, -0.6856964980957535, -0.4222120528187373, 1.1922204650983412, 0.15401391008934873, -2.1054080496754954, 0.022291737503580638, 0.7897529100041379, -1.2690774934764053, -0.7350699839334449, -1.0471268941827443, -1.0153320689971657, 0.78785482367279, 0.7361749374278779, -1.1345914803012231, -0.5683363178024483, -0.49464389117558116, 0.23422581647806803, -2.1553512566379696, -1.2433197111777519, -0.8198086705514108, -0.46962743588801903, -0.2882913723683333, 0.8983233686389277, 0.9084568051309245, -0.44221663833346375, 1.0293957279524568, 2.0421754421017866, 0.03945373112628942, -0.2750148513970318, -1.2201128479118042, -0.1738405812640102, 0.2875423811571659, -0.8738739689146106, 0.7014107545116337, -2.3002964933232692, -0.6253456459787136, -1.8275246768702471, -0.15907550729462694, 0.5844077990293167, -0.2301648650344321, 0.33009928176921377, 0.5445848145905013, 0.5057947642888931, 0.41536259213452914, -0.3776968113879913, -0.7157916944803, 0.12712187178968135, 0.3765080960387935, 0.10454994680141004, -0.2067836441219874, -1.2982007775309201, 0.8728751802177441, -0.4558648151654358, 1.4143397838621108, -0.2283862758991108, -0.7885106007484821, -0.6237266472566988, 0.03162986437150248, -0.212029724448196, -0.20608606868251564, -0.6031391322763106, 0.2657646502926192, 1.2832959415010545, 0.47691329850658754, 0.11495505177277747, 1.8470207470600093, 0.8959979991642596], \"xaxis\": \"x10\", \"y\": [0.10890878769720243, -0.6713626826884246, -0.8283248816466945, -0.39282402740141253, 0.6977622699199653, 0.2726902709017829, -0.733055647756976, -1.1769188858276907, 0.5140440583698838, -0.5257997711549182, -0.5939913028444468, -1.0899920973102717, -1.1169496812268147, -0.06183448943431063, 1.1920226620944019, 0.3947340910429718, 0.5165958715824404, -0.2532093271891566, -0.6229662667500819, -1.393246027853369, 0.18626120369485305, -0.45703478164711936, -1.1010696049363926, -0.3494921184666258, -1.1599901840904236, -0.2668067273306687, 0.5723653335982978, -0.510289270469568, 0.4399836709351221, -1.3762717379296883, -0.24693364684247035, 0.36514307526267437, 1.7357873732423095, -0.45647718538009024, 0.49518001829326896, 0.2634835923908529, 0.0641257741877574, 0.19178971570842765, 0.3442257007194484, 1.3793889754152107, 0.9206674912834298, -0.9983635840925854, -0.48464519386839716, -0.604114949438876, 0.3162266874922444, 1.544688940111044, -1.2088687769723159, 1.5210922018964559, 0.26449720263462595, 0.27981023913330894, 0.550732600434451, 1.0794684031421604, -0.36412957770102033, 0.5852166497226681, 0.11759556183494221, 0.14442260689725314, 1.2991193258426927, -0.22388294041532714, -0.6433255684754923, -0.8119280263077251, -1.503443435559967, -0.28825355870732405, -0.31751555682564075, -0.458525472705331, -1.380610471676825, 1.438621351833829, -0.5606915802597062, 0.7858389274414597, -0.8197927399750891, 0.5595279939993528, -0.5809829183529606, 0.9724872248661316, 0.09102921245140706, 0.0022078382496239436, -0.43386260139667143, 0.28357156020091284, 0.2904148828301787, -0.17778428609997943, -0.6135457754406612, -0.9108405120118579, 1.097663247217463, -0.690960694560415, -0.6228764988194392, 1.10996227641887, 1.1379791109474344, -0.11437215554158245, 0.3153538449048185, 0.7586464106613391, -0.6684773125147604, 0.5850122060694447, -0.5757711110347066, 1.6409042078109004, 0.5516421100710179, 1.4999661634677213, 0.9203218164731303, -1.6853053860429534, 0.000910264168236696, -0.6651748434595457, 0.8569986581487651, 1.354614590044158], \"yaxis\": \"y10\"}, {\"histfunc\": \"count\", \"histnorm\": \"\", \"marker\": {\"color\": \"rgba(50, 171, 96, 1.0)\", \"line\": {\"color\": \"#4D5663\", \"width\": 1.3}}, \"name\": \"C\", \"nbinsx\": 10, \"opacity\": 0.8, \"orientation\": \"v\", \"type\": \"histogram\", \"x\": [0.10890878769720243, -0.6713626826884246, -0.8283248816466945, -0.39282402740141253, 0.6977622699199653, 0.2726902709017829, -0.733055647756976, -1.1769188858276907, 0.5140440583698838, -0.5257997711549182, -0.5939913028444468, -1.0899920973102717, -1.1169496812268147, -0.06183448943431063, 1.1920226620944019, 0.3947340910429718, 0.5165958715824404, -0.2532093271891566, -0.6229662667500819, -1.393246027853369, 0.18626120369485305, -0.45703478164711936, -1.1010696049363926, -0.3494921184666258, -1.1599901840904236, -0.2668067273306687, 0.5723653335982978, -0.510289270469568, 0.4399836709351221, -1.3762717379296883, -0.24693364684247035, 0.36514307526267437, 1.7357873732423095, -0.45647718538009024, 0.49518001829326896, 0.2634835923908529, 0.0641257741877574, 0.19178971570842765, 0.3442257007194484, 1.3793889754152107, 0.9206674912834298, -0.9983635840925854, -0.48464519386839716, -0.604114949438876, 0.3162266874922444, 1.544688940111044, -1.2088687769723159, 1.5210922018964559, 0.26449720263462595, 0.27981023913330894, 0.550732600434451, 1.0794684031421604, -0.36412957770102033, 0.5852166497226681, 0.11759556183494221, 0.14442260689725314, 1.2991193258426927, -0.22388294041532714, -0.6433255684754923, -0.8119280263077251, -1.503443435559967, -0.28825355870732405, -0.31751555682564075, -0.458525472705331, -1.380610471676825, 1.438621351833829, -0.5606915802597062, 0.7858389274414597, -0.8197927399750891, 0.5595279939993528, -0.5809829183529606, 0.9724872248661316, 0.09102921245140706, 0.0022078382496239436, -0.43386260139667143, 0.28357156020091284, 0.2904148828301787, -0.17778428609997943, -0.6135457754406612, -0.9108405120118579, 1.097663247217463, -0.690960694560415, -0.6228764988194392, 1.10996227641887, 1.1379791109474344, -0.11437215554158245, 0.3153538449048185, 0.7586464106613391, -0.6684773125147604, 0.5850122060694447, -0.5757711110347066, 1.6409042078109004, 0.5516421100710179, 1.4999661634677213, 0.9203218164731303, -1.6853053860429534, 0.000910264168236696, -0.6651748434595457, 0.8569986581487651, 1.354614590044158], \"xaxis\": \"x11\", \"yaxis\": \"y11\"}, {\"line\": {\"color\": \"rgba(128, 128, 128, 1.0)\", \"dash\": \"solid\", \"shape\": \"linear\", \"width\": 1.3}, \"marker\": {\"size\": 2, \"symbol\": \"circle\"}, \"mode\": \"markers\", \"name\": \"C\", \"text\": \"\", \"type\": \"scatter\", \"x\": [-0.8725517699447418, 2.2100037241425965, -0.18447471965609888, -1.0280709444626888, -0.038617173882581415, -2.037831386596425, -0.8488615903302171, -0.6557782591076858, -0.32961756737227393, 0.46858892715420497, -0.6193317742938698, -1.1250056860244975, 0.4278637007836617, 1.063434945992072, -0.8755299552551474, -0.48299910943857494, -0.06416376223290995, 0.6439306421881182, -1.2256664835126148, -0.30103394524184657, 0.19307782761558323, 2.2803572229868787, 1.0231275280259986, -0.5841391390473818, 0.7247137151293709, -0.7271142019678107, -0.31158219045913266, -0.8927003953161164, -0.33189112413778354, 0.642608009982188, -0.30928011954721973, -0.28835655399055904, 1.9617820968077664, -0.059083946274872734, -0.8397586751242981, -0.5469400318312613, 1.0002451787591444, -0.4624189977132809, 1.0359478047016608, 1.4970943864754829, 0.010265847176222464, -0.5325515770409451, -0.2619323131960744, 0.5620808083620767, 1.3465970674700758, 0.7924164101004401, -1.3228732687102436, -2.0937669684216784, 1.422580462553181, -1.7666536031136513, -0.8309110889937393, 0.14896101418022792, -0.6048788067326643, 0.990507987140074, 0.8273624278890639, 1.478465047435868, 0.018240818333552865, 0.9603234771883151, -0.6475970811866526, -0.8069625792560894, -1.1159667011257022, -0.8984065575657584, 0.17500080669481868, 0.5732201854852669, 1.581026518189645, -0.5041301321733543, -0.6889010629106648, -1.0852170716238105, -0.7621635193632472, 0.8655111236536761, -0.6030949305282863, 0.03773427974266808, 0.8363017380784022, -0.7956716401636215, -0.2689707486785275, 1.44452335124853, -0.3633047011821962, 0.6236380109920362, 0.8612062010518985, -0.19720113191621397, 0.28817124810430433, -0.49549746891339924, -1.3568447416162759, 0.6661215460677381, -0.980701259135087, 0.6734456045101622, 1.155472647753716, 0.8405667115006873, -3.677045545855245, -1.8116630686644002, -0.8384938069607375, -1.7508899135576048, 0.5442700068805986, 1.140123535318682, 0.5944913448908976, 0.15209708750178105, -0.31513758003187337, 1.224183097982116, -0.6341506291455641, 0.9888950057158389], \"xaxis\": \"x12\", \"y\": [0.10890878769720243, -0.6713626826884246, -0.8283248816466945, -0.39282402740141253, 0.6977622699199653, 0.2726902709017829, -0.733055647756976, -1.1769188858276907, 0.5140440583698838, -0.5257997711549182, -0.5939913028444468, -1.0899920973102717, -1.1169496812268147, -0.06183448943431063, 1.1920226620944019, 0.3947340910429718, 0.5165958715824404, -0.2532093271891566, -0.6229662667500819, -1.393246027853369, 0.18626120369485305, -0.45703478164711936, -1.1010696049363926, -0.3494921184666258, -1.1599901840904236, -0.2668067273306687, 0.5723653335982978, -0.510289270469568, 0.4399836709351221, -1.3762717379296883, -0.24693364684247035, 0.36514307526267437, 1.7357873732423095, -0.45647718538009024, 0.49518001829326896, 0.2634835923908529, 0.0641257741877574, 0.19178971570842765, 0.3442257007194484, 1.3793889754152107, 0.9206674912834298, -0.9983635840925854, -0.48464519386839716, -0.604114949438876, 0.3162266874922444, 1.544688940111044, -1.2088687769723159, 1.5210922018964559, 0.26449720263462595, 0.27981023913330894, 0.550732600434451, 1.0794684031421604, -0.36412957770102033, 0.5852166497226681, 0.11759556183494221, 0.14442260689725314, 1.2991193258426927, -0.22388294041532714, -0.6433255684754923, -0.8119280263077251, -1.503443435559967, -0.28825355870732405, -0.31751555682564075, -0.458525472705331, -1.380610471676825, 1.438621351833829, -0.5606915802597062, 0.7858389274414597, -0.8197927399750891, 0.5595279939993528, -0.5809829183529606, 0.9724872248661316, 0.09102921245140706, 0.0022078382496239436, -0.43386260139667143, 0.28357156020091284, 0.2904148828301787, -0.17778428609997943, -0.6135457754406612, -0.9108405120118579, 1.097663247217463, -0.690960694560415, -0.6228764988194392, 1.10996227641887, 1.1379791109474344, -0.11437215554158245, 0.3153538449048185, 0.7586464106613391, -0.6684773125147604, 0.5850122060694447, -0.5757711110347066, 1.6409042078109004, 0.5516421100710179, 1.4999661634677213, 0.9203218164731303, -1.6853053860429534, 0.000910264168236696, -0.6651748434595457, 0.8569986581487651, 1.354614590044158], \"yaxis\": \"y12\"}, {\"line\": {\"color\": \"rgba(128, 128, 128, 1.0)\", \"dash\": \"solid\", \"shape\": \"linear\", \"width\": 1.3}, \"marker\": {\"size\": 2, \"symbol\": \"circle\"}, \"mode\": \"markers\", \"name\": \"D\", \"text\": \"\", \"type\": \"scatter\", \"x\": [-0.33401795564492287, -0.8567502346979979, -0.10473055917119059, -0.9552750460806879, -1.615569955059547, 0.45208443032962725, 1.1521251322277608, 0.745651691971453, -0.4096921983005491, -1.8286545981090672, 1.1162488615338755, -0.23917946135104004, -0.41795746820050994, -0.6158286873263658, -0.16522357255275513, -1.1466897394803683, 0.1899506944113523, -0.30428371295067236, -0.8377454443042902, 1.0749209762017375, -0.5036507942437648, 0.7477607300033207, -0.4581271281732457, 0.5879507188974076, 0.4030595873888752, 0.27583707736362106, -1.1843996197262006, 0.02289383390635474, -0.3403937018414992, -1.7166785587717857, 0.4822370620456638, 0.5200151191009494, -0.7064456411263597, 0.2777649973811855, -0.38139840158046373, 0.0012714620076879613, -0.8984831424792492, 0.5163859344827737, 0.028933774684512, 0.8413131356335115, 1.400019231180424, -0.2413195821291121, -0.6792104376259505, -0.09656771735802587, -0.6475198989307501, 0.548223693326196, -1.3819837976275722, -1.6262595692515833, -2.316340334702603, 0.0746851580412261, 1.6607660314582249, 0.6059296659896694, -0.32675390364252194, 0.7473568118899233, 1.2637003740836217, -1.4016416000087277, 0.0028637618612219018, 0.2625532363277476, -2.111665921077397, 0.9344936629906027, -0.1633075239448629, 0.5334083791568638, -0.11211496887969293, 1.148058947229644, -0.6640245778390096, 0.3429848358350742, -0.22979124826761954, -0.36396205591449277, 0.8924054416145863, -0.0061315933942883444, 0.8003321749012936, 0.35447366860929735, -0.33541016878165686, 1.2336292297481033, -0.7955181010405288, 0.011086448208904488, 0.27737192354778073, 1.682760295203774, 1.5706126536750737, -0.5022370702420386, -1.4829078545161825, -1.5550319602966496, -0.1113288955932639, -0.6683103896896104, -0.42907556378926476, 0.9020594465600063, -1.0131553498783252, -0.02711901899847754, -0.30832841072807776, -0.42582943667482037, 0.44336034515772516, 1.1159664902530844, 0.056746386041653184, -1.6172012143199634, -1.5755596256094238, 0.1091926218659547, -0.5849546851871757, -1.4307737601208024, -0.33501558412825977, -0.1886428376261212], \"xaxis\": \"x13\", \"y\": [-0.8725517699447418, 2.2100037241425965, -0.18447471965609888, -1.0280709444626888, -0.038617173882581415, -2.037831386596425, -0.8488615903302171, -0.6557782591076858, -0.32961756737227393, 0.46858892715420497, -0.6193317742938698, -1.1250056860244975, 0.4278637007836617, 1.063434945992072, -0.8755299552551474, -0.48299910943857494, -0.06416376223290995, 0.6439306421881182, -1.2256664835126148, -0.30103394524184657, 0.19307782761558323, 2.2803572229868787, 1.0231275280259986, -0.5841391390473818, 0.7247137151293709, -0.7271142019678107, -0.31158219045913266, -0.8927003953161164, -0.33189112413778354, 0.642608009982188, -0.30928011954721973, -0.28835655399055904, 1.9617820968077664, -0.059083946274872734, -0.8397586751242981, -0.5469400318312613, 1.0002451787591444, -0.4624189977132809, 1.0359478047016608, 1.4970943864754829, 0.010265847176222464, -0.5325515770409451, -0.2619323131960744, 0.5620808083620767, 1.3465970674700758, 0.7924164101004401, -1.3228732687102436, -2.0937669684216784, 1.422580462553181, -1.7666536031136513, -0.8309110889937393, 0.14896101418022792, -0.6048788067326643, 0.990507987140074, 0.8273624278890639, 1.478465047435868, 0.018240818333552865, 0.9603234771883151, -0.6475970811866526, -0.8069625792560894, -1.1159667011257022, -0.8984065575657584, 0.17500080669481868, 0.5732201854852669, 1.581026518189645, -0.5041301321733543, -0.6889010629106648, -1.0852170716238105, -0.7621635193632472, 0.8655111236536761, -0.6030949305282863, 0.03773427974266808, 0.8363017380784022, -0.7956716401636215, -0.2689707486785275, 1.44452335124853, -0.3633047011821962, 0.6236380109920362, 0.8612062010518985, -0.19720113191621397, 0.28817124810430433, -0.49549746891339924, -1.3568447416162759, 0.6661215460677381, -0.980701259135087, 0.6734456045101622, 1.155472647753716, 0.8405667115006873, -3.677045545855245, -1.8116630686644002, -0.8384938069607375, -1.7508899135576048, 0.5442700068805986, 1.140123535318682, 0.5944913448908976, 0.15209708750178105, -0.31513758003187337, 1.224183097982116, -0.6341506291455641, 0.9888950057158389], \"yaxis\": \"y13\"}, {\"line\": {\"color\": \"rgba(128, 128, 128, 1.0)\", \"dash\": \"solid\", \"shape\": \"linear\", \"width\": 1.3}, \"marker\": {\"size\": 2, \"symbol\": \"circle\"}, \"mode\": \"markers\", \"name\": \"D\", \"text\": \"\", \"type\": \"scatter\", \"x\": [0.7876917141458819, -0.4927411666792617, 1.0974937036873178, -0.4439206985018027, 0.2887527016408452, 1.6742941592395084, 0.09769658941939971, -0.5725516723706708, -0.5492592727640042, -1.5202236019398916, 0.38823943145541134, 1.6282609740421874, 0.7326277731686339, 0.06730103330838098, 0.3402060045322037, 0.09507628974658346, -0.02434056897616973, -0.3543784939901299, -1.223788539698824, -0.6343497374288385, 0.26653812477656896, 1.438206680395697, 0.2415253255836718, -0.5987723898434579, -0.9171915030653498, 0.11207252291134627, 0.05451867791386243, 0.4112131470328786, 0.44492768680055544, 0.2518950357633279, 1.2463146582630462, -0.2112880449759986, 1.3866651715692133, -0.6856964980957535, -0.4222120528187373, 1.1922204650983412, 0.15401391008934873, -2.1054080496754954, 0.022291737503580638, 0.7897529100041379, -1.2690774934764053, -0.7350699839334449, -1.0471268941827443, -1.0153320689971657, 0.78785482367279, 0.7361749374278779, -1.1345914803012231, -0.5683363178024483, -0.49464389117558116, 0.23422581647806803, -2.1553512566379696, -1.2433197111777519, -0.8198086705514108, -0.46962743588801903, -0.2882913723683333, 0.8983233686389277, 0.9084568051309245, -0.44221663833346375, 1.0293957279524568, 2.0421754421017866, 0.03945373112628942, -0.2750148513970318, -1.2201128479118042, -0.1738405812640102, 0.2875423811571659, -0.8738739689146106, 0.7014107545116337, -2.3002964933232692, -0.6253456459787136, -1.8275246768702471, -0.15907550729462694, 0.5844077990293167, -0.2301648650344321, 0.33009928176921377, 0.5445848145905013, 0.5057947642888931, 0.41536259213452914, -0.3776968113879913, -0.7157916944803, 0.12712187178968135, 0.3765080960387935, 0.10454994680141004, -0.2067836441219874, -1.2982007775309201, 0.8728751802177441, -0.4558648151654358, 1.4143397838621108, -0.2283862758991108, -0.7885106007484821, -0.6237266472566988, 0.03162986437150248, -0.212029724448196, -0.20608606868251564, -0.6031391322763106, 0.2657646502926192, 1.2832959415010545, 0.47691329850658754, 0.11495505177277747, 1.8470207470600093, 0.8959979991642596], \"xaxis\": \"x14\", \"y\": [-0.8725517699447418, 2.2100037241425965, -0.18447471965609888, -1.0280709444626888, -0.038617173882581415, -2.037831386596425, -0.8488615903302171, -0.6557782591076858, -0.32961756737227393, 0.46858892715420497, -0.6193317742938698, -1.1250056860244975, 0.4278637007836617, 1.063434945992072, -0.8755299552551474, -0.48299910943857494, -0.06416376223290995, 0.6439306421881182, -1.2256664835126148, -0.30103394524184657, 0.19307782761558323, 2.2803572229868787, 1.0231275280259986, -0.5841391390473818, 0.7247137151293709, -0.7271142019678107, -0.31158219045913266, -0.8927003953161164, -0.33189112413778354, 0.642608009982188, -0.30928011954721973, -0.28835655399055904, 1.9617820968077664, -0.059083946274872734, -0.8397586751242981, -0.5469400318312613, 1.0002451787591444, -0.4624189977132809, 1.0359478047016608, 1.4970943864754829, 0.010265847176222464, -0.5325515770409451, -0.2619323131960744, 0.5620808083620767, 1.3465970674700758, 0.7924164101004401, -1.3228732687102436, -2.0937669684216784, 1.422580462553181, -1.7666536031136513, -0.8309110889937393, 0.14896101418022792, -0.6048788067326643, 0.990507987140074, 0.8273624278890639, 1.478465047435868, 0.018240818333552865, 0.9603234771883151, -0.6475970811866526, -0.8069625792560894, -1.1159667011257022, -0.8984065575657584, 0.17500080669481868, 0.5732201854852669, 1.581026518189645, -0.5041301321733543, -0.6889010629106648, -1.0852170716238105, -0.7621635193632472, 0.8655111236536761, -0.6030949305282863, 0.03773427974266808, 0.8363017380784022, -0.7956716401636215, -0.2689707486785275, 1.44452335124853, -0.3633047011821962, 0.6236380109920362, 0.8612062010518985, -0.19720113191621397, 0.28817124810430433, -0.49549746891339924, -1.3568447416162759, 0.6661215460677381, -0.980701259135087, 0.6734456045101622, 1.155472647753716, 0.8405667115006873, -3.677045545855245, -1.8116630686644002, -0.8384938069607375, -1.7508899135576048, 0.5442700068805986, 1.140123535318682, 0.5944913448908976, 0.15209708750178105, -0.31513758003187337, 1.224183097982116, -0.6341506291455641, 0.9888950057158389], \"yaxis\": \"y14\"}, {\"line\": {\"color\": \"rgba(128, 128, 128, 1.0)\", \"dash\": \"solid\", \"shape\": \"linear\", \"width\": 1.3}, \"marker\": {\"size\": 2, \"symbol\": \"circle\"}, \"mode\": \"markers\", \"name\": \"D\", \"text\": \"\", \"type\": \"scatter\", \"x\": [0.10890878769720243, -0.6713626826884246, -0.8283248816466945, -0.39282402740141253, 0.6977622699199653, 0.2726902709017829, -0.733055647756976, -1.1769188858276907, 0.5140440583698838, -0.5257997711549182, -0.5939913028444468, -1.0899920973102717, -1.1169496812268147, -0.06183448943431063, 1.1920226620944019, 0.3947340910429718, 0.5165958715824404, -0.2532093271891566, -0.6229662667500819, -1.393246027853369, 0.18626120369485305, -0.45703478164711936, -1.1010696049363926, -0.3494921184666258, -1.1599901840904236, -0.2668067273306687, 0.5723653335982978, -0.510289270469568, 0.4399836709351221, -1.3762717379296883, -0.24693364684247035, 0.36514307526267437, 1.7357873732423095, -0.45647718538009024, 0.49518001829326896, 0.2634835923908529, 0.0641257741877574, 0.19178971570842765, 0.3442257007194484, 1.3793889754152107, 0.9206674912834298, -0.9983635840925854, -0.48464519386839716, -0.604114949438876, 0.3162266874922444, 1.544688940111044, -1.2088687769723159, 1.5210922018964559, 0.26449720263462595, 0.27981023913330894, 0.550732600434451, 1.0794684031421604, -0.36412957770102033, 0.5852166497226681, 0.11759556183494221, 0.14442260689725314, 1.2991193258426927, -0.22388294041532714, -0.6433255684754923, -0.8119280263077251, -1.503443435559967, -0.28825355870732405, -0.31751555682564075, -0.458525472705331, -1.380610471676825, 1.438621351833829, -0.5606915802597062, 0.7858389274414597, -0.8197927399750891, 0.5595279939993528, -0.5809829183529606, 0.9724872248661316, 0.09102921245140706, 0.0022078382496239436, -0.43386260139667143, 0.28357156020091284, 0.2904148828301787, -0.17778428609997943, -0.6135457754406612, -0.9108405120118579, 1.097663247217463, -0.690960694560415, -0.6228764988194392, 1.10996227641887, 1.1379791109474344, -0.11437215554158245, 0.3153538449048185, 0.7586464106613391, -0.6684773125147604, 0.5850122060694447, -0.5757711110347066, 1.6409042078109004, 0.5516421100710179, 1.4999661634677213, 0.9203218164731303, -1.6853053860429534, 0.000910264168236696, -0.6651748434595457, 0.8569986581487651, 1.354614590044158], \"xaxis\": \"x15\", \"y\": [-0.8725517699447418, 2.2100037241425965, -0.18447471965609888, -1.0280709444626888, -0.038617173882581415, -2.037831386596425, -0.8488615903302171, -0.6557782591076858, -0.32961756737227393, 0.46858892715420497, -0.6193317742938698, -1.1250056860244975, 0.4278637007836617, 1.063434945992072, -0.8755299552551474, -0.48299910943857494, -0.06416376223290995, 0.6439306421881182, -1.2256664835126148, -0.30103394524184657, 0.19307782761558323, 2.2803572229868787, 1.0231275280259986, -0.5841391390473818, 0.7247137151293709, -0.7271142019678107, -0.31158219045913266, -0.8927003953161164, -0.33189112413778354, 0.642608009982188, -0.30928011954721973, -0.28835655399055904, 1.9617820968077664, -0.059083946274872734, -0.8397586751242981, -0.5469400318312613, 1.0002451787591444, -0.4624189977132809, 1.0359478047016608, 1.4970943864754829, 0.010265847176222464, -0.5325515770409451, -0.2619323131960744, 0.5620808083620767, 1.3465970674700758, 0.7924164101004401, -1.3228732687102436, -2.0937669684216784, 1.422580462553181, -1.7666536031136513, -0.8309110889937393, 0.14896101418022792, -0.6048788067326643, 0.990507987140074, 0.8273624278890639, 1.478465047435868, 0.018240818333552865, 0.9603234771883151, -0.6475970811866526, -0.8069625792560894, -1.1159667011257022, -0.8984065575657584, 0.17500080669481868, 0.5732201854852669, 1.581026518189645, -0.5041301321733543, -0.6889010629106648, -1.0852170716238105, -0.7621635193632472, 0.8655111236536761, -0.6030949305282863, 0.03773427974266808, 0.8363017380784022, -0.7956716401636215, -0.2689707486785275, 1.44452335124853, -0.3633047011821962, 0.6236380109920362, 0.8612062010518985, -0.19720113191621397, 0.28817124810430433, -0.49549746891339924, -1.3568447416162759, 0.6661215460677381, -0.980701259135087, 0.6734456045101622, 1.155472647753716, 0.8405667115006873, -3.677045545855245, -1.8116630686644002, -0.8384938069607375, -1.7508899135576048, 0.5442700068805986, 1.140123535318682, 0.5944913448908976, 0.15209708750178105, -0.31513758003187337, 1.224183097982116, -0.6341506291455641, 0.9888950057158389], \"yaxis\": \"y15\"}, {\"histfunc\": \"count\", \"histnorm\": \"\", \"marker\": {\"color\": \"rgba(128, 0, 128, 1.0)\", \"line\": {\"color\": \"#4D5663\", \"width\": 1.3}}, \"name\": \"D\", \"nbinsx\": 10, \"opacity\": 0.8, \"orientation\": \"v\", \"type\": \"histogram\", \"x\": [-0.8725517699447418, 2.2100037241425965, -0.18447471965609888, -1.0280709444626888, -0.038617173882581415, -2.037831386596425, -0.8488615903302171, -0.6557782591076858, -0.32961756737227393, 0.46858892715420497, -0.6193317742938698, -1.1250056860244975, 0.4278637007836617, 1.063434945992072, -0.8755299552551474, -0.48299910943857494, -0.06416376223290995, 0.6439306421881182, -1.2256664835126148, -0.30103394524184657, 0.19307782761558323, 2.2803572229868787, 1.0231275280259986, -0.5841391390473818, 0.7247137151293709, -0.7271142019678107, -0.31158219045913266, -0.8927003953161164, -0.33189112413778354, 0.642608009982188, -0.30928011954721973, -0.28835655399055904, 1.9617820968077664, -0.059083946274872734, -0.8397586751242981, -0.5469400318312613, 1.0002451787591444, -0.4624189977132809, 1.0359478047016608, 1.4970943864754829, 0.010265847176222464, -0.5325515770409451, -0.2619323131960744, 0.5620808083620767, 1.3465970674700758, 0.7924164101004401, -1.3228732687102436, -2.0937669684216784, 1.422580462553181, -1.7666536031136513, -0.8309110889937393, 0.14896101418022792, -0.6048788067326643, 0.990507987140074, 0.8273624278890639, 1.478465047435868, 0.018240818333552865, 0.9603234771883151, -0.6475970811866526, -0.8069625792560894, -1.1159667011257022, -0.8984065575657584, 0.17500080669481868, 0.5732201854852669, 1.581026518189645, -0.5041301321733543, -0.6889010629106648, -1.0852170716238105, -0.7621635193632472, 0.8655111236536761, -0.6030949305282863, 0.03773427974266808, 0.8363017380784022, -0.7956716401636215, -0.2689707486785275, 1.44452335124853, -0.3633047011821962, 0.6236380109920362, 0.8612062010518985, -0.19720113191621397, 0.28817124810430433, -0.49549746891339924, -1.3568447416162759, 0.6661215460677381, -0.980701259135087, 0.6734456045101622, 1.155472647753716, 0.8405667115006873, -3.677045545855245, -1.8116630686644002, -0.8384938069607375, -1.7508899135576048, 0.5442700068805986, 1.140123535318682, 0.5944913448908976, 0.15209708750178105, -0.31513758003187337, 1.224183097982116, -0.6341506291455641, 0.9888950057158389], \"xaxis\": \"x16\", \"yaxis\": \"y16\"}],                        {\"bargap\": 0.02, \"legend\": {\"bgcolor\": \"#F5F6F9\", \"font\": {\"color\": \"#4D5663\"}}, \"paper_bgcolor\": \"#F5F6F9\", \"plot_bgcolor\": \"#F5F6F9\", \"showlegend\": false, \"template\": {\"data\": {\"bar\": [{\"error_x\": {\"color\": \"#2a3f5f\"}, \"error_y\": {\"color\": \"#2a3f5f\"}, \"marker\": {\"line\": {\"color\": \"#E5ECF6\", \"width\": 0.5}}, \"type\": \"bar\"}], \"barpolar\": [{\"marker\": {\"line\": {\"color\": \"#E5ECF6\", \"width\": 0.5}}, \"type\": \"barpolar\"}], \"carpet\": [{\"aaxis\": {\"endlinecolor\": \"#2a3f5f\", \"gridcolor\": \"white\", \"linecolor\": \"white\", \"minorgridcolor\": \"white\", \"startlinecolor\": \"#2a3f5f\"}, \"baxis\": {\"endlinecolor\": \"#2a3f5f\", \"gridcolor\": \"white\", \"linecolor\": \"white\", \"minorgridcolor\": \"white\", \"startlinecolor\": \"#2a3f5f\"}, \"type\": \"carpet\"}], \"choropleth\": [{\"colorbar\": {\"outlinewidth\": 0, \"ticks\": \"\"}, \"type\": \"choropleth\"}], \"contour\": [{\"colorbar\": {\"outlinewidth\": 0, \"ticks\": \"\"}, \"colorscale\": [[0.0, \"#0d0887\"], [0.1111111111111111, \"#46039f\"], [0.2222222222222222, \"#7201a8\"], [0.3333333333333333, \"#9c179e\"], [0.4444444444444444, \"#bd3786\"], [0.5555555555555556, \"#d8576b\"], [0.6666666666666666, \"#ed7953\"], [0.7777777777777778, \"#fb9f3a\"], [0.8888888888888888, \"#fdca26\"], [1.0, \"#f0f921\"]], \"type\": \"contour\"}], \"contourcarpet\": [{\"colorbar\": {\"outlinewidth\": 0, \"ticks\": \"\"}, \"type\": \"contourcarpet\"}], \"heatmap\": [{\"colorbar\": {\"outlinewidth\": 0, \"ticks\": \"\"}, \"colorscale\": [[0.0, \"#0d0887\"], [0.1111111111111111, \"#46039f\"], [0.2222222222222222, \"#7201a8\"], [0.3333333333333333, \"#9c179e\"], [0.4444444444444444, \"#bd3786\"], [0.5555555555555556, \"#d8576b\"], [0.6666666666666666, \"#ed7953\"], [0.7777777777777778, \"#fb9f3a\"], [0.8888888888888888, \"#fdca26\"], [1.0, \"#f0f921\"]], \"type\": \"heatmap\"}], \"heatmapgl\": [{\"colorbar\": {\"outlinewidth\": 0, \"ticks\": \"\"}, \"colorscale\": [[0.0, \"#0d0887\"], [0.1111111111111111, \"#46039f\"], [0.2222222222222222, \"#7201a8\"], [0.3333333333333333, \"#9c179e\"], [0.4444444444444444, \"#bd3786\"], [0.5555555555555556, \"#d8576b\"], [0.6666666666666666, \"#ed7953\"], [0.7777777777777778, \"#fb9f3a\"], [0.8888888888888888, \"#fdca26\"], [1.0, \"#f0f921\"]], \"type\": \"heatmapgl\"}], \"histogram\": [{\"marker\": {\"colorbar\": {\"outlinewidth\": 0, \"ticks\": \"\"}}, \"type\": \"histogram\"}], \"histogram2d\": [{\"colorbar\": {\"outlinewidth\": 0, \"ticks\": \"\"}, \"colorscale\": [[0.0, \"#0d0887\"], [0.1111111111111111, \"#46039f\"], [0.2222222222222222, \"#7201a8\"], [0.3333333333333333, \"#9c179e\"], [0.4444444444444444, \"#bd3786\"], [0.5555555555555556, \"#d8576b\"], [0.6666666666666666, \"#ed7953\"], [0.7777777777777778, \"#fb9f3a\"], [0.8888888888888888, \"#fdca26\"], [1.0, \"#f0f921\"]], \"type\": \"histogram2d\"}], \"histogram2dcontour\": [{\"colorbar\": {\"outlinewidth\": 0, \"ticks\": \"\"}, \"colorscale\": [[0.0, \"#0d0887\"], [0.1111111111111111, \"#46039f\"], [0.2222222222222222, \"#7201a8\"], [0.3333333333333333, \"#9c179e\"], [0.4444444444444444, \"#bd3786\"], [0.5555555555555556, \"#d8576b\"], [0.6666666666666666, \"#ed7953\"], [0.7777777777777778, \"#fb9f3a\"], [0.8888888888888888, \"#fdca26\"], [1.0, \"#f0f921\"]], \"type\": \"histogram2dcontour\"}], \"mesh3d\": [{\"colorbar\": {\"outlinewidth\": 0, \"ticks\": \"\"}, \"type\": \"mesh3d\"}], \"parcoords\": [{\"line\": {\"colorbar\": {\"outlinewidth\": 0, \"ticks\": \"\"}}, \"type\": \"parcoords\"}], \"pie\": [{\"automargin\": true, \"type\": \"pie\"}], \"scatter\": [{\"marker\": {\"colorbar\": {\"outlinewidth\": 0, \"ticks\": \"\"}}, \"type\": \"scatter\"}], \"scatter3d\": [{\"line\": {\"colorbar\": {\"outlinewidth\": 0, \"ticks\": \"\"}}, \"marker\": {\"colorbar\": {\"outlinewidth\": 0, \"ticks\": \"\"}}, \"type\": \"scatter3d\"}], \"scattercarpet\": [{\"marker\": {\"colorbar\": {\"outlinewidth\": 0, \"ticks\": \"\"}}, \"type\": \"scattercarpet\"}], \"scattergeo\": [{\"marker\": {\"colorbar\": {\"outlinewidth\": 0, \"ticks\": \"\"}}, \"type\": \"scattergeo\"}], \"scattergl\": [{\"marker\": {\"colorbar\": {\"outlinewidth\": 0, \"ticks\": \"\"}}, \"type\": \"scattergl\"}], \"scattermapbox\": [{\"marker\": {\"colorbar\": {\"outlinewidth\": 0, \"ticks\": \"\"}}, \"type\": \"scattermapbox\"}], \"scatterpolar\": [{\"marker\": {\"colorbar\": {\"outlinewidth\": 0, \"ticks\": \"\"}}, \"type\": \"scatterpolar\"}], \"scatterpolargl\": [{\"marker\": {\"colorbar\": {\"outlinewidth\": 0, \"ticks\": \"\"}}, \"type\": \"scatterpolargl\"}], \"scatterternary\": [{\"marker\": {\"colorbar\": {\"outlinewidth\": 0, \"ticks\": \"\"}}, \"type\": \"scatterternary\"}], \"surface\": [{\"colorbar\": {\"outlinewidth\": 0, \"ticks\": \"\"}, \"colorscale\": [[0.0, \"#0d0887\"], [0.1111111111111111, \"#46039f\"], [0.2222222222222222, \"#7201a8\"], [0.3333333333333333, \"#9c179e\"], [0.4444444444444444, \"#bd3786\"], [0.5555555555555556, \"#d8576b\"], [0.6666666666666666, \"#ed7953\"], [0.7777777777777778, \"#fb9f3a\"], [0.8888888888888888, \"#fdca26\"], [1.0, \"#f0f921\"]], \"type\": \"surface\"}], \"table\": [{\"cells\": {\"fill\": {\"color\": \"#EBF0F8\"}, \"line\": {\"color\": \"white\"}}, \"header\": {\"fill\": {\"color\": \"#C8D4E3\"}, \"line\": {\"color\": \"white\"}}, \"type\": \"table\"}]}, \"layout\": {\"annotationdefaults\": {\"arrowcolor\": \"#2a3f5f\", \"arrowhead\": 0, \"arrowwidth\": 1}, \"coloraxis\": {\"colorbar\": {\"outlinewidth\": 0, \"ticks\": \"\"}}, \"colorscale\": {\"diverging\": [[0, \"#8e0152\"], [0.1, \"#c51b7d\"], [0.2, \"#de77ae\"], [0.3, \"#f1b6da\"], [0.4, \"#fde0ef\"], [0.5, \"#f7f7f7\"], [0.6, \"#e6f5d0\"], [0.7, \"#b8e186\"], [0.8, \"#7fbc41\"], [0.9, \"#4d9221\"], [1, \"#276419\"]], \"sequential\": [[0.0, \"#0d0887\"], [0.1111111111111111, \"#46039f\"], [0.2222222222222222, \"#7201a8\"], [0.3333333333333333, \"#9c179e\"], [0.4444444444444444, \"#bd3786\"], [0.5555555555555556, \"#d8576b\"], [0.6666666666666666, \"#ed7953\"], [0.7777777777777778, \"#fb9f3a\"], [0.8888888888888888, \"#fdca26\"], [1.0, \"#f0f921\"]], \"sequentialminus\": [[0.0, \"#0d0887\"], [0.1111111111111111, \"#46039f\"], [0.2222222222222222, \"#7201a8\"], [0.3333333333333333, \"#9c179e\"], [0.4444444444444444, \"#bd3786\"], [0.5555555555555556, \"#d8576b\"], [0.6666666666666666, \"#ed7953\"], [0.7777777777777778, \"#fb9f3a\"], [0.8888888888888888, \"#fdca26\"], [1.0, \"#f0f921\"]]}, \"colorway\": [\"#636efa\", \"#EF553B\", \"#00cc96\", \"#ab63fa\", \"#FFA15A\", \"#19d3f3\", \"#FF6692\", \"#B6E880\", \"#FF97FF\", \"#FECB52\"], \"font\": {\"color\": \"#2a3f5f\"}, \"geo\": {\"bgcolor\": \"white\", \"lakecolor\": \"white\", \"landcolor\": \"#E5ECF6\", \"showlakes\": true, \"showland\": true, \"subunitcolor\": \"white\"}, \"hoverlabel\": {\"align\": \"left\"}, \"hovermode\": \"closest\", \"mapbox\": {\"style\": \"light\"}, \"paper_bgcolor\": \"white\", \"plot_bgcolor\": \"#E5ECF6\", \"polar\": {\"angularaxis\": {\"gridcolor\": \"white\", \"linecolor\": \"white\", \"ticks\": \"\"}, \"bgcolor\": \"#E5ECF6\", \"radialaxis\": {\"gridcolor\": \"white\", \"linecolor\": \"white\", \"ticks\": \"\"}}, \"scene\": {\"xaxis\": {\"backgroundcolor\": \"#E5ECF6\", \"gridcolor\": \"white\", \"gridwidth\": 2, \"linecolor\": \"white\", \"showbackground\": true, \"ticks\": \"\", \"zerolinecolor\": \"white\"}, \"yaxis\": {\"backgroundcolor\": \"#E5ECF6\", \"gridcolor\": \"white\", \"gridwidth\": 2, \"linecolor\": \"white\", \"showbackground\": true, \"ticks\": \"\", \"zerolinecolor\": \"white\"}, \"zaxis\": {\"backgroundcolor\": \"#E5ECF6\", \"gridcolor\": \"white\", \"gridwidth\": 2, \"linecolor\": \"white\", \"showbackground\": true, \"ticks\": \"\", \"zerolinecolor\": \"white\"}}, \"shapedefaults\": {\"line\": {\"color\": \"#2a3f5f\"}}, \"ternary\": {\"aaxis\": {\"gridcolor\": \"white\", \"linecolor\": \"white\", \"ticks\": \"\"}, \"baxis\": {\"gridcolor\": \"white\", \"linecolor\": \"white\", \"ticks\": \"\"}, \"bgcolor\": \"#E5ECF6\", \"caxis\": {\"gridcolor\": \"white\", \"linecolor\": \"white\", \"ticks\": \"\"}}, \"title\": {\"x\": 0.05}, \"xaxis\": {\"automargin\": true, \"gridcolor\": \"white\", \"linecolor\": \"white\", \"ticks\": \"\", \"title\": {\"standoff\": 15}, \"zerolinecolor\": \"white\", \"zerolinewidth\": 2}, \"yaxis\": {\"automargin\": true, \"gridcolor\": \"white\", \"linecolor\": \"white\", \"ticks\": \"\", \"title\": {\"standoff\": 15}, \"zerolinecolor\": \"white\", \"zerolinewidth\": 2}}}, \"title\": {\"font\": {\"color\": \"#4D5663\"}}, \"xaxis\": {\"anchor\": \"y\", \"domain\": [0.0, 0.2125], \"gridcolor\": \"#E1E5ED\", \"showgrid\": false, \"tickfont\": {\"color\": \"#4D5663\"}, \"title\": {\"font\": {\"color\": \"#4D5663\"}, \"text\": \"\"}, \"zerolinecolor\": \"#E1E5ED\"}, \"xaxis10\": {\"anchor\": \"y10\", \"domain\": [0.2625, 0.475], \"gridcolor\": \"#E1E5ED\", \"showgrid\": false, \"tickfont\": {\"color\": \"#4D5663\"}, \"title\": {\"font\": {\"color\": \"#4D5663\"}, \"text\": \"\"}, \"zerolinecolor\": \"#E1E5ED\"}, \"xaxis11\": {\"anchor\": \"y11\", \"domain\": [0.525, 0.7375], \"gridcolor\": \"#E1E5ED\", \"showgrid\": false, \"tickfont\": {\"color\": \"#4D5663\"}, \"title\": {\"font\": {\"color\": \"#4D5663\"}, \"text\": \"\"}, \"zerolinecolor\": \"#E1E5ED\"}, \"xaxis12\": {\"anchor\": \"y12\", \"domain\": [0.7875, 1.0], \"gridcolor\": \"#E1E5ED\", \"showgrid\": false, \"tickfont\": {\"color\": \"#4D5663\"}, \"title\": {\"font\": {\"color\": \"#4D5663\"}, \"text\": \"\"}, \"zerolinecolor\": \"#E1E5ED\"}, \"xaxis13\": {\"anchor\": \"y13\", \"domain\": [0.0, 0.2125], \"gridcolor\": \"#E1E5ED\", \"showgrid\": false, \"tickfont\": {\"color\": \"#4D5663\"}, \"title\": {\"font\": {\"color\": \"#4D5663\"}, \"text\": \"\"}, \"zerolinecolor\": \"#E1E5ED\"}, \"xaxis14\": {\"anchor\": \"y14\", \"domain\": [0.2625, 0.475], \"gridcolor\": \"#E1E5ED\", \"showgrid\": false, \"tickfont\": {\"color\": \"#4D5663\"}, \"title\": {\"font\": {\"color\": \"#4D5663\"}, \"text\": \"\"}, \"zerolinecolor\": \"#E1E5ED\"}, \"xaxis15\": {\"anchor\": \"y15\", \"domain\": [0.525, 0.7375], \"gridcolor\": \"#E1E5ED\", \"showgrid\": false, \"tickfont\": {\"color\": \"#4D5663\"}, \"title\": {\"font\": {\"color\": \"#4D5663\"}, \"text\": \"\"}, \"zerolinecolor\": \"#E1E5ED\"}, \"xaxis16\": {\"anchor\": \"y16\", \"domain\": [0.7875, 1.0], \"gridcolor\": \"#E1E5ED\", \"showgrid\": false, \"tickfont\": {\"color\": \"#4D5663\"}, \"title\": {\"font\": {\"color\": \"#4D5663\"}, \"text\": \"\"}, \"zerolinecolor\": \"#E1E5ED\"}, \"xaxis2\": {\"anchor\": \"y2\", \"domain\": [0.2625, 0.475], \"gridcolor\": \"#E1E5ED\", \"showgrid\": false, \"tickfont\": {\"color\": \"#4D5663\"}, \"title\": {\"font\": {\"color\": \"#4D5663\"}, \"text\": \"\"}, \"zerolinecolor\": \"#E1E5ED\"}, \"xaxis3\": {\"anchor\": \"y3\", \"domain\": [0.525, 0.7375], \"gridcolor\": \"#E1E5ED\", \"showgrid\": false, \"tickfont\": {\"color\": \"#4D5663\"}, \"title\": {\"font\": {\"color\": \"#4D5663\"}, \"text\": \"\"}, \"zerolinecolor\": \"#E1E5ED\"}, \"xaxis4\": {\"anchor\": \"y4\", \"domain\": [0.7875, 1.0], \"gridcolor\": \"#E1E5ED\", \"showgrid\": false, \"tickfont\": {\"color\": \"#4D5663\"}, \"title\": {\"font\": {\"color\": \"#4D5663\"}, \"text\": \"\"}, \"zerolinecolor\": \"#E1E5ED\"}, \"xaxis5\": {\"anchor\": \"y5\", \"domain\": [0.0, 0.2125], \"gridcolor\": \"#E1E5ED\", \"showgrid\": false, \"tickfont\": {\"color\": \"#4D5663\"}, \"title\": {\"font\": {\"color\": \"#4D5663\"}, \"text\": \"\"}, \"zerolinecolor\": \"#E1E5ED\"}, \"xaxis6\": {\"anchor\": \"y6\", \"domain\": [0.2625, 0.475], \"gridcolor\": \"#E1E5ED\", \"showgrid\": false, \"tickfont\": {\"color\": \"#4D5663\"}, \"title\": {\"font\": {\"color\": \"#4D5663\"}, \"text\": \"\"}, \"zerolinecolor\": \"#E1E5ED\"}, \"xaxis7\": {\"anchor\": \"y7\", \"domain\": [0.525, 0.7375], \"gridcolor\": \"#E1E5ED\", \"showgrid\": false, \"tickfont\": {\"color\": \"#4D5663\"}, \"title\": {\"font\": {\"color\": \"#4D5663\"}, \"text\": \"\"}, \"zerolinecolor\": \"#E1E5ED\"}, \"xaxis8\": {\"anchor\": \"y8\", \"domain\": [0.7875, 1.0], \"gridcolor\": \"#E1E5ED\", \"showgrid\": false, \"tickfont\": {\"color\": \"#4D5663\"}, \"title\": {\"font\": {\"color\": \"#4D5663\"}, \"text\": \"\"}, \"zerolinecolor\": \"#E1E5ED\"}, \"xaxis9\": {\"anchor\": \"y9\", \"domain\": [0.0, 0.2125], \"gridcolor\": \"#E1E5ED\", \"showgrid\": false, \"tickfont\": {\"color\": \"#4D5663\"}, \"title\": {\"font\": {\"color\": \"#4D5663\"}, \"text\": \"\"}, \"zerolinecolor\": \"#E1E5ED\"}, \"yaxis\": {\"anchor\": \"x\", \"domain\": [0.8025, 1.0], \"gridcolor\": \"#E1E5ED\", \"showgrid\": false, \"tickfont\": {\"color\": \"#4D5663\"}, \"title\": {\"font\": {\"color\": \"#4D5663\"}, \"text\": \"\"}, \"zerolinecolor\": \"#E1E5ED\"}, \"yaxis10\": {\"anchor\": \"x10\", \"domain\": [0.2675, 0.465], \"gridcolor\": \"#E1E5ED\", \"showgrid\": false, \"tickfont\": {\"color\": \"#4D5663\"}, \"title\": {\"font\": {\"color\": \"#4D5663\"}, \"text\": \"\"}, \"zerolinecolor\": \"#E1E5ED\"}, \"yaxis11\": {\"anchor\": \"x11\", \"domain\": [0.2675, 0.465], \"gridcolor\": \"#E1E5ED\", \"showgrid\": false, \"tickfont\": {\"color\": \"#4D5663\"}, \"title\": {\"font\": {\"color\": \"#4D5663\"}, \"text\": \"\"}, \"zerolinecolor\": \"#E1E5ED\"}, \"yaxis12\": {\"anchor\": \"x12\", \"domain\": [0.2675, 0.465], \"gridcolor\": \"#E1E5ED\", \"showgrid\": false, \"tickfont\": {\"color\": \"#4D5663\"}, \"title\": {\"font\": {\"color\": \"#4D5663\"}, \"text\": \"\"}, \"zerolinecolor\": \"#E1E5ED\"}, \"yaxis13\": {\"anchor\": \"x13\", \"domain\": [0.0, 0.1975], \"gridcolor\": \"#E1E5ED\", \"showgrid\": false, \"tickfont\": {\"color\": \"#4D5663\"}, \"title\": {\"font\": {\"color\": \"#4D5663\"}, \"text\": \"\"}, \"zerolinecolor\": \"#E1E5ED\"}, \"yaxis14\": {\"anchor\": \"x14\", \"domain\": [0.0, 0.1975], \"gridcolor\": \"#E1E5ED\", \"showgrid\": false, \"tickfont\": {\"color\": \"#4D5663\"}, \"title\": {\"font\": {\"color\": \"#4D5663\"}, \"text\": \"\"}, \"zerolinecolor\": \"#E1E5ED\"}, \"yaxis15\": {\"anchor\": \"x15\", \"domain\": [0.0, 0.1975], \"gridcolor\": \"#E1E5ED\", \"showgrid\": false, \"tickfont\": {\"color\": \"#4D5663\"}, \"title\": {\"font\": {\"color\": \"#4D5663\"}, \"text\": \"\"}, \"zerolinecolor\": \"#E1E5ED\"}, \"yaxis16\": {\"anchor\": \"x16\", \"domain\": [0.0, 0.1975], \"gridcolor\": \"#E1E5ED\", \"showgrid\": false, \"tickfont\": {\"color\": \"#4D5663\"}, \"title\": {\"font\": {\"color\": \"#4D5663\"}, \"text\": \"\"}, \"zerolinecolor\": \"#E1E5ED\"}, \"yaxis2\": {\"anchor\": \"x2\", \"domain\": [0.8025, 1.0], \"gridcolor\": \"#E1E5ED\", \"showgrid\": false, \"tickfont\": {\"color\": \"#4D5663\"}, \"title\": {\"font\": {\"color\": \"#4D5663\"}, \"text\": \"\"}, \"zerolinecolor\": \"#E1E5ED\"}, \"yaxis3\": {\"anchor\": \"x3\", \"domain\": [0.8025, 1.0], \"gridcolor\": \"#E1E5ED\", \"showgrid\": false, \"tickfont\": {\"color\": \"#4D5663\"}, \"title\": {\"font\": {\"color\": \"#4D5663\"}, \"text\": \"\"}, \"zerolinecolor\": \"#E1E5ED\"}, \"yaxis4\": {\"anchor\": \"x4\", \"domain\": [0.8025, 1.0], \"gridcolor\": \"#E1E5ED\", \"showgrid\": false, \"tickfont\": {\"color\": \"#4D5663\"}, \"title\": {\"font\": {\"color\": \"#4D5663\"}, \"text\": \"\"}, \"zerolinecolor\": \"#E1E5ED\"}, \"yaxis5\": {\"anchor\": \"x5\", \"domain\": [0.535, 0.7325], \"gridcolor\": \"#E1E5ED\", \"showgrid\": false, \"tickfont\": {\"color\": \"#4D5663\"}, \"title\": {\"font\": {\"color\": \"#4D5663\"}, \"text\": \"\"}, \"zerolinecolor\": \"#E1E5ED\"}, \"yaxis6\": {\"anchor\": \"x6\", \"domain\": [0.535, 0.7325], \"gridcolor\": \"#E1E5ED\", \"showgrid\": false, \"tickfont\": {\"color\": \"#4D5663\"}, \"title\": {\"font\": {\"color\": \"#4D5663\"}, \"text\": \"\"}, \"zerolinecolor\": \"#E1E5ED\"}, \"yaxis7\": {\"anchor\": \"x7\", \"domain\": [0.535, 0.7325], \"gridcolor\": \"#E1E5ED\", \"showgrid\": false, \"tickfont\": {\"color\": \"#4D5663\"}, \"title\": {\"font\": {\"color\": \"#4D5663\"}, \"text\": \"\"}, \"zerolinecolor\": \"#E1E5ED\"}, \"yaxis8\": {\"anchor\": \"x8\", \"domain\": [0.535, 0.7325], \"gridcolor\": \"#E1E5ED\", \"showgrid\": false, \"tickfont\": {\"color\": \"#4D5663\"}, \"title\": {\"font\": {\"color\": \"#4D5663\"}, \"text\": \"\"}, \"zerolinecolor\": \"#E1E5ED\"}, \"yaxis9\": {\"anchor\": \"x9\", \"domain\": [0.2675, 0.465], \"gridcolor\": \"#E1E5ED\", \"showgrid\": false, \"tickfont\": {\"color\": \"#4D5663\"}, \"title\": {\"font\": {\"color\": \"#4D5663\"}, \"text\": \"\"}, \"zerolinecolor\": \"#E1E5ED\"}},                        {\"showLink\": true, \"linkText\": \"Export to plot.ly\", \"plotlyServerURL\": \"https://plot.ly\", \"responsive\": true}                    ).then(function(){\n",
       "                            \n",
       "var gd = document.getElementById('6078daed-68f4-4f45-8d10-3212a7d53125');\n",
       "var x = new MutationObserver(function (mutations, observer) {{\n",
       "        var display = window.getComputedStyle(gd).display;\n",
       "        if (!display || display === 'none') {{\n",
       "            console.log([gd, 'removed!']);\n",
       "            Plotly.purge(gd);\n",
       "            observer.disconnect();\n",
       "        }}\n",
       "}});\n",
       "\n",
       "// Listen for the removal of the full notebook cells\n",
       "var notebookContainer = gd.closest('#notebook-container');\n",
       "if (notebookContainer) {{\n",
       "    x.observe(notebookContainer, {childList: true});\n",
       "}}\n",
       "\n",
       "// Listen for the clearing of the current output cell\n",
       "var outputEl = gd.closest('.output');\n",
       "if (outputEl) {{\n",
       "    x.observe(outputEl, {childList: true});\n",
       "}}\n",
       "\n",
       "                        })                };                });            </script>        </div>"
      ]
     },
     "metadata": {},
     "output_type": "display_data"
    }
   ],
   "source": [
    "df.scatter_matrix()"
   ]
  },
  {
   "cell_type": "code",
   "execution_count": null,
   "metadata": {},
   "outputs": [],
   "source": []
  }
 ],
 "metadata": {
  "kernelspec": {
   "display_name": "Python 3",
   "language": "python",
   "name": "python3"
  },
  "language_info": {
   "codemirror_mode": {
    "name": "ipython",
    "version": 3
   },
   "file_extension": ".py",
   "mimetype": "text/x-python",
   "name": "python",
   "nbconvert_exporter": "python",
   "pygments_lexer": "ipython3",
   "version": "3.7.4"
  }
 },
 "nbformat": 4,
 "nbformat_minor": 4
}
